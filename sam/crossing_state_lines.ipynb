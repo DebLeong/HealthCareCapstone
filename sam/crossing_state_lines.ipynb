{
 "cells": [
  {
   "cell_type": "code",
   "execution_count": 1,
   "metadata": {},
   "outputs": [],
   "source": [
    "import numpy as np\n",
    "import pandas as pd\n",
    "import scipy.stats\n",
    "\n",
    "%matplotlib inline\n",
    "import matplotlib.pyplot as plt\n",
    "import seaborn as sns"
   ]
  },
  {
   "cell_type": "code",
   "execution_count": 2,
   "metadata": {},
   "outputs": [
    {
     "name": "stderr",
     "output_type": "stream",
     "text": [
      "/usr/local/anaconda3/lib/python3.7/site-packages/IPython/core/interactiveshell.py:3058: DtypeWarning: Columns (10,13,14,24) have mixed types. Specify dtype option on import or set low_memory=False.\n",
      "  interactivity=interactivity, compiler=compiler, result=result)\n"
     ]
    }
   ],
   "source": [
    "data = pd.read_csv('./data/combinedData.csv')\n",
    "target = pd.read_csv('./data/combinedTarget.csv')"
   ]
  },
  {
   "cell_type": "code",
   "execution_count": 3,
   "metadata": {},
   "outputs": [],
   "source": [
    "data = data.merge(target, how='left',on=['Provider','Set'])"
   ]
  },
  {
   "cell_type": "code",
   "execution_count": null,
   "metadata": {},
   "outputs": [],
   "source": [
    "data.groupby('BeneID')['Provider'].nunique()"
   ]
  },
  {
   "cell_type": "code",
   "execution_count": null,
   "metadata": {},
   "outputs": [],
   "source": [
    "physData = data[['AttendingPhysician','OperatingPhysician','OtherPhysician','Provider','State']]\n",
    "physMelt = physData.melt(id_vars=['Provider','State'],var_name='Type', value_name='Doctor').dropna(axis=0)\n",
    "physNet = physMelt.groupby('Doctor')['State'].nunique().reset_index()"
   ]
  },
  {
   "cell_type": "code",
   "execution_count": null,
   "metadata": {},
   "outputs": [],
   "source": [
    "physNet"
   ]
  },
  {
   "cell_type": "code",
   "execution_count": null,
   "metadata": {},
   "outputs": [],
   "source": [
    "physData = data[['AttendingPhysician','OperatingPhysician','OtherPhysician','Provider','State','County']]\n",
    "physMelt = physData.melt(id_vars=['Provider','State','County'],var_name='Type', value_name='Doctor').dropna(axis=0)\n",
    "physNet = physMelt.groupby(['Doctor','State'])['County'].nunique().reset_index()\n",
    "\n",
    "plt.figure(figsize=(12,6))\n",
    "\n",
    "for state in physNet.State.unique():\n",
    "    filename = \"./visualizations/plots/crossing_county/Doctors/State_\" + str(state) + \".png\"\n",
    "    ax1 = sns.countplot(x = 'County', data=physNet[physNet.State==state], palette = 'muted');\n",
    "    ax1.set(xlabel='Number of Counties Doctors Operate in for State ' + str(state), \n",
    "            ylabel='Count of Doctors');\n",
    "    ax1.figure.savefig(filename,bbox_inches='tight')"
   ]
  },
  {
   "cell_type": "code",
   "execution_count": null,
   "metadata": {},
   "outputs": [],
   "source": [
    "physNet.groupby('State').count()"
   ]
  },
  {
   "cell_type": "code",
   "execution_count": null,
   "metadata": {},
   "outputs": [],
   "source": [
    "beneData = data[['BeneID','Provider','State']]\n",
    "beneNet = beneData.groupby(['BeneID','Provider'])['State'].nunique().reset_index()"
   ]
  },
  {
   "cell_type": "code",
   "execution_count": null,
   "metadata": {},
   "outputs": [],
   "source": [
    "plt.figure(figsize=(12,6))\n",
    "\n",
    "\n",
    "ax1 = sns.countplot(x = 'State', data=beneNet, palette = 'muted')\n",
    "\n",
    "ax1.set(xlabel='Number of States', ylabel='Number of Doctors')\n",
    "\n",
    "#ax1.figure.savefig(\"./visualizations/plots/multistateDoctors.png\",bbox_inches='tight')"
   ]
  },
  {
   "cell_type": "code",
   "execution_count": null,
   "metadata": {},
   "outputs": [],
   "source": [
    "beneNet"
   ]
  },
  {
   "cell_type": "code",
   "execution_count": null,
   "metadata": {},
   "outputs": [],
   "source": [
    "beneData = data[['BeneID','Provider','State','County']]\n",
    "beneNet = beneData.groupby(['BeneID','Provider'])['County'].nunique().reset_index()\n",
    "\n",
    "plt.figure(figsize=(12,6))\n",
    "\n",
    "\n",
    "ax1 = sns.countplot(x = 'County', data=beneNet, palette = 'muted')\n",
    "\n",
    "ax1.set(xlabel='Number of Counties', ylabel='Number of Doctors')\n",
    "\n",
    "#ax1.figure.savefig(\"./visualizations/plots/multistateDoctors.png\",bbox_inches='tight')"
   ]
  },
  {
   "cell_type": "code",
   "execution_count": null,
   "metadata": {},
   "outputs": [],
   "source": [
    "provData = data[['Provider','State','County']]\n",
    "provNet = provData.groupby(['Provider'])['State'].nunique().reset_index()\n",
    "\n",
    "plt.figure(figsize=(12,6))\n",
    "\n",
    "\n",
    "ax1 = sns.countplot(x = 'State', data=provNet, palette = 'muted')\n",
    "\n",
    "ax1.set(xlabel='Number of States', ylabel='Number of Providers operating')\n",
    "\n",
    "ax1.figure.savefig(\"./visualizations/plots/multistateProviders.png\",bbox_inches='tight')"
   ]
  },
  {
   "cell_type": "code",
   "execution_count": null,
   "metadata": {},
   "outputs": [],
   "source": [
    "provData = data[['Provider','State','County']]\n",
    "provNet = provData.groupby(['Provider','State'])['County'].nunique().reset_index()\n",
    "\n",
    "plt.figure(figsize=(12,6))\n",
    "\n",
    "for state in provNet.State.unique():\n",
    "    filename = \"./visualizations/plots/crossing_county/Providers/State_\" + str(state) + \".png\"\n",
    "    ax1 = sns.countplot(x = 'County', data=provNet[provNet.State==state], palette = 'muted');\n",
    "    ax1.set(xlabel='Number of Counties Providers Operate in for State ' + str(state), \n",
    "            ylabel='Count of Providers');\n",
    "    ax1.figure.savefig(filename,bbox_inches='tight')"
   ]
  },
  {
   "cell_type": "code",
   "execution_count": null,
   "metadata": {},
   "outputs": [],
   "source": []
  }
 ],
 "metadata": {
  "kernelspec": {
   "display_name": "Python 3",
   "language": "python",
   "name": "python3"
  },
  "language_info": {
   "codemirror_mode": {
    "name": "ipython",
    "version": 3
   },
   "file_extension": ".py",
   "mimetype": "text/x-python",
   "name": "python",
   "nbconvert_exporter": "python",
   "pygments_lexer": "ipython3",
   "version": "3.7.4"
  }
 },
 "nbformat": 4,
 "nbformat_minor": 2
}
