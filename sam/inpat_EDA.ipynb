{
 "cells": [
  {
   "cell_type": "code",
   "execution_count": 1,
   "metadata": {},
   "outputs": [],
   "source": [
    "import numpy as np\n",
    "import pandas as pd\n",
    "import scipy.stats\n",
    "\n",
    "%matplotlib inline\n",
    "import matplotlib.pyplot as plt\n",
    "import seaborn as sns"
   ]
  },
  {
   "cell_type": "code",
   "execution_count": 9,
   "metadata": {},
   "outputs": [
    {
     "name": "stdout",
     "output_type": "stream",
     "text": [
      "(40474, 30)\n",
      "(5410, 2)\n"
     ]
    }
   ],
   "source": [
    "#bene = pd.read_csv('./data/Train_Beneficiary.csv')\n",
    "data = pd.read_csv('./data/Train_Inpatient.csv')\n",
    "#outpat = pd.read_csv('./data/Train_Outpatient.csv')\n",
    "target = pd.read_csv('./data/Train.csv')\n",
    "\n",
    "#print(bene.shape)\n",
    "print(data.shape)\n",
    "#print(outpat.shape)\n",
    "print(target.shape)"
   ]
  },
  {
   "cell_type": "code",
   "execution_count": 10,
   "metadata": {},
   "outputs": [
    {
     "data": {
      "image/png": "[encoded data removed]",
      "text/plain": [
       "<Figure size 720x432 with 1 Axes>"
      ]
     },
     "metadata": {
      "needs_background": "light"
     },
     "output_type": "display_data"
    }
   ],
   "source": [
    "plt.title(\"Potential Fraud Test distribution\")\n",
    "target.groupby( [\"PotentialFraud\"] ).Provider.count().plot(kind = \"bar\", figsize = (10,6))\n",
    "plt.xlabel('Status')\n",
    "plt.ylabel('Count')\n",
    "plt.show()"
   ]
  },
  {
   "cell_type": "markdown",
   "metadata": {},
   "source": [
    "Change label to binary for fraud target"
   ]
  },
  {
   "cell_type": "code",
   "execution_count": 11,
   "metadata": {},
   "outputs": [],
   "source": [
    "target[\"target\"] = np.where(target.PotentialFraud == \"Yes\", 1, 0) \n"
   ]
  },
  {
   "cell_type": "code",
   "execution_count": 12,
   "metadata": {},
   "outputs": [
    {
     "data": {
      "text/html": [
       "<div>\n",
       "<style scoped>\n",
       "    .dataframe tbody tr th:only-of-type {\n",
       "        vertical-align: middle;\n",
       "    }\n",
       "\n",
       "    .dataframe tbody tr th {\n",
       "        vertical-align: top;\n",
       "    }\n",
       "\n",
       "    .dataframe thead th {\n",
       "        text-align: right;\n",
       "    }\n",
       "</style>\n",
       "<table border=\"1\" class=\"dataframe\">\n",
       "  <thead>\n",
       "    <tr style=\"text-align: right;\">\n",
       "      <th></th>\n",
       "      <th>BeneID</th>\n",
       "      <th>ClaimID</th>\n",
       "      <th>ClaimStartDt</th>\n",
       "      <th>ClaimEndDt</th>\n",
       "      <th>Provider</th>\n",
       "      <th>InscClaimAmtReimbursed</th>\n",
       "      <th>AttendingPhysician</th>\n",
       "      <th>OperatingPhysician</th>\n",
       "      <th>OtherPhysician</th>\n",
       "      <th>AdmissionDt</th>\n",
       "      <th>...</th>\n",
       "      <th>ClmDiagnosisCode_7</th>\n",
       "      <th>ClmDiagnosisCode_8</th>\n",
       "      <th>ClmDiagnosisCode_9</th>\n",
       "      <th>ClmDiagnosisCode_10</th>\n",
       "      <th>ClmProcedureCode_1</th>\n",
       "      <th>ClmProcedureCode_2</th>\n",
       "      <th>ClmProcedureCode_3</th>\n",
       "      <th>ClmProcedureCode_4</th>\n",
       "      <th>ClmProcedureCode_5</th>\n",
       "      <th>ClmProcedureCode_6</th>\n",
       "    </tr>\n",
       "  </thead>\n",
       "  <tbody>\n",
       "    <tr>\n",
       "      <td>3930</td>\n",
       "      <td>BENE25054</td>\n",
       "      <td>CLM46345</td>\n",
       "      <td>2009-04-10</td>\n",
       "      <td>2009-04-11</td>\n",
       "      <td>PRV55462</td>\n",
       "      <td>0</td>\n",
       "      <td>PHY422134</td>\n",
       "      <td>NaN</td>\n",
       "      <td>NaN</td>\n",
       "      <td>2009-04-10</td>\n",
       "      <td>...</td>\n",
       "      <td>29590</td>\n",
       "      <td>2948</td>\n",
       "      <td>99529</td>\n",
       "      <td>NaN</td>\n",
       "      <td>NaN</td>\n",
       "      <td>NaN</td>\n",
       "      <td>NaN</td>\n",
       "      <td>NaN</td>\n",
       "      <td>NaN</td>\n",
       "      <td>NaN</td>\n",
       "    </tr>\n",
       "    <tr>\n",
       "      <td>35301</td>\n",
       "      <td>BENE140760</td>\n",
       "      <td>CLM74430</td>\n",
       "      <td>2009-11-02</td>\n",
       "      <td>2009-11-06</td>\n",
       "      <td>PRV51108</td>\n",
       "      <td>7000</td>\n",
       "      <td>PHY311672</td>\n",
       "      <td>NaN</td>\n",
       "      <td>NaN</td>\n",
       "      <td>2009-11-02</td>\n",
       "      <td>...</td>\n",
       "      <td>49121</td>\n",
       "      <td>2724</td>\n",
       "      <td>2631</td>\n",
       "      <td>NaN</td>\n",
       "      <td>NaN</td>\n",
       "      <td>NaN</td>\n",
       "      <td>NaN</td>\n",
       "      <td>NaN</td>\n",
       "      <td>NaN</td>\n",
       "      <td>NaN</td>\n",
       "    </tr>\n",
       "    <tr>\n",
       "      <td>17693</td>\n",
       "      <td>BENE75972</td>\n",
       "      <td>CLM32702</td>\n",
       "      <td>2009-01-06</td>\n",
       "      <td>2009-01-13</td>\n",
       "      <td>PRV52340</td>\n",
       "      <td>9000</td>\n",
       "      <td>PHY356016</td>\n",
       "      <td>PHY356016</td>\n",
       "      <td>NaN</td>\n",
       "      <td>2009-01-06</td>\n",
       "      <td>...</td>\n",
       "      <td>4111</td>\n",
       "      <td>4439</td>\n",
       "      <td>42822</td>\n",
       "      <td>NaN</td>\n",
       "      <td>4516.0</td>\n",
       "      <td>NaN</td>\n",
       "      <td>NaN</td>\n",
       "      <td>NaN</td>\n",
       "      <td>NaN</td>\n",
       "      <td>NaN</td>\n",
       "    </tr>\n",
       "  </tbody>\n",
       "</table>\n",
       "<p>3 rows × 30 columns</p>\n",
       "</div>"
      ],
      "text/plain": [
       "           BeneID   ClaimID ClaimStartDt  ClaimEndDt  Provider  \\\n",
       "3930    BENE25054  CLM46345   2009-04-10  2009-04-11  PRV55462   \n",
       "35301  BENE140760  CLM74430   2009-11-02  2009-11-06  PRV51108   \n",
       "17693   BENE75972  CLM32702   2009-01-06  2009-01-13  PRV52340   \n",
       "\n",
       "       InscClaimAmtReimbursed AttendingPhysician OperatingPhysician  \\\n",
       "3930                        0          PHY422134                NaN   \n",
       "35301                    7000          PHY311672                NaN   \n",
       "17693                    9000          PHY356016          PHY356016   \n",
       "\n",
       "      OtherPhysician AdmissionDt  ... ClmDiagnosisCode_7  ClmDiagnosisCode_8  \\\n",
       "3930             NaN  2009-04-10  ...              29590                2948   \n",
       "35301            NaN  2009-11-02  ...              49121                2724   \n",
       "17693            NaN  2009-01-06  ...               4111                4439   \n",
       "\n",
       "      ClmDiagnosisCode_9 ClmDiagnosisCode_10 ClmProcedureCode_1  \\\n",
       "3930               99529                 NaN                NaN   \n",
       "35301               2631                 NaN                NaN   \n",
       "17693              42822                 NaN             4516.0   \n",
       "\n",
       "      ClmProcedureCode_2 ClmProcedureCode_3 ClmProcedureCode_4  \\\n",
       "3930                 NaN                NaN                NaN   \n",
       "35301                NaN                NaN                NaN   \n",
       "17693                NaN                NaN                NaN   \n",
       "\n",
       "      ClmProcedureCode_5 ClmProcedureCode_6  \n",
       "3930                 NaN                NaN  \n",
       "35301                NaN                NaN  \n",
       "17693                NaN                NaN  \n",
       "\n",
       "[3 rows x 30 columns]"
      ]
     },
     "execution_count": 12,
     "metadata": {},
     "output_type": "execute_result"
    }
   ],
   "source": [
    "data.sample(3)"
   ]
  },
  {
   "cell_type": "code",
   "execution_count": 13,
   "metadata": {},
   "outputs": [],
   "source": [
    "ClmProcedure_vars = ['ClmProcedureCode_{}'.format(x) for x in range(1,7)]"
   ]
  },
  {
   "cell_type": "code",
   "execution_count": 14,
   "metadata": {},
   "outputs": [],
   "source": [
    "data['NumProc'] = data[ClmProcedure_vars].notnull().to_numpy().sum(axis = 1)"
   ]
  },
  {
   "cell_type": "code",
   "execution_count": 15,
   "metadata": {},
   "outputs": [
    {
     "data": {
      "text/plain": [
       "array([0, 1, 2, 3, 4, 5])"
      ]
     },
     "execution_count": 15,
     "metadata": {},
     "output_type": "execute_result"
    }
   ],
   "source": [
    "np.unique(data.NumProc.values)"
   ]
  },
  {
   "cell_type": "code",
   "execution_count": 16,
   "metadata": {},
   "outputs": [
    {
     "data": {
      "text/plain": [
       "BeneID                     object\n",
       "ClaimID                    object\n",
       "ClaimStartDt               object\n",
       "ClaimEndDt                 object\n",
       "Provider                   object\n",
       "InscClaimAmtReimbursed      int64\n",
       "AttendingPhysician         object\n",
       "OperatingPhysician         object\n",
       "OtherPhysician             object\n",
       "AdmissionDt                object\n",
       "ClmAdmitDiagnosisCode      object\n",
       "DeductibleAmtPaid         float64\n",
       "DischargeDt                object\n",
       "DiagnosisGroupCode         object\n",
       "ClmDiagnosisCode_1         object\n",
       "ClmDiagnosisCode_2         object\n",
       "ClmDiagnosisCode_3         object\n",
       "ClmDiagnosisCode_4         object\n",
       "ClmDiagnosisCode_5         object\n",
       "ClmDiagnosisCode_6         object\n",
       "ClmDiagnosisCode_7         object\n",
       "ClmDiagnosisCode_8         object\n",
       "ClmDiagnosisCode_9         object\n",
       "ClmDiagnosisCode_10        object\n",
       "ClmProcedureCode_1        float64\n",
       "ClmProcedureCode_2        float64\n",
       "ClmProcedureCode_3        float64\n",
       "ClmProcedureCode_4        float64\n",
       "ClmProcedureCode_5        float64\n",
       "ClmProcedureCode_6        float64\n",
       "NumProc                     int64\n",
       "dtype: object"
      ]
     },
     "execution_count": 16,
     "metadata": {},
     "output_type": "execute_result"
    }
   ],
   "source": [
    "data.dtypes"
   ]
  },
  {
   "cell_type": "code",
   "execution_count": 17,
   "metadata": {},
   "outputs": [],
   "source": [
    "ClmDiagnosisCode_vars =['ClmAdmitDiagnosisCode'] + ['ClmDiagnosisCode_{}'.format(x) for x in range(1, 11)]\n",
    "\n",
    "### Create new variable \n",
    "data['NumClaims'] = data[ClmDiagnosisCode_vars].notnull().to_numpy().sum(axis = 1)\n"
   ]
  },
  {
   "cell_type": "code",
   "execution_count": 18,
   "metadata": {},
   "outputs": [
    {
     "data": {
      "text/plain": [
       "array([ 2,  3,  4,  5,  6,  7,  8,  9, 10, 11])"
      ]
     },
     "execution_count": 18,
     "metadata": {},
     "output_type": "execute_result"
    }
   ],
   "source": [
    "np.unique(data.NumClaims.values)"
   ]
  },
  {
   "cell_type": "code",
   "execution_count": 22,
   "metadata": {},
   "outputs": [],
   "source": [
    "from datetime import datetime"
   ]
  },
  {
   "cell_type": "code",
   "execution_count": 23,
   "metadata": {},
   "outputs": [],
   "source": [
    "data['AdmissionDt'] = pd.to_datetime(data['AdmissionDt'] , format = '%Y-%m-%d')\n",
    "data['DischargeDt'] = pd.to_datetime(data['DischargeDt'],format = '%Y-%m-%d')\n",
    "\n",
    "data['ClaimStartDt'] = pd.to_datetime(data['ClaimStartDt'] , format = '%Y-%m-%d')\n",
    "data['ClaimEndDt'] = pd.to_datetime(data['ClaimEndDt'],format = '%Y-%m-%d')\n",
    "\n",
    "### Number of hospitalization days\n",
    "data['AdmissionDays'] = ((data['DischargeDt'] - data['AdmissionDt']).dt.days) + 1\n",
    "### Number of claim days \n",
    "data['ClaimDays'] = ((data['ClaimEndDt'] - data['ClaimStartDt']).dt.days) + 1\n"
   ]
  },
  {
   "cell_type": "code",
   "execution_count": 25,
   "metadata": {},
   "outputs": [
    {
     "data": {
      "text/html": [
       "<div>\n",
       "<style scoped>\n",
       "    .dataframe tbody tr th:only-of-type {\n",
       "        vertical-align: middle;\n",
       "    }\n",
       "\n",
       "    .dataframe tbody tr th {\n",
       "        vertical-align: top;\n",
       "    }\n",
       "\n",
       "    .dataframe thead th {\n",
       "        text-align: right;\n",
       "    }\n",
       "</style>\n",
       "<table border=\"1\" class=\"dataframe\">\n",
       "  <thead>\n",
       "    <tr style=\"text-align: right;\">\n",
       "      <th></th>\n",
       "      <th>InscClaimAmtReimbursed</th>\n",
       "      <th>DeductibleAmtPaid</th>\n",
       "      <th>ClmProcedureCode_1</th>\n",
       "      <th>ClmProcedureCode_2</th>\n",
       "      <th>ClmProcedureCode_3</th>\n",
       "      <th>ClmProcedureCode_4</th>\n",
       "      <th>ClmProcedureCode_5</th>\n",
       "      <th>ClmProcedureCode_6</th>\n",
       "    </tr>\n",
       "  </thead>\n",
       "  <tbody>\n",
       "    <tr>\n",
       "      <td>count</td>\n",
       "      <td>40474.000000</td>\n",
       "      <td>39575.0</td>\n",
       "      <td>23148.000000</td>\n",
       "      <td>5454.000000</td>\n",
       "      <td>965.000000</td>\n",
       "      <td>116.000000</td>\n",
       "      <td>9.000000</td>\n",
       "      <td>0.0</td>\n",
       "    </tr>\n",
       "    <tr>\n",
       "      <td>mean</td>\n",
       "      <td>10087.884074</td>\n",
       "      <td>1068.0</td>\n",
       "      <td>5894.611759</td>\n",
       "      <td>4103.738174</td>\n",
       "      <td>4226.355440</td>\n",
       "      <td>4070.172414</td>\n",
       "      <td>5269.444444</td>\n",
       "      <td>NaN</td>\n",
       "    </tr>\n",
       "    <tr>\n",
       "      <td>std</td>\n",
       "      <td>10303.099402</td>\n",
       "      <td>0.0</td>\n",
       "      <td>3049.304400</td>\n",
       "      <td>2028.182156</td>\n",
       "      <td>2282.761581</td>\n",
       "      <td>1994.409802</td>\n",
       "      <td>2780.071632</td>\n",
       "      <td>NaN</td>\n",
       "    </tr>\n",
       "    <tr>\n",
       "      <td>min</td>\n",
       "      <td>0.000000</td>\n",
       "      <td>1068.0</td>\n",
       "      <td>11.000000</td>\n",
       "      <td>42.000000</td>\n",
       "      <td>42.000000</td>\n",
       "      <td>42.000000</td>\n",
       "      <td>2724.000000</td>\n",
       "      <td>NaN</td>\n",
       "    </tr>\n",
       "    <tr>\n",
       "      <td>25%</td>\n",
       "      <td>4000.000000</td>\n",
       "      <td>1068.0</td>\n",
       "      <td>3848.000000</td>\n",
       "      <td>2724.000000</td>\n",
       "      <td>2724.000000</td>\n",
       "      <td>2758.750000</td>\n",
       "      <td>4139.000000</td>\n",
       "      <td>NaN</td>\n",
       "    </tr>\n",
       "    <tr>\n",
       "      <td>50%</td>\n",
       "      <td>7000.000000</td>\n",
       "      <td>1068.0</td>\n",
       "      <td>5369.000000</td>\n",
       "      <td>4019.000000</td>\n",
       "      <td>4019.000000</td>\n",
       "      <td>4019.000000</td>\n",
       "      <td>4139.000000</td>\n",
       "      <td>NaN</td>\n",
       "    </tr>\n",
       "    <tr>\n",
       "      <td>75%</td>\n",
       "      <td>12000.000000</td>\n",
       "      <td>1068.0</td>\n",
       "      <td>8666.250000</td>\n",
       "      <td>4439.000000</td>\n",
       "      <td>5185.000000</td>\n",
       "      <td>4439.000000</td>\n",
       "      <td>5185.000000</td>\n",
       "      <td>NaN</td>\n",
       "    </tr>\n",
       "    <tr>\n",
       "      <td>max</td>\n",
       "      <td>125000.000000</td>\n",
       "      <td>1068.0</td>\n",
       "      <td>9999.000000</td>\n",
       "      <td>9999.000000</td>\n",
       "      <td>9999.000000</td>\n",
       "      <td>9986.000000</td>\n",
       "      <td>9982.000000</td>\n",
       "      <td>NaN</td>\n",
       "    </tr>\n",
       "  </tbody>\n",
       "</table>\n",
       "</div>"
      ],
      "text/plain": [
       "       InscClaimAmtReimbursed  DeductibleAmtPaid  ClmProcedureCode_1  \\\n",
       "count            40474.000000            39575.0        23148.000000   \n",
       "mean             10087.884074             1068.0         5894.611759   \n",
       "std              10303.099402                0.0         3049.304400   \n",
       "min                  0.000000             1068.0           11.000000   \n",
       "25%               4000.000000             1068.0         3848.000000   \n",
       "50%               7000.000000             1068.0         5369.000000   \n",
       "75%              12000.000000             1068.0         8666.250000   \n",
       "max             125000.000000             1068.0         9999.000000   \n",
       "\n",
       "       ClmProcedureCode_2  ClmProcedureCode_3  ClmProcedureCode_4  \\\n",
       "count         5454.000000          965.000000          116.000000   \n",
       "mean          4103.738174         4226.355440         4070.172414   \n",
       "std           2028.182156         2282.761581         1994.409802   \n",
       "min             42.000000           42.000000           42.000000   \n",
       "25%           2724.000000         2724.000000         2758.750000   \n",
       "50%           4019.000000         4019.000000         4019.000000   \n",
       "75%           4439.000000         5185.000000         4439.000000   \n",
       "max           9999.000000         9999.000000         9986.000000   \n",
       "\n",
       "       ClmProcedureCode_5  ClmProcedureCode_6  \n",
       "count            9.000000                 0.0  \n",
       "mean          5269.444444                 NaN  \n",
       "std           2780.071632                 NaN  \n",
       "min           2724.000000                 NaN  \n",
       "25%           4139.000000                 NaN  \n",
       "50%           4139.000000                 NaN  \n",
       "75%           5185.000000                 NaN  \n",
       "max           9982.000000                 NaN  "
      ]
     },
     "execution_count": 25,
     "metadata": {},
     "output_type": "execute_result"
    }
   ],
   "source": [
    "inpat.describe()"
   ]
  },
  {
   "cell_type": "code",
   "execution_count": 26,
   "metadata": {},
   "outputs": [
    {
     "data": {
      "text/html": [
       "<div>\n",
       "<style scoped>\n",
       "    .dataframe tbody tr th:only-of-type {\n",
       "        vertical-align: middle;\n",
       "    }\n",
       "\n",
       "    .dataframe tbody tr th {\n",
       "        vertical-align: top;\n",
       "    }\n",
       "\n",
       "    .dataframe thead th {\n",
       "        text-align: right;\n",
       "    }\n",
       "</style>\n",
       "<table border=\"1\" class=\"dataframe\">\n",
       "  <thead>\n",
       "    <tr style=\"text-align: right;\">\n",
       "      <th></th>\n",
       "      <th>BeneID</th>\n",
       "      <th>ClaimID</th>\n",
       "      <th>ClaimStartDt</th>\n",
       "      <th>ClaimEndDt</th>\n",
       "      <th>Provider</th>\n",
       "      <th>InscClaimAmtReimbursed</th>\n",
       "      <th>AttendingPhysician</th>\n",
       "      <th>OperatingPhysician</th>\n",
       "      <th>OtherPhysician</th>\n",
       "      <th>AdmissionDt</th>\n",
       "      <th>...</th>\n",
       "      <th>ClmDiagnosisCode_7</th>\n",
       "      <th>ClmDiagnosisCode_8</th>\n",
       "      <th>ClmDiagnosisCode_9</th>\n",
       "      <th>ClmDiagnosisCode_10</th>\n",
       "      <th>ClmProcedureCode_1</th>\n",
       "      <th>ClmProcedureCode_2</th>\n",
       "      <th>ClmProcedureCode_3</th>\n",
       "      <th>ClmProcedureCode_4</th>\n",
       "      <th>ClmProcedureCode_5</th>\n",
       "      <th>ClmProcedureCode_6</th>\n",
       "    </tr>\n",
       "  </thead>\n",
       "  <tbody>\n",
       "    <tr>\n",
       "      <td>25296</td>\n",
       "      <td>BENE103798</td>\n",
       "      <td>CLM44815</td>\n",
       "      <td>2009-03-30</td>\n",
       "      <td>2009-04-02</td>\n",
       "      <td>PRV54350</td>\n",
       "      <td>4000</td>\n",
       "      <td>PHY385561</td>\n",
       "      <td>NaN</td>\n",
       "      <td>NaN</td>\n",
       "      <td>2009-03-30</td>\n",
       "      <td>...</td>\n",
       "      <td>4280</td>\n",
       "      <td>78720</td>\n",
       "      <td>44023</td>\n",
       "      <td>NaN</td>\n",
       "      <td>NaN</td>\n",
       "      <td>NaN</td>\n",
       "      <td>NaN</td>\n",
       "      <td>NaN</td>\n",
       "      <td>NaN</td>\n",
       "      <td>NaN</td>\n",
       "    </tr>\n",
       "    <tr>\n",
       "      <td>37758</td>\n",
       "      <td>BENE149317</td>\n",
       "      <td>CLM62854</td>\n",
       "      <td>2009-08-06</td>\n",
       "      <td>2009-08-10</td>\n",
       "      <td>PRV52100</td>\n",
       "      <td>9000</td>\n",
       "      <td>PHY358829</td>\n",
       "      <td>NaN</td>\n",
       "      <td>NaN</td>\n",
       "      <td>2009-08-06</td>\n",
       "      <td>...</td>\n",
       "      <td>2724</td>\n",
       "      <td>7245</td>\n",
       "      <td>2809</td>\n",
       "      <td>E9800</td>\n",
       "      <td>NaN</td>\n",
       "      <td>NaN</td>\n",
       "      <td>NaN</td>\n",
       "      <td>NaN</td>\n",
       "      <td>NaN</td>\n",
       "      <td>NaN</td>\n",
       "    </tr>\n",
       "    <tr>\n",
       "      <td>3278</td>\n",
       "      <td>BENE22818</td>\n",
       "      <td>CLM34403</td>\n",
       "      <td>2009-01-18</td>\n",
       "      <td>2009-01-21</td>\n",
       "      <td>PRV55230</td>\n",
       "      <td>10000</td>\n",
       "      <td>PHY333406</td>\n",
       "      <td>PHY376123</td>\n",
       "      <td>NaN</td>\n",
       "      <td>2009-01-18</td>\n",
       "      <td>...</td>\n",
       "      <td>NaN</td>\n",
       "      <td>NaN</td>\n",
       "      <td>NaN</td>\n",
       "      <td>NaN</td>\n",
       "      <td>9907.0</td>\n",
       "      <td>NaN</td>\n",
       "      <td>NaN</td>\n",
       "      <td>NaN</td>\n",
       "      <td>NaN</td>\n",
       "      <td>NaN</td>\n",
       "    </tr>\n",
       "  </tbody>\n",
       "</table>\n",
       "<p>3 rows × 30 columns</p>\n",
       "</div>"
      ],
      "text/plain": [
       "           BeneID   ClaimID ClaimStartDt  ClaimEndDt  Provider  \\\n",
       "25296  BENE103798  CLM44815   2009-03-30  2009-04-02  PRV54350   \n",
       "37758  BENE149317  CLM62854   2009-08-06  2009-08-10  PRV52100   \n",
       "3278    BENE22818  CLM34403   2009-01-18  2009-01-21  PRV55230   \n",
       "\n",
       "       InscClaimAmtReimbursed AttendingPhysician OperatingPhysician  \\\n",
       "25296                    4000          PHY385561                NaN   \n",
       "37758                    9000          PHY358829                NaN   \n",
       "3278                    10000          PHY333406          PHY376123   \n",
       "\n",
       "      OtherPhysician AdmissionDt  ... ClmDiagnosisCode_7  ClmDiagnosisCode_8  \\\n",
       "25296            NaN  2009-03-30  ...               4280               78720   \n",
       "37758            NaN  2009-08-06  ...               2724                7245   \n",
       "3278             NaN  2009-01-18  ...                NaN                 NaN   \n",
       "\n",
       "      ClmDiagnosisCode_9 ClmDiagnosisCode_10 ClmProcedureCode_1  \\\n",
       "25296              44023                 NaN                NaN   \n",
       "37758               2809               E9800                NaN   \n",
       "3278                 NaN                 NaN             9907.0   \n",
       "\n",
       "      ClmProcedureCode_2 ClmProcedureCode_3 ClmProcedureCode_4  \\\n",
       "25296                NaN                NaN                NaN   \n",
       "37758                NaN                NaN                NaN   \n",
       "3278                 NaN                NaN                NaN   \n",
       "\n",
       "      ClmProcedureCode_5 ClmProcedureCode_6  \n",
       "25296                NaN                NaN  \n",
       "37758                NaN                NaN  \n",
       "3278                 NaN                NaN  \n",
       "\n",
       "[3 rows x 30 columns]"
      ]
     },
     "execution_count": 26,
     "metadata": {},
     "output_type": "execute_result"
    }
   ],
   "source": [
    "inpat.sample(3)"
   ]
  },
  {
   "cell_type": "code",
   "execution_count": 24,
   "metadata": {},
   "outputs": [
    {
     "ename": "KeyError",
     "evalue": "'Age'",
     "output_type": "error",
     "traceback": [
      "\u001b[0;31m---------------------------------------------------------------------------\u001b[0m",
      "\u001b[0;31mKeyError\u001b[0m                                  Traceback (most recent call last)",
      "\u001b[0;32m<ipython-input-24-e58d5bd6b55f>\u001b[0m in \u001b[0;36m<module>\u001b[0;34m\u001b[0m\n\u001b[0;32m----> 1\u001b[0;31m \u001b[0mmean_reim\u001b[0m \u001b[0;34m=\u001b[0m \u001b[0mdata\u001b[0m\u001b[0;34m.\u001b[0m\u001b[0mgroupby\u001b[0m\u001b[0;34m(\u001b[0m\u001b[0;34m'Age'\u001b[0m\u001b[0;34m)\u001b[0m\u001b[0;34m[\u001b[0m\u001b[0;34m'InscClaimAmtReimbursed'\u001b[0m\u001b[0;34m]\u001b[0m\u001b[0;34m.\u001b[0m\u001b[0mmean\u001b[0m\u001b[0;34m(\u001b[0m\u001b[0;34m)\u001b[0m\u001b[0;34m.\u001b[0m\u001b[0mreset_index\u001b[0m\u001b[0;34m(\u001b[0m\u001b[0;34m)\u001b[0m\u001b[0;34m\u001b[0m\u001b[0;34m\u001b[0m\u001b[0m\n\u001b[0m\u001b[1;32m      2\u001b[0m \u001b[0mmedian_reim\u001b[0m \u001b[0;34m=\u001b[0m \u001b[0mdata\u001b[0m\u001b[0;34m.\u001b[0m\u001b[0mgroupby\u001b[0m\u001b[0;34m(\u001b[0m\u001b[0;34m'Age'\u001b[0m\u001b[0;34m)\u001b[0m\u001b[0;34m[\u001b[0m\u001b[0;34m'InscClaimAmtReimbursed'\u001b[0m\u001b[0;34m]\u001b[0m\u001b[0;34m.\u001b[0m\u001b[0mmedian\u001b[0m\u001b[0;34m(\u001b[0m\u001b[0;34m)\u001b[0m\u001b[0;34m.\u001b[0m\u001b[0mreset_index\u001b[0m\u001b[0;34m(\u001b[0m\u001b[0;34m)\u001b[0m\u001b[0;34m\u001b[0m\u001b[0;34m\u001b[0m\u001b[0m\n",
      "\u001b[0;32m/usr/local/anaconda3/lib/python3.7/site-packages/pandas/core/generic.py\u001b[0m in \u001b[0;36mgroupby\u001b[0;34m(self, by, axis, level, as_index, sort, group_keys, squeeze, observed, **kwargs)\u001b[0m\n\u001b[1;32m   7892\u001b[0m             \u001b[0msqueeze\u001b[0m\u001b[0;34m=\u001b[0m\u001b[0msqueeze\u001b[0m\u001b[0;34m,\u001b[0m\u001b[0;34m\u001b[0m\u001b[0;34m\u001b[0m\u001b[0m\n\u001b[1;32m   7893\u001b[0m             \u001b[0mobserved\u001b[0m\u001b[0;34m=\u001b[0m\u001b[0mobserved\u001b[0m\u001b[0;34m,\u001b[0m\u001b[0;34m\u001b[0m\u001b[0;34m\u001b[0m\u001b[0m\n\u001b[0;32m-> 7894\u001b[0;31m             \u001b[0;34m**\u001b[0m\u001b[0mkwargs\u001b[0m\u001b[0;34m\u001b[0m\u001b[0;34m\u001b[0m\u001b[0m\n\u001b[0m\u001b[1;32m   7895\u001b[0m         )\n\u001b[1;32m   7896\u001b[0m \u001b[0;34m\u001b[0m\u001b[0m\n",
      "\u001b[0;32m/usr/local/anaconda3/lib/python3.7/site-packages/pandas/core/groupby/groupby.py\u001b[0m in \u001b[0;36mgroupby\u001b[0;34m(obj, by, **kwds)\u001b[0m\n\u001b[1;32m   2520\u001b[0m         \u001b[0;32mraise\u001b[0m \u001b[0mTypeError\u001b[0m\u001b[0;34m(\u001b[0m\u001b[0;34m\"invalid type: {}\"\u001b[0m\u001b[0;34m.\u001b[0m\u001b[0mformat\u001b[0m\u001b[0;34m(\u001b[0m\u001b[0mobj\u001b[0m\u001b[0;34m)\u001b[0m\u001b[0;34m)\u001b[0m\u001b[0;34m\u001b[0m\u001b[0;34m\u001b[0m\u001b[0m\n\u001b[1;32m   2521\u001b[0m \u001b[0;34m\u001b[0m\u001b[0m\n\u001b[0;32m-> 2522\u001b[0;31m     \u001b[0;32mreturn\u001b[0m \u001b[0mklass\u001b[0m\u001b[0;34m(\u001b[0m\u001b[0mobj\u001b[0m\u001b[0;34m,\u001b[0m \u001b[0mby\u001b[0m\u001b[0;34m,\u001b[0m \u001b[0;34m**\u001b[0m\u001b[0mkwds\u001b[0m\u001b[0;34m)\u001b[0m\u001b[0;34m\u001b[0m\u001b[0;34m\u001b[0m\u001b[0m\n\u001b[0m",
      "\u001b[0;32m/usr/local/anaconda3/lib/python3.7/site-packages/pandas/core/groupby/groupby.py\u001b[0m in \u001b[0;36m__init__\u001b[0;34m(self, obj, keys, axis, level, grouper, exclusions, selection, as_index, sort, group_keys, squeeze, observed, **kwargs)\u001b[0m\n\u001b[1;32m    389\u001b[0m                 \u001b[0msort\u001b[0m\u001b[0;34m=\u001b[0m\u001b[0msort\u001b[0m\u001b[0;34m,\u001b[0m\u001b[0;34m\u001b[0m\u001b[0;34m\u001b[0m\u001b[0m\n\u001b[1;32m    390\u001b[0m                 \u001b[0mobserved\u001b[0m\u001b[0;34m=\u001b[0m\u001b[0mobserved\u001b[0m\u001b[0;34m,\u001b[0m\u001b[0;34m\u001b[0m\u001b[0;34m\u001b[0m\u001b[0m\n\u001b[0;32m--> 391\u001b[0;31m                 \u001b[0mmutated\u001b[0m\u001b[0;34m=\u001b[0m\u001b[0mself\u001b[0m\u001b[0;34m.\u001b[0m\u001b[0mmutated\u001b[0m\u001b[0;34m,\u001b[0m\u001b[0;34m\u001b[0m\u001b[0;34m\u001b[0m\u001b[0m\n\u001b[0m\u001b[1;32m    392\u001b[0m             )\n\u001b[1;32m    393\u001b[0m \u001b[0;34m\u001b[0m\u001b[0m\n",
      "\u001b[0;32m/usr/local/anaconda3/lib/python3.7/site-packages/pandas/core/groupby/grouper.py\u001b[0m in \u001b[0;36m_get_grouper\u001b[0;34m(obj, key, axis, level, sort, observed, mutated, validate)\u001b[0m\n\u001b[1;32m    619\u001b[0m                 \u001b[0min_axis\u001b[0m\u001b[0;34m,\u001b[0m \u001b[0mname\u001b[0m\u001b[0;34m,\u001b[0m \u001b[0mlevel\u001b[0m\u001b[0;34m,\u001b[0m \u001b[0mgpr\u001b[0m \u001b[0;34m=\u001b[0m \u001b[0;32mFalse\u001b[0m\u001b[0;34m,\u001b[0m \u001b[0;32mNone\u001b[0m\u001b[0;34m,\u001b[0m \u001b[0mgpr\u001b[0m\u001b[0;34m,\u001b[0m \u001b[0;32mNone\u001b[0m\u001b[0;34m\u001b[0m\u001b[0;34m\u001b[0m\u001b[0m\n\u001b[1;32m    620\u001b[0m             \u001b[0;32melse\u001b[0m\u001b[0;34m:\u001b[0m\u001b[0;34m\u001b[0m\u001b[0;34m\u001b[0m\u001b[0m\n\u001b[0;32m--> 621\u001b[0;31m                 \u001b[0;32mraise\u001b[0m \u001b[0mKeyError\u001b[0m\u001b[0;34m(\u001b[0m\u001b[0mgpr\u001b[0m\u001b[0;34m)\u001b[0m\u001b[0;34m\u001b[0m\u001b[0;34m\u001b[0m\u001b[0m\n\u001b[0m\u001b[1;32m    622\u001b[0m         \u001b[0;32melif\u001b[0m \u001b[0misinstance\u001b[0m\u001b[0;34m(\u001b[0m\u001b[0mgpr\u001b[0m\u001b[0;34m,\u001b[0m \u001b[0mGrouper\u001b[0m\u001b[0;34m)\u001b[0m \u001b[0;32mand\u001b[0m \u001b[0mgpr\u001b[0m\u001b[0;34m.\u001b[0m\u001b[0mkey\u001b[0m \u001b[0;32mis\u001b[0m \u001b[0;32mnot\u001b[0m \u001b[0;32mNone\u001b[0m\u001b[0;34m:\u001b[0m\u001b[0;34m\u001b[0m\u001b[0;34m\u001b[0m\u001b[0m\n\u001b[1;32m    623\u001b[0m             \u001b[0;31m# Add key to exclusions\u001b[0m\u001b[0;34m\u001b[0m\u001b[0;34m\u001b[0m\u001b[0;34m\u001b[0m\u001b[0m\n",
      "\u001b[0;31mKeyError\u001b[0m: 'Age'"
     ]
    }
   ],
   "source": [
    "mean_reim = data.groupby('Age')['InscClaimAmtReimbursed'].mean().reset_index()\n",
    "median_reim = data.groupby('Age')['InscClaimAmtReimbursed'].median().reset_index()"
   ]
  },
  {
   "cell_type": "code",
   "execution_count": 28,
   "metadata": {},
   "outputs": [
    {
     "data": {
      "image/png": "[encoded data removed]",
      "text/plain": [
       "<Figure size 432x288 with 1 Axes>"
      ]
     },
     "metadata": {
      "needs_background": "light"
     },
     "output_type": "display_data"
    }
   ],
   "source": [
    "ax = sns.scatterplot(x='Age',y='InscClaimAmtReimbursed', data=mean_reim)\n",
    "ax.figure.savefig(\"./plots/age_v_meanReim.svg\",bbox_inches='tight')"
   ]
  },
  {
   "cell_type": "code",
   "execution_count": 29,
   "metadata": {},
   "outputs": [
    {
     "data": {
      "image/png": "[encoded data removed]",
      "text/plain": [
       "<Figure size 432x288 with 1 Axes>"
      ]
     },
     "metadata": {
      "needs_background": "light"
     },
     "output_type": "display_data"
    }
   ],
   "source": [
    "ax = sns.scatterplot(x='Age',y='InscClaimAmtReimbursed', data=median_reim)\n",
    "ax.figure.savefig(\"./plots/age_v_medReim.svg\",bbox_inches='tight')"
   ]
  },
  {
   "cell_type": "code",
   "execution_count": null,
   "metadata": {},
   "outputs": [],
   "source": []
  }
 ],
 "metadata": {
  "kernelspec": {
   "display_name": "Python 3",
   "language": "python",
   "name": "python3"
  },
  "language_info": {
   "codemirror_mode": {
    "name": "ipython",
    "version": 3
   },
   "file_extension": ".py",
   "mimetype": "text/x-python",
   "name": "python",
   "nbconvert_exporter": "python",
   "pygments_lexer": "ipython3",
   "version": "3.7.4"
  }
 },
 "nbformat": 4,
 "nbformat_minor": 2
}
