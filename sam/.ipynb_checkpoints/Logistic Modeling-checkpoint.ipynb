{
 "cells": [
  {
   "cell_type": "code",
   "execution_count": 276,
   "metadata": {},
   "outputs": [],
   "source": [
    "import numpy as np\n",
    "import pandas as pd\n",
    "import scipy.stats\n",
    "\n",
    "%matplotlib inline\n",
    "import matplotlib.pyplot as plt\n",
    "import seaborn as sns"
   ]
  },
  {
   "cell_type": "code",
   "execution_count": 277,
   "metadata": {},
   "outputs": [],
   "source": [
    "data = pd.read_csv('./data/provData/x_train.csv').set_index('Provider')\n",
    "#data_test = pd.read_csv('./data/provData/x_test_inout.csv').set_index('Provider')"
   ]
  },
  {
   "cell_type": "code",
   "execution_count": 278,
   "metadata": {},
   "outputs": [],
   "source": [
    "data.drop(columns = ['Unnamed: 0','Unnamed: 0.1'], inplace=True)"
   ]
  },
  {
   "cell_type": "code",
   "execution_count": 279,
   "metadata": {},
   "outputs": [
    {
     "data": {
      "text/plain": [
       "Age                                0\n",
       "Gender                             0\n",
       "BeneID                             0\n",
       "ClaimID                            0\n",
       "State                              0\n",
       "NumProc                            0\n",
       "NumDiag                            0\n",
       "NumChronics                        0\n",
       "InscClaimAmtReimbursed             0\n",
       "DeductibleAmtPaid                  1\n",
       "ClaimDays                          0\n",
       "WhetherDead                        0\n",
       "Alzheimer                          0\n",
       "HeartFailure                       0\n",
       "KidneyDisease                      0\n",
       "Cancer                             0\n",
       "ObstrPulmonary                     0\n",
       "Depression                         0\n",
       "Diabetes                           0\n",
       "IschemicHeart                      0\n",
       "Osteoporasis                       0\n",
       "RheumatoidArthritis                0\n",
       "Stroke                             0\n",
       "Age_Range                          0\n",
       "NumProc_Range                      0\n",
       "NumDiag_Range                      0\n",
       "NumChronics_Range                  0\n",
       "InscClaimAmtReimbursed_Range       0\n",
       "ClaimDays_Range                    0\n",
       "Doctors                            0\n",
       "PotentialFraud                     0\n",
       "docDegMax                          0\n",
       "docBtwnMean                        0\n",
       "docEignMean                        0\n",
       "docMANN                         1482\n",
       "patDegMax                          0\n",
       "patBtwnMean                        0\n",
       "patEignMean                        0\n",
       "patMANN                           18\n",
       "dtype: int64"
      ]
     },
     "execution_count": 279,
     "metadata": {},
     "output_type": "execute_result"
    }
   ],
   "source": [
    "data.isna().sum()"
   ]
  },
  {
   "cell_type": "code",
   "execution_count": 280,
   "metadata": {},
   "outputs": [],
   "source": [
    "data.fillna(0, inplace=True)"
   ]
  },
  {
   "cell_type": "code",
   "execution_count": 502,
   "metadata": {},
   "outputs": [],
   "source": [
    "data['LargeClaims'] = data['ClaimID'] > 1300"
   ]
  },
  {
   "cell_type": "code",
   "execution_count": 503,
   "metadata": {},
   "outputs": [
    {
     "data": {
      "text/plain": [
       "False    5359\n",
       "True       51\n",
       "Name: LargeClaims, dtype: int64"
      ]
     },
     "execution_count": 503,
     "metadata": {},
     "output_type": "execute_result"
    }
   ],
   "source": [
    "data['LargeClaims'].value_counts()"
   ]
  },
  {
   "cell_type": "code",
   "execution_count": 282,
   "metadata": {},
   "outputs": [],
   "source": [
    "# data_net = data[['docDegMax', 'docBtwnMean', 'docEignMean', 'docMANN',\n",
    "#        'patDegMax', 'patBtwnMean', 'patEignMean', 'patMANN','PotentialFraud']]\n",
    "# data_net.head()"
   ]
  },
  {
   "cell_type": "code",
   "execution_count": 530,
   "metadata": {},
   "outputs": [
    {
     "data": {
      "text/plain": [
       "(0, 9000)"
      ]
     },
     "execution_count": 530,
     "metadata": {},
     "output_type": "execute_result"
    },
    {
     "data": {
      "image/png": "[encoded data removed]",
      "text/plain": [
       "<Figure size 864x360 with 1 Axes>"
      ]
     },
     "metadata": {
      "needs_background": "light"
     },
     "output_type": "display_data"
    }
   ],
   "source": [
    "plt.figure(figsize=(12,5))\n",
    "\n",
    "ax1 = plt.subplot(121)\n",
    "\n",
    "\n",
    "ax1 = sns.scatterplot(x='BeneID', y='ClaimID', hue='PotentialFraud',alpha=0.5, data=data)\n",
    "#ax1.set(yscale=\"log\",xscale=\"log\")\n",
    "#ax1.set(xlabel='Max Size of Provider Network by Shared Patients', ylabel = 'Average Nearest Neighbor Size')\n",
    "plt.tight_layout()\n",
    "#plt.xlim(0,9000)\n",
    "\n",
    "# ax2 = plt.subplot(122)\n",
    "# ax2 = sns.scatterplot(x='docDegMax', y='docMANN', hue='PotentialFraud',alpha=0.5, data=data)\n",
    "\n",
    "# ax2.set(xlabel='Max Size of Provider Network by Shared Doctors', ylabel='Average Nearest Neighbor Size')\n",
    "# plt.tight_layout()\n",
    "#plt.xlim(0,9000)\n",
    "#plt.annotate('Fraud: ?', (1000.6, 105))"
   ]
  },
  {
   "cell_type": "code",
   "execution_count": 507,
   "metadata": {},
   "outputs": [],
   "source": [
    "#x_train = x_train.drop(columns = 'PotentialFraud')\n",
    "# y = data['PotentialFraud']\n",
    "# x = data.drop(columns = ['Alzheimer', 'HeartFailure',\n",
    "#        'KidneyDisease', 'Cancer', 'ObstrPulmonary', 'Depression', 'Diabetes',\n",
    "#        'IschemicHeart', 'Osteoporasis', 'RheumatoidArthritis', 'Stroke','PotentialFraud'])\n",
    "\n",
    "y = data['PotentialFraud']\n",
    "x_unscaled = data.drop(columns = ['DeductibleAmtPaid','State','NumProc', 'Age',\n",
    "                                  'Alzheimer', 'HeartFailure','Cancer', 'ObstrPulmonary', \n",
    "                                  'Depression', 'Diabetes','Osteoporasis', 'NumChronics_Range',\n",
    "                                  'RheumatoidArthritis', 'Stroke','Gender', 'ClaimDays', 'docMANN',\n",
    "                                  'NumChronics','PotentialFraud'])\n",
    "x_train, x_test, y_train, y_test = ms.train_test_split(x,y, \n",
    "                                                       test_size=1.0/3, random_state=0)"
   ]
  },
  {
   "cell_type": "code",
   "execution_count": 508,
   "metadata": {},
   "outputs": [],
   "source": [
    "from sklearn import preprocessing\n",
    "x = preprocessing.scale(x_unscaled)"
   ]
  },
  {
   "cell_type": "code",
   "execution_count": 509,
   "metadata": {},
   "outputs": [
    {
     "name": "stdout",
     "output_type": "stream",
     "text": [
      "Original: (5410, 21), (5410,)\n",
      "Training: (3606, 21), (3606,)\n",
      "Test:     (1804, 21), (1804,)\n"
     ]
    }
   ],
   "source": [
    "x_train, x_test, y_train, y_test = ms.train_test_split(x,y, \n",
    "                                                       test_size=1.0/3, random_state=0)\n",
    "\n",
    "print('Original: {}, {}'.format(x.shape, y.shape))\n",
    "print('Training: {}, {}'.format(x_train.shape, y_train.shape))\n",
    "print('Test:     {}, {}'.format(x_test.shape, y_test.shape))"
   ]
  },
  {
   "cell_type": "code",
   "execution_count": 510,
   "metadata": {},
   "outputs": [
    {
     "data": {
      "text/plain": [
       "LogisticRegression()"
      ]
     },
     "execution_count": 510,
     "metadata": {},
     "output_type": "execute_result"
    }
   ],
   "source": [
    "from sklearn import linear_model\n",
    "logit_balanced = linear_model.LogisticRegression(solver = 'lbfgs',class_weight='balanced')\n",
    "logit = linear_model.LogisticRegression(solver = 'lbfgs')\n",
    "\n",
    "logit_balanced.fit(x_train,y_train)\n",
    "logit.fit(x_train,y_train)"
   ]
  },
  {
   "cell_type": "markdown",
   "metadata": {},
   "source": [
    "Get quick look at score for model using whole feature set"
   ]
  },
  {
   "cell_type": "code",
   "execution_count": 511,
   "metadata": {},
   "outputs": [
    {
     "name": "stdout",
     "output_type": "stream",
     "text": [
      "The accuracy of logistic regression is: 0.934589800443459\n",
      "The accuracy of logistic regression is: 0.8763858093126385\n"
     ]
    }
   ],
   "source": [
    "print(\"The accuracy of logistic regression is: \" + str(logit.score(x_test, y_test)))\n",
    "print(\"The accuracy of logistic regression is: \" + str(logit_balanced.score(x_test, y_test)))"
   ]
  },
  {
   "cell_type": "markdown",
   "metadata": {},
   "source": [
    "Not very good since null model would have an accuracy of 91%"
   ]
  },
  {
   "cell_type": "markdown",
   "metadata": {},
   "source": [
    "## Metrics\n",
    "\n",
    "### Recall\n",
    "Recall (or sensitivity or true positive rate) is the fraction of observations having a true class of 1 (potentially fraudulent) that are being correctly classified as such. Recall is exactly how many of the fradulent providers we are actually classifying as fraudulent.\n",
    "\n",
    "If we have a problem like cancer detection, we would ideally want our system to have very high recall, potentially at the expense of false postives or accuracy in general.\n",
    "\n",
    "### F1 Score\n",
    "F1 score is the harmonic mean of recall and precision, and it can be thought of as a balance of the two. While accuracy also serves this purpose, it can be quite misleading if classes are heavily imbalanced. In our case, only 9% of providers have been labeled as fraudulent and we assume the test set follows the same distribution. \n",
    "\n",
    "For instance, suppose we have a population of 1000 providers and 100 of them are fraudulent. We have a classfication system that produces the following results:\n",
    "\n",
    "- 40 True Positive (correctly identified fraud)\n",
    "- 10 False Positives (incorrectly mistook non-fraud for fraud)\n",
    "- 20 False Negative (failed to identify fraud)\n",
    "- 930 True Negatives (correctly identified non-fraud)\n",
    "\n",
    "In this example, we have 93.0% accuracy while the F1 score is 72.7% (and 80% precision, 67% recall), which seems to be a more useful overall indicator of performance in this case.\n",
    "\n",
    "### ROC Curve and AUC\n",
    "The receiver operating characteristic curve (or ROC curve) is another tool for evaluating the classfication performance of different models. For any given model, the ROC curve plots the tradoff between the false positive rate on the x-axis against the true positive rate (aka Precision) for different choices of thresholds for a binary classifier. In one extreme case, if the classification threshold is 0, then all instances (for non-perfect models) will be classified as 0, leading to a false positive rate of 0, but also a true postive rate of 0. In the other extreme case, a threshold of 1 leads to a true positive rate/recall of 1 but also a false postive rate of 1. \n",
    "\n",
    "In terms of evaluating classification performance, an ROC curve which is closer to the (FPR = 0, TPR = 1) point compared to another indicates that the former model strictly dominates the latter. Beyond just the curve, one summary measure is simply the AUC or (A)rea (U)nder the ROC (C)urve. A completely random model will produce an AUC of 0.5 while a perfect model will have an AUC of 1."
   ]
  },
  {
   "cell_type": "code",
   "execution_count": 512,
   "metadata": {},
   "outputs": [],
   "source": [
    "from sklearn.metrics import precision_recall_fscore_support\n",
    "from sklearn.metrics import roc_curve, roc_auc_score\n",
    "\n",
    "def logitMetrics(x,y, model):\n",
    "    logit_tr_acc = model.score(x, y)\n",
    "    logit_tr_pr, logit_tr_re, logit_tr_f1, _ = precision_recall_fscore_support(y, logit.predict(x))\n",
    "\n",
    "    print(\" Logit Train Accuracy : %1.3f\" % (logit_tr_acc))\n",
    "    print(\" Logit Train Precision: %1.3f (no fraud) and %1.3f (fraud)\" % (logit_tr_pr[0], logit_tr_pr[1]))\n",
    "    print(\" Logit Train Recall   : %1.3f (no fraud) and %1.3f (fraud)\" % (logit_tr_re[0], logit_tr_re[1]))\n",
    "    print(\" Logit Train F1 Score : %1.3f (no fraud) and %1.3f (fraud)\" % (logit_tr_f1[0], logit_tr_f1[1]))\n",
    "    \n",
    "    y_probs_logit = pd.DataFrame(model.predict_proba(x))[1]\n",
    "    fpr, tpr, thresholds = roc_curve(y, y_probs_logit)\n",
    "    auc = roc_auc_score(y, y_probs_logit)  # Computes auc\n",
    "    \n",
    "    plt.figure()\n",
    "    lw = 2\n",
    "    plt.plot(fpr, tpr, color='darkorange', lw=lw,\n",
    "            label='ROC logit (area = %0.2f)' % auc)\n",
    "\n",
    "    plt.plot([0, 1], [0, 1], color='navy', lw=lw, linestyle='--')\n",
    "    plt.xlim([0, 1.02])\n",
    "    plt.ylim([0, 1.02])\n",
    "    plt.xlabel('False Positive Rate')\n",
    "    plt.ylabel('True Positive Rate')\n",
    "    plt.title('Receiver operating characteristic example')\n",
    "    plt.legend(loc=\"lower right\")\n",
    "    plt.show()"
   ]
  },
  {
   "cell_type": "code",
   "execution_count": 513,
   "metadata": {},
   "outputs": [
    {
     "name": "stdout",
     "output_type": "stream",
     "text": [
      " Logit Train Accuracy : 0.935\n",
      " Logit Train Precision: 0.953 (no fraud) and 0.698 (fraud)\n",
      " Logit Train Recall   : 0.976 (no fraud) and 0.533 (fraud)\n",
      " Logit Train F1 Score : 0.964 (no fraud) and 0.604 (fraud)\n"
     ]
    },
    {
     "data": {
      "image/png": "[encoded data removed]",
      "text/plain": [
       "<Figure size 432x288 with 1 Axes>"
      ]
     },
     "metadata": {
      "needs_background": "light"
     },
     "output_type": "display_data"
    },
    {
     "name": "stdout",
     "output_type": "stream",
     "text": [
      " Logit Train Accuracy : 0.876\n",
      " Logit Train Precision: 0.953 (no fraud) and 0.698 (fraud)\n",
      " Logit Train Recall   : 0.976 (no fraud) and 0.533 (fraud)\n",
      " Logit Train F1 Score : 0.964 (no fraud) and 0.604 (fraud)\n"
     ]
    },
    {
     "data": {
      "image/png": "[encoded data removed]",
      "text/plain": [
       "<Figure size 432x288 with 1 Axes>"
      ]
     },
     "metadata": {
      "needs_background": "light"
     },
     "output_type": "display_data"
    }
   ],
   "source": [
    "logitMetrics(x_test,y_test,logit)\n",
    "logitMetrics(x_test,y_test,logit_balanced)\n"
   ]
  },
  {
   "cell_type": "markdown",
   "metadata": {},
   "source": [
    "## Standardizing Features"
   ]
  },
  {
   "cell_type": "code",
   "execution_count": 514,
   "metadata": {},
   "outputs": [],
   "source": [
    "import warnings\n",
    "warnings.filterwarnings(action=\"ignore\", module=\"scipy\", message=\"^internal gelsd\")\n",
    "import sklearn.model_selection as ms"
   ]
  },
  {
   "cell_type": "code",
   "execution_count": 515,
   "metadata": {},
   "outputs": [],
   "source": [
    "from sklearn.model_selection import RepeatedStratifiedKFold\n",
    "\n",
    "cv = RepeatedStratifiedKFold(n_splits = 5,\n",
    "                             n_repeats = 1,\n",
    "                             random_state = 2)"
   ]
  },
  {
   "cell_type": "code",
   "execution_count": 516,
   "metadata": {},
   "outputs": [
    {
     "name": "stdout",
     "output_type": "stream",
     "text": [
      " Logit Train Accuracy : 0.932\n",
      " Logit Train Precision: 0.951 (no fraud) and 0.738 (fraud)\n",
      " Logit Train Recall   : 0.981 (no fraud) and 0.510 (fraud)\n",
      " Logit Train F1 Score : 0.966 (no fraud) and 0.604 (fraud)\n"
     ]
    },
    {
     "data": {
      "image/png": "[encoded data removed]",
      "text/plain": [
       "<Figure size 432x288 with 1 Axes>"
      ]
     },
     "metadata": {
      "needs_background": "light"
     },
     "output_type": "display_data"
    },
    {
     "name": "stdout",
     "output_type": "stream",
     "text": [
      " Logit Train Accuracy : 0.931\n",
      " Logit Train Precision: 0.953 (no fraud) and 0.698 (fraud)\n",
      " Logit Train Recall   : 0.976 (no fraud) and 0.533 (fraud)\n",
      " Logit Train F1 Score : 0.964 (no fraud) and 0.604 (fraud)\n"
     ]
    },
    {
     "data": {
      "image/png": "[encoded data removed]",
      "text/plain": [
       "<Figure size 432x288 with 1 Axes>"
      ]
     },
     "metadata": {
      "needs_background": "light"
     },
     "output_type": "display_data"
    }
   ],
   "source": [
    "logitcv_f1 = linear_model.LogisticRegressionCV(Cs = 20, # grid regularization\n",
    "                                               penalty='l1',\n",
    "                                               scoring = 'f1_weighted',\n",
    "                                               cv = cv,\n",
    "                                               solver = 'liblinear')\n",
    "logitcv_f1.fit(x_train,y_train)\n",
    "logitMetrics(x_train,y_train,logitcv_f1)\n",
    "logitMetrics(x_test,y_test,logitcv_f1)"
   ]
  },
  {
   "cell_type": "code",
   "execution_count": 517,
   "metadata": {},
   "outputs": [
    {
     "data": {
      "text/plain": [
       "array([[ 0.        ,  0.82281993,  0.28674226,  0.00413779,  0.        ,\n",
       "         0.07632214,  0.05586443,  0.04145288,  0.42242433,  0.04906722,\n",
       "         0.61525934,  0.82556107,  0.        ,  0.        , -0.00476268,\n",
       "         0.        , -0.08233132, -0.02683282,  0.        ,  0.        ,\n",
       "         0.19072138]])"
      ]
     },
     "execution_count": 517,
     "metadata": {},
     "output_type": "execute_result"
    }
   ],
   "source": [
    "logitcv_f1.coef_"
   ]
  },
  {
   "cell_type": "code",
   "execution_count": 518,
   "metadata": {},
   "outputs": [
    {
     "data": {
      "text/plain": [
       "array([[['BeneID', 0.0],\n",
       "        ['ClaimID', 0.8228199257437911],\n",
       "        ['NumDiag', 0.28674225942058756],\n",
       "        ['InscClaimAmtReimbursed', 0.00413779089240646],\n",
       "        ['WhetherDead', 0.0],\n",
       "        ['KidneyDisease', 0.0763221390402634],\n",
       "        ['IschemicHeart', 0.055864432479736395],\n",
       "        ['Age_Range', 0.04145288395183734],\n",
       "        ['NumProc_Range', 0.4224243272926067],\n",
       "        ['NumDiag_Range', 0.04906722209091528],\n",
       "        ['InscClaimAmtReimbursed_Range', 0.6152593412173049],\n",
       "        ['ClaimDays_Range', 0.8255610679957136],\n",
       "        ['Doctors', 0.0],\n",
       "        ['docDegMax', 0.0],\n",
       "        ['docBtwnMean', -0.004762682580480148],\n",
       "        ['docEignMean', 0.0],\n",
       "        ['patDegMax', -0.0823313180353233],\n",
       "        ['patBtwnMean', -0.026832819372820678],\n",
       "        ['patEignMean', 0.0],\n",
       "        ['patMANN', 0.0],\n",
       "        ['LargeClaims', 0.19072138377429518]]], dtype=object)"
      ]
     },
     "execution_count": 518,
     "metadata": {},
     "output_type": "execute_result"
    }
   ],
   "source": [
    "np.dstack((x_unscaled.columns,logitcv_f1.coef_))"
   ]
  },
  {
   "cell_type": "markdown",
   "metadata": {},
   "source": [
    "## SMOTE\n",
    "\n",
    "Synthetic Minority Oversampling Technique\n",
    "\n",
    "### Pros\n",
    "- problem with imbalanced classification is there are too few examples of the minority class for a model to effectively learn the decision boundary.\n",
    "- we can oversample the minority to counterbalance this. \n",
    "    - we can duplicate examples from minority class prior to fitting the model\n",
    "    - this balances the class distribution but does not provide any additional information to the model. \n",
    "    \n",
    "\n",
    "### Cons\n",
    "- Synthetic examples created without considering majority class - resulting in ambiguous examples if there is strong overlap for the classes. \n",
    "    - In our case, at least for small providers, theres lots of overlap in the featurespace wrt number of patients, number of claims, etc. \n",
    "### Concerns:\n",
    "- Given that our target is not actual fraud but a potential fraud do we want confidence intervals / prediction intervals?\n",
    "- would an oversampling technique such as this diminish that?\n"
   ]
  },
  {
   "cell_type": "markdown",
   "metadata": {},
   "source": [
    "## Applying SMOTE to LogReg"
   ]
  },
  {
   "cell_type": "code",
   "execution_count": 441,
   "metadata": {},
   "outputs": [
    {
     "name": "stdout",
     "output_type": "stream",
     "text": [
      "Counter({0: 4904, 1: 506})\n",
      "Counter({0: 2101, 1: 1471})\n"
     ]
    },
    {
     "ename": "IndexError",
     "evalue": "only integers, slices (`:`), ellipsis (`...`), numpy.newaxis (`None`) and integer or boolean arrays are valid indices",
     "output_type": "error",
     "traceback": [
      "\u001b[0;31m---------------------------------------------------------------------------\u001b[0m",
      "\u001b[0;31mIndexError\u001b[0m                                Traceback (most recent call last)",
      "\u001b[0;32m<ipython-input-441-934f6a5eee46>\u001b[0m in \u001b[0;36m<module>\u001b[0;34m\u001b[0m\n\u001b[1;32m     22\u001b[0m \u001b[0;32mfor\u001b[0m \u001b[0mlabel\u001b[0m\u001b[0;34m,\u001b[0m \u001b[0m_\u001b[0m \u001b[0;32min\u001b[0m \u001b[0mcounters\u001b[0m\u001b[0;34m.\u001b[0m\u001b[0mitems\u001b[0m\u001b[0;34m(\u001b[0m\u001b[0;34m)\u001b[0m\u001b[0;34m:\u001b[0m\u001b[0;34m\u001b[0m\u001b[0;34m\u001b[0m\u001b[0m\n\u001b[1;32m     23\u001b[0m     \u001b[0mrow_ix\u001b[0m \u001b[0;34m=\u001b[0m \u001b[0mnp\u001b[0m\u001b[0;34m.\u001b[0m\u001b[0mwhere\u001b[0m\u001b[0;34m(\u001b[0m\u001b[0mys\u001b[0m\u001b[0;34m==\u001b[0m\u001b[0mlabel\u001b[0m\u001b[0;34m)\u001b[0m\u001b[0;34m[\u001b[0m\u001b[0;36m0\u001b[0m\u001b[0;34m]\u001b[0m\u001b[0;34m\u001b[0m\u001b[0;34m\u001b[0m\u001b[0m\n\u001b[0;32m---> 24\u001b[0;31m     \u001b[0max1\u001b[0m \u001b[0;34m=\u001b[0m \u001b[0mplt\u001b[0m\u001b[0;34m.\u001b[0m\u001b[0mscatter\u001b[0m\u001b[0;34m(\u001b[0m\u001b[0mxs\u001b[0m\u001b[0;34m[\u001b[0m\u001b[0mrow_ix\u001b[0m\u001b[0;34m,\u001b[0m \u001b[0;34m'docNet_max'\u001b[0m\u001b[0;34m]\u001b[0m\u001b[0;34m,\u001b[0m \u001b[0mxs\u001b[0m\u001b[0;34m[\u001b[0m\u001b[0mrow_ix\u001b[0m\u001b[0;34m,\u001b[0m\u001b[0;34m'State'\u001b[0m\u001b[0;34m]\u001b[0m\u001b[0;34m,\u001b[0m \u001b[0mlabel\u001b[0m\u001b[0;34m=\u001b[0m\u001b[0mstr\u001b[0m\u001b[0;34m(\u001b[0m\u001b[0mlabel\u001b[0m\u001b[0;34m)\u001b[0m\u001b[0;34m,\u001b[0m \u001b[0malpha\u001b[0m\u001b[0;34m=\u001b[0m\u001b[0;36m0.3\u001b[0m\u001b[0;34m)\u001b[0m\u001b[0;34m\u001b[0m\u001b[0;34m\u001b[0m\u001b[0m\n\u001b[0m\u001b[1;32m     25\u001b[0m \u001b[0;34m\u001b[0m\u001b[0m\n\u001b[1;32m     26\u001b[0m \u001b[0mplt\u001b[0m\u001b[0;34m.\u001b[0m\u001b[0mlegend\u001b[0m\u001b[0;34m(\u001b[0m\u001b[0;34m)\u001b[0m\u001b[0;34m\u001b[0m\u001b[0;34m\u001b[0m\u001b[0m\n",
      "\u001b[0;31mIndexError\u001b[0m: only integers, slices (`:`), ellipsis (`...`), numpy.newaxis (`None`) and integer or boolean arrays are valid indices"
     ]
    }
   ],
   "source": [
    "import imblearn\n",
    "from collections import Counter\n",
    "from imblearn.over_sampling import BorderlineSMOTE\n",
    "from imblearn.under_sampling import RandomUnderSampler\n",
    "from imblearn.pipeline import Pipeline\n",
    "from sklearn.metrics import classification_report\n",
    "\n",
    "counter = Counter(y)\n",
    "print(counter)\n",
    "# define pipeline\n",
    "over = BorderlineSMOTE(sampling_strategy=0.3)\n",
    "under = RandomUnderSampler(sampling_strategy=0.7)\n",
    "steps = [('o', over),('u', under)]\n",
    "pipeline = Pipeline(steps = steps)\n",
    "# transform the dataset\n",
    "xs,ys = pipeline.fit_resample(x,y)\n",
    "# summarize new class distribution\n",
    "counters = Counter(ys)\n",
    "print(counters)\n",
    "# scatter plot of examples by class label\n",
    "\n",
    "for label, _ in counters.items():\n",
    "    row_ix = np.where(ys==label)[0]\n",
    "    ax1 = plt.scatter(xs[row_ix, 'docNet_max'], xs[row_ix,'State'], label=str(label), alpha=0.3)\n",
    "    \n",
    "plt.legend()\n",
    "plt.show()"
   ]
  },
  {
   "cell_type": "code",
   "execution_count": 455,
   "metadata": {},
   "outputs": [
    {
     "name": "stdout",
     "output_type": "stream",
     "text": [
      "Counter({0: 3269, 1: 337})\n",
      " Logit Train Accuracy : 0.589\n",
      " Logit Train Precision: 0.951 (no fraud) and 0.737 (fraud)\n",
      " Logit Train Recall   : 0.981 (no fraud) and 0.507 (fraud)\n",
      " Logit Train F1 Score : 0.966 (no fraud) and 0.601 (fraud)\n"
     ]
    },
    {
     "data": {
      "image/png": "[encoded data removed]",
      "text/plain": [
       "<Figure size 432x288 with 1 Axes>"
      ]
     },
     "metadata": {
      "needs_background": "light"
     },
     "output_type": "display_data"
    },
    {
     "name": "stdout",
     "output_type": "stream",
     "text": [
      " Logit Train Accuracy : 0.573\n",
      " Logit Train Precision: 0.953 (no fraud) and 0.711 (fraud)\n",
      " Logit Train Recall   : 0.977 (no fraud) and 0.538 (fraud)\n",
      " Logit Train F1 Score : 0.965 (no fraud) and 0.613 (fraud)\n"
     ]
    },
    {
     "data": {
      "image/png": "[encoded data removed]",
      "text/plain": [
       "<Figure size 432x288 with 1 Axes>"
      ]
     },
     "metadata": {
      "needs_background": "light"
     },
     "output_type": "display_data"
    }
   ],
   "source": [
    "import imblearn\n",
    "from collections import Counter\n",
    "from imblearn.over_sampling import BorderlineSMOTE\n",
    "from imblearn.under_sampling import RandomUnderSampler\n",
    "from imblearn.pipeline import Pipeline\n",
    "from sklearn.metrics import classification_report\n",
    "from sklearn.model_selection import RepeatedStratifiedKFold\n",
    "from sklearn.model_selection import train_test_split as tts\n",
    "\n",
    "cv = RepeatedStratifiedKFold(n_splits = 10,\n",
    "                             n_repeats = 2,\n",
    "                             random_state = 100)\n",
    "\n",
    "\n",
    "logitcv_f1 = linear_model.LogisticRegressionCV(Cs = 10, # grid regularization\n",
    "                                               penalty='l1',\n",
    "                                               scoring = 'f1',\n",
    "                                               cv = cv,\n",
    "                                               solver = 'liblinear',\n",
    "                                               max_iter=1e5)\n",
    "\n",
    "counter = Counter(y_train)\n",
    "print(counter)\n",
    "# define pipeline\n",
    "over = BorderlineSMOTE(sampling_strategy=0.2)\n",
    "under = RandomUnderSampler(sampling_strategy=0.8)\n",
    "steps = [('over', over), ('under', under), ('model', logitcv_f1)]\n",
    "pipeline = Pipeline(steps=steps)\n",
    "\n",
    "pipeline.fit(x_train,y_train)\n",
    "\n",
    "logitMetrics(x_train,y_train, pipeline)\n",
    "\n",
    "logitMetrics(x_test,y_test, pipeline)"
   ]
  },
  {
   "cell_type": "markdown",
   "metadata": {},
   "source": [
    "## Summary\n",
    "Logistic Regression acheived a high of 0.65 F1-Score on the test set using a certain set of features in penalized model. Adding SMOTE upsampling and undersampling has not helped raise that score higher however."
   ]
  },
  {
   "cell_type": "markdown",
   "metadata": {},
   "source": [
    "## Pipelining Example: Chaining a PCA and a LogReg"
   ]
  },
  {
   "cell_type": "code",
   "execution_count": 478,
   "metadata": {},
   "outputs": [
    {
     "data": {
      "text/plain": [
       "dict_keys(['C', 'class_weight', 'dual', 'fit_intercept', 'intercept_scaling', 'l1_ratio', 'max_iter', 'multi_class', 'n_jobs', 'penalty', 'random_state', 'solver', 'tol', 'verbose', 'warm_start'])"
      ]
     },
     "execution_count": 478,
     "metadata": {},
     "output_type": "execute_result"
    }
   ],
   "source": [
    "logit.get_params().keys()"
   ]
  },
  {
   "cell_type": "code",
   "execution_count": 483,
   "metadata": {},
   "outputs": [
    {
     "name": "stdout",
     "output_type": "stream",
     "text": [
      "Best parameter (CV score=0.920):\n",
      "{'logistic__C': 0.046415888336127774, 'pca__n_components': 45}\n"
     ]
    }
   ],
   "source": [
    "from sklearn import datasets\n",
    "from sklearn.decomposition import PCA\n",
    "from sklearn.linear_model import LogisticRegression\n",
    "from sklearn.pipeline import Pipeline\n",
    "from sklearn.model_selection import GridSearchCV\n",
    "\n",
    "\n",
    "# Define a pipeline to search for the best combination of PCA truncation\n",
    "# and classifier regularization.\n",
    "pca = PCA()\n",
    "# set the tolerance to a large value to make the example faster\n",
    "logistic = LogisticRegression(max_iter=10000, tol=0.1)\n",
    "pipe = Pipeline(steps=[('pca', pca), ('logistic', logistic)])\n",
    "\n",
    "X_digits, y_digits = datasets.load_digits(return_X_y=True)\n",
    "\n",
    "# Parameters of pipelines can be set using ‘__’ separated parameter names:\n",
    "param_grid = {\n",
    "    'pca__n_components': [5, 15, 30, 45, 64],\n",
    "    'logistic__C': np.logspace(-4, 4, 4),\n",
    "}\n",
    "search = GridSearchCV(pipe, param_grid, n_jobs=1)\n",
    "search.fit(X_digits, y_digits)\n",
    "print(\"Best parameter (CV score=%0.3f):\" % search.best_score_)\n",
    "print(search.best_params_)\n"
   ]
  },
  {
   "cell_type": "code",
   "execution_count": 487,
   "metadata": {},
   "outputs": [
    {
     "data": {
      "image/png": "[encoded data removed]",
      "text/plain": [
       "<Figure size 432x432 with 2 Axes>"
      ]
     },
     "metadata": {
      "needs_background": "light"
     },
     "output_type": "display_data"
    }
   ],
   "source": [
    "# Plot the PCA spectrum\n",
    "pca.fit(X_digits)\n",
    "\n",
    "fig, (ax0, ax1) = plt.subplots(nrows=2, sharex=True, figsize=(6, 6))\n",
    "ax0.plot(np.arange(1, pca.n_components_ + 1),\n",
    "         pca.explained_variance_ratio_, '+', linewidth=2)\n",
    "ax0.set_ylabel('PCA explained variance ratio')\n",
    "\n",
    "ax0.axvline(search.best_estimator_.named_steps['pca'].n_components,\n",
    "            linestyle=':', label='n_components chosen')\n",
    "ax0.legend(prop=dict(size=12))\n",
    "\n",
    "# For each number of components, find the best classifier results\n",
    "results = pd.DataFrame(search.cv_results_)\n",
    "components_col = 'param_pca__n_components'\n",
    "best_clfs = results.groupby(components_col).apply(\n",
    "    lambda g: g.nlargest(1, 'mean_test_score'))\n",
    "\n",
    "best_clfs.plot(x=components_col, y='mean_test_score', yerr='std_test_score',\n",
    "               legend=False, ax=ax1)\n",
    "ax1.set_ylabel('Classification accuracy (val)')\n",
    "ax1.set_xlabel('n_components')\n",
    "\n",
    "plt.xlim(-1, 70)\n",
    "\n",
    "plt.tight_layout()\n",
    "plt.show()"
   ]
  },
  {
   "cell_type": "markdown",
   "metadata": {},
   "source": [
    "## Applying a Pipeline to our Problem"
   ]
  },
  {
   "cell_type": "code",
   "execution_count": null,
   "metadata": {},
   "outputs": [],
   "source": [
    "y = data['PotentialFraud']\n",
    "x = data.drop(columns = ['DeductibleAmtPaid','State','NumProc', 'Age',\n",
    "                         'Alzheimer', 'HeartFailure','Cancer', 'ObstrPulmonary', \n",
    "                        'Depression', 'Diabetes','Osteoporasis', 'NumChronics_Range',\n",
    "                          'RheumatoidArthritis', 'Stroke','Gender', 'ClaimDays', 'docMANN',\n",
    "                          'NumChronics','PotentialFraud'])\n"
   ]
  },
  {
   "cell_type": "code",
   "execution_count": null,
   "metadata": {},
   "outputs": [],
   "source": [
    "from tempfile import mkdtemp\n",
    "from shutil import rmtree\n",
    "from sklearn.decomposition import PCA\n",
    "from sklearn.linear_model import LogisticRegression\n",
    "from sklearn.pipeline import Pipeline\n",
    "from sklearn.model_selection import GridSearchCV,RepeatedStratifiedKFold\n",
    "from sklearn.metrics import classification_report\n",
    "from sklearn.preprocessing import StandardScaler\n",
    "\n",
    "# Define preprocessor\n",
    "scaler = StandardScaler()\n",
    "\n",
    "# Define a pipeline to search for the best combination of PCA truncation\n",
    "# and classifier regularization.\n",
    "pca = PCA()\n",
    "# set the tolerance to a large value to make the example faster\n",
    "logit = LogisticRegression(max_iter=10000, tol=0.1, \n",
    "                           solver = 'liblinear', random_state = 2)\n",
    "cachedir = mkdtemp()\n",
    "\n",
    "pipe = Pipeline(steps=[\n",
    "    ('scaler', scaler), \n",
    "    ('pca', pca), \n",
    "    ('logit', logit)], memory = cachedir)\n",
    "\n",
    "grid_params = {\n",
    "    'logit__C': np.logspace(-4,4,10),\n",
    "    'logit__penalty': ['l1','l2'],\n",
    "    'pca__n_components': [5, 15, 30, 45, 64],\n",
    "    \n",
    "}\n",
    "\n",
    "rskf = RepeatedStratifiedKFold(n_splits=5, n_repeats=2, random_state=42)\n",
    "\n",
    "cv = GridSearchCV(\n",
    "    pipeline,\n",
    "    grid_params,\n",
    "    cv = rskf,\n",
    "    scoring = ['f1_weighted','recall_weighted'],\n",
    "    refit = 'f1',\n",
    "    n_jobs = -1\n",
    ")\n",
    "\n",
    "\n",
    "\n",
    "x_train, x_test, y_train, y_test = ms.train_test_split(x,y, \n",
    "                                                       test_size=1.0/3, random_state=0)\n",
    "\n"
   ]
  },
  {
   "cell_type": "code",
   "execution_count": null,
   "metadata": {},
   "outputs": [],
   "source": [
    "from sklearn.datasets import make_classification"
   ]
  },
  {
   "cell_type": "code",
   "execution_count": null,
   "metadata": {},
   "outputs": [],
   "source": [
    "X,y = make_classification(n_samples=10000, n_features=2, \n",
    "                          n_redundant=0, n_clusters_per_class=1, \n",
    "                          weights=[0.99], flip_y=0, random_state=1)"
   ]
  },
  {
   "cell_type": "code",
   "execution_count": null,
   "metadata": {},
   "outputs": [],
   "source": [
    "from collections import Counter\n",
    "counter = Counter(y)"
   ]
  },
  {
   "cell_type": "code",
   "execution_count": null,
   "metadata": {},
   "outputs": [],
   "source": [
    "counter"
   ]
  },
  {
   "cell_type": "code",
   "execution_count": null,
   "metadata": {},
   "outputs": [],
   "source": [
    "for label, _ in counter.items():\n",
    "    row_ix = np.where(y == label)[0]\n",
    "    plt.scatter(X[row_ix,0], X[row_ix,1], label=str(label))\n",
    "plt.legend()\n",
    "plt.show()"
   ]
  },
  {
   "cell_type": "code",
   "execution_count": null,
   "metadata": {},
   "outputs": [],
   "source": [
    "\n",
    "from imblearn.over_sampling import SMOTE\n",
    "\n",
    "oversample = SMOTE()\n",
    "X, y = oversample.fit_resample(X,y)\n",
    "\n",
    "for label, _ in counter.items():\n",
    "    row_ix = np.where(y == label)[0]\n",
    "    plt.scatter(X[row_ix,0], X[row_ix,1], label=str(label))\n",
    "plt.legend()\n",
    "plt.show()\n",
    "\n"
   ]
  },
  {
   "cell_type": "code",
   "execution_count": null,
   "metadata": {},
   "outputs": [],
   "source": [
    "Counter(y)"
   ]
  },
  {
   "cell_type": "markdown",
   "metadata": {},
   "source": [
    "Shows creation of more observations of the minority class along the lines in feature space of the minority class"
   ]
  },
  {
   "cell_type": "code",
   "execution_count": 99,
   "metadata": {},
   "outputs": [
    {
     "name": "stdout",
     "output_type": "stream",
     "text": [
      "Counter({0: 9900, 1: 100})\n",
      "Counter({0: 9900, 1: 100})\n"
     ]
    },
    {
     "data": {
      "image/png": "[encoded data removed]",
      "text/plain": [
       "<Figure size 432x288 with 1 Axes>"
      ]
     },
     "metadata": {
      "needs_background": "light"
     },
     "output_type": "display_data"
    }
   ],
   "source": [
    "import imblearn\n",
    "from collections import Counter\n",
    "from imblearn.over_sampling import SMOTE\n",
    "from sklearn.datasets import make_classification\n",
    "from imblearn.under_sampling import RandomUnderSampler\n",
    "from imblearn.pipeline import Pipeline\n",
    "\n",
    "X,y = make_classification(n_samples=10000, n_features=2, n_redundant=0,\n",
    "                          n_clusters_per_class=1, weights=[0.99], \n",
    "                          flip_y=0, random_state=1)\n",
    "\n",
    "counter = Counter(y)\n",
    "print(counter)\n",
    "# define pipeline\n",
    "over = SMOTE(sampling_strategy=0.2)\n",
    "under = RandomUnderSampler(sampling_strategy=0.6)\n",
    "steps = [('o', over),('u', under)]\n",
    "pipeline = Pipeline(steps = steps)\n",
    "# transform the dataset\n",
    "Xs,ys = pipeline.fit_resample(X,y)\n",
    "# summarize new class distribution\n",
    "counter = Counter(y)\n",
    "print(counter)\n",
    "# scatter plot of examples by class label\n",
    "for label, _ in counter.items():\n",
    "    row_ix = np.where(ys==label)[0]\n",
    "    plt.scatter(Xs[row_ix, 0], Xs[row_ix,1], label=str(label))\n",
    "plt.legend()\n",
    "plt.show()\n",
    "\n"
   ]
  },
  {
   "cell_type": "markdown",
   "metadata": {},
   "source": [
    "## Applying SMOTE to Logistic Regression"
   ]
  },
  {
   "cell_type": "code",
   "execution_count": null,
   "metadata": {},
   "outputs": [],
   "source": [
    "\n",
    "# define dataset\n",
    "X, y = make_classification(n_samples=10000, n_features=2, \n",
    "                           n_redundant=0,n_clusters_per_class=1, \n",
    "                           weights=[0.99], flip_y=0, random_state=1)\n",
    "\n",
    "# define model: Unpenalized Logistic Regression\n",
    "model = linear_model.LogisticRegression(solver='liblinear', C=1)\n",
    "# evaluate pipeline\n",
    "cv = ms.RepeatedStratifiedKFold(n_splits=10, n_repeats=3, random_state=1)\n",
    "#scores = ms.cross_val_score(model, X, y, scoring='roc_auc', cv=cv, n_jobs=-1)\n",
    "#f1_scores = ms.cross_val_score(model, X, y, scoring='f1', cv=cv, n_jobs=-1)\n",
    "#print('Mean ROC AUC: %.3f' % np.mean(scores))\n",
    "#print('Mean F1: %.3f' % mean(f1_scores))"
   ]
  },
  {
   "cell_type": "code",
   "execution_count": null,
   "metadata": {},
   "outputs": [],
   "source": [
    "\n",
    "from sklearn.model_selection import cross_val_score\n",
    "scores = cross_val_score(model, X, y, scoring='roc_auc', cv=cv, n_jobs=-1)"
   ]
  },
  {
   "cell_type": "code",
   "execution_count": null,
   "metadata": {},
   "outputs": [],
   "source": [
    "crss"
   ]
  },
  {
   "cell_type": "code",
   "execution_count": null,
   "metadata": {},
   "outputs": [],
   "source": []
  },
  {
   "cell_type": "code",
   "execution_count": null,
   "metadata": {},
   "outputs": [],
   "source": []
  },
  {
   "cell_type": "code",
   "execution_count": null,
   "metadata": {},
   "outputs": [],
   "source": [
    "import sklearn\n",
    "sorted(sklearn.metrics.SCORERS.keys())"
   ]
  },
  {
   "cell_type": "code",
   "execution_count": null,
   "metadata": {},
   "outputs": [],
   "source": [
    "from sklearn.linear_model import LassoCV, LassoLarsCV, LassoLarsIC\n",
    "import time\n",
    "\n",
    "model_bic = LassoLarsIC(criterion='bic')"
   ]
  },
  {
   "cell_type": "code",
   "execution_count": null,
   "metadata": {},
   "outputs": [],
   "source": [
    "EPSILON = 1e-4\n",
    "\n",
    "t1 = time.time()\n",
    "model_bic.fit(X, y)\n",
    "t_bic = time.time() - t1\n",
    "alpha_bic_ = model_bic.alpha_\n",
    "\n",
    "model_aic = LassoLarsIC(criterion='aic')\n",
    "model_aic.fit(X, y)\n",
    "alpha_aic_ = model_aic.alpha_\n",
    "\n",
    "\n",
    "def plot_ic_criterion(model, name, color):\n",
    "    criterion_ = model.criterion_\n",
    "    plt.semilogx(model.alphas_ + EPSILON, criterion_, '--', color=color,\n",
    "                 linewidth=3, label='%s criterion' % name)\n",
    "    plt.axvline(model.alpha_ + EPSILON, color=color, linewidth=3,\n",
    "                label='alpha: %s estimate' % name)\n",
    "    plt.xlabel(r'$\\alpha$')\n",
    "    plt.ylabel('criterion')\n",
    "\n",
    "\n",
    "plt.figure()\n",
    "plot_ic_criterion(model_aic, 'AIC', 'b')\n",
    "plot_ic_criterion(model_bic, 'BIC', 'r')\n",
    "plt.legend()\n",
    "plt.title('Information-criterion for model selection (training time %.3fs)'\n",
    "          % t_bic)\n",
    "\n",
    "# #############################################################################\n",
    "# LassoCV: coordinate descent\n",
    "\n",
    "# Compute paths\n",
    "print(\"Computing regularization path using the coordinate descent lasso...\")\n",
    "t1 = time.time()\n",
    "model = linear_model.LogisticRegressionCV(penalty='l1', \n",
    "                                            scoring = 'f1_macro',\n",
    "                                            solver = 'liblinear').fit(X,y)\n",
    "t_lasso_cv = time.time() - t1\n",
    "\n",
    "# Display results\n",
    "plt.figure()\n",
    "ymin, ymax = 2300, 3800\n",
    "plt.semilogx(model.alphas_ + EPSILON, model.mse_path_, ':')\n",
    "plt.plot(model.alphas_ + EPSILON, model.mse_path_.mean(axis=-1), 'k',\n",
    "         label='Average across the folds', linewidth=2)\n",
    "plt.axvline(model.alpha_ + EPSILON, linestyle='--', color='k',\n",
    "            label='alpha: CV estimate')\n",
    "\n",
    "plt.legend()\n",
    "\n",
    "plt.xlabel(r'$\\alpha$')\n",
    "plt.ylabel('Mean square error')\n",
    "plt.title('Mean square error on each fold: coordinate descent '\n",
    "          '(train time: %.2fs)' % t_lasso_cv)\n",
    "plt.axis('tight')\n",
    "plt.ylim(ymin, ymax)\n",
    "\n",
    "plt.show()"
   ]
  },
  {
   "cell_type": "code",
   "execution_count": null,
   "metadata": {},
   "outputs": [],
   "source": [
    "data.groupby('BeneID')['Provider'].nunique()"
   ]
  },
  {
   "cell_type": "code",
   "execution_count": null,
   "metadata": {},
   "outputs": [],
   "source": [
    "physData = data[['AttendingPhysician','OperatingPhysician','OtherPhysician','Provider','State','PotentialFraud']]\n",
    "physMelt = physData.melt(id_vars=['Provider','State','PotentialFraud'],var_name='Type', value_name='Doctor').dropna(axis=0).drop_duplicates()\n",
    "physNet = physMelt.groupby(['Doctor','PotentialFraud'])['Provider'].nunique().reset_index()"
   ]
  },
  {
   "cell_type": "code",
   "execution_count": null,
   "metadata": {},
   "outputs": [],
   "source": [
    "fraudCount = physNet.groupby(['Provider','PotentialFraud'])['Doctor'].count().reset_index()"
   ]
  },
  {
   "cell_type": "code",
   "execution_count": null,
   "metadata": {},
   "outputs": [],
   "source": [
    "import numpy as np\n",
    "fraudCount['logCount'] = np.log(fraudCount.Doctor+1)"
   ]
  },
  {
   "cell_type": "code",
   "execution_count": null,
   "metadata": {},
   "outputs": [],
   "source": [
    "plt.figure(figsize=(12,6))\n",
    "\n",
    "\n",
    "ax2 = sns.barplot(x = 'Provider',y = 'Doctor', hue = 'PotentialFraud', data = fraudCount)\n",
    "ax2.set(xlabel='# Providers', ylabel = 'Log Count of Doctors')\n",
    "plt.tight_layout()\n",
    "ax2.set(yscale=\"log\")\n",
    "plt.annotate('Shows log count of \\ndoctors listed on claims for \\nmultiple providers\\n by fraud flags', (4.6, 2000.5))\n",
    "\n",
    "ax2.figure.savefig(\"./visualizations/plots/numProviders.png\",bbox_inches='tight')"
   ]
  },
  {
   "cell_type": "code",
   "execution_count": null,
   "metadata": {},
   "outputs": [],
   "source": [
    "physNet.groupby('State').count()"
   ]
  },
  {
   "cell_type": "code",
   "execution_count": null,
   "metadata": {},
   "outputs": [],
   "source": [
    "beneData = data[['BeneID','Provider','PotentialFraud']]\n",
    "beneNet = beneData.groupby(['BeneID','PotentialFraud'])['Provider'].nunique().reset_index()"
   ]
  },
  {
   "cell_type": "code",
   "execution_count": null,
   "metadata": {},
   "outputs": [],
   "source": [
    "d = data.groupby(['Age','PotentialFraud'])['Provider'].nunique().reset_index()\n",
    "pivoted = d.pivot_table(values='Provider', index = 'Age', columns='PotentialFraud')\n",
    "# ax1 = sns.lineplot(x = 'Age', y = 'Provider', hue = 'PotentialFraud', data = d)\n",
    "# ax1.set(yscale=\"log\")"
   ]
  },
  {
   "cell_type": "code",
   "execution_count": null,
   "metadata": {},
   "outputs": [],
   "source": [
    "pivot_scale = (pivoted[['?','No','Yes']] - pivoted.mean(axis=0))/pivoted.std(axis=0)"
   ]
  },
  {
   "cell_type": "code",
   "execution_count": null,
   "metadata": {},
   "outputs": [],
   "source": [
    "pivot_scale = pivot_scale.reset_index()"
   ]
  },
  {
   "cell_type": "code",
   "execution_count": null,
   "metadata": {},
   "outputs": [],
   "source": [
    "pivot_scale = pivot_scale.melt(id_vars = 'Age')"
   ]
  },
  {
   "cell_type": "code",
   "execution_count": null,
   "metadata": {},
   "outputs": [],
   "source": [
    "def plot_count_across_fraud(data, feature, plotType = 'line'):\n",
    "    d = data.groupby([feature,'PotentialFraud'])['Provider'].nunique().reset_index()\n",
    "    pivoted = d.pivot_table(values='Provider', index = feature, columns='PotentialFraud')\n",
    "    pivot_scale = (pivoted[['?','No','Yes']] - pivoted.mean(axis=0))/pivoted.std(axis=0)\n",
    "    pivot_scale = pivot_scale.reset_index()\n",
    "    d_scaled = pivot_scale.melt(id_vars = feature)\n",
    "    \n",
    "    if plotType == 'line':\n",
    "        ax1 = sns.lineplot(x = feature, hue = 'PotentialFraud', y = 'value', data=d_scaled)\n",
    "    elif plotType == 'scatter':\n",
    "        ax1 = sns.scatterplot(x = feature, hue = 'PotentialFraud', y = 'value', data=d_scaled)\n",
    "    ax1.set(title='Standardized Number of Providers\\n that filed Claims matching this Feature')\n",
    "    plt.tight_layout()\n",
    "    return\n",
    "\n"
   ]
  },
  {
   "cell_type": "code",
   "execution_count": null,
   "metadata": {},
   "outputs": [],
   "source": [
    "plot_count_across_fraud(data, 'Age')\n"
   ]
  },
  {
   "cell_type": "code",
   "execution_count": null,
   "metadata": {},
   "outputs": [],
   "source": [
    "d = data.groupby(['Age','PotentialFraud'])['ClaimID'].count().reset_index()\n",
    "pivoted = d.pivot_table(values='ClaimID', index = 'Age', columns='PotentialFraud')\n",
    "pivot_scale = (pivoted[['?','No','Yes']] - pivoted.mean(axis=0))/pivoted.std(axis=0)\n",
    "pivot_scale = pivot_scale.reset_index()\n",
    "d_scaled = pivot_scale.melt(id_vars = 'Age')"
   ]
  },
  {
   "cell_type": "code",
   "execution_count": null,
   "metadata": {},
   "outputs": [],
   "source": [
    "data.columns"
   ]
  },
  {
   "cell_type": "code",
   "execution_count": null,
   "metadata": {},
   "outputs": [],
   "source": [
    "def reg_proc(feature):\n",
    "    regressor = linear_model.LogisticRegression()\n",
    "    regressor.fit(X, y)\n",
    "\n",
    "    y_pred = regressor.predict(X)        \n",
    "    return(y_pred)\n",
    "\n",
    "pred_df = pd.DataFrame({lab: reg_proc(lab) for lab in countries.columns}, \n",
    "                       columns = countries.columns)"
   ]
  },
  {
   "cell_type": "code",
   "execution_count": null,
   "metadata": {},
   "outputs": [],
   "source": []
  },
  {
   "cell_type": "code",
   "execution_count": null,
   "metadata": {},
   "outputs": [],
   "source": []
  },
  {
   "cell_type": "code",
   "execution_count": null,
   "metadata": {},
   "outputs": [],
   "source": [
    "\n",
    "ax1 = sns.lineplot(x = 'Age', hue = 'PotentialFraud', y = 'value', data=pivot_scale)\n",
    "\n",
    "#ax1.set(xlabel='# Providers', ylabel='Log Count of Patients')\n",
    "\n",
    "#plt.annotate('Shows log count of patients that are on claims filed at \\nmultiple providers by fraud flags', (8.6, 10005))\n",
    "\n",
    "#plt.tight_layout()\n",
    "#ax1.figure.savefig(\"./visualizations/plots/multiProvider-Bene.png\",bbox_inches='tight')"
   ]
  },
  {
   "cell_type": "code",
   "execution_count": null,
   "metadata": {},
   "outputs": [],
   "source": [
    "data.groupby(['Status','WhetherDead'])['BeneID'].count().reset_index()"
   ]
  },
  {
   "cell_type": "code",
   "execution_count": null,
   "metadata": {},
   "outputs": [],
   "source": [
    "print(379/(379+49646))\n",
    "print(4792/(4792+638786))\n"
   ]
  },
  {
   "cell_type": "code",
   "execution_count": null,
   "metadata": {},
   "outputs": [],
   "source": [
    "data.groupby(['Status','PotentialFraud'])['ClaimID'].count().reset_index().head(20)"
   ]
  },
  {
   "cell_type": "code",
   "execution_count": null,
   "metadata": {},
   "outputs": [],
   "source": [
    "physData = data[['AttendingPhysician','OperatingPhysician','OtherPhysician','State','County']]\n",
    "physMelt = physData.melt(id_vars=['State','County'],var_name='Type', value_name='Doctor').dropna(axis=0)\n",
    "physNet = physMelt.groupby(['Doctor','State'])['County'].nunique().reset_index()\n",
    "\n",
    "plt.figure(figsize=(12,6))\n",
    "\n",
    "for state in physNet.State.unique():\n",
    "    filename = \"./visualizations/plots/crossing_county/Doctors/State_\" + str(state) + \".png\"\n",
    "    ax1 = sns.countplot(x = 'County', data=physNet[physNet.State==state], palette = 'muted');\n",
    "    ax1.set(xlabel='Number of Counties Doctors Operate in for State ' + str(state), \n",
    "            ylabel='Count of Doctors');\n",
    "    ax1.figure.savefig(filename,bbox_inches='tight')"
   ]
  },
  {
   "cell_type": "code",
   "execution_count": null,
   "metadata": {},
   "outputs": [],
   "source": [
    "beneData = data[['BeneID','Provider','State','County']]\n",
    "beneNet = beneData.groupby(['BeneID','Provider'])['County'].nunique().reset_index()\n",
    "\n",
    "plt.figure(figsize=(12,6))\n",
    "\n",
    "\n",
    "ax1 = sns.countplot(x = 'County', data=beneNet, palette = 'muted')\n",
    "\n",
    "ax1.set(xlabel='Number of Counties', ylabel='Number of Doctors')\n",
    "\n",
    "#ax1.figure.savefig(\"./visualizations/plots/multistateDoctors.png\",bbox_inches='tight')"
   ]
  },
  {
   "cell_type": "code",
   "execution_count": null,
   "metadata": {},
   "outputs": [],
   "source": [
    "target.copy(deep=True)"
   ]
  },
  {
   "cell_type": "code",
   "execution_count": null,
   "metadata": {},
   "outputs": [],
   "source": [
    "data.groupby('Provider')['State'].nunique().to_dict()"
   ]
  },
  {
   "cell_type": "code",
   "execution_count": null,
   "metadata": {},
   "outputs": [],
   "source": [
    "plt.figure(figsize=(6,8))\n",
    "\n",
    "ax1 = plt.subplot(311)\n",
    "\n",
    "ax1 = sns.distplot(a = numClaims[numClaims.PotentialFraud=='?']['ClaimID'], kde=False)\n",
    "ax1.set(yscale=\"log\")\n",
    "ax1.set(xlabel='Number of Claims')\n",
    "plt.tight_layout()\n",
    "plt.xlim(0,9000)\n",
    "plt.annotate('Fraud: ?', (1000.6, 105))\n",
    "\n",
    "\n",
    "ax2 = plt.subplot(312)\n",
    "ax2 = sns.distplot(a = numClaims[numClaims.PotentialFraud=='Yes']['ClaimID'], kde=False)\n",
    "ax2.set(yscale=\"log\")\n",
    "ax2.set(xlabel='Number of Claims')\n",
    "plt.tight_layout()\n",
    "plt.xlim(0,9000)\n",
    "plt.annotate('Fraud: Yes', (1000.6, 105))\n",
    "\n",
    "ax3 = plt.subplot(313)\n",
    "ax3 = sns.distplot(a = numClaims[numClaims.PotentialFraud=='No']['ClaimID'], kde=False)\n",
    "ax3.set(yscale=\"log\")\n",
    "ax3.set(xlabel='Number of Claims')\n",
    "plt.tight_layout()\n",
    "plt.xlim(0,9000)\n",
    "plt.annotate('Fraud: No', (1000.6, 105))"
   ]
  },
  {
   "cell_type": "code",
   "execution_count": null,
   "metadata": {},
   "outputs": [],
   "source": [
    "provData = data[['Provider','PotentialFraud','State','County']]\n",
    "provNet = provData.groupby(['Provider','PotentialFraud'])['State'].nunique().reset_index()\n",
    "\n",
    "plt.figure(figsize=(12,6))\n",
    "\n",
    "\n",
    "ax1 = sns.countplot(x = 'State', hue = 'PotentialFraud', data=provNet, palette = 'muted')\n",
    "\n",
    "ax1.set(xlabel='Number of States', ylabel='Number of Providers operating')\n",
    "ax1.set(yscale=\"log\")\n",
    "ax1.figure.savefig(\"./visualizations/plots/multistateProviders.png\",bbox_inches='tight')"
   ]
  },
  {
   "cell_type": "code",
   "execution_count": null,
   "metadata": {},
   "outputs": [],
   "source": [
    "provData = data[['Provider','State','County']]\n",
    "provNet = provData.groupby(['Provider','State'])['County'].nunique().reset_index().drop_duplicates()\n",
    "\n",
    "plt.figure(figsize=(12,6))\n",
    "\n",
    "for state in provNet.State.unique():\n",
    "    filename = \"./visualizations/plots/crossing_county/Providers/State_\" + str(state) + \".png\"\n",
    "    ax1 = sns.countplot(x = 'County', data=provNet[provNet.State==state], palette = 'muted');\n",
    "    ax1.set(xlabel='Number of Counties Providers Operate in for State ' + str(state), \n",
    "            ylabel='Count of Providers');\n",
    "    ax1.figure.savefig(filename,bbox_inches='tight')"
   ]
  },
  {
   "cell_type": "code",
   "execution_count": null,
   "metadata": {},
   "outputs": [],
   "source": [
    "physData = data[['AttendingPhysician','OperatingPhysician','OtherPhysician','Provider']]\n",
    "physMelt = physData.melt(id_vars=['State','County'],var_name='Type', value_name='Doctor').dropna(axis=0)\n",
    "physNet = physMelt.groupby(['State','County'])['Doctor'].nunique().reset_index()\n"
   ]
  },
  {
   "cell_type": "code",
   "execution_count": null,
   "metadata": {},
   "outputs": [],
   "source": [
    "d = data.melt(id_vars = 'Provider', value_vars = ['AttendingPhysician',\n",
    "                     'OperatingPhysician',\n",
    "                     'OtherPhysician'], var_name='Type', value_name='Doctor').dropna(axis=0)\n",
    "d = d[['Provider','Doctor']].drop_duplicates()"
   ]
  },
  {
   "cell_type": "code",
   "execution_count": null,
   "metadata": {},
   "outputs": [],
   "source": [
    "provData['numDocs'] = d.groupby('Provider')['Doctor'].count().values"
   ]
  },
  {
   "cell_type": "code",
   "execution_count": null,
   "metadata": {},
   "outputs": [],
   "source": [
    "provData = data.groupby('Provider').agg({'BeneID':'nunique',\n",
    "                              'ClaimID' : 'count',\n",
    "                              'State' : 'nunique'}).reset_index()"
   ]
  },
  {
   "cell_type": "code",
   "execution_count": null,
   "metadata": {},
   "outputs": [],
   "source": [
    "data.groupby('Provider').agg({'NumDiag':['min','max']}).reset_index()"
   ]
  },
  {
   "cell_type": "code",
   "execution_count": null,
   "metadata": {},
   "outputs": [],
   "source": [
    "california = physNet[physNet.State==5]"
   ]
  },
  {
   "cell_type": "code",
   "execution_count": null,
   "metadata": {},
   "outputs": [],
   "source": [
    "sns.scatterplot(x = 'Doctor', y = 'County',data = california)"
   ]
  },
  {
   "cell_type": "code",
   "execution_count": null,
   "metadata": {},
   "outputs": [],
   "source": [
    "for state in physNet.State.unique():\n",
    "    filename = \"./visualizations/plots/num_doctors/State_\" + str(state) + \".png\"\n",
    "    ax1 = sns.countplot(x = 'County', data=physNet[physNet.State==state], palette = 'muted');\n",
    "    ax1.set(xlabel='Number of Doctors' + str(state), \n",
    "            ylabel='Count of Doctors');\n",
    "    ax1.figure.savefig(filename,bbox_inches='tight')"
   ]
  },
  {
   "cell_type": "code",
   "execution_count": null,
   "metadata": {},
   "outputs": [],
   "source": [
    "data.WhetherDead.value_counts()"
   ]
  },
  {
   "cell_type": "code",
   "execution_count": null,
   "metadata": {},
   "outputs": [],
   "source": [
    "5171/(5171+688432)*100\n"
   ]
  },
  {
   "cell_type": "code",
   "execution_count": null,
   "metadata": {},
   "outputs": [],
   "source": [
    "p = pd.read_csv('./data/provData.csv')"
   ]
  },
  {
   "cell_type": "code",
   "execution_count": null,
   "metadata": {},
   "outputs": [],
   "source": [
    "import os\n",
    "try:\n",
    "    os.mkdir('./b')\n",
    "except:\n",
    "    pass"
   ]
  },
  {
   "cell_type": "code",
   "execution_count": null,
   "metadata": {},
   "outputs": [],
   "source": [
    "provData = data.groupby(['Provider','Set']).agg({\n",
    "\t\t'BeneID':'nunique',\n",
    "\t\t'ClaimID' : 'count',\n",
    "\t\t'State' : 'nunique',\n",
    "\t\t}).reset_index()"
   ]
  },
  {
   "cell_type": "code",
   "execution_count": null,
   "metadata": {},
   "outputs": [],
   "source": [
    "d = data.groupby(['Provider','Status']).agg({'ClaimID': 'count',\n",
    "                                             'BeneID' : 'nunique'}).reset_index().pivot_table(values=['ClaimID','BeneID'], index = 'Provider', columns='Status').fillna(0)"
   ]
  },
  {
   "cell_type": "code",
   "execution_count": null,
   "metadata": {},
   "outputs": [],
   "source": [
    "d = d.reset_index()\n",
    "d.columns = d.columns.map(''.join)\n",
    "d"
   ]
  },
  {
   "cell_type": "code",
   "execution_count": null,
   "metadata": {},
   "outputs": [],
   "source": [
    "provData.merge(target, on = ['Provider','Set'], how = 'left')"
   ]
  },
  {
   "cell_type": "code",
   "execution_count": null,
   "metadata": {},
   "outputs": [],
   "source": [
    "target_train = pd.read_csv('./data/Train.csv')\n",
    "\n"
   ]
  },
  {
   "cell_type": "code",
   "execution_count": null,
   "metadata": {},
   "outputs": [],
   "source": [
    "target_train"
   ]
  },
  {
   "cell_type": "code",
   "execution_count": null,
   "metadata": {},
   "outputs": [],
   "source": [
    "import pandas as pd\n",
    "x_train = pd.read_csv('./data/provData/x_train_inout.csv')\n",
    "x_test = pd.read_csv('./data/provData/x_test_inout.csv')"
   ]
  },
  {
   "cell_type": "code",
   "execution_count": null,
   "metadata": {},
   "outputs": [],
   "source": [
    "x_train[['NumProc_in','NumProc_out','NumProc_in_Range','NumProc_out_Range']]"
   ]
  },
  {
   "cell_type": "code",
   "execution_count": null,
   "metadata": {},
   "outputs": [],
   "source": [
    "cols = x_train.columns.tolist()\n",
    "cols = cols[-1:] + cols[:-1]"
   ]
  },
  {
   "cell_type": "code",
   "execution_count": null,
   "metadata": {},
   "outputs": [],
   "source": [
    "x_train = x_train[cols] "
   ]
  },
  {
   "cell_type": "code",
   "execution_count": null,
   "metadata": {},
   "outputs": [],
   "source": [
    "x_train"
   ]
  },
  {
   "cell_type": "code",
   "execution_count": null,
   "metadata": {},
   "outputs": [],
   "source": [
    "plt.scatter(x['BeneID'], x['BeneID_in']+x['BeneID_out'])"
   ]
  },
  {
   "cell_type": "code",
   "execution_count": null,
   "metadata": {},
   "outputs": [],
   "source": [
    "d"
   ]
  },
  {
   "cell_type": "code",
   "execution_count": null,
   "metadata": {},
   "outputs": [],
   "source": [
    "data.columns"
   ]
  },
  {
   "cell_type": "code",
   "execution_count": null,
   "metadata": {},
   "outputs": [],
   "source": [
    "\n",
    "def rangeFunc(feature):\n",
    "    return max(feature) - min(feature)\n",
    "p_range = data.groupby(['Provider','Set','Status']).agg({\n",
    "\t\t'NumProc': rangeFunc,\n",
    "\t\t'NumDiag' : rangeFunc,\n",
    "\t\t'NumChronics': rangeFunc,\n",
    "\t\t'InscClaimAmtReimbursed' : rangeFunc,\n",
    "\t\t'ClaimDays' : rangeFunc\n",
    "\t\t}).reset_index().pivot_table(\n",
    "\t\tvalues=['NumProc','NumDiag','NumChronics','InscClaimAmtReimbursed','ClaimDays'], \n",
    "\t\tindex = ['Provider','Set'], \n",
    "\t\tcolumns=['Status']).fillna(0)"
   ]
  },
  {
   "cell_type": "code",
   "execution_count": null,
   "metadata": {},
   "outputs": [],
   "source": [
    "p_range"
   ]
  },
  {
   "cell_type": "code",
   "execution_count": null,
   "metadata": {},
   "outputs": [],
   "source": [
    "p_range = p_range.reset_index()\n",
    "p_range.columns = p_range.columns.map('_'.join)\n",
    "p_range.columns += '_Range'\n"
   ]
  },
  {
   "cell_type": "code",
   "execution_count": null,
   "metadata": {},
   "outputs": [],
   "source": [
    "def rangeFunc(feature):\n",
    "    return max(feature) - min(feature)\n",
    "\n",
    "    ## Number of Unique Inpatients and Outpatients\n",
    "p = data.groupby(['Provider','Status']).agg({\n",
    "    'Age': 'mean',\n",
    "    'Gender' : 'mean', # proportion of claims involving males (Gender=1) (not unique to Beneificiaries)\n",
    "    'BeneID':'nunique',\n",
    "    'ClaimID' : 'count',\n",
    "    'State' : 'nunique',\n",
    "    'AttendingPhysician': 'nunique',\n",
    "    'OperatingPhysician': 'nunique',\n",
    "    'OtherPhysician': 'nunique',\n",
    "    'NumProc': 'mean',\n",
    "    'NumDiag' : 'mean',\n",
    "    'NumChronics': 'mean',\n",
    "    'InscClaimAmtReimbursed' : 'mean',\n",
    "    'DeductibleAmtPaid' : 'mean',\n",
    "    'ClaimDays' : 'mean',\n",
    "    'AdmissionDays' : 'mean',\n",
    "    'WhetherDead': 'mean', # proportion of dead patients (might need to take negative log to get anything large)\n",
    "    'Alzheimer' : 'mean',\n",
    "    'HeartFailure': 'mean', \n",
    "    'KidneyDisease' : 'mean',\n",
    "    'Cancer': 'mean', \n",
    "    'ObstrPulmonary': 'mean',\n",
    "    'Depression': 'mean', \n",
    "    'Diabetes': 'mean', \n",
    "    'IschemicHeart': 'mean', \n",
    "    'Osteoporasis': 'mean',\n",
    "    'RheumatoidArthritis': 'mean',\n",
    "     'Stroke': 'mean'}).reset_index().pivot_table(\n",
    "    values=['Age','Gender','BeneID','ClaimID','State',\n",
    "    'AttendingPhysician',\n",
    "    'OperatingPhysician',\n",
    "    'OtherPhysician',\n",
    "    'NumProc',\n",
    "    'NumDiag', \n",
    "    'NumChronics',\n",
    "    'InscClaimAmtReimbursed', \n",
    "    'DeductibleAmtPaid', \n",
    "    'ClaimDays',\n",
    "    'AdmissionDays', \n",
    "    'WhetherDead', 'Alzheimer',\n",
    "    'HeartFailure',\n",
    "    'KidneyDisease',\n",
    "    'Cancer',\n",
    "    'ObstrPulmonary',\n",
    "    'Depression', \n",
    "    'Diabetes',\n",
    "    'IschemicHeart',\n",
    "    'Osteoporasis',\n",
    "    'RheumatoidArthritis',\n",
    "     'Stroke'], \n",
    "    index = 'Provider', \n",
    "    columns='Status').fillna(0)\n",
    "\n",
    "p = p.reset_index()\n",
    "p.columns = p.columns.map('_'.join)\n",
    "\n",
    "#p = pd.merge(p,d, left_on = ['Provider'], right_on = ['Provider_'], how='left')\n",
    "\n",
    "\n",
    "\n",
    "\n",
    "#p['logClaim'] = np.log(p['ClaimID'])\n",
    "#p['logBene'] = np.log(p['BeneID'])\n",
    "\n",
    "#####\n",
    "# Create ranges \n",
    "\n",
    "p_range = data.groupby(['Provider','Set','Status']).agg({\n",
    "        'NumProc': rangeFunc,\n",
    "        'NumDiag' : rangeFunc,\n",
    "        'NumChronics': rangeFunc,\n",
    "        'InscClaimAmtReimbursed' : rangeFunc,\n",
    "        'ClaimDays' : rangeFunc\n",
    "        }).reset_index().pivot_table(\n",
    "        values=['NumProc','NumDiag','NumChronics','InscClaimAmtReimbursed','ClaimDays'], \n",
    "        index = ['Provider','Set'], \n",
    "        columns=['Status']).fillna(0)\n",
    "\n",
    "p_range = p_range.reset_index()\n",
    "p_range.columns = p_range.columns.map('_'.join)\n",
    "p_range.columns += '_Range'\n",
    "\n",
    "\n",
    "## No need to merge on Provider AND Set since Provider can only be in either Train or Test\n",
    "p = pd.merge(p,p_range, left_on = ['Provider_'], right_on = ['Provider__Range'], how='left')\n"
   ]
  },
  {
   "cell_type": "code",
   "execution_count": null,
   "metadata": {},
   "outputs": [],
   "source": [
    "p"
   ]
  },
  {
   "cell_type": "code",
   "execution_count": null,
   "metadata": {},
   "outputs": [],
   "source": [
    "prodoc = pd.read_csv('./data/prodocNet.csv')\n",
    "propat = pd.read_csv('./data/propatNet.csv')"
   ]
  },
  {
   "cell_type": "code",
   "execution_count": null,
   "metadata": {},
   "outputs": [],
   "source": [
    "prodoc.columns = ['Provider','docNet_max','docNet_min','docNet_mean']\n",
    "propat.columns = ['Provider','patNet_max','patNet_min','patNet_mean']"
   ]
  },
  {
   "cell_type": "code",
   "execution_count": null,
   "metadata": {},
   "outputs": [],
   "source": [
    "#data.reset_index(inplace=True)\n",
    "data = data.merge(propat, on='Provider', how='left')\n",
    "data = data.merge(prodoc, on='Provider', how='left')\n"
   ]
  },
  {
   "cell_type": "code",
   "execution_count": null,
   "metadata": {},
   "outputs": [],
   "source": [
    "netData = data[['Provider','docNet_max','docNet_min','docNet_mean',\n",
    "                'patNet_max','patNet_min','patNet_mean']]"
   ]
  },
  {
   "cell_type": "code",
   "execution_count": null,
   "metadata": {},
   "outputs": [],
   "source": [
    "sns.set(style=\"ticks\", color_codes=True)\n",
    "sns.pairplot(propat.set_index('Provider'))"
   ]
  },
  {
   "cell_type": "code",
   "execution_count": null,
   "metadata": {},
   "outputs": [],
   "source": [
    "sns.pairplot(prodoc.set_index('Provider'))"
   ]
  },
  {
   "cell_type": "code",
   "execution_count": null,
   "metadata": {},
   "outputs": [],
   "source": [
    "data.columns"
   ]
  },
  {
   "cell_type": "code",
   "execution_count": 262,
   "metadata": {},
   "outputs": [
    {
     "data": {
      "text/html": [
       "<div>\n",
       "<style scoped>\n",
       "    .dataframe tbody tr th:only-of-type {\n",
       "        vertical-align: middle;\n",
       "    }\n",
       "\n",
       "    .dataframe tbody tr th {\n",
       "        vertical-align: top;\n",
       "    }\n",
       "\n",
       "    .dataframe thead th {\n",
       "        text-align: right;\n",
       "    }\n",
       "</style>\n",
       "<table border=\"1\" class=\"dataframe\">\n",
       "  <thead>\n",
       "    <tr style=\"text-align: right;\">\n",
       "      <th></th>\n",
       "      <th>Age</th>\n",
       "      <th>Gender</th>\n",
       "      <th>BeneID</th>\n",
       "      <th>ClaimID</th>\n",
       "      <th>State</th>\n",
       "      <th>AttendingPhysician</th>\n",
       "      <th>OperatingPhysician</th>\n",
       "      <th>OtherPhysician</th>\n",
       "      <th>NumProc</th>\n",
       "      <th>NumDiag</th>\n",
       "      <th>...</th>\n",
       "      <th>Doctors</th>\n",
       "      <th>PotentialFraud</th>\n",
       "      <th>docDegMax</th>\n",
       "      <th>docBtwnMean</th>\n",
       "      <th>docEignMean</th>\n",
       "      <th>docMANN</th>\n",
       "      <th>patDegMax</th>\n",
       "      <th>patBtwnMean</th>\n",
       "      <th>patEignMean</th>\n",
       "      <th>patMANN</th>\n",
       "    </tr>\n",
       "    <tr>\n",
       "      <th>Provider</th>\n",
       "      <th></th>\n",
       "      <th></th>\n",
       "      <th></th>\n",
       "      <th></th>\n",
       "      <th></th>\n",
       "      <th></th>\n",
       "      <th></th>\n",
       "      <th></th>\n",
       "      <th></th>\n",
       "      <th></th>\n",
       "      <th></th>\n",
       "      <th></th>\n",
       "      <th></th>\n",
       "      <th></th>\n",
       "      <th></th>\n",
       "      <th></th>\n",
       "      <th></th>\n",
       "      <th></th>\n",
       "      <th></th>\n",
       "      <th></th>\n",
       "      <th></th>\n",
       "    </tr>\n",
       "  </thead>\n",
       "  <tbody>\n",
       "    <tr>\n",
       "      <td>PRV51001</td>\n",
       "      <td>78.120000</td>\n",
       "      <td>0.360000</td>\n",
       "      <td>24</td>\n",
       "      <td>25</td>\n",
       "      <td>1</td>\n",
       "      <td>14</td>\n",
       "      <td>5</td>\n",
       "      <td>8</td>\n",
       "      <td>0.120000</td>\n",
       "      <td>3.640000</td>\n",
       "      <td>...</td>\n",
       "      <td>19</td>\n",
       "      <td>0</td>\n",
       "      <td>4</td>\n",
       "      <td>300.000000</td>\n",
       "      <td>1.160885e-03</td>\n",
       "      <td>8.000000</td>\n",
       "      <td>46</td>\n",
       "      <td>263.949347</td>\n",
       "      <td>0.060498</td>\n",
       "      <td>146.343750</td>\n",
       "    </tr>\n",
       "    <tr>\n",
       "      <td>PRV51003</td>\n",
       "      <td>69.553030</td>\n",
       "      <td>0.409091</td>\n",
       "      <td>117</td>\n",
       "      <td>132</td>\n",
       "      <td>3</td>\n",
       "      <td>44</td>\n",
       "      <td>7</td>\n",
       "      <td>22</td>\n",
       "      <td>0.363636</td>\n",
       "      <td>5.840909</td>\n",
       "      <td>...</td>\n",
       "      <td>51</td>\n",
       "      <td>1</td>\n",
       "      <td>1</td>\n",
       "      <td>0.000000</td>\n",
       "      <td>2.960140e-06</td>\n",
       "      <td>1.349206</td>\n",
       "      <td>89</td>\n",
       "      <td>621.197352</td>\n",
       "      <td>0.072514</td>\n",
       "      <td>117.974212</td>\n",
       "    </tr>\n",
       "    <tr>\n",
       "      <td>PRV51004</td>\n",
       "      <td>71.731544</td>\n",
       "      <td>0.308725</td>\n",
       "      <td>138</td>\n",
       "      <td>149</td>\n",
       "      <td>9</td>\n",
       "      <td>38</td>\n",
       "      <td>19</td>\n",
       "      <td>26</td>\n",
       "      <td>0.000000</td>\n",
       "      <td>2.771812</td>\n",
       "      <td>...</td>\n",
       "      <td>48</td>\n",
       "      <td>0</td>\n",
       "      <td>4</td>\n",
       "      <td>36.851852</td>\n",
       "      <td>6.073016e-04</td>\n",
       "      <td>3.458333</td>\n",
       "      <td>110</td>\n",
       "      <td>196.289758</td>\n",
       "      <td>0.032412</td>\n",
       "      <td>264.349863</td>\n",
       "    </tr>\n",
       "    <tr>\n",
       "      <td>PRV51005</td>\n",
       "      <td>70.021459</td>\n",
       "      <td>0.438627</td>\n",
       "      <td>495</td>\n",
       "      <td>1165</td>\n",
       "      <td>4</td>\n",
       "      <td>6</td>\n",
       "      <td>6</td>\n",
       "      <td>4</td>\n",
       "      <td>0.000000</td>\n",
       "      <td>2.805150</td>\n",
       "      <td>...</td>\n",
       "      <td>7</td>\n",
       "      <td>1</td>\n",
       "      <td>0</td>\n",
       "      <td>0.000000</td>\n",
       "      <td>2.927091e-05</td>\n",
       "      <td>0.000000</td>\n",
       "      <td>151</td>\n",
       "      <td>265.010514</td>\n",
       "      <td>0.268140</td>\n",
       "      <td>788.675936</td>\n",
       "    </tr>\n",
       "    <tr>\n",
       "      <td>PRV51007</td>\n",
       "      <td>68.763889</td>\n",
       "      <td>0.472222</td>\n",
       "      <td>58</td>\n",
       "      <td>72</td>\n",
       "      <td>2</td>\n",
       "      <td>10</td>\n",
       "      <td>5</td>\n",
       "      <td>7</td>\n",
       "      <td>0.013889</td>\n",
       "      <td>3.222222</td>\n",
       "      <td>...</td>\n",
       "      <td>11</td>\n",
       "      <td>0</td>\n",
       "      <td>3</td>\n",
       "      <td>0.000000</td>\n",
       "      <td>5.432718e-03</td>\n",
       "      <td>4.750000</td>\n",
       "      <td>70</td>\n",
       "      <td>84.365494</td>\n",
       "      <td>0.100189</td>\n",
       "      <td>81.688948</td>\n",
       "    </tr>\n",
       "    <tr>\n",
       "      <td>...</td>\n",
       "      <td>...</td>\n",
       "      <td>...</td>\n",
       "      <td>...</td>\n",
       "      <td>...</td>\n",
       "      <td>...</td>\n",
       "      <td>...</td>\n",
       "      <td>...</td>\n",
       "      <td>...</td>\n",
       "      <td>...</td>\n",
       "      <td>...</td>\n",
       "      <td>...</td>\n",
       "      <td>...</td>\n",
       "      <td>...</td>\n",
       "      <td>...</td>\n",
       "      <td>...</td>\n",
       "      <td>...</td>\n",
       "      <td>...</td>\n",
       "      <td>...</td>\n",
       "      <td>...</td>\n",
       "      <td>...</td>\n",
       "      <td>...</td>\n",
       "    </tr>\n",
       "    <tr>\n",
       "      <td>PRV57759</td>\n",
       "      <td>73.428571</td>\n",
       "      <td>0.571429</td>\n",
       "      <td>24</td>\n",
       "      <td>28</td>\n",
       "      <td>1</td>\n",
       "      <td>1</td>\n",
       "      <td>1</td>\n",
       "      <td>1</td>\n",
       "      <td>0.000000</td>\n",
       "      <td>2.178571</td>\n",
       "      <td>...</td>\n",
       "      <td>1</td>\n",
       "      <td>0</td>\n",
       "      <td>0</td>\n",
       "      <td>0.000000</td>\n",
       "      <td>0.000000e+00</td>\n",
       "      <td>0.000000</td>\n",
       "      <td>44</td>\n",
       "      <td>179.669975</td>\n",
       "      <td>0.008937</td>\n",
       "      <td>253.902655</td>\n",
       "    </tr>\n",
       "    <tr>\n",
       "      <td>PRV57760</td>\n",
       "      <td>60.954545</td>\n",
       "      <td>0.772727</td>\n",
       "      <td>9</td>\n",
       "      <td>22</td>\n",
       "      <td>1</td>\n",
       "      <td>3</td>\n",
       "      <td>2</td>\n",
       "      <td>2</td>\n",
       "      <td>0.000000</td>\n",
       "      <td>2.681818</td>\n",
       "      <td>...</td>\n",
       "      <td>3</td>\n",
       "      <td>0</td>\n",
       "      <td>2</td>\n",
       "      <td>0.666667</td>\n",
       "      <td>7.317151e-12</td>\n",
       "      <td>4.500000</td>\n",
       "      <td>9</td>\n",
       "      <td>29.717647</td>\n",
       "      <td>0.000225</td>\n",
       "      <td>80.450000</td>\n",
       "    </tr>\n",
       "    <tr>\n",
       "      <td>PRV57761</td>\n",
       "      <td>71.439024</td>\n",
       "      <td>0.487805</td>\n",
       "      <td>67</td>\n",
       "      <td>82</td>\n",
       "      <td>1</td>\n",
       "      <td>2</td>\n",
       "      <td>5</td>\n",
       "      <td>2</td>\n",
       "      <td>0.000000</td>\n",
       "      <td>2.890244</td>\n",
       "      <td>...</td>\n",
       "      <td>7</td>\n",
       "      <td>0</td>\n",
       "      <td>2</td>\n",
       "      <td>0.000000</td>\n",
       "      <td>0.000000e+00</td>\n",
       "      <td>10.500000</td>\n",
       "      <td>175</td>\n",
       "      <td>1846.092411</td>\n",
       "      <td>0.038613</td>\n",
       "      <td>125.619753</td>\n",
       "    </tr>\n",
       "    <tr>\n",
       "      <td>PRV57762</td>\n",
       "      <td>68.000000</td>\n",
       "      <td>1.000000</td>\n",
       "      <td>1</td>\n",
       "      <td>1</td>\n",
       "      <td>1</td>\n",
       "      <td>1</td>\n",
       "      <td>0</td>\n",
       "      <td>0</td>\n",
       "      <td>0.000000</td>\n",
       "      <td>2.000000</td>\n",
       "      <td>...</td>\n",
       "      <td>1</td>\n",
       "      <td>0</td>\n",
       "      <td>0</td>\n",
       "      <td>0.000000</td>\n",
       "      <td>6.144593e-04</td>\n",
       "      <td>0.000000</td>\n",
       "      <td>2</td>\n",
       "      <td>3.123577</td>\n",
       "      <td>0.000024</td>\n",
       "      <td>88.000000</td>\n",
       "    </tr>\n",
       "    <tr>\n",
       "      <td>PRV57763</td>\n",
       "      <td>73.601695</td>\n",
       "      <td>0.474576</td>\n",
       "      <td>70</td>\n",
       "      <td>118</td>\n",
       "      <td>3</td>\n",
       "      <td>1</td>\n",
       "      <td>1</td>\n",
       "      <td>1</td>\n",
       "      <td>0.000000</td>\n",
       "      <td>2.694915</td>\n",
       "      <td>...</td>\n",
       "      <td>1</td>\n",
       "      <td>0</td>\n",
       "      <td>0</td>\n",
       "      <td>0.000000</td>\n",
       "      <td>2.048246e-04</td>\n",
       "      <td>0.000000</td>\n",
       "      <td>38</td>\n",
       "      <td>32.106239</td>\n",
       "      <td>0.012851</td>\n",
       "      <td>133.657127</td>\n",
       "    </tr>\n",
       "  </tbody>\n",
       "</table>\n",
       "<p>5410 rows × 48 columns</p>\n",
       "</div>"
      ],
      "text/plain": [
       "                Age    Gender  BeneID  ClaimID  State  AttendingPhysician  \\\n",
       "Provider                                                                    \n",
       "PRV51001  78.120000  0.360000      24       25      1                  14   \n",
       "PRV51003  69.553030  0.409091     117      132      3                  44   \n",
       "PRV51004  71.731544  0.308725     138      149      9                  38   \n",
       "PRV51005  70.021459  0.438627     495     1165      4                   6   \n",
       "PRV51007  68.763889  0.472222      58       72      2                  10   \n",
       "...             ...       ...     ...      ...    ...                 ...   \n",
       "PRV57759  73.428571  0.571429      24       28      1                   1   \n",
       "PRV57760  60.954545  0.772727       9       22      1                   3   \n",
       "PRV57761  71.439024  0.487805      67       82      1                   2   \n",
       "PRV57762  68.000000  1.000000       1        1      1                   1   \n",
       "PRV57763  73.601695  0.474576      70      118      3                   1   \n",
       "\n",
       "          OperatingPhysician  OtherPhysician   NumProc   NumDiag  ...  \\\n",
       "Provider                                                          ...   \n",
       "PRV51001                   5               8  0.120000  3.640000  ...   \n",
       "PRV51003                   7              22  0.363636  5.840909  ...   \n",
       "PRV51004                  19              26  0.000000  2.771812  ...   \n",
       "PRV51005                   6               4  0.000000  2.805150  ...   \n",
       "PRV51007                   5               7  0.013889  3.222222  ...   \n",
       "...                      ...             ...       ...       ...  ...   \n",
       "PRV57759                   1               1  0.000000  2.178571  ...   \n",
       "PRV57760                   2               2  0.000000  2.681818  ...   \n",
       "PRV57761                   5               2  0.000000  2.890244  ...   \n",
       "PRV57762                   0               0  0.000000  2.000000  ...   \n",
       "PRV57763                   1               1  0.000000  2.694915  ...   \n",
       "\n",
       "          Doctors  PotentialFraud  docDegMax  docBtwnMean   docEignMean  \\\n",
       "Provider                                                                  \n",
       "PRV51001       19               0          4   300.000000  1.160885e-03   \n",
       "PRV51003       51               1          1     0.000000  2.960140e-06   \n",
       "PRV51004       48               0          4    36.851852  6.073016e-04   \n",
       "PRV51005        7               1          0     0.000000  2.927091e-05   \n",
       "PRV51007       11               0          3     0.000000  5.432718e-03   \n",
       "...           ...             ...        ...          ...           ...   \n",
       "PRV57759        1               0          0     0.000000  0.000000e+00   \n",
       "PRV57760        3               0          2     0.666667  7.317151e-12   \n",
       "PRV57761        7               0          2     0.000000  0.000000e+00   \n",
       "PRV57762        1               0          0     0.000000  6.144593e-04   \n",
       "PRV57763        1               0          0     0.000000  2.048246e-04   \n",
       "\n",
       "            docMANN  patDegMax  patBtwnMean  patEignMean     patMANN  \n",
       "Provider                                                              \n",
       "PRV51001   8.000000         46   263.949347     0.060498  146.343750  \n",
       "PRV51003   1.349206         89   621.197352     0.072514  117.974212  \n",
       "PRV51004   3.458333        110   196.289758     0.032412  264.349863  \n",
       "PRV51005   0.000000        151   265.010514     0.268140  788.675936  \n",
       "PRV51007   4.750000         70    84.365494     0.100189   81.688948  \n",
       "...             ...        ...          ...          ...         ...  \n",
       "PRV57759   0.000000         44   179.669975     0.008937  253.902655  \n",
       "PRV57760   4.500000          9    29.717647     0.000225   80.450000  \n",
       "PRV57761  10.500000        175  1846.092411     0.038613  125.619753  \n",
       "PRV57762   0.000000          2     3.123577     0.000024   88.000000  \n",
       "PRV57763   0.000000         38    32.106239     0.012851  133.657127  \n",
       "\n",
       "[5410 rows x 48 columns]"
      ]
     },
     "execution_count": 262,
     "metadata": {},
     "output_type": "execute_result"
    }
   ],
   "source": [
    "data"
   ]
  },
  {
   "cell_type": "code",
   "execution_count": 470,
   "metadata": {},
   "outputs": [],
   "source": [
    "feature = \"ClaimID\"\n",
    "df = data.groupby(feature)['PotentialFraud'].mean().reset_index()\n"
   ]
  },
  {
   "cell_type": "code",
   "execution_count": 505,
   "metadata": {},
   "outputs": [
    {
     "data": {
      "text/plain": [
       "[<matplotlib.lines.Line2D at 0x13bc6d810>]"
      ]
     },
     "execution_count": 505,
     "metadata": {},
     "output_type": "execute_result"
    },
    {
     "data": {
      "image/png": "[encoded data removed]",
      "text/plain": [
       "<Figure size 432x288 with 1 Axes>"
      ]
     },
     "metadata": {
      "needs_background": "light"
     },
     "output_type": "display_data"
    }
   ],
   "source": [
    "sns.scatterplot(y=feature, x='PotentialFraud', data=df)\n",
    "plt.plot([0, 1], [1300, 1300], 'k-', lw=2)"
   ]
  },
  {
   "cell_type": "code",
   "execution_count": 265,
   "metadata": {},
   "outputs": [
    {
     "name": "stdout",
     "output_type": "stream",
     "text": [
      "Age\n",
      "Gender\n",
      "BeneID\n",
      "ClaimID\n",
      "State\n",
      "AttendingPhysician\n",
      "OperatingPhysician\n",
      "OtherPhysician\n",
      "NumProc\n",
      "NumDiag\n",
      "NumChronics\n",
      "InscClaimAmtReimbursed\n",
      "DeductibleAmtPaid\n",
      "ClaimDays\n",
      "WhetherDead\n",
      "Alzheimer\n",
      "HeartFailure\n",
      "KidneyDisease\n",
      "Cancer\n",
      "ObstrPulmonary\n",
      "Depression\n",
      "Diabetes\n",
      "IschemicHeart\n",
      "Osteoporasis\n",
      "RheumatoidArthritis\n",
      "Stroke\n",
      "logClaim\n",
      "logBene\n",
      "Age_Range\n",
      "NumProc_Range\n",
      "NumDiag_Range\n",
      "NumChronics_Range\n",
      "InscClaimAmtReimbursed_Range\n",
      "ClaimDays_Range\n",
      "BeneID_in\n",
      "BeneID_out\n",
      "ClaimID_in\n",
      "ClaimID_out\n",
      "Doctors\n",
      "PotentialFraud\n",
      "docDegMax\n",
      "docBtwnMean\n",
      "docEignMean\n",
      "docMANN\n",
      "patDegMax\n",
      "patBtwnMean\n",
      "patEignMean\n",
      "patMANN\n"
     ]
    }
   ],
   "source": [
    "for feature in data.columns:\n",
    "    df = data.groupby(feature)['PotentialFraud']"
   ]
  },
  {
   "cell_type": "code",
   "execution_count": 459,
   "metadata": {},
   "outputs": [],
   "source": [
    "x = pd.DataFrame(data = x, columns = x_unscaled.columns)"
   ]
  },
  {
   "cell_type": "code",
   "execution_count": 460,
   "metadata": {},
   "outputs": [
    {
     "data": {
      "text/html": [
       "<div>\n",
       "<style scoped>\n",
       "    .dataframe tbody tr th:only-of-type {\n",
       "        vertical-align: middle;\n",
       "    }\n",
       "\n",
       "    .dataframe tbody tr th {\n",
       "        vertical-align: top;\n",
       "    }\n",
       "\n",
       "    .dataframe thead th {\n",
       "        text-align: right;\n",
       "    }\n",
       "</style>\n",
       "<table border=\"1\" class=\"dataframe\">\n",
       "  <thead>\n",
       "    <tr style=\"text-align: right;\">\n",
       "      <th></th>\n",
       "      <th>BeneID</th>\n",
       "      <th>ClaimID</th>\n",
       "      <th>NumDiag</th>\n",
       "      <th>InscClaimAmtReimbursed</th>\n",
       "      <th>WhetherDead</th>\n",
       "      <th>KidneyDisease</th>\n",
       "      <th>IschemicHeart</th>\n",
       "      <th>Age_Range</th>\n",
       "      <th>NumProc_Range</th>\n",
       "      <th>NumDiag_Range</th>\n",
       "      <th>InscClaimAmtReimbursed_Range</th>\n",
       "      <th>ClaimDays_Range</th>\n",
       "      <th>Doctors</th>\n",
       "      <th>docDegMax</th>\n",
       "      <th>docBtwnMean</th>\n",
       "      <th>docEignMean</th>\n",
       "      <th>patDegMax</th>\n",
       "      <th>patBtwnMean</th>\n",
       "      <th>patEignMean</th>\n",
       "      <th>patMANN</th>\n",
       "    </tr>\n",
       "  </thead>\n",
       "  <tbody>\n",
       "    <tr>\n",
       "      <td>0</td>\n",
       "      <td>-0.302331</td>\n",
       "      <td>-0.286976</td>\n",
       "      <td>-0.044180</td>\n",
       "      <td>0.701726</td>\n",
       "      <td>-0.229841</td>\n",
       "      <td>1.364518</td>\n",
       "      <td>1.001660</td>\n",
       "      <td>-0.422419</td>\n",
       "      <td>1.138749</td>\n",
       "      <td>0.440415</td>\n",
       "      <td>1.549080</td>\n",
       "      <td>-0.211817</td>\n",
       "      <td>-0.033417</td>\n",
       "      <td>0.743164</td>\n",
       "      <td>0.289403</td>\n",
       "      <td>-0.212816</td>\n",
       "      <td>-0.098938</td>\n",
       "      <td>-0.077703</td>\n",
       "      <td>0.246399</td>\n",
       "      <td>-0.460116</td>\n",
       "    </tr>\n",
       "    <tr>\n",
       "      <td>1</td>\n",
       "      <td>0.349223</td>\n",
       "      <td>0.105783</td>\n",
       "      <td>1.087586</td>\n",
       "      <td>0.817338</td>\n",
       "      <td>0.010457</td>\n",
       "      <td>0.339450</td>\n",
       "      <td>0.536981</td>\n",
       "      <td>0.473291</td>\n",
       "      <td>1.138749</td>\n",
       "      <td>0.753633</td>\n",
       "      <td>2.342636</td>\n",
       "      <td>1.175119</td>\n",
       "      <td>0.849941</td>\n",
       "      <td>-0.466742</td>\n",
       "      <td>-0.229168</td>\n",
       "      <td>-0.225724</td>\n",
       "      <td>0.588743</td>\n",
       "      <td>0.388521</td>\n",
       "      <td>0.403379</td>\n",
       "      <td>-0.542799</td>\n",
       "    </tr>\n",
       "    <tr>\n",
       "      <td>2</td>\n",
       "      <td>0.496349</td>\n",
       "      <td>0.168184</td>\n",
       "      <td>-0.490625</td>\n",
       "      <td>-0.399106</td>\n",
       "      <td>-0.016960</td>\n",
       "      <td>-0.444659</td>\n",
       "      <td>-0.266468</td>\n",
       "      <td>1.180431</td>\n",
       "      <td>-0.663132</td>\n",
       "      <td>0.440415</td>\n",
       "      <td>-0.496402</td>\n",
       "      <td>0.428307</td>\n",
       "      <td>0.767126</td>\n",
       "      <td>0.743164</td>\n",
       "      <td>-0.165467</td>\n",
       "      <td>-0.218987</td>\n",
       "      <td>0.924588</td>\n",
       "      <td>-0.166001</td>\n",
       "      <td>-0.120543</td>\n",
       "      <td>-0.116185</td>\n",
       "    </tr>\n",
       "    <tr>\n",
       "      <td>3</td>\n",
       "      <td>2.997478</td>\n",
       "      <td>3.897558</td>\n",
       "      <td>-0.473482</td>\n",
       "      <td>-0.430393</td>\n",
       "      <td>-0.120934</td>\n",
       "      <td>0.078626</td>\n",
       "      <td>0.015582</td>\n",
       "      <td>1.133288</td>\n",
       "      <td>-0.663132</td>\n",
       "      <td>0.753633</td>\n",
       "      <td>-0.455165</td>\n",
       "      <td>0.428307</td>\n",
       "      <td>-0.364676</td>\n",
       "      <td>-0.870043</td>\n",
       "      <td>-0.229168</td>\n",
       "      <td>-0.225431</td>\n",
       "      <td>1.580284</td>\n",
       "      <td>-0.076318</td>\n",
       "      <td>2.959167</td>\n",
       "      <td>1.411970</td>\n",
       "    </tr>\n",
       "    <tr>\n",
       "      <td>4</td>\n",
       "      <td>-0.064129</td>\n",
       "      <td>-0.114456</td>\n",
       "      <td>-0.259012</td>\n",
       "      <td>-0.365221</td>\n",
       "      <td>0.210705</td>\n",
       "      <td>-0.602318</td>\n",
       "      <td>-0.373671</td>\n",
       "      <td>1.133288</td>\n",
       "      <td>0.237808</td>\n",
       "      <td>0.440415</td>\n",
       "      <td>-0.142183</td>\n",
       "      <td>0.428307</td>\n",
       "      <td>-0.254256</td>\n",
       "      <td>0.339862</td>\n",
       "      <td>-0.229168</td>\n",
       "      <td>-0.165194</td>\n",
       "      <td>0.284884</td>\n",
       "      <td>-0.312067</td>\n",
       "      <td>0.764948</td>\n",
       "      <td>-0.648553</td>\n",
       "    </tr>\n",
       "    <tr>\n",
       "      <td>...</td>\n",
       "      <td>...</td>\n",
       "      <td>...</td>\n",
       "      <td>...</td>\n",
       "      <td>...</td>\n",
       "      <td>...</td>\n",
       "      <td>...</td>\n",
       "      <td>...</td>\n",
       "      <td>...</td>\n",
       "      <td>...</td>\n",
       "      <td>...</td>\n",
       "      <td>...</td>\n",
       "      <td>...</td>\n",
       "      <td>...</td>\n",
       "      <td>...</td>\n",
       "      <td>...</td>\n",
       "      <td>...</td>\n",
       "      <td>...</td>\n",
       "      <td>...</td>\n",
       "      <td>...</td>\n",
       "      <td>...</td>\n",
       "    </tr>\n",
       "    <tr>\n",
       "      <td>5405</td>\n",
       "      <td>-0.302331</td>\n",
       "      <td>-0.275964</td>\n",
       "      <td>-0.795686</td>\n",
       "      <td>-0.390534</td>\n",
       "      <td>-0.229841</td>\n",
       "      <td>0.606632</td>\n",
       "      <td>1.521471</td>\n",
       "      <td>-0.752418</td>\n",
       "      <td>-0.663132</td>\n",
       "      <td>-0.812456</td>\n",
       "      <td>-0.496931</td>\n",
       "      <td>0.428307</td>\n",
       "      <td>-0.530305</td>\n",
       "      <td>-0.870043</td>\n",
       "      <td>-0.229168</td>\n",
       "      <td>-0.225757</td>\n",
       "      <td>-0.130923</td>\n",
       "      <td>-0.187691</td>\n",
       "      <td>-0.427230</td>\n",
       "      <td>-0.146634</td>\n",
       "    </tr>\n",
       "    <tr>\n",
       "      <td>5406</td>\n",
       "      <td>-0.407421</td>\n",
       "      <td>-0.297988</td>\n",
       "      <td>-0.536903</td>\n",
       "      <td>-0.437369</td>\n",
       "      <td>-0.229841</td>\n",
       "      <td>-1.729787</td>\n",
       "      <td>1.521471</td>\n",
       "      <td>-0.469562</td>\n",
       "      <td>-0.663132</td>\n",
       "      <td>-0.186020</td>\n",
       "      <td>-0.613770</td>\n",
       "      <td>-0.958628</td>\n",
       "      <td>-0.475096</td>\n",
       "      <td>-0.063440</td>\n",
       "      <td>-0.228015</td>\n",
       "      <td>-0.225757</td>\n",
       "      <td>-0.690664</td>\n",
       "      <td>-0.383384</td>\n",
       "      <td>-0.541048</td>\n",
       "      <td>-0.652164</td>\n",
       "    </tr>\n",
       "    <tr>\n",
       "      <td>5407</td>\n",
       "      <td>-0.001075</td>\n",
       "      <td>-0.077749</td>\n",
       "      <td>-0.429725</td>\n",
       "      <td>-0.434951</td>\n",
       "      <td>0.156979</td>\n",
       "      <td>0.354979</td>\n",
       "      <td>-0.063317</td>\n",
       "      <td>0.944718</td>\n",
       "      <td>-0.663132</td>\n",
       "      <td>0.127198</td>\n",
       "      <td>-0.554558</td>\n",
       "      <td>0.428307</td>\n",
       "      <td>-0.364676</td>\n",
       "      <td>-0.063440</td>\n",
       "      <td>-0.229168</td>\n",
       "      <td>-0.225757</td>\n",
       "      <td>1.964106</td>\n",
       "      <td>1.987058</td>\n",
       "      <td>-0.039525</td>\n",
       "      <td>-0.520516</td>\n",
       "    </tr>\n",
       "    <tr>\n",
       "      <td>5408</td>\n",
       "      <td>-0.463468</td>\n",
       "      <td>-0.375071</td>\n",
       "      <td>-0.887512</td>\n",
       "      <td>0.045727</td>\n",
       "      <td>-0.229841</td>\n",
       "      <td>3.045376</td>\n",
       "      <td>1.521471</td>\n",
       "      <td>-2.308125</td>\n",
       "      <td>-0.663132</td>\n",
       "      <td>-2.378544</td>\n",
       "      <td>-0.670868</td>\n",
       "      <td>-1.705440</td>\n",
       "      <td>-0.530305</td>\n",
       "      <td>-0.870043</td>\n",
       "      <td>-0.229168</td>\n",
       "      <td>-0.218908</td>\n",
       "      <td>-0.802612</td>\n",
       "      <td>-0.418091</td>\n",
       "      <td>-0.543680</td>\n",
       "      <td>-0.630159</td>\n",
       "    </tr>\n",
       "    <tr>\n",
       "      <td>5409</td>\n",
       "      <td>0.019943</td>\n",
       "      <td>0.054394</td>\n",
       "      <td>-0.530168</td>\n",
       "      <td>-0.393526</td>\n",
       "      <td>-0.229841</td>\n",
       "      <td>-0.159649</td>\n",
       "      <td>-0.075404</td>\n",
       "      <td>0.331863</td>\n",
       "      <td>-0.663132</td>\n",
       "      <td>0.753633</td>\n",
       "      <td>-0.496402</td>\n",
       "      <td>0.428307</td>\n",
       "      <td>-0.530305</td>\n",
       "      <td>-0.870043</td>\n",
       "      <td>-0.229168</td>\n",
       "      <td>-0.223474</td>\n",
       "      <td>-0.226879</td>\n",
       "      <td>-0.380267</td>\n",
       "      <td>-0.376095</td>\n",
       "      <td>-0.497091</td>\n",
       "    </tr>\n",
       "  </tbody>\n",
       "</table>\n",
       "<p>5410 rows × 20 columns</p>\n",
       "</div>"
      ],
      "text/plain": [
       "        BeneID   ClaimID   NumDiag  InscClaimAmtReimbursed  WhetherDead  \\\n",
       "0    -0.302331 -0.286976 -0.044180                0.701726    -0.229841   \n",
       "1     0.349223  0.105783  1.087586                0.817338     0.010457   \n",
       "2     0.496349  0.168184 -0.490625               -0.399106    -0.016960   \n",
       "3     2.997478  3.897558 -0.473482               -0.430393    -0.120934   \n",
       "4    -0.064129 -0.114456 -0.259012               -0.365221     0.210705   \n",
       "...        ...       ...       ...                     ...          ...   \n",
       "5405 -0.302331 -0.275964 -0.795686               -0.390534    -0.229841   \n",
       "5406 -0.407421 -0.297988 -0.536903               -0.437369    -0.229841   \n",
       "5407 -0.001075 -0.077749 -0.429725               -0.434951     0.156979   \n",
       "5408 -0.463468 -0.375071 -0.887512                0.045727    -0.229841   \n",
       "5409  0.019943  0.054394 -0.530168               -0.393526    -0.229841   \n",
       "\n",
       "      KidneyDisease  IschemicHeart  Age_Range  NumProc_Range  NumDiag_Range  \\\n",
       "0          1.364518       1.001660  -0.422419       1.138749       0.440415   \n",
       "1          0.339450       0.536981   0.473291       1.138749       0.753633   \n",
       "2         -0.444659      -0.266468   1.180431      -0.663132       0.440415   \n",
       "3          0.078626       0.015582   1.133288      -0.663132       0.753633   \n",
       "4         -0.602318      -0.373671   1.133288       0.237808       0.440415   \n",
       "...             ...            ...        ...            ...            ...   \n",
       "5405       0.606632       1.521471  -0.752418      -0.663132      -0.812456   \n",
       "5406      -1.729787       1.521471  -0.469562      -0.663132      -0.186020   \n",
       "5407       0.354979      -0.063317   0.944718      -0.663132       0.127198   \n",
       "5408       3.045376       1.521471  -2.308125      -0.663132      -2.378544   \n",
       "5409      -0.159649      -0.075404   0.331863      -0.663132       0.753633   \n",
       "\n",
       "      InscClaimAmtReimbursed_Range  ClaimDays_Range   Doctors  docDegMax  \\\n",
       "0                         1.549080        -0.211817 -0.033417   0.743164   \n",
       "1                         2.342636         1.175119  0.849941  -0.466742   \n",
       "2                        -0.496402         0.428307  0.767126   0.743164   \n",
       "3                        -0.455165         0.428307 -0.364676  -0.870043   \n",
       "4                        -0.142183         0.428307 -0.254256   0.339862   \n",
       "...                            ...              ...       ...        ...   \n",
       "5405                     -0.496931         0.428307 -0.530305  -0.870043   \n",
       "5406                     -0.613770        -0.958628 -0.475096  -0.063440   \n",
       "5407                     -0.554558         0.428307 -0.364676  -0.063440   \n",
       "5408                     -0.670868        -1.705440 -0.530305  -0.870043   \n",
       "5409                     -0.496402         0.428307 -0.530305  -0.870043   \n",
       "\n",
       "      docBtwnMean  docEignMean  patDegMax  patBtwnMean  patEignMean   patMANN  \n",
       "0        0.289403    -0.212816  -0.098938    -0.077703     0.246399 -0.460116  \n",
       "1       -0.229168    -0.225724   0.588743     0.388521     0.403379 -0.542799  \n",
       "2       -0.165467    -0.218987   0.924588    -0.166001    -0.120543 -0.116185  \n",
       "3       -0.229168    -0.225431   1.580284    -0.076318     2.959167  1.411970  \n",
       "4       -0.229168    -0.165194   0.284884    -0.312067     0.764948 -0.648553  \n",
       "...           ...          ...        ...          ...          ...       ...  \n",
       "5405    -0.229168    -0.225757  -0.130923    -0.187691    -0.427230 -0.146634  \n",
       "5406    -0.228015    -0.225757  -0.690664    -0.383384    -0.541048 -0.652164  \n",
       "5407    -0.229168    -0.225757   1.964106     1.987058    -0.039525 -0.520516  \n",
       "5408    -0.229168    -0.218908  -0.802612    -0.418091    -0.543680 -0.630159  \n",
       "5409    -0.229168    -0.223474  -0.226879    -0.380267    -0.376095 -0.497091  \n",
       "\n",
       "[5410 rows x 20 columns]"
      ]
     },
     "execution_count": 460,
     "metadata": {},
     "output_type": "execute_result"
    }
   ],
   "source": [
    "x"
   ]
  },
  {
   "cell_type": "code",
   "execution_count": null,
   "metadata": {},
   "outputs": [],
   "source": []
  }
 ],
 "metadata": {
  "kernelspec": {
   "display_name": "Python 3",
   "language": "python",
   "name": "python3"
  },
  "language_info": {
   "codemirror_mode": {
    "name": "ipython",
    "version": 3
   },
   "file_extension": ".py",
   "mimetype": "text/x-python",
   "name": "python",
   "nbconvert_exporter": "python",
   "pygments_lexer": "ipython3",
   "version": "3.7.4"
  }
 },
 "nbformat": 4,
 "nbformat_minor": 2
}
