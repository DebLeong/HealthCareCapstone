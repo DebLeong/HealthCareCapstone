{
 "cells": [
  {
   "cell_type": "code",
   "execution_count": 1,
   "metadata": {},
   "outputs": [],
   "source": [
    "import numpy as np\n",
    "import pandas as pd\n",
    "import scipy.stats\n",
    "\n",
    "%matplotlib inline\n",
    "import matplotlib.pyplot as plt\n",
    "import seaborn as sns"
   ]
  },
  {
   "cell_type": "code",
   "execution_count": 2,
   "metadata": {},
   "outputs": [],
   "source": [
    "data = pd.read_csv('./data/provData/x_train.csv').set_index('Provider')\n",
    "#data_test = pd.read_csv('./data/provData/x_test_inout.csv').set_index('Provider')"
   ]
  },
  {
   "cell_type": "code",
   "execution_count": 3,
   "metadata": {},
   "outputs": [],
   "source": [
    "data.drop(columns = ['Unnamed: 0','Unnamed: 0.1'], inplace=True)"
   ]
  },
  {
   "cell_type": "code",
   "execution_count": 4,
   "metadata": {},
   "outputs": [
    {
     "data": {
      "text/plain": [
       "Age                                0\n",
       "Gender                             0\n",
       "BeneID                             0\n",
       "ClaimID                            0\n",
       "State                              0\n",
       "NumProc                            0\n",
       "NumDiag                            0\n",
       "NumChronics                        0\n",
       "InscClaimAmtReimbursed             0\n",
       "DeductibleAmtPaid                  1\n",
       "ClaimDays                          0\n",
       "WhetherDead                        0\n",
       "Alzheimer                          0\n",
       "HeartFailure                       0\n",
       "KidneyDisease                      0\n",
       "Cancer                             0\n",
       "ObstrPulmonary                     0\n",
       "Depression                         0\n",
       "Diabetes                           0\n",
       "IschemicHeart                      0\n",
       "Osteoporasis                       0\n",
       "RheumatoidArthritis                0\n",
       "Stroke                             0\n",
       "Age_Range                          0\n",
       "NumProc_Range                      0\n",
       "NumDiag_Range                      0\n",
       "NumChronics_Range                  0\n",
       "InscClaimAmtReimbursed_Range       0\n",
       "ClaimDays_Range                    0\n",
       "Doctors                            0\n",
       "PotentialFraud                     0\n",
       "docDegMax                          0\n",
       "docBtwnMean                        0\n",
       "docEignMean                        0\n",
       "docMANN                         1482\n",
       "patDegMax                          0\n",
       "patBtwnMean                        0\n",
       "patEignMean                        0\n",
       "patMANN                           18\n",
       "dtype: int64"
      ]
     },
     "execution_count": 4,
     "metadata": {},
     "output_type": "execute_result"
    }
   ],
   "source": [
    "data.isna().sum()"
   ]
  },
  {
   "cell_type": "code",
   "execution_count": 5,
   "metadata": {},
   "outputs": [],
   "source": [
    "data.fillna(0, inplace=True)"
   ]
  },
  {
   "cell_type": "code",
   "execution_count": 6,
   "metadata": {},
   "outputs": [],
   "source": [
    "data['LargeClaims'] = data['ClaimID'] > 1300"
   ]
  },
  {
   "cell_type": "code",
   "execution_count": 7,
   "metadata": {},
   "outputs": [
    {
     "data": {
      "text/plain": [
       "False    5359\n",
       "True       51\n",
       "Name: LargeClaims, dtype: int64"
      ]
     },
     "execution_count": 7,
     "metadata": {},
     "output_type": "execute_result"
    }
   ],
   "source": [
    "data['LargeClaims'].value_counts()"
   ]
  },
  {
   "cell_type": "code",
   "execution_count": 8,
   "metadata": {},
   "outputs": [],
   "source": [
    "# data_net = data[['docDegMax', 'docBtwnMean', 'docEignMean', 'docMANN',\n",
    "#        'patDegMax', 'patBtwnMean', 'patEignMean', 'patMANN','PotentialFraud']]\n",
    "# data_net.head()"
   ]
  },
  {
   "cell_type": "code",
   "execution_count": 13,
   "metadata": {},
   "outputs": [
    {
     "data": {
      "image/png": "[encoded data removed]",
      "text/plain": [
       "<Figure size 864x360 with 1 Axes>"
      ]
     },
     "metadata": {
      "needs_background": "light"
     },
     "output_type": "display_data"
    }
   ],
   "source": [
    "plt.figure(figsize=(12,5))\n",
    "\n",
    "feature = 'ClaimID'\n",
    "df = data.groupby(feature)['PotentialFraud'].mean().reset_index()\n",
    "ax1 = sns.scatterplot(x='ClaimID', y='PotentialFraud',alpha=0.5, data=df)\n",
    "plt.plot([1400,1400], [0, 1], color='k', linestyle='-', linewidth=2)\n",
    "#ax1.set(yscale=\"log\",xscale=\"log\")\n",
    "#ax1.set(xlabel='Max Size of Provider Network by Shared Patients', ylabel = 'Average Nearest Neighbor Size')\n",
    "plt.tight_layout()\n",
    "#plt.xlim(0,9000)\n",
    "\n",
    "# ax2 = plt.subplot(122)\n",
    "# ax2 = sns.scatterplot(x='docDegMax', y='docMANN', hue='PotentialFraud',alpha=0.5, data=data)\n",
    "\n",
    "# ax2.set(xlabel='Max Size of Provider Network by Shared Doctors', ylabel='Average Nearest Neighbor Size')\n",
    "# plt.tight_layout()\n",
    "#plt.xlim(0,9000)\n",
    "#plt.annotate('Fraud: ?', (1000.6, 105))"
   ]
  },
  {
   "cell_type": "code",
   "execution_count": 21,
   "metadata": {},
   "outputs": [],
   "source": [
    "#x_train = x_train.drop(columns = 'PotentialFraud')\n",
    "# y = data['PotentialFraud']\n",
    "# x = data.drop(columns = ['Alzheimer', 'HeartFailure',\n",
    "#        'KidneyDisease', 'Cancer', 'ObstrPulmonary', 'Depression', 'Diabetes',\n",
    "#        'IschemicHeart', 'Osteoporasis', 'RheumatoidArthritis', 'Stroke','PotentialFraud'])\n",
    "\n",
    "y = data['PotentialFraud']\n",
    "x_unscaled = data.drop(columns = ['DeductibleAmtPaid','State','NumProc', 'Age',\n",
    "                                  'Alzheimer', 'HeartFailure','Cancer', 'ObstrPulmonary', \n",
    "                                  'Depression', 'Diabetes','Osteoporasis', 'NumChronics_Range',\n",
    "                                  'RheumatoidArthritis', 'Stroke','Gender','docMANN',\n",
    "                                  'NumChronics','PotentialFraud'])\n",
    "\n",
    "from sklearn.model_selection import train_test_split as tts\n",
    "x_train, x_test, y_train, y_test = tts(x_unscaled,y,test_size=1.0/3, random_state=0)"
   ]
  },
  {
   "cell_type": "code",
   "execution_count": 22,
   "metadata": {},
   "outputs": [],
   "source": [
    "from sklearn import preprocessing\n",
    "x = preprocessing.scale(x_unscaled)"
   ]
  },
  {
   "cell_type": "code",
   "execution_count": 23,
   "metadata": {},
   "outputs": [
    {
     "ename": "NameError",
     "evalue": "name 'ms' is not defined",
     "output_type": "error",
     "traceback": [
      "\u001b[0;31m---------------------------------------------------------------------------\u001b[0m",
      "\u001b[0;31mNameError\u001b[0m                                 Traceback (most recent call last)",
      "\u001b[0;32m<ipython-input-23-7d782ea76d0c>\u001b[0m in \u001b[0;36m<module>\u001b[0;34m\u001b[0m\n\u001b[0;32m----> 1\u001b[0;31m x_train, x_test, y_train, y_test = ms.train_test_split(x,y, \n\u001b[0m\u001b[1;32m      2\u001b[0m                                                        test_size=1.0/3, random_state=0)\n\u001b[1;32m      3\u001b[0m \u001b[0;34m\u001b[0m\u001b[0m\n\u001b[1;32m      4\u001b[0m \u001b[0mprint\u001b[0m\u001b[0;34m(\u001b[0m\u001b[0;34m'Original: {}, {}'\u001b[0m\u001b[0;34m.\u001b[0m\u001b[0mformat\u001b[0m\u001b[0;34m(\u001b[0m\u001b[0mx\u001b[0m\u001b[0;34m.\u001b[0m\u001b[0mshape\u001b[0m\u001b[0;34m,\u001b[0m \u001b[0my\u001b[0m\u001b[0;34m.\u001b[0m\u001b[0mshape\u001b[0m\u001b[0;34m)\u001b[0m\u001b[0;34m)\u001b[0m\u001b[0;34m\u001b[0m\u001b[0;34m\u001b[0m\u001b[0m\n\u001b[1;32m      5\u001b[0m \u001b[0mprint\u001b[0m\u001b[0;34m(\u001b[0m\u001b[0;34m'Training: {}, {}'\u001b[0m\u001b[0;34m.\u001b[0m\u001b[0mformat\u001b[0m\u001b[0;34m(\u001b[0m\u001b[0mx_train\u001b[0m\u001b[0;34m.\u001b[0m\u001b[0mshape\u001b[0m\u001b[0;34m,\u001b[0m \u001b[0my_train\u001b[0m\u001b[0;34m.\u001b[0m\u001b[0mshape\u001b[0m\u001b[0;34m)\u001b[0m\u001b[0;34m)\u001b[0m\u001b[0;34m\u001b[0m\u001b[0;34m\u001b[0m\u001b[0m\n",
      "\u001b[0;31mNameError\u001b[0m: name 'ms' is not defined"
     ]
    }
   ],
   "source": [
    "x_train, x_test, y_train, y_test = ms.train_test_split(x,y, \n",
    "                                                       test_size=1.0/3, random_state=0)\n",
    "\n",
    "print('Original: {}, {}'.format(x.shape, y.shape))\n",
    "print('Training: {}, {}'.format(x_train.shape, y_train.shape))\n",
    "print('Test:     {}, {}'.format(x_test.shape, y_test.shape))"
   ]
  },
  {
   "cell_type": "code",
   "execution_count": 24,
   "metadata": {},
   "outputs": [
    {
     "name": "stderr",
     "output_type": "stream",
     "text": [
      "/usr/local/anaconda3/lib/python3.7/site-packages/sklearn/linear_model/_logistic.py:764: ConvergenceWarning: lbfgs failed to converge (status=1):\n",
      "STOP: TOTAL NO. of ITERATIONS REACHED LIMIT.\n",
      "\n",
      "Increase the number of iterations (max_iter) or scale the data as shown in:\n",
      "    https://scikit-learn.org/stable/modules/preprocessing.html\n",
      "Please also refer to the documentation for alternative solver options:\n",
      "    https://scikit-learn.org/stable/modules/linear_model.html#logistic-regression\n",
      "  extra_warning_msg=_LOGISTIC_SOLVER_CONVERGENCE_MSG)\n",
      "/usr/local/anaconda3/lib/python3.7/site-packages/sklearn/linear_model/_logistic.py:764: ConvergenceWarning: lbfgs failed to converge (status=1):\n",
      "STOP: TOTAL NO. of ITERATIONS REACHED LIMIT.\n",
      "\n",
      "Increase the number of iterations (max_iter) or scale the data as shown in:\n",
      "    https://scikit-learn.org/stable/modules/preprocessing.html\n",
      "Please also refer to the documentation for alternative solver options:\n",
      "    https://scikit-learn.org/stable/modules/linear_model.html#logistic-regression\n",
      "  extra_warning_msg=_LOGISTIC_SOLVER_CONVERGENCE_MSG)\n"
     ]
    },
    {
     "data": {
      "text/plain": [
       "LogisticRegression()"
      ]
     },
     "execution_count": 24,
     "metadata": {},
     "output_type": "execute_result"
    }
   ],
   "source": [
    "from sklearn import linear_model\n",
    "logit_balanced = linear_model.LogisticRegression(solver = 'lbfgs',class_weight='balanced')\n",
    "logit = linear_model.LogisticRegression(solver = 'lbfgs')\n",
    "\n",
    "logit_balanced.fit(x_train,y_train)\n",
    "logit.fit(x_train,y_train)"
   ]
  },
  {
   "cell_type": "markdown",
   "metadata": {},
   "source": [
    "Get quick look at score for model using whole feature set"
   ]
  },
  {
   "cell_type": "code",
   "execution_count": 25,
   "metadata": {},
   "outputs": [
    {
     "name": "stdout",
     "output_type": "stream",
     "text": [
      "The accuracy of logistic regression is: 0.9135254988913526\n",
      "The accuracy of logistic regression is: 0.8553215077605322\n"
     ]
    }
   ],
   "source": [
    "print(\"The accuracy of logistic regression is: \" + str(logit.score(x_test, y_test)))\n",
    "print(\"The accuracy of logistic regression is: \" + str(logit_balanced.score(x_test, y_test)))"
   ]
  },
  {
   "cell_type": "markdown",
   "metadata": {},
   "source": [
    "Not very good since null model would have an accuracy of 91%"
   ]
  },
  {
   "cell_type": "markdown",
   "metadata": {},
   "source": [
    "## Metrics\n",
    "\n",
    "### Recall\n",
    "Recall (or sensitivity or true positive rate) is the fraction of observations having a true class of 1 (potentially fraudulent) that are being correctly classified as such. Recall is exactly how many of the fradulent providers we are actually classifying as fraudulent.\n",
    "\n",
    "If we have a problem like cancer detection, we would ideally want our system to have very high recall, potentially at the expense of false postives or accuracy in general.\n",
    "\n",
    "### F1 Score\n",
    "F1 score is the harmonic mean of recall and precision, and it can be thought of as a balance of the two. While accuracy also serves this purpose, it can be quite misleading if classes are heavily imbalanced. In our case, only 9% of providers have been labeled as fraudulent and we assume the test set follows the same distribution. \n",
    "\n",
    "For instance, suppose we have a population of 1000 providers and 100 of them are fraudulent. We have a classfication system that produces the following results:\n",
    "\n",
    "- 40 True Positive (correctly identified fraud)\n",
    "- 10 False Positives (incorrectly mistook non-fraud for fraud)\n",
    "- 20 False Negative (failed to identify fraud)\n",
    "- 930 True Negatives (correctly identified non-fraud)\n",
    "\n",
    "In this example, we have 93.0% accuracy while the F1 score is 72.7% (and 80% precision, 67% recall), which seems to be a more useful overall indicator of performance in this case.\n",
    "\n",
    "### ROC Curve and AUC\n",
    "The receiver operating characteristic curve (or ROC curve) is another tool for evaluating the classfication performance of different models. For any given model, the ROC curve plots the tradoff between the false positive rate on the x-axis against the true positive rate (aka Precision) for different choices of thresholds for a binary classifier. In one extreme case, if the classification threshold is 0, then all instances (for non-perfect models) will be classified as 0, leading to a false positive rate of 0, but also a true postive rate of 0. In the other extreme case, a threshold of 1 leads to a true positive rate/recall of 1 but also a false postive rate of 1. \n",
    "\n",
    "In terms of evaluating classification performance, an ROC curve which is closer to the (FPR = 0, TPR = 1) point compared to another indicates that the former model strictly dominates the latter. Beyond just the curve, one summary measure is simply the AUC or (A)rea (U)nder the ROC (C)urve. A completely random model will produce an AUC of 0.5 while a perfect model will have an AUC of 1."
   ]
  },
  {
   "cell_type": "code",
   "execution_count": 26,
   "metadata": {},
   "outputs": [],
   "source": [
    "from sklearn.metrics import precision_recall_fscore_support\n",
    "from sklearn.metrics import roc_curve, roc_auc_score\n",
    "\n",
    "def logitMetrics(x,y, model):\n",
    "    logit_tr_acc = model.score(x, y)\n",
    "    logit_tr_pr, logit_tr_re, logit_tr_f1, _ = precision_recall_fscore_support(y, logit.predict(x))\n",
    "\n",
    "    print(\" Logit Train Accuracy : %1.3f\" % (logit_tr_acc))\n",
    "    print(\" Logit Train Precision: %1.3f (no fraud) and %1.3f (fraud)\" % (logit_tr_pr[0], logit_tr_pr[1]))\n",
    "    print(\" Logit Train Recall   : %1.3f (no fraud) and %1.3f (fraud)\" % (logit_tr_re[0], logit_tr_re[1]))\n",
    "    print(\" Logit Train F1 Score : %1.3f (no fraud) and %1.3f (fraud)\" % (logit_tr_f1[0], logit_tr_f1[1]))\n",
    "    \n",
    "    y_probs_logit = pd.DataFrame(model.predict_proba(x))[1]\n",
    "    fpr, tpr, thresholds = roc_curve(y, y_probs_logit)\n",
    "    auc = roc_auc_score(y, y_probs_logit)  # Computes auc\n",
    "    \n",
    "    plt.figure()\n",
    "    lw = 2\n",
    "    plt.plot(fpr, tpr, color='darkorange', lw=lw,\n",
    "            label='ROC logit (area = %0.2f)' % auc)\n",
    "\n",
    "    plt.plot([0, 1], [0, 1], color='navy', lw=lw, linestyle='--')\n",
    "    plt.xlim([0, 1.02])\n",
    "    plt.ylim([0, 1.02])\n",
    "    plt.xlabel('False Positive Rate')\n",
    "    plt.ylabel('True Positive Rate')\n",
    "    plt.title('Receiver operating characteristic example')\n",
    "    plt.legend(loc=\"lower right\")\n",
    "    plt.show()"
   ]
  },
  {
   "cell_type": "code",
   "execution_count": 27,
   "metadata": {},
   "outputs": [
    {
     "name": "stdout",
     "output_type": "stream",
     "text": [
      " Logit Train Accuracy : 0.914\n",
      " Logit Train Precision: 0.937 (no fraud) and 0.558 (fraud)\n",
      " Logit Train Recall   : 0.969 (no fraud) and 0.373 (fraud)\n",
      " Logit Train F1 Score : 0.953 (no fraud) and 0.447 (fraud)\n"
     ]
    },
    {
     "data": {
      "image/png": "[encoded data removed]",
      "text/plain": [
       "<Figure size 432x288 with 1 Axes>"
      ]
     },
     "metadata": {
      "needs_background": "light"
     },
     "output_type": "display_data"
    },
    {
     "name": "stdout",
     "output_type": "stream",
     "text": [
      " Logit Train Accuracy : 0.855\n",
      " Logit Train Precision: 0.937 (no fraud) and 0.558 (fraud)\n",
      " Logit Train Recall   : 0.969 (no fraud) and 0.373 (fraud)\n",
      " Logit Train F1 Score : 0.953 (no fraud) and 0.447 (fraud)\n"
     ]
    },
    {
     "data": {
      "image/png": "[encoded data removed]",
      "text/plain": [
       "<Figure size 432x288 with 1 Axes>"
      ]
     },
     "metadata": {
      "needs_background": "light"
     },
     "output_type": "display_data"
    }
   ],
   "source": [
    "logitMetrics(x_test,y_test,logit)\n",
    "logitMetrics(x_test,y_test,logit_balanced)\n"
   ]
  },
  {
   "cell_type": "markdown",
   "metadata": {},
   "source": [
    "## Standardizing Features"
   ]
  },
  {
   "cell_type": "code",
   "execution_count": 514,
   "metadata": {},
   "outputs": [],
   "source": [
    "import warnings\n",
    "warnings.filterwarnings(action=\"ignore\", module=\"scipy\", message=\"^internal gelsd\")\n",
    "import sklearn.model_selection as ms"
   ]
  },
  {
   "cell_type": "code",
   "execution_count": 515,
   "metadata": {},
   "outputs": [],
   "source": [
    "from sklearn.model_selection import RepeatedStratifiedKFold\n",
    "\n",
    "cv = RepeatedStratifiedKFold(n_splits = 5,\n",
    "                             n_repeats = 1,\n",
    "                             random_state = 2)"
   ]
  },
  {
   "cell_type": "code",
   "execution_count": 516,
   "metadata": {},
   "outputs": [
    {
     "name": "stdout",
     "output_type": "stream",
     "text": [
      " Logit Train Accuracy : 0.932\n",
      " Logit Train Precision: 0.951 (no fraud) and 0.738 (fraud)\n",
      " Logit Train Recall   : 0.981 (no fraud) and 0.510 (fraud)\n",
      " Logit Train F1 Score : 0.966 (no fraud) and 0.604 (fraud)\n"
     ]
    },
    {
     "data": {
      "image/png": "[encoded data removed]",
      "text/plain": [
       "<Figure size 432x288 with 1 Axes>"
      ]
     },
     "metadata": {
      "needs_background": "light"
     },
     "output_type": "display_data"
    },
    {
     "name": "stdout",
     "output_type": "stream",
     "text": [
      " Logit Train Accuracy : 0.931\n",
      " Logit Train Precision: 0.953 (no fraud) and 0.698 (fraud)\n",
      " Logit Train Recall   : 0.976 (no fraud) and 0.533 (fraud)\n",
      " Logit Train F1 Score : 0.964 (no fraud) and 0.604 (fraud)\n"
     ]
    },
    {
     "data": {
      "image/png": "[encoded data removed]",
      "text/plain": [
       "<Figure size 432x288 with 1 Axes>"
      ]
     },
     "metadata": {
      "needs_background": "light"
     },
     "output_type": "display_data"
    }
   ],
   "source": [
    "logitcv_f1 = linear_model.LogisticRegressionCV(Cs = 20, # grid regularization\n",
    "                                               penalty='l1',\n",
    "                                               scoring = 'f1_weighted',\n",
    "                                               cv = cv,\n",
    "                                               solver = 'liblinear')\n",
    "logitcv_f1.fit(x_train,y_train)\n",
    "logitMetrics(x_train,y_train,logitcv_f1)\n",
    "logitMetrics(x_test,y_test,logitcv_f1)"
   ]
  },
  {
   "cell_type": "code",
   "execution_count": 517,
   "metadata": {},
   "outputs": [
    {
     "data": {
      "text/plain": [
       "array([[ 0.        ,  0.82281993,  0.28674226,  0.00413779,  0.        ,\n",
       "         0.07632214,  0.05586443,  0.04145288,  0.42242433,  0.04906722,\n",
       "         0.61525934,  0.82556107,  0.        ,  0.        , -0.00476268,\n",
       "         0.        , -0.08233132, -0.02683282,  0.        ,  0.        ,\n",
       "         0.19072138]])"
      ]
     },
     "execution_count": 517,
     "metadata": {},
     "output_type": "execute_result"
    }
   ],
   "source": [
    "logitcv_f1.coef_"
   ]
  },
  {
   "cell_type": "code",
   "execution_count": 518,
   "metadata": {},
   "outputs": [
    {
     "data": {
      "text/plain": [
       "array([[['BeneID', 0.0],\n",
       "        ['ClaimID', 0.8228199257437911],\n",
       "        ['NumDiag', 0.28674225942058756],\n",
       "        ['InscClaimAmtReimbursed', 0.00413779089240646],\n",
       "        ['WhetherDead', 0.0],\n",
       "        ['KidneyDisease', 0.0763221390402634],\n",
       "        ['IschemicHeart', 0.055864432479736395],\n",
       "        ['Age_Range', 0.04145288395183734],\n",
       "        ['NumProc_Range', 0.4224243272926067],\n",
       "        ['NumDiag_Range', 0.04906722209091528],\n",
       "        ['InscClaimAmtReimbursed_Range', 0.6152593412173049],\n",
       "        ['ClaimDays_Range', 0.8255610679957136],\n",
       "        ['Doctors', 0.0],\n",
       "        ['docDegMax', 0.0],\n",
       "        ['docBtwnMean', -0.004762682580480148],\n",
       "        ['docEignMean', 0.0],\n",
       "        ['patDegMax', -0.0823313180353233],\n",
       "        ['patBtwnMean', -0.026832819372820678],\n",
       "        ['patEignMean', 0.0],\n",
       "        ['patMANN', 0.0],\n",
       "        ['LargeClaims', 0.19072138377429518]]], dtype=object)"
      ]
     },
     "execution_count": 518,
     "metadata": {},
     "output_type": "execute_result"
    }
   ],
   "source": [
    "np.dstack((x_unscaled.columns,logitcv_f1.coef_))"
   ]
  },
  {
   "cell_type": "markdown",
   "metadata": {},
   "source": [
    "## SMOTE\n",
    "\n",
    "Synthetic Minority Oversampling Technique\n",
    "\n",
    "### Pros\n",
    "- problem with imbalanced classification is there are too few examples of the minority class for a model to effectively learn the decision boundary.\n",
    "- we can oversample the minority to counterbalance this. \n",
    "    - we can duplicate examples from minority class prior to fitting the model\n",
    "    - this balances the class distribution but does not provide any additional information to the model. \n",
    "    \n",
    "\n",
    "### Cons\n",
    "- Synthetic examples created without considering majority class - resulting in ambiguous examples if there is strong overlap for the classes. \n",
    "    - In our case, at least for small providers, theres lots of overlap in the featurespace wrt number of patients, number of claims, etc. \n",
    "### Concerns:\n",
    "- Given that our target is not actual fraud but a potential fraud do we want confidence intervals / prediction intervals?\n",
    "- would an oversampling technique such as this diminish that?\n"
   ]
  },
  {
   "cell_type": "markdown",
   "metadata": {},
   "source": [
    "## Applying SMOTE to LogReg"
   ]
  },
  {
   "cell_type": "code",
   "execution_count": 441,
   "metadata": {},
   "outputs": [
    {
     "name": "stdout",
     "output_type": "stream",
     "text": [
      "Counter({0: 4904, 1: 506})\n",
      "Counter({0: 2101, 1: 1471})\n"
     ]
    },
    {
     "ename": "IndexError",
     "evalue": "only integers, slices (`:`), ellipsis (`...`), numpy.newaxis (`None`) and integer or boolean arrays are valid indices",
     "output_type": "error",
     "traceback": [
      "\u001b[0;31m---------------------------------------------------------------------------\u001b[0m",
      "\u001b[0;31mIndexError\u001b[0m                                Traceback (most recent call last)",
      "\u001b[0;32m<ipython-input-441-934f6a5eee46>\u001b[0m in \u001b[0;36m<module>\u001b[0;34m\u001b[0m\n\u001b[1;32m     22\u001b[0m \u001b[0;32mfor\u001b[0m \u001b[0mlabel\u001b[0m\u001b[0;34m,\u001b[0m \u001b[0m_\u001b[0m \u001b[0;32min\u001b[0m \u001b[0mcounters\u001b[0m\u001b[0;34m.\u001b[0m\u001b[0mitems\u001b[0m\u001b[0;34m(\u001b[0m\u001b[0;34m)\u001b[0m\u001b[0;34m:\u001b[0m\u001b[0;34m\u001b[0m\u001b[0;34m\u001b[0m\u001b[0m\n\u001b[1;32m     23\u001b[0m     \u001b[0mrow_ix\u001b[0m \u001b[0;34m=\u001b[0m \u001b[0mnp\u001b[0m\u001b[0;34m.\u001b[0m\u001b[0mwhere\u001b[0m\u001b[0;34m(\u001b[0m\u001b[0mys\u001b[0m\u001b[0;34m==\u001b[0m\u001b[0mlabel\u001b[0m\u001b[0;34m)\u001b[0m\u001b[0;34m[\u001b[0m\u001b[0;36m0\u001b[0m\u001b[0;34m]\u001b[0m\u001b[0;34m\u001b[0m\u001b[0;34m\u001b[0m\u001b[0m\n\u001b[0;32m---> 24\u001b[0;31m     \u001b[0max1\u001b[0m \u001b[0;34m=\u001b[0m \u001b[0mplt\u001b[0m\u001b[0;34m.\u001b[0m\u001b[0mscatter\u001b[0m\u001b[0;34m(\u001b[0m\u001b[0mxs\u001b[0m\u001b[0;34m[\u001b[0m\u001b[0mrow_ix\u001b[0m\u001b[0;34m,\u001b[0m \u001b[0;34m'docNet_max'\u001b[0m\u001b[0;34m]\u001b[0m\u001b[0;34m,\u001b[0m \u001b[0mxs\u001b[0m\u001b[0;34m[\u001b[0m\u001b[0mrow_ix\u001b[0m\u001b[0;34m,\u001b[0m\u001b[0;34m'State'\u001b[0m\u001b[0;34m]\u001b[0m\u001b[0;34m,\u001b[0m \u001b[0mlabel\u001b[0m\u001b[0;34m=\u001b[0m\u001b[0mstr\u001b[0m\u001b[0;34m(\u001b[0m\u001b[0mlabel\u001b[0m\u001b[0;34m)\u001b[0m\u001b[0;34m,\u001b[0m \u001b[0malpha\u001b[0m\u001b[0;34m=\u001b[0m\u001b[0;36m0.3\u001b[0m\u001b[0;34m)\u001b[0m\u001b[0;34m\u001b[0m\u001b[0;34m\u001b[0m\u001b[0m\n\u001b[0m\u001b[1;32m     25\u001b[0m \u001b[0;34m\u001b[0m\u001b[0m\n\u001b[1;32m     26\u001b[0m \u001b[0mplt\u001b[0m\u001b[0;34m.\u001b[0m\u001b[0mlegend\u001b[0m\u001b[0;34m(\u001b[0m\u001b[0;34m)\u001b[0m\u001b[0;34m\u001b[0m\u001b[0;34m\u001b[0m\u001b[0m\n",
      "\u001b[0;31mIndexError\u001b[0m: only integers, slices (`:`), ellipsis (`...`), numpy.newaxis (`None`) and integer or boolean arrays are valid indices"
     ]
    }
   ],
   "source": [
    "import imblearn\n",
    "from collections import Counter\n",
    "from imblearn.over_sampling import BorderlineSMOTE\n",
    "from imblearn.under_sampling import RandomUnderSampler\n",
    "from imblearn.pipeline import Pipeline\n",
    "from sklearn.metrics import classification_report\n",
    "\n",
    "counter = Counter(y)\n",
    "print(counter)\n",
    "# define pipeline\n",
    "over = BorderlineSMOTE(sampling_strategy=0.3)\n",
    "under = RandomUnderSampler(sampling_strategy=0.7)\n",
    "steps = [('o', over),('u', under)]\n",
    "pipeline = Pipeline(steps = steps)\n",
    "# transform the dataset\n",
    "xs,ys = pipeline.fit_resample(x,y)\n",
    "# summarize new class distribution\n",
    "counters = Counter(ys)\n",
    "print(counters)\n",
    "# scatter plot of examples by class label\n",
    "\n",
    "for label, _ in counters.items():\n",
    "    row_ix = np.where(ys==label)[0]\n",
    "    ax1 = plt.scatter(xs[row_ix, 'docNet_max'], xs[row_ix,'State'], label=str(label), alpha=0.3)\n",
    "    \n",
    "plt.legend()\n",
    "plt.show()"
   ]
  },
  {
   "cell_type": "code",
   "execution_count": 455,
   "metadata": {},
   "outputs": [
    {
     "name": "stdout",
     "output_type": "stream",
     "text": [
      "Counter({0: 3269, 1: 337})\n",
      " Logit Train Accuracy : 0.589\n",
      " Logit Train Precision: 0.951 (no fraud) and 0.737 (fraud)\n",
      " Logit Train Recall   : 0.981 (no fraud) and 0.507 (fraud)\n",
      " Logit Train F1 Score : 0.966 (no fraud) and 0.601 (fraud)\n"
     ]
    },
    {
     "data": {
      "image/png": "[encoded data removed]",
      "text/plain": [
       "<Figure size 432x288 with 1 Axes>"
      ]
     },
     "metadata": {
      "needs_background": "light"
     },
     "output_type": "display_data"
    },
    {
     "name": "stdout",
     "output_type": "stream",
     "text": [
      " Logit Train Accuracy : 0.573\n",
      " Logit Train Precision: 0.953 (no fraud) and 0.711 (fraud)\n",
      " Logit Train Recall   : 0.977 (no fraud) and 0.538 (fraud)\n",
      " Logit Train F1 Score : 0.965 (no fraud) and 0.613 (fraud)\n"
     ]
    },
    {
     "data": {
      "image/png": "[encoded data removed]",
      "text/plain": [
       "<Figure size 432x288 with 1 Axes>"
      ]
     },
     "metadata": {
      "needs_background": "light"
     },
     "output_type": "display_data"
    }
   ],
   "source": [
    "import imblearn\n",
    "from collections import Counter\n",
    "from imblearn.over_sampling import BorderlineSMOTE\n",
    "from imblearn.under_sampling import RandomUnderSampler\n",
    "from imblearn.pipeline import Pipeline\n",
    "from sklearn.metrics import classification_report\n",
    "from sklearn.model_selection import RepeatedStratifiedKFold\n",
    "from sklearn.model_selection import train_test_split as tts\n",
    "\n",
    "cv = RepeatedStratifiedKFold(n_splits = 10,\n",
    "                             n_repeats = 2,\n",
    "                             random_state = 100)\n",
    "\n",
    "\n",
    "logitcv_f1 = linear_model.LogisticRegressionCV(Cs = 10, # grid regularization\n",
    "                                               penalty='l1',\n",
    "                                               scoring = 'f1',\n",
    "                                               cv = cv,\n",
    "                                               solver = 'liblinear',\n",
    "                                               max_iter=1e5)\n",
    "\n",
    "counter = Counter(y_train)\n",
    "print(counter)\n",
    "# define pipeline\n",
    "over = BorderlineSMOTE(sampling_strategy=0.2)\n",
    "under = RandomUnderSampler(sampling_strategy=0.8)\n",
    "steps = [('over', over), ('under', under), ('model', logitcv_f1)]\n",
    "pipeline = Pipeline(steps=steps)\n",
    "\n",
    "pipeline.fit(x_train,y_train)\n",
    "\n",
    "logitMetrics(x_train,y_train, pipeline)\n",
    "\n",
    "logitMetrics(x_test,y_test, pipeline)"
   ]
  },
  {
   "cell_type": "markdown",
   "metadata": {},
   "source": [
    "## Summary\n",
    "Logistic Regression acheived a high of 0.65 F1-Score on the test set using a certain set of features in penalized model. Adding SMOTE upsampling and undersampling has not helped raise that score higher however."
   ]
  },
  {
   "cell_type": "markdown",
   "metadata": {},
   "source": [
    "## Pipelining Example: Chaining a PCA and a LogReg"
   ]
  },
  {
   "cell_type": "code",
   "execution_count": 478,
   "metadata": {},
   "outputs": [
    {
     "data": {
      "text/plain": [
       "dict_keys(['C', 'class_weight', 'dual', 'fit_intercept', 'intercept_scaling', 'l1_ratio', 'max_iter', 'multi_class', 'n_jobs', 'penalty', 'random_state', 'solver', 'tol', 'verbose', 'warm_start'])"
      ]
     },
     "execution_count": 478,
     "metadata": {},
     "output_type": "execute_result"
    }
   ],
   "source": [
    "logit.get_params().keys()"
   ]
  },
  {
   "cell_type": "code",
   "execution_count": 483,
   "metadata": {},
   "outputs": [
    {
     "name": "stdout",
     "output_type": "stream",
     "text": [
      "Best parameter (CV score=0.920):\n",
      "{'logistic__C': 0.046415888336127774, 'pca__n_components': 45}\n"
     ]
    }
   ],
   "source": [
    "from sklearn import datasets\n",
    "from sklearn.decomposition import PCA\n",
    "from sklearn.linear_model import LogisticRegression\n",
    "from sklearn.pipeline import Pipeline\n",
    "from sklearn.model_selection import GridSearchCV\n",
    "\n",
    "\n",
    "# Define a pipeline to search for the best combination of PCA truncation\n",
    "# and classifier regularization.\n",
    "pca = PCA()\n",
    "# set the tolerance to a large value to make the example faster\n",
    "logistic = LogisticRegression(max_iter=10000, tol=0.1)\n",
    "pipe = Pipeline(steps=[('pca', pca), ('logistic', logistic)])\n",
    "\n",
    "X_digits, y_digits = datasets.load_digits(return_X_y=True)\n",
    "\n",
    "# Parameters of pipelines can be set using ‘__’ separated parameter names:\n",
    "param_grid = {\n",
    "    'pca__n_components': [5, 15, 30, 45, 64],\n",
    "    'logistic__C': np.logspace(-4, 4, 4),\n",
    "}\n",
    "search = GridSearchCV(pipe, param_grid, n_jobs=1)\n",
    "search.fit(X_digits, y_digits)\n",
    "print(\"Best parameter (CV score=%0.3f):\" % search.best_score_)\n",
    "print(search.best_params_)\n"
   ]
  },
  {
   "cell_type": "code",
   "execution_count": 487,
   "metadata": {},
   "outputs": [
    {
     "data": {
      "image/png": "[encoded data removed]",
      "text/plain": [
       "<Figure size 432x432 with 2 Axes>"
      ]
     },
     "metadata": {
      "needs_background": "light"
     },
     "output_type": "display_data"
    }
   ],
   "source": [
    "# Plot the PCA spectrum\n",
    "pca.fit(X_digits)\n",
    "\n",
    "fig, (ax0, ax1) = plt.subplots(nrows=2, sharex=True, figsize=(6, 6))\n",
    "ax0.plot(np.arange(1, pca.n_components_ + 1),\n",
    "         pca.explained_variance_ratio_, '+', linewidth=2)\n",
    "ax0.set_ylabel('PCA explained variance ratio')\n",
    "\n",
    "ax0.axvline(search.best_estimator_.named_steps['pca'].n_components,\n",
    "            linestyle=':', label='n_components chosen')\n",
    "ax0.legend(prop=dict(size=12))\n",
    "\n",
    "# For each number of components, find the best classifier results\n",
    "results = pd.DataFrame(search.cv_results_)\n",
    "components_col = 'param_pca__n_components'\n",
    "best_clfs = results.groupby(components_col).apply(\n",
    "    lambda g: g.nlargest(1, 'mean_test_score'))\n",
    "\n",
    "best_clfs.plot(x=components_col, y='mean_test_score', yerr='std_test_score',\n",
    "               legend=False, ax=ax1)\n",
    "ax1.set_ylabel('Classification accuracy (val)')\n",
    "ax1.set_xlabel('n_components')\n",
    "\n",
    "plt.xlim(-1, 70)\n",
    "\n",
    "plt.tight_layout()\n",
    "plt.show()"
   ]
  },
  {
   "cell_type": "markdown",
   "metadata": {},
   "source": [
    "## Applying a Pipeline to our Problem"
   ]
  },
  {
   "cell_type": "code",
   "execution_count": 531,
   "metadata": {},
   "outputs": [],
   "source": [
    "y = data['PotentialFraud']\n",
    "x = data.drop(columns = ['DeductibleAmtPaid','State','NumProc', 'Age',\n",
    "                         'Alzheimer', 'HeartFailure','Cancer', 'ObstrPulmonary', \n",
    "                        'Depression', 'Diabetes','Osteoporasis', 'NumChronics_Range',\n",
    "                          'RheumatoidArthritis', 'Stroke','Gender', 'ClaimDays', 'docMANN',\n",
    "                          'NumChronics','PotentialFraud'])\n"
   ]
  },
  {
   "cell_type": "code",
   "execution_count": 544,
   "metadata": {},
   "outputs": [
    {
     "data": {
      "text/plain": [
       "GridSearchCV(cv=RepeatedStratifiedKFold(n_repeats=2, n_splits=5, random_state=42),\n",
       "             estimator=Pipeline(memory='/var/folders/wt/d16lpjjn7lg55klqpl7t286r0000gn/T/tmp_1o09xv9',\n",
       "                                steps=[('scaler', StandardScaler()),\n",
       "                                       ('pca', PCA()),\n",
       "                                       ('logit',\n",
       "                                        LogisticRegression(max_iter=10000,\n",
       "                                                           random_state=2,\n",
       "                                                           solver='liblinear',\n",
       "                                                           tol=0.1))]),\n",
       "             n_jobs=-1,\n",
       "             param_grid={'logit__C': array([1.00000000e-04, 7.74263683e-04, 5.99484250e-03, 4.64158883e-02,\n",
       "       3.59381366e-01, 2.78255940e+00, 2.15443469e+01, 1.66810054e+02,\n",
       "       1.29154967e+03, 1.00000000e+04]),\n",
       "                         'logit__penalty': ['l1', 'l2'],\n",
       "                         'pca__n_components': [5, 15, 30, 45, 64]},\n",
       "             refit=False, scoring=['f1_weighted'])"
      ]
     },
     "execution_count": 544,
     "metadata": {},
     "output_type": "execute_result"
    }
   ],
   "source": [
    "from tempfile import mkdtemp\n",
    "from shutil import rmtree\n",
    "from sklearn.decomposition import PCA\n",
    "from sklearn.linear_model import LogisticRegression\n",
    "from sklearn.pipeline import Pipeline\n",
    "from sklearn.model_selection import GridSearchCV,RepeatedStratifiedKFold\n",
    "from sklearn.metrics import classification_report\n",
    "from sklearn.preprocessing import StandardScaler\n",
    "\n",
    "# Define preprocessor\n",
    "scaler = StandardScaler()\n",
    "\n",
    "# Define a pipeline to search for the best combination of PCA truncation\n",
    "# and classifier regularization.\n",
    "pca = PCA()\n",
    "# set the tolerance to a large value to make the example faster\n",
    "logit = LogisticRegression(max_iter=10000, tol=0.1, \n",
    "                           solver = 'liblinear', random_state = 2)\n",
    "cachedir = mkdtemp()\n",
    "\n",
    "pipe = Pipeline(steps=[\n",
    "    ('scaler', scaler), \n",
    "    ('pca', pca), \n",
    "    ('logit', logit)], memory = cachedir)\n",
    "\n",
    "grid_params = {\n",
    "    'logit__C': np.logspace(-4,4,10),\n",
    "    'logit__penalty': ['l1','l2'],\n",
    "    'pca__n_components': [5, 15, 30, 45, 64],\n",
    "    \n",
    "}\n",
    "\n",
    "rskf = RepeatedStratifiedKFold(n_splits=5, n_repeats=2, random_state=42)\n",
    "\n",
    "cv = GridSearchCV(\n",
    "    pipe,\n",
    "    grid_params,\n",
    "    cv = rskf,\n",
    "    scoring = ['f1_weighted'],\n",
    "    refit = False,\n",
    "    n_jobs = -1\n",
    ")\n",
    "\n",
    "x_train, x_test, y_train, y_test = ms.train_test_split(x,y, \n",
    "                                                       test_size=1.0/3, random_state=0)\n",
    "\n",
    "cv.fit(x_train,y_train)\n"
   ]
  },
  {
   "cell_type": "code",
   "execution_count": 542,
   "metadata": {},
   "outputs": [
    {
     "data": {
      "text/plain": [
       "['__abstractmethods__',\n",
       " '__class__',\n",
       " '__delattr__',\n",
       " '__dict__',\n",
       " '__dir__',\n",
       " '__doc__',\n",
       " '__eq__',\n",
       " '__format__',\n",
       " '__ge__',\n",
       " '__getattribute__',\n",
       " '__getstate__',\n",
       " '__gt__',\n",
       " '__hash__',\n",
       " '__init__',\n",
       " '__init_subclass__',\n",
       " '__le__',\n",
       " '__lt__',\n",
       " '__module__',\n",
       " '__ne__',\n",
       " '__new__',\n",
       " '__reduce__',\n",
       " '__reduce_ex__',\n",
       " '__repr__',\n",
       " '__setattr__',\n",
       " '__setstate__',\n",
       " '__sizeof__',\n",
       " '__str__',\n",
       " '__subclasshook__',\n",
       " '__weakref__',\n",
       " '_abc_impl',\n",
       " '_check_is_fitted',\n",
       " '_check_n_features',\n",
       " '_estimator_type',\n",
       " '_format_results',\n",
       " '_get_param_names',\n",
       " '_get_tags',\n",
       " '_more_tags',\n",
       " '_pairwise',\n",
       " '_repr_html_',\n",
       " '_repr_html_inner',\n",
       " '_repr_mimebundle_',\n",
       " '_required_parameters',\n",
       " '_run_search',\n",
       " '_validate_data',\n",
       " 'classes_',\n",
       " 'cv',\n",
       " 'cv_results_',\n",
       " 'decision_function',\n",
       " 'error_score',\n",
       " 'estimator',\n",
       " 'fit',\n",
       " 'get_params',\n",
       " 'iid',\n",
       " 'inverse_transform',\n",
       " 'multimetric_',\n",
       " 'n_features_in_',\n",
       " 'n_jobs',\n",
       " 'n_splits_',\n",
       " 'param_grid',\n",
       " 'pre_dispatch',\n",
       " 'predict',\n",
       " 'predict_log_proba',\n",
       " 'predict_proba',\n",
       " 'refit',\n",
       " 'return_train_score',\n",
       " 'score',\n",
       " 'scorer_',\n",
       " 'scoring',\n",
       " 'set_params',\n",
       " 'transform',\n",
       " 'verbose']"
      ]
     },
     "execution_count": 542,
     "metadata": {},
     "output_type": "execute_result"
    }
   ],
   "source": [
    "dir(cv)\n",
    "# logitMetrics(x_train,y_train, cv)\n",
    "\n",
    "# logitMetrics(x_test,y_test, cv)"
   ]
  },
  {
   "cell_type": "code",
   "execution_count": 493,
   "metadata": {},
   "outputs": [
    {
     "data": {
      "text/plain": [
       "Index(['Age', 'Gender', 'BeneID', 'ClaimID', 'State', 'NumProc', 'NumDiag',\n",
       "       'NumChronics', 'InscClaimAmtReimbursed', 'DeductibleAmtPaid',\n",
       "       'ClaimDays', 'WhetherDead', 'Alzheimer', 'HeartFailure',\n",
       "       'KidneyDisease', 'Cancer', 'ObstrPulmonary', 'Depression', 'Diabetes',\n",
       "       'IschemicHeart', 'Osteoporasis', 'RheumatoidArthritis', 'Stroke',\n",
       "       'Age_Range', 'NumProc_Range', 'NumDiag_Range', 'NumChronics_Range',\n",
       "       'InscClaimAmtReimbursed_Range', 'ClaimDays_Range', 'Doctors',\n",
       "       'PotentialFraud', 'docDegMax', 'docBtwnMean', 'docEignMean', 'docMANN',\n",
       "       'patDegMax', 'patBtwnMean', 'patEignMean', 'patMANN', 'LargeClaims'],\n",
       "      dtype='object')"
      ]
     },
     "execution_count": 493,
     "metadata": {},
     "output_type": "execute_result"
    }
   ],
   "source": [
    "print(\"Best parameter (CV score=%0.3f):\" % search.best_score_)\n",
    "print(search.best_params_)"
   ]
  },
  {
   "cell_type": "code",
   "execution_count": null,
   "metadata": {},
   "outputs": [],
   "source": [
    "from sklearn.datasets import make_classification"
   ]
  },
  {
   "cell_type": "code",
   "execution_count": null,
   "metadata": {},
   "outputs": [],
   "source": [
    "X,y = make_classification(n_samples=10000, n_features=2, \n",
    "                          n_redundant=0, n_clusters_per_class=1, \n",
    "                          weights=[0.99], flip_y=0, random_state=1)"
   ]
  },
  {
   "cell_type": "code",
   "execution_count": null,
   "metadata": {},
   "outputs": [],
   "source": [
    "from collections import Counter\n",
    "counter = Counter(y)"
   ]
  },
  {
   "cell_type": "code",
   "execution_count": null,
   "metadata": {},
   "outputs": [],
   "source": [
    "counter"
   ]
  },
  {
   "cell_type": "code",
   "execution_count": null,
   "metadata": {},
   "outputs": [],
   "source": [
    "for label, _ in counter.items():\n",
    "    row_ix = np.where(y == label)[0]\n",
    "    plt.scatter(X[row_ix,0], X[row_ix,1], label=str(label))\n",
    "plt.legend()\n",
    "plt.show()"
   ]
  },
  {
   "cell_type": "code",
   "execution_count": null,
   "metadata": {},
   "outputs": [],
   "source": [
    "physData = data[['AttendingPhysician','OperatingPhysician','OtherPhysician','Provider','State','PotentialFraud']]\n",
    "physMelt = physData.melt(id_vars=['Provider','State','PotentialFraud'],var_name='Type', value_name='Doctor').dropna(axis=0).drop_duplicates()\n",
    "physNet = physMelt.groupby(['Doctor','PotentialFraud'])['Provider'].nunique().reset_index()"
   ]
  },
  {
   "cell_type": "code",
   "execution_count": null,
   "metadata": {},
   "outputs": [],
   "source": [
    "fraudCount = physNet.groupby(['Provider','PotentialFraud'])['Doctor'].count().reset_index()"
   ]
  },
  {
   "cell_type": "code",
   "execution_count": null,
   "metadata": {},
   "outputs": [],
   "source": [
    "import numpy as np\n",
    "fraudCount['logCount'] = np.log(fraudCount.Doctor+1)"
   ]
  },
  {
   "cell_type": "code",
   "execution_count": null,
   "metadata": {},
   "outputs": [],
   "source": [
    "plt.figure(figsize=(12,6))\n",
    "\n",
    "\n",
    "ax2 = sns.barplot(x = 'Provider',y = 'Doctor', hue = 'PotentialFraud', data = fraudCount)\n",
    "ax2.set(xlabel='# Providers', ylabel = 'Log Count of Doctors')\n",
    "plt.tight_layout()\n",
    "ax2.set(yscale=\"log\")\n",
    "plt.annotate('Shows log count of \\ndoctors listed on claims for \\nmultiple providers\\n by fraud flags', (4.6, 2000.5))\n",
    "\n",
    "ax2.figure.savefig(\"./visualizations/plots/numProviders.png\",bbox_inches='tight')"
   ]
  },
  {
   "cell_type": "code",
   "execution_count": null,
   "metadata": {},
   "outputs": [],
   "source": [
    "physNet.groupby('State').count()"
   ]
  },
  {
   "cell_type": "code",
   "execution_count": null,
   "metadata": {},
   "outputs": [],
   "source": [
    "beneData = data[['BeneID','Provider','PotentialFraud']]\n",
    "beneNet = beneData.groupby(['BeneID','PotentialFraud'])['Provider'].nunique().reset_index()"
   ]
  },
  {
   "cell_type": "code",
   "execution_count": null,
   "metadata": {},
   "outputs": [],
   "source": [
    "d = data.groupby(['Age','PotentialFraud'])['Provider'].nunique().reset_index()\n",
    "pivoted = d.pivot_table(values='Provider', index = 'Age', columns='PotentialFraud')\n",
    "# ax1 = sns.lineplot(x = 'Age', y = 'Provider', hue = 'PotentialFraud', data = d)\n",
    "# ax1.set(yscale=\"log\")"
   ]
  },
  {
   "cell_type": "code",
   "execution_count": null,
   "metadata": {},
   "outputs": [],
   "source": [
    "pivot_scale = (pivoted[['?','No','Yes']] - pivoted.mean(axis=0))/pivoted.std(axis=0)"
   ]
  },
  {
   "cell_type": "code",
   "execution_count": null,
   "metadata": {},
   "outputs": [],
   "source": [
    "pivot_scale = pivot_scale.reset_index()"
   ]
  },
  {
   "cell_type": "code",
   "execution_count": null,
   "metadata": {},
   "outputs": [],
   "source": [
    "pivot_scale = pivot_scale.melt(id_vars = 'Age')"
   ]
  },
  {
   "cell_type": "code",
   "execution_count": null,
   "metadata": {},
   "outputs": [],
   "source": [
    "def plot_count_across_fraud(data, feature, plotType = 'line'):\n",
    "    d = data.groupby([feature,'PotentialFraud'])['Provider'].nunique().reset_index()\n",
    "    pivoted = d.pivot_table(values='Provider', index = feature, columns='PotentialFraud')\n",
    "    pivot_scale = (pivoted[['?','No','Yes']] - pivoted.mean(axis=0))/pivoted.std(axis=0)\n",
    "    pivot_scale = pivot_scale.reset_index()\n",
    "    d_scaled = pivot_scale.melt(id_vars = feature)\n",
    "    \n",
    "    if plotType == 'line':\n",
    "        ax1 = sns.lineplot(x = feature, hue = 'PotentialFraud', y = 'value', data=d_scaled)\n",
    "    elif plotType == 'scatter':\n",
    "        ax1 = sns.scatterplot(x = feature, hue = 'PotentialFraud', y = 'value', data=d_scaled)\n",
    "    ax1.set(title='Standardized Number of Providers\\n that filed Claims matching this Feature')\n",
    "    plt.tight_layout()\n",
    "    return\n",
    "\n"
   ]
  },
  {
   "cell_type": "code",
   "execution_count": null,
   "metadata": {},
   "outputs": [],
   "source": [
    "plot_count_across_fraud(data, 'Age')\n"
   ]
  },
  {
   "cell_type": "code",
   "execution_count": null,
   "metadata": {},
   "outputs": [],
   "source": [
    "d = data.groupby(['Age','PotentialFraud'])['ClaimID'].count().reset_index()\n",
    "pivoted = d.pivot_table(values='ClaimID', index = 'Age', columns='PotentialFraud')\n",
    "pivot_scale = (pivoted[['?','No','Yes']] - pivoted.mean(axis=0))/pivoted.std(axis=0)\n",
    "pivot_scale = pivot_scale.reset_index()\n",
    "d_scaled = pivot_scale.melt(id_vars = 'Age')"
   ]
  },
  {
   "cell_type": "code",
   "execution_count": null,
   "metadata": {},
   "outputs": [],
   "source": [
    "data.columns"
   ]
  },
  {
   "cell_type": "code",
   "execution_count": null,
   "metadata": {},
   "outputs": [],
   "source": [
    "def reg_proc(feature):\n",
    "    regressor = linear_model.LogisticRegression()\n",
    "    regressor.fit(X, y)\n",
    "\n",
    "    y_pred = regressor.predict(X)        \n",
    "    return(y_pred)\n",
    "\n",
    "pred_df = pd.DataFrame({lab: reg_proc(lab) for lab in countries.columns}, \n",
    "                       columns = countries.columns)"
   ]
  },
  {
   "cell_type": "code",
   "execution_count": null,
   "metadata": {},
   "outputs": [],
   "source": []
  },
  {
   "cell_type": "code",
   "execution_count": null,
   "metadata": {},
   "outputs": [],
   "source": []
  },
  {
   "cell_type": "code",
   "execution_count": null,
   "metadata": {},
   "outputs": [],
   "source": [
    "\n",
    "ax1 = sns.lineplot(x = 'Age', hue = 'PotentialFraud', y = 'value', data=pivot_scale)\n",
    "\n",
    "#ax1.set(xlabel='# Providers', ylabel='Log Count of Patients')\n",
    "\n",
    "#plt.annotate('Shows log count of patients that are on claims filed at \\nmultiple providers by fraud flags', (8.6, 10005))\n",
    "\n",
    "#plt.tight_layout()\n",
    "#ax1.figure.savefig(\"./visualizations/plots/multiProvider-Bene.png\",bbox_inches='tight')"
   ]
  },
  {
   "cell_type": "code",
   "execution_count": null,
   "metadata": {},
   "outputs": [],
   "source": [
    "data.groupby(['Status','WhetherDead'])['BeneID'].count().reset_index()"
   ]
  },
  {
   "cell_type": "code",
   "execution_count": null,
   "metadata": {},
   "outputs": [],
   "source": [
    "print(379/(379+49646))\n",
    "print(4792/(4792+638786))\n"
   ]
  },
  {
   "cell_type": "code",
   "execution_count": null,
   "metadata": {},
   "outputs": [],
   "source": [
    "data.groupby(['Status','PotentialFraud'])['ClaimID'].count().reset_index().head(20)"
   ]
  },
  {
   "cell_type": "code",
   "execution_count": null,
   "metadata": {},
   "outputs": [],
   "source": [
    "physData = data[['AttendingPhysician','OperatingPhysician','OtherPhysician','State','County']]\n",
    "physMelt = physData.melt(id_vars=['State','County'],var_name='Type', value_name='Doctor').dropna(axis=0)\n",
    "physNet = physMelt.groupby(['Doctor','State'])['County'].nunique().reset_index()\n",
    "\n",
    "plt.figure(figsize=(12,6))\n",
    "\n",
    "for state in physNet.State.unique():\n",
    "    filename = \"./visualizations/plots/crossing_county/Doctors/State_\" + str(state) + \".png\"\n",
    "    ax1 = sns.countplot(x = 'County', data=physNet[physNet.State==state], palette = 'muted');\n",
    "    ax1.set(xlabel='Number of Counties Doctors Operate in for State ' + str(state), \n",
    "            ylabel='Count of Doctors');\n",
    "    ax1.figure.savefig(filename,bbox_inches='tight')"
   ]
  },
  {
   "cell_type": "code",
   "execution_count": null,
   "metadata": {},
   "outputs": [],
   "source": [
    "beneData = data[['BeneID','Provider','State','County']]\n",
    "beneNet = beneData.groupby(['BeneID','Provider'])['County'].nunique().reset_index()\n",
    "\n",
    "plt.figure(figsize=(12,6))\n",
    "\n",
    "\n",
    "ax1 = sns.countplot(x = 'County', data=beneNet, palette = 'muted')\n",
    "\n",
    "ax1.set(xlabel='Number of Counties', ylabel='Number of Doctors')\n",
    "\n",
    "#ax1.figure.savefig(\"./visualizations/plots/multistateDoctors.png\",bbox_inches='tight')"
   ]
  },
  {
   "cell_type": "code",
   "execution_count": null,
   "metadata": {},
   "outputs": [],
   "source": [
    "target.copy(deep=True)"
   ]
  },
  {
   "cell_type": "code",
   "execution_count": null,
   "metadata": {},
   "outputs": [],
   "source": [
    "data.groupby('Provider')['State'].nunique().to_dict()"
   ]
  },
  {
   "cell_type": "code",
   "execution_count": null,
   "metadata": {},
   "outputs": [],
   "source": [
    "plt.figure(figsize=(6,8))\n",
    "\n",
    "ax1 = plt.subplot(311)\n",
    "\n",
    "ax1 = sns.distplot(a = numClaims[numClaims.PotentialFraud=='?']['ClaimID'], kde=False)\n",
    "ax1.set(yscale=\"log\")\n",
    "ax1.set(xlabel='Number of Claims')\n",
    "plt.tight_layout()\n",
    "plt.xlim(0,9000)\n",
    "plt.annotate('Fraud: ?', (1000.6, 105))\n",
    "\n",
    "\n",
    "ax2 = plt.subplot(312)\n",
    "ax2 = sns.distplot(a = numClaims[numClaims.PotentialFraud=='Yes']['ClaimID'], kde=False)\n",
    "ax2.set(yscale=\"log\")\n",
    "ax2.set(xlabel='Number of Claims')\n",
    "plt.tight_layout()\n",
    "plt.xlim(0,9000)\n",
    "plt.annotate('Fraud: Yes', (1000.6, 105))\n",
    "\n",
    "ax3 = plt.subplot(313)\n",
    "ax3 = sns.distplot(a = numClaims[numClaims.PotentialFraud=='No']['ClaimID'], kde=False)\n",
    "ax3.set(yscale=\"log\")\n",
    "ax3.set(xlabel='Number of Claims')\n",
    "plt.tight_layout()\n",
    "plt.xlim(0,9000)\n",
    "plt.annotate('Fraud: No', (1000.6, 105))"
   ]
  },
  {
   "cell_type": "code",
   "execution_count": null,
   "metadata": {},
   "outputs": [],
   "source": [
    "provData = data[['Provider','PotentialFraud','State','County']]\n",
    "provNet = provData.groupby(['Provider','PotentialFraud'])['State'].nunique().reset_index()\n",
    "\n",
    "plt.figure(figsize=(12,6))\n",
    "\n",
    "\n",
    "ax1 = sns.countplot(x = 'State', hue = 'PotentialFraud', data=provNet, palette = 'muted')\n",
    "\n",
    "ax1.set(xlabel='Number of States', ylabel='Number of Providers operating')\n",
    "ax1.set(yscale=\"log\")\n",
    "ax1.figure.savefig(\"./visualizations/plots/multistateProviders.png\",bbox_inches='tight')"
   ]
  },
  {
   "cell_type": "code",
   "execution_count": null,
   "metadata": {},
   "outputs": [],
   "source": [
    "provData = data[['Provider','State','County']]\n",
    "provNet = provData.groupby(['Provider','State'])['County'].nunique().reset_index().drop_duplicates()\n",
    "\n",
    "plt.figure(figsize=(12,6))\n",
    "\n",
    "for state in provNet.State.unique():\n",
    "    filename = \"./visualizations/plots/crossing_county/Providers/State_\" + str(state) + \".png\"\n",
    "    ax1 = sns.countplot(x = 'County', data=provNet[provNet.State==state], palette = 'muted');\n",
    "    ax1.set(xlabel='Number of Counties Providers Operate in for State ' + str(state), \n",
    "            ylabel='Count of Providers');\n",
    "    ax1.figure.savefig(filename,bbox_inches='tight')"
   ]
  }
 ],
 "metadata": {
  "kernelspec": {
   "display_name": "Python 3",
   "language": "python",
   "name": "python3"
  },
  "language_info": {
   "codemirror_mode": {
    "name": "ipython",
    "version": 3
   },
   "file_extension": ".py",
   "mimetype": "text/x-python",
   "name": "python",
   "nbconvert_exporter": "python",
   "pygments_lexer": "ipython3",
   "version": "3.7.4"
  }
 },
 "nbformat": 4,
 "nbformat_minor": 2
}
