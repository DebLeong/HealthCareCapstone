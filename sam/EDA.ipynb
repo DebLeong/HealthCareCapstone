{
 "cells": [
  {
   "cell_type": "code",
   "execution_count": 2,
   "metadata": {},
   "outputs": [],
   "source": [
    "import numpy as np\n",
    "import pandas as pd\n",
    "import scipy.stats\n",
    "\n",
    "%matplotlib inline\n",
    "import matplotlib.pyplot as plt\n",
    "import seaborn as sns"
   ]
  },
  {
   "cell_type": "code",
   "execution_count": 3,
   "metadata": {},
   "outputs": [
    {
     "name": "stdout",
     "output_type": "stream",
     "text": [
      "(138556, 25)\n",
      "(40474, 30)\n",
      "(517737, 27)\n",
      "(5410, 2)\n"
     ]
    }
   ],
   "source": [
    "bene = pd.read_csv('./data/Train_Beneficiary.csv')\n",
    "inpat = pd.read_csv('./data/Train_Inpatient.csv')\n",
    "outpat = pd.read_csv('./data/Train_Outpatient.csv')\n",
    "target = pd.read_csv('./data/Train.csv')\n",
    "\n",
    "print(bene.shape)\n",
    "print(inpat.shape)\n",
    "print(outpat.shape)\n",
    "print(target.shape)"
   ]
  },
  {
   "cell_type": "code",
   "execution_count": 4,
   "metadata": {},
   "outputs": [],
   "source": [
    "bene = bene.replace({'ChronicCond_Alzheimer': 2, 'ChronicCond_Heartfailure': 2, 'ChronicCond_KidneyDisease': 2,\n",
    "                           'ChronicCond_Cancer': 2, 'ChronicCond_ObstrPulmonary': 2, 'ChronicCond_Depression': 2, \n",
    "                           'ChronicCond_Diabetes': 2, 'ChronicCond_IschemicHeart': 2, 'ChronicCond_Osteoporasis': 2, \n",
    "                           'ChronicCond_rheumatoidarthritis': 2, 'ChronicCond_stroke': 2, 'Gender': 2 }, 0)\n",
    "bene = bene.replace({'RenalDiseaseIndicator': 'Y'}, 1).astype({'RenalDiseaseIndicator': 'int64'})"
   ]
  },
  {
   "cell_type": "code",
   "execution_count": 5,
   "metadata": {},
   "outputs": [
    {
     "data": {
      "image/png": "[encoded data removed]",
      "text/plain": [
       "<Figure size 720x432 with 1 Axes>"
      ]
     },
     "metadata": {
      "needs_background": "light"
     },
     "output_type": "display_data"
    }
   ],
   "source": [
    "plt.title(\"Potential Fraud Test distribution\")\n",
    "target.groupby( [\"PotentialFraud\"] ).Provider.count().plot(kind = \"bar\", figsize = (10,6))\n",
    "plt.xlabel('Status')\n",
    "plt.ylabel('Count')\n",
    "plt.show()"
   ]
  },
  {
   "cell_type": "markdown",
   "metadata": {},
   "source": [
    "Change label to binary for fraud target"
   ]
  },
  {
   "cell_type": "code",
   "execution_count": 6,
   "metadata": {},
   "outputs": [],
   "source": [
    "target[\"target\"] = np.where(target.PotentialFraud == \"Yes\", 1, 0) \n"
   ]
  },
  {
   "cell_type": "markdown",
   "metadata": {},
   "source": [
    "Add Features to flag if patient is dead\n"
   ]
  },
  {
   "cell_type": "code",
   "execution_count": 7,
   "metadata": {},
   "outputs": [],
   "source": [
    "bene['WhetherDead']= 0\n",
    "bene.loc[bene.DOD.notna(),'WhetherDead'] = 1"
   ]
  },
  {
   "cell_type": "markdown",
   "metadata": {},
   "source": [
    "Create Flag Before merge to track whats inpatient and whats outpatient"
   ]
  },
  {
   "cell_type": "code",
   "execution_count": 8,
   "metadata": {},
   "outputs": [],
   "source": [
    "inpat['Status'] = 'in'\n",
    "outpat['Status'] = 'out'"
   ]
  },
  {
   "cell_type": "code",
   "execution_count": null,
   "metadata": {},
   "outputs": [],
   "source": []
  },
  {
   "cell_type": "markdown",
   "metadata": {},
   "source": [
    "Combine inpatient and outpatient data"
   ]
  },
  {
   "cell_type": "code",
   "execution_count": 9,
   "metadata": {},
   "outputs": [
    {
     "data": {
      "text/plain": [
       "(558211, 31)"
      ]
     },
     "execution_count": 9,
     "metadata": {},
     "output_type": "execute_result"
    }
   ],
   "source": [
    "mediCare = pd.merge(inpat, outpat, left_on = [ x for x in outpat.columns if x in inpat.columns], right_on = [ x for x in outpat.columns if x in inpat.columns], how = 'outer')\n",
    "mediCare.shape"
   ]
  },
  {
   "cell_type": "markdown",
   "metadata": {},
   "source": [
    "Combine with beneficiary. (Outer join to preserve all records)"
   ]
  },
  {
   "cell_type": "code",
   "execution_count": 10,
   "metadata": {},
   "outputs": [
    {
     "data": {
      "text/plain": [
       "(558211, 56)"
      ]
     },
     "execution_count": 10,
     "metadata": {},
     "output_type": "execute_result"
    }
   ],
   "source": [
    "data = pd.merge(mediCare, bene,left_on='BeneID',right_on='BeneID',how='inner')\n",
    "data.shape"
   ]
  },
  {
   "cell_type": "code",
   "execution_count": 11,
   "metadata": {},
   "outputs": [
    {
     "data": {
      "text/html": [
       "<div>\n",
       "<style scoped>\n",
       "    .dataframe tbody tr th:only-of-type {\n",
       "        vertical-align: middle;\n",
       "    }\n",
       "\n",
       "    .dataframe tbody tr th {\n",
       "        vertical-align: top;\n",
       "    }\n",
       "\n",
       "    .dataframe thead th {\n",
       "        text-align: right;\n",
       "    }\n",
       "</style>\n",
       "<table border=\"1\" class=\"dataframe\">\n",
       "  <thead>\n",
       "    <tr style=\"text-align: right;\">\n",
       "      <th></th>\n",
       "      <th>BeneID</th>\n",
       "      <th>ClaimID</th>\n",
       "      <th>ClaimStartDt</th>\n",
       "      <th>ClaimEndDt</th>\n",
       "      <th>Provider</th>\n",
       "      <th>InscClaimAmtReimbursed</th>\n",
       "      <th>AttendingPhysician</th>\n",
       "      <th>OperatingPhysician</th>\n",
       "      <th>OtherPhysician</th>\n",
       "      <th>AdmissionDt</th>\n",
       "      <th>...</th>\n",
       "      <th>ChronicCond_Diabetes</th>\n",
       "      <th>ChronicCond_IschemicHeart</th>\n",
       "      <th>ChronicCond_Osteoporasis</th>\n",
       "      <th>ChronicCond_rheumatoidarthritis</th>\n",
       "      <th>ChronicCond_stroke</th>\n",
       "      <th>IPAnnualReimbursementAmt</th>\n",
       "      <th>IPAnnualDeductibleAmt</th>\n",
       "      <th>OPAnnualReimbursementAmt</th>\n",
       "      <th>OPAnnualDeductibleAmt</th>\n",
       "      <th>WhetherDead</th>\n",
       "    </tr>\n",
       "  </thead>\n",
       "  <tbody>\n",
       "    <tr>\n",
       "      <td>488946</td>\n",
       "      <td>BENE133009</td>\n",
       "      <td>CLM456966</td>\n",
       "      <td>2009-07-07</td>\n",
       "      <td>2009-07-07</td>\n",
       "      <td>PRV54342</td>\n",
       "      <td>200</td>\n",
       "      <td>PHY353365</td>\n",
       "      <td>NaN</td>\n",
       "      <td>NaN</td>\n",
       "      <td>NaN</td>\n",
       "      <td>...</td>\n",
       "      <td>0</td>\n",
       "      <td>0</td>\n",
       "      <td>0</td>\n",
       "      <td>0</td>\n",
       "      <td>0</td>\n",
       "      <td>0</td>\n",
       "      <td>0</td>\n",
       "      <td>440</td>\n",
       "      <td>70</td>\n",
       "      <td>0</td>\n",
       "    </tr>\n",
       "    <tr>\n",
       "      <td>370551</td>\n",
       "      <td>BENE88394</td>\n",
       "      <td>CLM161667</td>\n",
       "      <td>2009-01-27</td>\n",
       "      <td>2009-01-27</td>\n",
       "      <td>PRV55933</td>\n",
       "      <td>20</td>\n",
       "      <td>PHY396282</td>\n",
       "      <td>NaN</td>\n",
       "      <td>PHY342509</td>\n",
       "      <td>NaN</td>\n",
       "      <td>...</td>\n",
       "      <td>1</td>\n",
       "      <td>1</td>\n",
       "      <td>0</td>\n",
       "      <td>0</td>\n",
       "      <td>0</td>\n",
       "      <td>0</td>\n",
       "      <td>0</td>\n",
       "      <td>140</td>\n",
       "      <td>100</td>\n",
       "      <td>0</td>\n",
       "    </tr>\n",
       "    <tr>\n",
       "      <td>363477</td>\n",
       "      <td>BENE85654</td>\n",
       "      <td>CLM188532</td>\n",
       "      <td>2009-02-11</td>\n",
       "      <td>2009-02-11</td>\n",
       "      <td>PRV51017</td>\n",
       "      <td>30</td>\n",
       "      <td>PHY345144</td>\n",
       "      <td>NaN</td>\n",
       "      <td>PHY433895</td>\n",
       "      <td>NaN</td>\n",
       "      <td>...</td>\n",
       "      <td>1</td>\n",
       "      <td>0</td>\n",
       "      <td>0</td>\n",
       "      <td>0</td>\n",
       "      <td>0</td>\n",
       "      <td>0</td>\n",
       "      <td>0</td>\n",
       "      <td>400</td>\n",
       "      <td>100</td>\n",
       "      <td>0</td>\n",
       "    </tr>\n",
       "  </tbody>\n",
       "</table>\n",
       "<p>3 rows × 56 columns</p>\n",
       "</div>"
      ],
      "text/plain": [
       "            BeneID    ClaimID ClaimStartDt  ClaimEndDt  Provider  \\\n",
       "488946  BENE133009  CLM456966   2009-07-07  2009-07-07  PRV54342   \n",
       "370551   BENE88394  CLM161667   2009-01-27  2009-01-27  PRV55933   \n",
       "363477   BENE85654  CLM188532   2009-02-11  2009-02-11  PRV51017   \n",
       "\n",
       "        InscClaimAmtReimbursed AttendingPhysician OperatingPhysician  \\\n",
       "488946                     200          PHY353365                NaN   \n",
       "370551                      20          PHY396282                NaN   \n",
       "363477                      30          PHY345144                NaN   \n",
       "\n",
       "       OtherPhysician AdmissionDt  ... ChronicCond_Diabetes  \\\n",
       "488946            NaN         NaN  ...                    0   \n",
       "370551      PHY342509         NaN  ...                    1   \n",
       "363477      PHY433895         NaN  ...                    1   \n",
       "\n",
       "        ChronicCond_IschemicHeart ChronicCond_Osteoporasis  \\\n",
       "488946                          0                        0   \n",
       "370551                          1                        0   \n",
       "363477                          0                        0   \n",
       "\n",
       "       ChronicCond_rheumatoidarthritis ChronicCond_stroke  \\\n",
       "488946                               0                  0   \n",
       "370551                               0                  0   \n",
       "363477                               0                  0   \n",
       "\n",
       "       IPAnnualReimbursementAmt IPAnnualDeductibleAmt  \\\n",
       "488946                        0                     0   \n",
       "370551                        0                     0   \n",
       "363477                        0                     0   \n",
       "\n",
       "       OPAnnualReimbursementAmt OPAnnualDeductibleAmt WhetherDead  \n",
       "488946                      440                    70           0  \n",
       "370551                      140                   100           0  \n",
       "363477                      400                   100           0  \n",
       "\n",
       "[3 rows x 56 columns]"
      ]
     },
     "execution_count": 11,
     "metadata": {},
     "output_type": "execute_result"
    }
   ],
   "source": [
    "data.sample(3)"
   ]
  },
  {
   "cell_type": "markdown",
   "metadata": {},
   "source": [
    "Count number of Procedures in the claim\n"
   ]
  },
  {
   "cell_type": "code",
   "execution_count": 12,
   "metadata": {},
   "outputs": [],
   "source": [
    "ClmProcedure_vars = ['ClmProcedureCode_{}'.format(x) for x in range(1,7)]"
   ]
  },
  {
   "cell_type": "code",
   "execution_count": 13,
   "metadata": {},
   "outputs": [],
   "source": [
    "data['NumProc'] = data[ClmProcedure_vars].notnull().to_numpy().sum(axis = 1)"
   ]
  },
  {
   "cell_type": "code",
   "execution_count": 14,
   "metadata": {},
   "outputs": [
    {
     "data": {
      "text/plain": [
       "array([0, 1, 2, 3, 4, 5])"
      ]
     },
     "execution_count": 14,
     "metadata": {},
     "output_type": "execute_result"
    }
   ],
   "source": [
    "np.unique(data.NumProc.values)"
   ]
  },
  {
   "cell_type": "markdown",
   "metadata": {},
   "source": [
    "Count number of diagnoses per claim"
   ]
  },
  {
   "cell_type": "code",
   "execution_count": 16,
   "metadata": {},
   "outputs": [],
   "source": [
    "ClmDiagnosisCode_vars =['ClmAdmitDiagnosisCode'] + ['ClmDiagnosisCode_{}'.format(x) for x in range(1, 11)]\n",
    "    \n",
    "### Create new variable \n",
    "data['NumClaims'] = data[ClmDiagnosisCode_vars].notnull().to_numpy().sum(axis = 1)\n"
   ]
  },
  {
   "cell_type": "code",
   "execution_count": 17,
   "metadata": {},
   "outputs": [
    {
     "data": {
      "text/plain": [
       "array([ 0,  1,  2,  3,  4,  5,  6,  7,  8,  9, 10, 11])"
      ]
     },
     "execution_count": 17,
     "metadata": {},
     "output_type": "execute_result"
    }
   ],
   "source": [
    "np.unique(data.NumClaims.values)"
   ]
  },
  {
   "cell_type": "code",
   "execution_count": 15,
   "metadata": {},
   "outputs": [
    {
     "data": {
      "text/plain": [
       "BeneID                              object\n",
       "ClaimID                             object\n",
       "ClaimStartDt                        object\n",
       "ClaimEndDt                          object\n",
       "Provider                            object\n",
       "InscClaimAmtReimbursed               int64\n",
       "AttendingPhysician                  object\n",
       "OperatingPhysician                  object\n",
       "OtherPhysician                      object\n",
       "AdmissionDt                         object\n",
       "ClmAdmitDiagnosisCode               object\n",
       "DeductibleAmtPaid                  float64\n",
       "DischargeDt                         object\n",
       "DiagnosisGroupCode                  object\n",
       "ClmDiagnosisCode_1                  object\n",
       "ClmDiagnosisCode_2                  object\n",
       "ClmDiagnosisCode_3                  object\n",
       "ClmDiagnosisCode_4                  object\n",
       "ClmDiagnosisCode_5                  object\n",
       "ClmDiagnosisCode_6                  object\n",
       "ClmDiagnosisCode_7                  object\n",
       "ClmDiagnosisCode_8                  object\n",
       "ClmDiagnosisCode_9                  object\n",
       "ClmDiagnosisCode_10                 object\n",
       "ClmProcedureCode_1                 float64\n",
       "ClmProcedureCode_2                 float64\n",
       "ClmProcedureCode_3                 float64\n",
       "ClmProcedureCode_4                 float64\n",
       "ClmProcedureCode_5                 float64\n",
       "ClmProcedureCode_6                 float64\n",
       "Status                              object\n",
       "DOB                                 object\n",
       "DOD                                 object\n",
       "Gender                               int64\n",
       "Race                                 int64\n",
       "RenalDiseaseIndicator                int64\n",
       "State                                int64\n",
       "County                               int64\n",
       "NoOfMonths_PartACov                  int64\n",
       "NoOfMonths_PartBCov                  int64\n",
       "ChronicCond_Alzheimer                int64\n",
       "ChronicCond_Heartfailure             int64\n",
       "ChronicCond_KidneyDisease            int64\n",
       "ChronicCond_Cancer                   int64\n",
       "ChronicCond_ObstrPulmonary           int64\n",
       "ChronicCond_Depression               int64\n",
       "ChronicCond_Diabetes                 int64\n",
       "ChronicCond_IschemicHeart            int64\n",
       "ChronicCond_Osteoporasis             int64\n",
       "ChronicCond_rheumatoidarthritis      int64\n",
       "ChronicCond_stroke                   int64\n",
       "IPAnnualReimbursementAmt             int64\n",
       "IPAnnualDeductibleAmt                int64\n",
       "OPAnnualReimbursementAmt             int64\n",
       "OPAnnualDeductibleAmt                int64\n",
       "WhetherDead                          int64\n",
       "NumProc                              int64\n",
       "dtype: object"
      ]
     },
     "execution_count": 15,
     "metadata": {},
     "output_type": "execute_result"
    }
   ],
   "source": [
    "data.dtypes"
   ]
  },
  {
   "cell_type": "code",
   "execution_count": 18,
   "metadata": {},
   "outputs": [],
   "source": [
    "from datetime import datetime"
   ]
  },
  {
   "cell_type": "code",
   "execution_count": 19,
   "metadata": {},
   "outputs": [
    {
     "ename": "ModuleNotFoundError",
     "evalue": "No module named 'numpy.core._multiarray_umath'",
     "output_type": "error",
     "traceback": [
      "\u001b[0;31m---------------------------------------------------------------------------\u001b[0m",
      "\u001b[0;31mModuleNotFoundError\u001b[0m                       Traceback (most recent call last)",
      "\u001b[0;31mModuleNotFoundError\u001b[0m: No module named 'numpy.core._multiarray_umath'"
     ]
    }
   ],
   "source": [
    "data['AdmissionDt'] = pd.to_datetime(data['AdmissionDt'] , format = '%Y-%m-%d')\n",
    "data['DischargeDt'] = pd.to_datetime(data['DischargeDt'],format = '%Y-%m-%d')\n",
    "\n",
    "data['ClaimStartDt'] = pd.to_datetime(data['ClaimStartDt'] , format = '%Y-%m-%d')\n",
    "data['ClaimEndDt'] = pd.to_datetime(data['ClaimEndDt'],format = '%Y-%m-%d')\n",
    "\n",
    "data['DOB'] = pd.to_datetime(data['DOB'] , format = '%Y-%m-%d')\n",
    "data['DOD'] = pd.to_datetime(data['DOD'],format = '%Y-%m-%d')\n",
    "\n",
    "### Number of hospitalization days\n",
    "data['AdmissionDays'] = ((data['DischargeDt'] - data['AdmissionDt']).dt.days) + 1\n",
    "### Number of claim days \n",
    "data['ClaimDays'] = ((data['ClaimEndDt'] - data['ClaimStartDt']).dt.days) + 1\n",
    "\n",
    "data['Age'] = round(((data['ClaimStartDt'] - data['DOB']).dt.days + 1)/365.25)"
   ]
  },
  {
   "cell_type": "code",
   "execution_count": 20,
   "metadata": {},
   "outputs": [],
   "source": [
    "mean_reim = data.groupby('Age')['InscClaimAmtReimbursed'].mean().reset_index()\n",
    "median_reim = data.groupby('Age')['InscClaimAmtReimbursed'].median().reset_index()"
   ]
  },
  {
   "cell_type": "code",
   "execution_count": 21,
   "metadata": {},
   "outputs": [
    {
     "data": {
      "image/png": "[encoded data removed]",
      "text/plain": [
       "<Figure size 432x288 with 1 Axes>"
      ]
     },
     "metadata": {
      "needs_background": "light"
     },
     "output_type": "display_data"
    }
   ],
   "source": [
    "ax = sns.scatterplot(x='Age',y='InscClaimAmtReimbursed', data=mean_reim)\n",
    "ax.figure.savefig(\"./plots/age_v_meanReim.svg\",bbox_inches='tight')"
   ]
  },
  {
   "cell_type": "code",
   "execution_count": 29,
   "metadata": {},
   "outputs": [
    {
     "data": {
      "image/png": "[encoded data removed]",
      "text/plain": [
       "<Figure size 432x288 with 1 Axes>"
      ]
     },
     "metadata": {
      "needs_background": "light"
     },
     "output_type": "display_data"
    }
   ],
   "source": [
    "ax = sns.scatterplot(x='Age',y='InscClaimAmtReimbursed', data=median_reim)\n",
    "ax.figure.savefig(\"./plots/age_v_medReim.svg\",bbox_inches='tight')"
   ]
  },
  {
   "cell_type": "code",
   "execution_count": 73,
   "metadata": {},
   "outputs": [
    {
     "name": "stdout",
     "output_type": "stream",
     "text": [
      "./plots/state_level/age-claim/state_1.png\n",
      "./plots/state_level/age-claim/state_2.png\n",
      "./plots/state_level/age-claim/state_3.png\n",
      "./plots/state_level/age-claim/state_4.png\n",
      "./plots/state_level/age-claim/state_5.png\n",
      "./plots/state_level/age-claim/state_6.png\n",
      "./plots/state_level/age-claim/state_7.png\n",
      "./plots/state_level/age-claim/state_8.png\n",
      "./plots/state_level/age-claim/state_9.png\n",
      "./plots/state_level/age-claim/state_10.png\n",
      "./plots/state_level/age-claim/state_11.png\n",
      "./plots/state_level/age-claim/state_12.png\n",
      "./plots/state_level/age-claim/state_13.png\n",
      "./plots/state_level/age-claim/state_14.png\n",
      "./plots/state_level/age-claim/state_15.png\n",
      "./plots/state_level/age-claim/state_16.png\n",
      "./plots/state_level/age-claim/state_17.png\n",
      "./plots/state_level/age-claim/state_18.png\n",
      "./plots/state_level/age-claim/state_19.png\n",
      "./plots/state_level/age-claim/state_20.png\n",
      "./plots/state_level/age-claim/state_21.png\n",
      "./plots/state_level/age-claim/state_22.png\n",
      "./plots/state_level/age-claim/state_23.png\n",
      "./plots/state_level/age-claim/state_24.png\n",
      "./plots/state_level/age-claim/state_25.png\n",
      "./plots/state_level/age-claim/state_26.png\n",
      "./plots/state_level/age-claim/state_27.png\n",
      "./plots/state_level/age-claim/state_28.png\n",
      "./plots/state_level/age-claim/state_29.png\n",
      "./plots/state_level/age-claim/state_30.png\n",
      "./plots/state_level/age-claim/state_31.png\n",
      "./plots/state_level/age-claim/state_32.png\n",
      "./plots/state_level/age-claim/state_33.png\n",
      "./plots/state_level/age-claim/state_34.png\n",
      "./plots/state_level/age-claim/state_35.png\n",
      "./plots/state_level/age-claim/state_36.png\n",
      "./plots/state_level/age-claim/state_37.png\n",
      "./plots/state_level/age-claim/state_38.png\n",
      "./plots/state_level/age-claim/state_39.png\n",
      "./plots/state_level/age-claim/state_41.png\n",
      "./plots/state_level/age-claim/state_42.png\n",
      "./plots/state_level/age-claim/state_43.png\n",
      "./plots/state_level/age-claim/state_44.png\n",
      "./plots/state_level/age-claim/state_45.png\n",
      "./plots/state_level/age-claim/state_46.png\n",
      "./plots/state_level/age-claim/state_47.png\n",
      "./plots/state_level/age-claim/state_49.png\n",
      "./plots/state_level/age-claim/state_50.png\n",
      "./plots/state_level/age-claim/state_51.png\n",
      "./plots/state_level/age-claim/state_52.png\n",
      "./plots/state_level/age-claim/state_53.png\n",
      "./plots/state_level/age-claim/state_54.png\n"
     ]
    }
   ],
   "source": [
    "for i in np.unique(data.State):\n",
    "    state_data = data[data.State==i]\n",
    "    filename = \"./plots/state_level/age-claim/state_{}.png\".format(i)\n",
    "    print(filename)\n",
    "    plt.figure()\n",
    "    ax = sns.scatterplot(x='Age',y='InscClaimAmtReimbursed', hue = 'Status', data=state_data);\n",
    "    ax.figure.savefig(filename,bbox_inches='tight');\n",
    "    plt.close()\n",
    "\n"
   ]
  },
  {
   "cell_type": "code",
   "execution_count": 23,
   "metadata": {},
   "outputs": [
    {
     "data": {
      "text/plain": [
       "<matplotlib.axes._subplots.AxesSubplot at 0x1a1a6c2290>"
      ]
     },
     "execution_count": 23,
     "metadata": {},
     "output_type": "execute_result"
    },
    {
     "data": {
      "image/png": "[encoded data removed]",
      "text/plain": [
       "<Figure size 432x288 with 1 Axes>"
      ]
     },
     "metadata": {
      "needs_background": "light"
     },
     "output_type": "display_data"
    }
   ],
   "source": [
    "sns.scatterplot(x='InscClaimAmtReimbursed',\n",
    "                y='DeductibleAmtPaid',\n",
    "                hue='Status',\n",
    "                data=data)"
   ]
  },
  {
   "cell_type": "code",
   "execution_count": 24,
   "metadata": {},
   "outputs": [
    {
     "data": {
      "text/plain": [
       "<matplotlib.axes._subplots.AxesSubplot at 0x1a22506c50>"
      ]
     },
     "execution_count": 24,
     "metadata": {},
     "output_type": "execute_result"
    },
    {
     "data": {
      "image/png": "[encoded data removed]",
      "text/plain": [
       "<Figure size 432x288 with 1 Axes>"
      ]
     },
     "metadata": {
      "needs_background": "light"
     },
     "output_type": "display_data"
    }
   ],
   "source": [
    "sns.scatterplot(x='InscClaimAmtReimbursed',\n",
    "                y='DeductibleAmtPaid',\n",
    "                hue='Race',\n",
    "                data=data)"
   ]
  },
  {
   "cell_type": "code",
   "execution_count": 22,
   "metadata": {},
   "outputs": [
    {
     "name": "stderr",
     "output_type": "stream",
     "text": [
      "/usr/local/anaconda3/lib/python3.7/site-packages/numpy/lib/histograms.py:754: RuntimeWarning: invalid value encountered in greater_equal\n",
      "  keep = (tmp_a >= first_edge)\n",
      "/usr/local/anaconda3/lib/python3.7/site-packages/numpy/lib/histograms.py:755: RuntimeWarning: invalid value encountered in less_equal\n",
      "  keep &= (tmp_a <= last_edge)\n",
      "/usr/local/anaconda3/lib/python3.7/site-packages/statsmodels/nonparametric/kde.py:447: RuntimeWarning: invalid value encountered in greater\n",
      "  X = X[np.logical_and(X > clip[0], X < clip[1])] # won't work for two columns.\n",
      "/usr/local/anaconda3/lib/python3.7/site-packages/statsmodels/nonparametric/kde.py:447: RuntimeWarning: invalid value encountered in less\n",
      "  X = X[np.logical_and(X > clip[0], X < clip[1])] # won't work for two columns.\n"
     ]
    },
    {
     "data": {
      "text/plain": [
       "<matplotlib.axes._subplots.AxesSubplot at 0x1a2252af50>"
      ]
     },
     "execution_count": 22,
     "metadata": {},
     "output_type": "execute_result"
    },
    {
     "data": {
      "image/png": "[encoded data removed]",
      "text/plain": [
       "<Figure size 432x288 with 1 Axes>"
      ]
     },
     "metadata": {
      "needs_background": "light"
     },
     "output_type": "display_data"
    }
   ],
   "source": [
    "sns.distplot(data.DeductibleAmtPaid)"
   ]
  },
  {
   "cell_type": "code",
   "execution_count": 26,
   "metadata": {},
   "outputs": [
    {
     "data": {
      "text/plain": [
       "array([1, 2, 3, 5])"
      ]
     },
     "execution_count": 26,
     "metadata": {},
     "output_type": "execute_result"
    }
   ],
   "source": [
    "np.unique(data.Race.values)"
   ]
  },
  {
   "cell_type": "code",
   "execution_count": 35,
   "metadata": {},
   "outputs": [
    {
     "data": {
      "text/html": [
       "<div>\n",
       "<style scoped>\n",
       "    .dataframe tbody tr th:only-of-type {\n",
       "        vertical-align: middle;\n",
       "    }\n",
       "\n",
       "    .dataframe tbody tr th {\n",
       "        vertical-align: top;\n",
       "    }\n",
       "\n",
       "    .dataframe thead th {\n",
       "        text-align: right;\n",
       "    }\n",
       "</style>\n",
       "<table border=\"1\" class=\"dataframe\">\n",
       "  <thead>\n",
       "    <tr style=\"text-align: right;\">\n",
       "      <th></th>\n",
       "      <th>ClmAdmitDiagnosisCode</th>\n",
       "      <th>ClmDiagnosisCode_1</th>\n",
       "      <th>ClmDiagnosisCode_2</th>\n",
       "      <th>ClmDiagnosisCode_3</th>\n",
       "      <th>ClmDiagnosisCode_4</th>\n",
       "      <th>ClmDiagnosisCode_5</th>\n",
       "      <th>ClmDiagnosisCode_6</th>\n",
       "      <th>ClmDiagnosisCode_7</th>\n",
       "      <th>ClmDiagnosisCode_8</th>\n",
       "      <th>ClmDiagnosisCode_9</th>\n",
       "      <th>ClmDiagnosisCode_10</th>\n",
       "    </tr>\n",
       "  </thead>\n",
       "  <tbody>\n",
       "    <tr>\n",
       "      <td>360707</td>\n",
       "      <td>NaN</td>\n",
       "      <td>24920</td>\n",
       "      <td>V0481</td>\n",
       "      <td>NaN</td>\n",
       "      <td>NaN</td>\n",
       "      <td>NaN</td>\n",
       "      <td>NaN</td>\n",
       "      <td>NaN</td>\n",
       "      <td>NaN</td>\n",
       "      <td>NaN</td>\n",
       "      <td>NaN</td>\n",
       "    </tr>\n",
       "    <tr>\n",
       "      <td>349478</td>\n",
       "      <td>NaN</td>\n",
       "      <td>52871</td>\n",
       "      <td>NaN</td>\n",
       "      <td>NaN</td>\n",
       "      <td>NaN</td>\n",
       "      <td>NaN</td>\n",
       "      <td>NaN</td>\n",
       "      <td>NaN</td>\n",
       "      <td>NaN</td>\n",
       "      <td>NaN</td>\n",
       "      <td>NaN</td>\n",
       "    </tr>\n",
       "    <tr>\n",
       "      <td>438937</td>\n",
       "      <td>7823</td>\n",
       "      <td>V184</td>\n",
       "      <td>53081</td>\n",
       "      <td>NaN</td>\n",
       "      <td>NaN</td>\n",
       "      <td>NaN</td>\n",
       "      <td>NaN</td>\n",
       "      <td>NaN</td>\n",
       "      <td>NaN</td>\n",
       "      <td>NaN</td>\n",
       "      <td>NaN</td>\n",
       "    </tr>\n",
       "    <tr>\n",
       "      <td>98072</td>\n",
       "      <td>99673</td>\n",
       "      <td>99661</td>\n",
       "      <td>V1254</td>\n",
       "      <td>25040</td>\n",
       "      <td>28521</td>\n",
       "      <td>42731</td>\n",
       "      <td>5856</td>\n",
       "      <td>5855</td>\n",
       "      <td>99889</td>\n",
       "      <td>2859</td>\n",
       "      <td>NaN</td>\n",
       "    </tr>\n",
       "    <tr>\n",
       "      <td>182898</td>\n",
       "      <td>NaN</td>\n",
       "      <td>V6759</td>\n",
       "      <td>V5869</td>\n",
       "      <td>NaN</td>\n",
       "      <td>NaN</td>\n",
       "      <td>NaN</td>\n",
       "      <td>NaN</td>\n",
       "      <td>NaN</td>\n",
       "      <td>NaN</td>\n",
       "      <td>NaN</td>\n",
       "      <td>NaN</td>\n",
       "    </tr>\n",
       "    <tr>\n",
       "      <td>408013</td>\n",
       "      <td>NaN</td>\n",
       "      <td>5880</td>\n",
       "      <td>40390</td>\n",
       "      <td>4011</td>\n",
       "      <td>NaN</td>\n",
       "      <td>NaN</td>\n",
       "      <td>NaN</td>\n",
       "      <td>NaN</td>\n",
       "      <td>NaN</td>\n",
       "      <td>NaN</td>\n",
       "      <td>NaN</td>\n",
       "    </tr>\n",
       "    <tr>\n",
       "      <td>554029</td>\n",
       "      <td>NaN</td>\n",
       "      <td>V8712</td>\n",
       "      <td>311</td>\n",
       "      <td>NaN</td>\n",
       "      <td>NaN</td>\n",
       "      <td>NaN</td>\n",
       "      <td>NaN</td>\n",
       "      <td>NaN</td>\n",
       "      <td>NaN</td>\n",
       "      <td>NaN</td>\n",
       "      <td>NaN</td>\n",
       "    </tr>\n",
       "    <tr>\n",
       "      <td>63698</td>\n",
       "      <td>71946</td>\n",
       "      <td>72660</td>\n",
       "      <td>NaN</td>\n",
       "      <td>NaN</td>\n",
       "      <td>NaN</td>\n",
       "      <td>NaN</td>\n",
       "      <td>NaN</td>\n",
       "      <td>NaN</td>\n",
       "      <td>NaN</td>\n",
       "      <td>NaN</td>\n",
       "      <td>NaN</td>\n",
       "    </tr>\n",
       "    <tr>\n",
       "      <td>177517</td>\n",
       "      <td>42731</td>\n",
       "      <td>3950</td>\n",
       "      <td>33394</td>\n",
       "      <td>4281</td>\n",
       "      <td>4928</td>\n",
       "      <td>78079</td>\n",
       "      <td>NaN</td>\n",
       "      <td>NaN</td>\n",
       "      <td>NaN</td>\n",
       "      <td>NaN</td>\n",
       "      <td>NaN</td>\n",
       "    </tr>\n",
       "    <tr>\n",
       "      <td>400427</td>\n",
       "      <td>NaN</td>\n",
       "      <td>V470</td>\n",
       "      <td>72887</td>\n",
       "      <td>NaN</td>\n",
       "      <td>NaN</td>\n",
       "      <td>NaN</td>\n",
       "      <td>NaN</td>\n",
       "      <td>NaN</td>\n",
       "      <td>NaN</td>\n",
       "      <td>NaN</td>\n",
       "      <td>NaN</td>\n",
       "    </tr>\n",
       "    <tr>\n",
       "      <td>96900</td>\n",
       "      <td>NaN</td>\n",
       "      <td>42732</td>\n",
       "      <td>99520</td>\n",
       "      <td>NaN</td>\n",
       "      <td>NaN</td>\n",
       "      <td>NaN</td>\n",
       "      <td>NaN</td>\n",
       "      <td>NaN</td>\n",
       "      <td>NaN</td>\n",
       "      <td>NaN</td>\n",
       "      <td>NaN</td>\n",
       "    </tr>\n",
       "    <tr>\n",
       "      <td>236772</td>\n",
       "      <td>4019</td>\n",
       "      <td>4011</td>\n",
       "      <td>2449</td>\n",
       "      <td>2720</td>\n",
       "      <td>V7644</td>\n",
       "      <td>72400</td>\n",
       "      <td>NaN</td>\n",
       "      <td>NaN</td>\n",
       "      <td>NaN</td>\n",
       "      <td>NaN</td>\n",
       "      <td>NaN</td>\n",
       "    </tr>\n",
       "    <tr>\n",
       "      <td>400103</td>\n",
       "      <td>7931</td>\n",
       "      <td>5199</td>\n",
       "      <td>78079</td>\n",
       "      <td>NaN</td>\n",
       "      <td>NaN</td>\n",
       "      <td>NaN</td>\n",
       "      <td>NaN</td>\n",
       "      <td>NaN</td>\n",
       "      <td>NaN</td>\n",
       "      <td>NaN</td>\n",
       "      <td>NaN</td>\n",
       "    </tr>\n",
       "    <tr>\n",
       "      <td>209231</td>\n",
       "      <td>NaN</td>\n",
       "      <td>27785</td>\n",
       "      <td>515</td>\n",
       "      <td>24290</td>\n",
       "      <td>NaN</td>\n",
       "      <td>NaN</td>\n",
       "      <td>NaN</td>\n",
       "      <td>NaN</td>\n",
       "      <td>NaN</td>\n",
       "      <td>NaN</td>\n",
       "      <td>NaN</td>\n",
       "    </tr>\n",
       "    <tr>\n",
       "      <td>307258</td>\n",
       "      <td>NaN</td>\n",
       "      <td>NaN</td>\n",
       "      <td>NaN</td>\n",
       "      <td>NaN</td>\n",
       "      <td>NaN</td>\n",
       "      <td>NaN</td>\n",
       "      <td>NaN</td>\n",
       "      <td>NaN</td>\n",
       "      <td>NaN</td>\n",
       "      <td>NaN</td>\n",
       "      <td>NaN</td>\n",
       "    </tr>\n",
       "    <tr>\n",
       "      <td>369617</td>\n",
       "      <td>28850</td>\n",
       "      <td>28851</td>\n",
       "      <td>NaN</td>\n",
       "      <td>NaN</td>\n",
       "      <td>NaN</td>\n",
       "      <td>NaN</td>\n",
       "      <td>NaN</td>\n",
       "      <td>NaN</td>\n",
       "      <td>NaN</td>\n",
       "      <td>NaN</td>\n",
       "      <td>NaN</td>\n",
       "    </tr>\n",
       "    <tr>\n",
       "      <td>134110</td>\n",
       "      <td>NaN</td>\n",
       "      <td>2394</td>\n",
       "      <td>NaN</td>\n",
       "      <td>NaN</td>\n",
       "      <td>NaN</td>\n",
       "      <td>NaN</td>\n",
       "      <td>NaN</td>\n",
       "      <td>NaN</td>\n",
       "      <td>NaN</td>\n",
       "      <td>NaN</td>\n",
       "      <td>NaN</td>\n",
       "    </tr>\n",
       "    <tr>\n",
       "      <td>158628</td>\n",
       "      <td>43310</td>\n",
       "      <td>43310</td>\n",
       "      <td>53081</td>\n",
       "      <td>4019</td>\n",
       "      <td>43812</td>\n",
       "      <td>4139</td>\n",
       "      <td>V1582</td>\n",
       "      <td>41401</td>\n",
       "      <td>NaN</td>\n",
       "      <td>NaN</td>\n",
       "      <td>NaN</td>\n",
       "    </tr>\n",
       "    <tr>\n",
       "      <td>295951</td>\n",
       "      <td>V7281</td>\n",
       "      <td>V495</td>\n",
       "      <td>NaN</td>\n",
       "      <td>NaN</td>\n",
       "      <td>NaN</td>\n",
       "      <td>NaN</td>\n",
       "      <td>NaN</td>\n",
       "      <td>NaN</td>\n",
       "      <td>NaN</td>\n",
       "      <td>NaN</td>\n",
       "      <td>NaN</td>\n",
       "    </tr>\n",
       "  </tbody>\n",
       "</table>\n",
       "</div>"
      ],
      "text/plain": [
       "       ClmAdmitDiagnosisCode ClmDiagnosisCode_1 ClmDiagnosisCode_2  \\\n",
       "360707                   NaN              24920              V0481   \n",
       "349478                   NaN              52871                NaN   \n",
       "438937                  7823               V184              53081   \n",
       "98072                  99673              99661              V1254   \n",
       "182898                   NaN              V6759              V5869   \n",
       "408013                   NaN               5880              40390   \n",
       "554029                   NaN              V8712                311   \n",
       "63698                  71946              72660                NaN   \n",
       "177517                 42731               3950              33394   \n",
       "400427                   NaN               V470              72887   \n",
       "96900                    NaN              42732              99520   \n",
       "236772                  4019               4011               2449   \n",
       "400103                  7931               5199              78079   \n",
       "209231                   NaN              27785                515   \n",
       "307258                   NaN                NaN                NaN   \n",
       "369617                 28850              28851                NaN   \n",
       "134110                   NaN               2394                NaN   \n",
       "158628                 43310              43310              53081   \n",
       "295951                 V7281               V495                NaN   \n",
       "\n",
       "       ClmDiagnosisCode_3 ClmDiagnosisCode_4 ClmDiagnosisCode_5  \\\n",
       "360707                NaN                NaN                NaN   \n",
       "349478                NaN                NaN                NaN   \n",
       "438937                NaN                NaN                NaN   \n",
       "98072               25040              28521              42731   \n",
       "182898                NaN                NaN                NaN   \n",
       "408013               4011                NaN                NaN   \n",
       "554029                NaN                NaN                NaN   \n",
       "63698                 NaN                NaN                NaN   \n",
       "177517               4281               4928              78079   \n",
       "400427                NaN                NaN                NaN   \n",
       "96900                 NaN                NaN                NaN   \n",
       "236772               2720              V7644              72400   \n",
       "400103                NaN                NaN                NaN   \n",
       "209231              24290                NaN                NaN   \n",
       "307258                NaN                NaN                NaN   \n",
       "369617                NaN                NaN                NaN   \n",
       "134110                NaN                NaN                NaN   \n",
       "158628               4019              43812               4139   \n",
       "295951                NaN                NaN                NaN   \n",
       "\n",
       "       ClmDiagnosisCode_6 ClmDiagnosisCode_7 ClmDiagnosisCode_8  \\\n",
       "360707                NaN                NaN                NaN   \n",
       "349478                NaN                NaN                NaN   \n",
       "438937                NaN                NaN                NaN   \n",
       "98072                5856               5855              99889   \n",
       "182898                NaN                NaN                NaN   \n",
       "408013                NaN                NaN                NaN   \n",
       "554029                NaN                NaN                NaN   \n",
       "63698                 NaN                NaN                NaN   \n",
       "177517                NaN                NaN                NaN   \n",
       "400427                NaN                NaN                NaN   \n",
       "96900                 NaN                NaN                NaN   \n",
       "236772                NaN                NaN                NaN   \n",
       "400103                NaN                NaN                NaN   \n",
       "209231                NaN                NaN                NaN   \n",
       "307258                NaN                NaN                NaN   \n",
       "369617                NaN                NaN                NaN   \n",
       "134110                NaN                NaN                NaN   \n",
       "158628              V1582              41401                NaN   \n",
       "295951                NaN                NaN                NaN   \n",
       "\n",
       "       ClmDiagnosisCode_9 ClmDiagnosisCode_10  \n",
       "360707                NaN                 NaN  \n",
       "349478                NaN                 NaN  \n",
       "438937                NaN                 NaN  \n",
       "98072                2859                 NaN  \n",
       "182898                NaN                 NaN  \n",
       "408013                NaN                 NaN  \n",
       "554029                NaN                 NaN  \n",
       "63698                 NaN                 NaN  \n",
       "177517                NaN                 NaN  \n",
       "400427                NaN                 NaN  \n",
       "96900                 NaN                 NaN  \n",
       "236772                NaN                 NaN  \n",
       "400103                NaN                 NaN  \n",
       "209231                NaN                 NaN  \n",
       "307258                NaN                 NaN  \n",
       "369617                NaN                 NaN  \n",
       "134110                NaN                 NaN  \n",
       "158628                NaN                 NaN  \n",
       "295951                NaN                 NaN  "
      ]
     },
     "execution_count": 35,
     "metadata": {},
     "output_type": "execute_result"
    }
   ],
   "source": [
    "data[ClmDiagnosisCode_vars].sample(19)"
   ]
  },
  {
   "cell_type": "code",
   "execution_count": null,
   "metadata": {},
   "outputs": [],
   "source": [
    "for i in np.unique(data.State):\n",
    "    state_data = data[data.State==i]\n",
    "    filename = \"./plots/state_level/age-claim/state_{}.png\".format(i)\n",
    "    print(filename)\n",
    "    plt.figure()\n",
    "    ax = sns.scatterplot(x='Age',y='InscClaimAmtReimbursed', hue = 'Status', data=state_data);\n",
    "    ax.figure.savefig(filename,bbox_inches='tight');\n",
    "    plt.close()\n"
   ]
  },
  {
   "cell_type": "code",
   "execution_count": null,
   "metadata": {},
   "outputs": [],
   "source": [
    "data.groupby('Race')."
   ]
  }
 ],
 "metadata": {
  "kernelspec": {
   "display_name": "Python 3",
   "language": "python",
   "name": "python3"
  },
  "language_info": {
   "codemirror_mode": {
    "name": "ipython",
    "version": 3
   },
   "file_extension": ".py",
   "mimetype": "text/x-python",
   "name": "python",
   "nbconvert_exporter": "python",
   "pygments_lexer": "ipython3",
   "version": "3.7.4"
  }
 },
 "nbformat": 4,
 "nbformat_minor": 2
}
