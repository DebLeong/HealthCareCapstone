{
 "cells": [
  {
   "cell_type": "markdown",
   "metadata": {},
   "source": [
    "# Gradient Boost model for Healthcare Fraud Detection\n",
    "\n",
    "Deborah Leong, Sam Nuzbrokh and Doug Devens\n",
    "\n",
    "This notedbook describes development of a gradient boost classification model to detect potentially fraudulent healthcare providers."
   ]
  },
  {
   "cell_type": "markdown",
   "metadata": {},
   "source": [
    "Import pandas package and scikitlearn metrics reports.  Read in file created by provider_inout_mods.  Also read in the mean residual by provider created by notebook 'Provider_claim_data_regression' and is described elsewhere."
   ]
  },
  {
   "cell_type": "code",
   "execution_count": 1,
   "metadata": {},
   "outputs": [],
   "source": [
    "import numpy as np\n",
    "import pandas as pd"
   ]
  },
  {
   "cell_type": "code",
   "execution_count": 2,
   "metadata": {},
   "outputs": [
    {
     "data": {
      "text/plain": [
       "Index(['Provider', 'MeanResidualReimbursement', 'logOPAnnualReimbursement',\n",
       "       'logIPAnnualReimbursement', '$PerClaimDay', 'InscClaimAmtReimbursed'],\n",
       "      dtype='object')"
      ]
     },
     "execution_count": 2,
     "metadata": {},
     "output_type": "execute_result"
    }
   ],
   "source": [
    "x_train_inout_mod = pd.read_csv('x_train_inout_mod.csv')\n",
    "provider_reimb_residuals=pd.read_csv('provider_groups_residual.csv')\n",
    "provider_reimb_residuals = provider_reimb_residuals.drop(columns=['Unnamed: 0'])\n",
    "provider_reimb_residuals.columns\n"
   ]
  },
  {
   "cell_type": "markdown",
   "metadata": {},
   "source": [
    "Rename columns in provider_reimb_residuals and drop extra column brought in with file read-in. Merge the two files on provider to combine the data."
   ]
  },
  {
   "cell_type": "code",
   "execution_count": 3,
   "metadata": {},
   "outputs": [],
   "source": [
    "provider_reimb_residuals.columns=['Provider','MeanResidualReimbursement','logOPAnnualReimbursement',\\\n",
    "                'logIPAnnualReimbursement','$PerClaimDay','total_claim']\n",
    "x_train_inout_mod = x_train_inout_mod.drop(columns = 'Unnamed: 0')\n",
    "x_train_inout_mod = pd.merge(x_train_inout_mod,provider_reimb_residuals,on='Provider')\n"
   ]
  },
  {
   "cell_type": "markdown",
   "metadata": {},
   "source": [
    "Set target column y and drop target column from feature dataframe."
   ]
  },
  {
   "cell_type": "code",
   "execution_count": 4,
   "metadata": {},
   "outputs": [],
   "source": [
    "y = x_train_inout_mod['PotentialFraud']\n",
    "X = x_train_inout_mod.drop(columns = ['PotentialFraud'])\n"
   ]
  },
  {
   "cell_type": "code",
   "execution_count": 89,
   "metadata": {},
   "outputs": [
    {
     "data": {
      "text/plain": [
       "Index(['Age_in', 'Age_out', 'AttendingPhysician_in', 'AttendingPhysician_out',\n",
       "       'ClaimDays_in', 'ClaimDays_out', 'DeductibleAmtPaid_in',\n",
       "       'DeductibleAmtPaid_out', 'Gender_in', 'Gender_out',\n",
       "       'InscClaimAmtReimbursed_in', 'InscClaimAmtReimbursed_out',\n",
       "       'NumChronics_in', 'NumChronics_out', 'NumDiag_in', 'NumDiag_out',\n",
       "       'NumProc_in', 'NumProc_out', 'State_in', 'State_out', 'WhetherDead_in',\n",
       "       'WhetherDead_out', 'ClaimDays_in_Range', 'ClaimDays_out_Range',\n",
       "       'InscClaimAmtReimbursed_in_Range', 'InscClaimAmtReimbursed_out_Range',\n",
       "       'NumChronics_in_Range', 'NumChronics_out_Range', 'NumDiag_in_Range',\n",
       "       'NumDiag_out_Range', 'NumProc_in_Range', 'NumProc_out_Range',\n",
       "       'Provider', 'PotentialFraud', 'docDegMax', 'docBtwnMean', 'docEignMean',\n",
       "       'docMANN', 'patDegMax', 'patBtwnMean', 'patEignMean', 'patMANN',\n",
       "       'ClmsPerPhysician_in', 'ClmsPerPhysician_out', 'ClmsPerPatient_in',\n",
       "       'ClmsPerPatient_out', 'DrPerPatient_in', 'DrPerPatient_out',\n",
       "       'LogPatients_in', 'LogPatients_out', 'LogClaims_in', 'LogClaims_out',\n",
       "       'LogOpPhys_in', 'LogOpPhys_out', 'LogOtherPhys_in', 'LogOtherPhys_out',\n",
       "       'AgeRange_otpt', 'cardiology_otpt', 'urology_otpt',\n",
       "       'endocrinology_otpt', 'emergency_otpt', 'general_otpt',\n",
       "       'infectious_otpt', 'oncology_otpt', 'hematology_otpt',\n",
       "       'psychiatry_otpt', 'neurology_otpt', 'pulmonology_otpt',\n",
       "       'gastroenterology_otpt', 'ob-gyn_otpt', 'dermatology_otpt',\n",
       "       'orthopedics_otpt', 'congenital_otpt', 'neonatology_otpt',\n",
       "       'AgeRange_inpt', 'cardiology_inpt', 'urology_inpt',\n",
       "       'endocrinology_inpt', 'emergency_inpt', 'general_inpt',\n",
       "       'infectious_inpt', 'oncology_inpt', 'hematology_inpt',\n",
       "       'psychiatry_inpt', 'neurology_inpt', 'pulmonology_inpt',\n",
       "       'gastroenterology_inpt', 'ob-gyn_inpt', 'dermatology_inpt',\n",
       "       'orthopedics_inpt', 'congenital_inpt', 'neonatology_inpt',\n",
       "       'MeanResidualReimbursement', 'logOPAnnualReimbursement',\n",
       "       'logIPAnnualReimbursement', '$PerClaimDay', 'total_claim'],\n",
       "      dtype='object')"
      ]
     },
     "execution_count": 89,
     "metadata": {},
     "output_type": "execute_result"
    }
   ],
   "source": [
    "x_train_inout_mod.columns\n"
   ]
  },
  {
   "cell_type": "markdown",
   "metadata": {},
   "source": [
    "Import sklearn model selection test_train_split and split data into training and test sets."
   ]
  },
  {
   "cell_type": "code",
   "execution_count": 90,
   "metadata": {},
   "outputs": [],
   "source": [
    "from sklearn import model_selection as ms\n",
    "X_train, X_test, y_train, y_test = ms.train_test_split(X, y, \n",
    "                                            test_size=0.20, random_state=42)"
   ]
  },
  {
   "cell_type": "markdown",
   "metadata": {},
   "source": [
    "Drop Provider (alphanumeric identifier of providers) and their total claim amount from X since this isn't a feature we will use in the model."
   ]
  },
  {
   "cell_type": "code",
   "execution_count": 91,
   "metadata": {},
   "outputs": [],
   "source": [
    "X = X.drop(columns=['Provider','total_claim'])"
   ]
  },
  {
   "cell_type": "code",
   "execution_count": 92,
   "metadata": {},
   "outputs": [
    {
     "data": {
      "text/plain": [
       "Index(['Age_in', 'Age_out', 'AttendingPhysician_in', 'AttendingPhysician_out',\n",
       "       'ClaimDays_in', 'ClaimDays_out', 'DeductibleAmtPaid_in',\n",
       "       'DeductibleAmtPaid_out', 'Gender_in', 'Gender_out',\n",
       "       'InscClaimAmtReimbursed_in', 'InscClaimAmtReimbursed_out',\n",
       "       'NumChronics_in', 'NumChronics_out', 'NumDiag_in', 'NumDiag_out',\n",
       "       'NumProc_in', 'NumProc_out', 'State_in', 'State_out', 'WhetherDead_in',\n",
       "       'WhetherDead_out', 'ClaimDays_in_Range', 'ClaimDays_out_Range',\n",
       "       'InscClaimAmtReimbursed_in_Range', 'InscClaimAmtReimbursed_out_Range',\n",
       "       'NumChronics_in_Range', 'NumChronics_out_Range', 'NumDiag_in_Range',\n",
       "       'NumDiag_out_Range', 'NumProc_in_Range', 'NumProc_out_Range',\n",
       "       'Provider', 'docDegMax', 'docBtwnMean', 'docEignMean', 'docMANN',\n",
       "       'patDegMax', 'patBtwnMean', 'patEignMean', 'patMANN',\n",
       "       'ClmsPerPhysician_in', 'ClmsPerPhysician_out', 'ClmsPerPatient_in',\n",
       "       'ClmsPerPatient_out', 'DrPerPatient_in', 'DrPerPatient_out',\n",
       "       'LogPatients_in', 'LogPatients_out', 'LogClaims_in', 'LogClaims_out',\n",
       "       'LogOpPhys_in', 'LogOpPhys_out', 'LogOtherPhys_in', 'LogOtherPhys_out',\n",
       "       'AgeRange_otpt', 'cardiology_otpt', 'urology_otpt',\n",
       "       'endocrinology_otpt', 'emergency_otpt', 'general_otpt',\n",
       "       'infectious_otpt', 'oncology_otpt', 'hematology_otpt',\n",
       "       'psychiatry_otpt', 'neurology_otpt', 'pulmonology_otpt',\n",
       "       'gastroenterology_otpt', 'ob-gyn_otpt', 'dermatology_otpt',\n",
       "       'orthopedics_otpt', 'congenital_otpt', 'neonatology_otpt',\n",
       "       'AgeRange_inpt', 'cardiology_inpt', 'urology_inpt',\n",
       "       'endocrinology_inpt', 'emergency_inpt', 'general_inpt',\n",
       "       'infectious_inpt', 'oncology_inpt', 'hematology_inpt',\n",
       "       'psychiatry_inpt', 'neurology_inpt', 'pulmonology_inpt',\n",
       "       'gastroenterology_inpt', 'ob-gyn_inpt', 'dermatology_inpt',\n",
       "       'orthopedics_inpt', 'congenital_inpt', 'neonatology_inpt',\n",
       "       'MeanResidualReimbursement', 'logOPAnnualReimbursement',\n",
       "       'logIPAnnualReimbursement', '$PerClaimDay', 'total_claim'],\n",
       "      dtype='object')"
      ]
     },
     "execution_count": 92,
     "metadata": {},
     "output_type": "execute_result"
    }
   ],
   "source": [
    "X_train.columns"
   ]
  },
  {
   "cell_type": "markdown",
   "metadata": {},
   "source": [
    "Create dataframes with the total provider claims for the training and test sets, then drop those columns since they won't be in the model. Scale the remaining dataframes since the models require scaled inputs to be able to estimate feature importances."
   ]
  },
  {
   "cell_type": "code",
   "execution_count": 93,
   "metadata": {},
   "outputs": [
    {
     "name": "stdout",
     "output_type": "stream",
     "text": [
      "(4328, 94)\n",
      "(1082, 94)\n"
     ]
    }
   ],
   "source": [
    "provider_claim_trn=X_train[['Provider','total_claim']]\n",
    "X_train=X_train.drop(columns=['Provider','total_claim'])\n",
    "X_train=(X_train-X.min(axis=0))/(X.max(axis=0)-X.min(axis=0))\n",
    "print(X_train.shape)\n",
    "\n",
    "provider_claim_test=X_test[['Provider','total_claim']]\n",
    "X_test=X_test.drop(columns=['Provider','total_claim'])\n",
    "X_test=(X_test-X.min(axis=0))/(X.max(axis=0)-X.min(axis=0))\n",
    "print(X_test.shape)"
   ]
  },
  {
   "cell_type": "code",
   "execution_count": 94,
   "metadata": {},
   "outputs": [
    {
     "data": {
      "text/plain": [
       "Series([], dtype: int64)"
      ]
     },
     "execution_count": 94,
     "metadata": {},
     "output_type": "execute_result"
    }
   ],
   "source": [
    "X_scaled=X_scaled.fillna(0)\n",
    "c = np.sum(X_scaled.isnull())\n",
    "c[c>0]"
   ]
  },
  {
   "cell_type": "code",
   "execution_count": 56,
   "metadata": {},
   "outputs": [],
   "source": [
    "y = x_train_inout_mod['PotentialFraud']\n",
    "X = x_train_inout_mod.drop(columns = ['Provider', 'PotentialFraud'])\n",
    "X_scaled = (X-X.min(axis=0))/(X.max(axis=0)-X.min(axis=0))\n",
    "X_scaled=X_scaled.fillna(0)\n",
    "\n"
   ]
  },
  {
   "cell_type": "markdown",
   "metadata": {},
   "source": [
    "We import the ensemble module and from that the gradient boost classifier. This is a second iteration but represent a guess without using a grid search to find optimal parameters.  We print the confusion matrix and F1 score for the test set."
   ]
  },
  {
   "cell_type": "code",
   "execution_count": 60,
   "metadata": {},
   "outputs": [
    {
     "name": "stdout",
     "output_type": "stream",
     "text": [
      "   0    1    predicted is columns\n",
      "[[925  52]\n",
      " [ 31  74]]\n",
      "              precision    recall  f1-score   support\n",
      "\n",
      "           0       0.97      0.95      0.96       977\n",
      "           1       0.59      0.70      0.64       105\n",
      "\n",
      "    accuracy                           0.92      1082\n",
      "   macro avg       0.78      0.83      0.80      1082\n",
      "weighted avg       0.93      0.92      0.93      1082\n",
      "\n"
     ]
    }
   ],
   "source": [
    "from sklearn.ensemble import GradientBoostingClassifier\n",
    "gbm_c = GradientBoostingClassifier()\n",
    "gbm_c.set_params(criterion='friedman_mse', init=None, learning_rate=0.01, loss='deviance', \\\n",
    "        max_depth=2,  max_features='auto', max_leaf_nodes=None, min_impurity_decrease=0.0, \\\n",
    "        min_impurity_split=None, min_samples_leaf=1, min_samples_split=2, min_weight_fraction_leaf=0.0, \\\n",
    "        n_estimators=3000, n_iter_no_change=None, presort='deprecated', random_state=42, subsample=0.3, \\\n",
    "        tol=0.0001,  validation_fraction=0.1, verbose=0, warm_start=False)\n",
    "sample_weight = np.array([1 if x==0 else 4.5 for x in y_train])\n",
    "gbm_c.fit(X_train, y_train, sample_weight=sample_weight)\n",
    "from sklearn.metrics import confusion_matrix, classification_report\n",
    "print('   0    1    predicted is columns')\n",
    "print(confusion_matrix(y_test, gbm_c.predict(X_test)))\n",
    "print(classification_report(y_test, gbm_c.predict(X_test)))"
   ]
  },
  {
   "cell_type": "markdown",
   "metadata": {},
   "source": [
    "We know that sample weighting can be used to increase the relative importance of the frauds in this imbalanced classification problem since the gradient boost problem doesn't have a class_weight= 'balanced' argument.  We examine here a range of weights, after having examined a larger range previously and then narrowing to this."
   ]
  },
  {
   "cell_type": "code",
   "execution_count": 61,
   "metadata": {},
   "outputs": [
    {
     "name": "stdout",
     "output_type": "stream",
     "text": [
      "4\n",
      "[[929  48]\n",
      " [ 32  73]]\n",
      "              precision    recall  f1-score   support\n",
      "\n",
      "           0       0.97      0.95      0.96       977\n",
      "           1       0.60      0.70      0.65       105\n",
      "\n",
      "    accuracy                           0.93      1082\n",
      "   macro avg       0.79      0.82      0.80      1082\n",
      "weighted avg       0.93      0.93      0.93      1082\n",
      "\n",
      "4.5\n",
      "[[925  52]\n",
      " [ 31  74]]\n",
      "              precision    recall  f1-score   support\n",
      "\n",
      "           0       0.97      0.95      0.96       977\n",
      "           1       0.59      0.70      0.64       105\n",
      "\n",
      "    accuracy                           0.92      1082\n",
      "   macro avg       0.78      0.83      0.80      1082\n",
      "weighted avg       0.93      0.92      0.93      1082\n",
      "\n",
      "5\n",
      "[[923  54]\n",
      " [ 28  77]]\n",
      "              precision    recall  f1-score   support\n",
      "\n",
      "           0       0.97      0.94      0.96       977\n",
      "           1       0.59      0.73      0.65       105\n",
      "\n",
      "    accuracy                           0.92      1082\n",
      "   macro avg       0.78      0.84      0.81      1082\n",
      "weighted avg       0.93      0.92      0.93      1082\n",
      "\n",
      "5.5\n",
      "[[917  60]\n",
      " [ 27  78]]\n",
      "              precision    recall  f1-score   support\n",
      "\n",
      "           0       0.97      0.94      0.95       977\n",
      "           1       0.57      0.74      0.64       105\n",
      "\n",
      "    accuracy                           0.92      1082\n",
      "   macro avg       0.77      0.84      0.80      1082\n",
      "weighted avg       0.93      0.92      0.92      1082\n",
      "\n",
      "6\n",
      "[[916  61]\n",
      " [ 27  78]]\n",
      "              precision    recall  f1-score   support\n",
      "\n",
      "           0       0.97      0.94      0.95       977\n",
      "           1       0.56      0.74      0.64       105\n",
      "\n",
      "    accuracy                           0.92      1082\n",
      "   macro avg       0.77      0.84      0.80      1082\n",
      "weighted avg       0.93      0.92      0.92      1082\n",
      "\n",
      "7\n",
      "[[913  64]\n",
      " [ 24  81]]\n",
      "              precision    recall  f1-score   support\n",
      "\n",
      "           0       0.97      0.93      0.95       977\n",
      "           1       0.56      0.77      0.65       105\n",
      "\n",
      "    accuracy                           0.92      1082\n",
      "   macro avg       0.77      0.85      0.80      1082\n",
      "weighted avg       0.93      0.92      0.92      1082\n",
      "\n",
      "8\n",
      "[[910  67]\n",
      " [ 25  80]]\n",
      "              precision    recall  f1-score   support\n",
      "\n",
      "           0       0.97      0.93      0.95       977\n",
      "           1       0.54      0.76      0.63       105\n",
      "\n",
      "    accuracy                           0.91      1082\n",
      "   macro avg       0.76      0.85      0.79      1082\n",
      "weighted avg       0.93      0.91      0.92      1082\n",
      "\n",
      "CPU times: user 3min 9s, sys: 1.12 s, total: 3min 10s\n",
      "Wall time: 3min 11s\n"
     ]
    }
   ],
   "source": [
    "%%time\n",
    "for x in [4,4.5,5,5.5,6,7,8]:\n",
    "    sample_weight = np.array([1 if y==0 else x for y in y_train])\n",
    "    gbm_c.set_params(criterion='friedman_mse', init=None, learning_rate=0.01, loss='deviance', \\\n",
    "        max_depth=2,  max_features='auto', max_leaf_nodes=None, min_impurity_decrease=0.0, \\\n",
    "        min_impurity_split=None, min_samples_leaf=1, min_samples_split=2, min_weight_fraction_leaf=0.0, \\\n",
    "        n_estimators=3000, n_iter_no_change=None, presort='deprecated', random_state=42, subsample=0.3, \\\n",
    "        tol=0.0001,  validation_fraction=0.1, verbose=0, warm_start=False)\n",
    "    gbm_c.fit(X_train, y_train, sample_weight=sample_weight)\n",
    "    print(x)\n",
    "    print(confusion_matrix(y_test, gbm_c.predict(X_test)))\n",
    "    print(classification_report(y_test, gbm_c.predict(X_test)))\n",
    "    "
   ]
  },
  {
   "cell_type": "markdown",
   "metadata": {},
   "source": [
    "We now perform a cross-validated gridsearch of parameter space to find the optimal hyperparameters.  We then pass them to the model to fit, and find that the performance decreased (in both F1 and confusion matrix) much as we saw in the random forest model development. We decide to retain the original parameters."
   ]
  },
  {
   "cell_type": "code",
   "execution_count": 62,
   "metadata": {},
   "outputs": [
    {
     "name": "stdout",
     "output_type": "stream",
     "text": [
      "[[937  40]\n",
      " [ 42  63]]\n",
      "              precision    recall  f1-score   support\n",
      "\n",
      "           0       0.96      0.96      0.96       977\n",
      "           1       0.61      0.60      0.61       105\n",
      "\n",
      "    accuracy                           0.92      1082\n",
      "   macro avg       0.78      0.78      0.78      1082\n",
      "weighted avg       0.92      0.92      0.92      1082\n",
      "\n",
      "CPU times: user 1min 30s, sys: 1.48 s, total: 1min 32s\n",
      "Wall time: 9h 7min 38s\n"
     ]
    }
   ],
   "source": [
    "%%time\n",
    "from sklearn.model_selection import GridSearchCV\n",
    "sample_weight = np.array([1 if y==0 else 5 for y in y_train])\n",
    "grid_para_gbm = [{\n",
    "    'criterion':['friedman_mse'],\n",
    "    'loss':['deviance','exponential'],\n",
    "    'n_estimators':[2500, 3000,3500],\n",
    "    'min_samples_leaf':[2,3, 5,7],\n",
    "    'max_depth':[1,2, 3],\n",
    "    'learning_rate':[0.005, 0.01, 0.015],\n",
    "    'min_samples_split':[1,2,3],\n",
    "    'validation_fraction':[0.1,0.2]\n",
    "}]\n",
    "grid_search_gbm = GridSearchCV(gbm_c, grid_para_gbm, scoring='f1_weighted', cv=5, n_jobs=3)\n",
    "grid_search_gbm.fit(X_train, y_train,sample_weight=sample_weight)\n",
    "bst_prms = grid_search_gbm.best_params_\n",
    "gbm_c.set_params(ccp_alpha=0.0, criterion='friedman_mse', init=None, learning_rate=bst_prms['learning_rate'], \\\n",
    "                     loss=bst_prms['loss'], max_depth=bst_prms['max_depth'], max_features='auto', max_leaf_nodes=None, \\\n",
    "                     min_impurity_decrease=0.0, min_impurity_split=None, min_samples_leaf=bst_prms['min_samples_leaf'], \\\n",
    "                     min_samples_split=bst_prms['min_samples_split'], min_weight_fraction_leaf=0.0, n_estimators=bst_prms['n_estimators'], \\\n",
    "                     n_iter_no_change=None, presort='deprecated', random_state=42, subsample=0.3, tol=0.0001, \\\n",
    "                     validation_fraction=bst_prms['validation_fraction'], verbose=0, warm_start=False)\n",
    "gbm_c.fit(X_train, y_train, sample_weight=sample_weight)\n",
    "print(confusion_matrix(y_test, gbm_c.predict(X_test)))\n",
    "print(classification_report(y_test, gbm_c.predict(X_test)))"
   ]
  },
  {
   "cell_type": "markdown",
   "metadata": {},
   "source": [
    "We go back to the original set of parameters and re-examine the weighting parameter, since this seems to affect performance significantly."
   ]
  },
  {
   "cell_type": "code",
   "execution_count": 63,
   "metadata": {},
   "outputs": [
    {
     "name": "stdout",
     "output_type": "stream",
     "text": [
      "3\n",
      "[[931  46]\n",
      " [ 38  67]]\n",
      "              precision    recall  f1-score   support\n",
      "\n",
      "           0       0.96      0.95      0.96       977\n",
      "           1       0.59      0.64      0.61       105\n",
      "\n",
      "    accuracy                           0.92      1082\n",
      "   macro avg       0.78      0.80      0.79      1082\n",
      "weighted avg       0.93      0.92      0.92      1082\n",
      "\n",
      "3.25\n",
      "[[929  48]\n",
      " [ 35  70]]\n",
      "              precision    recall  f1-score   support\n",
      "\n",
      "           0       0.96      0.95      0.96       977\n",
      "           1       0.59      0.67      0.63       105\n",
      "\n",
      "    accuracy                           0.92      1082\n",
      "   macro avg       0.78      0.81      0.79      1082\n",
      "weighted avg       0.93      0.92      0.93      1082\n",
      "\n",
      "3.5\n",
      "[[929  48]\n",
      " [ 34  71]]\n",
      "              precision    recall  f1-score   support\n",
      "\n",
      "           0       0.96      0.95      0.96       977\n",
      "           1       0.60      0.68      0.63       105\n",
      "\n",
      "    accuracy                           0.92      1082\n",
      "   macro avg       0.78      0.81      0.80      1082\n",
      "weighted avg       0.93      0.92      0.93      1082\n",
      "\n",
      "3.75\n",
      "[[929  48]\n",
      " [ 32  73]]\n",
      "              precision    recall  f1-score   support\n",
      "\n",
      "           0       0.97      0.95      0.96       977\n",
      "           1       0.60      0.70      0.65       105\n",
      "\n",
      "    accuracy                           0.93      1082\n",
      "   macro avg       0.79      0.82      0.80      1082\n",
      "weighted avg       0.93      0.93      0.93      1082\n",
      "\n",
      "4\n",
      "[[929  48]\n",
      " [ 32  73]]\n",
      "              precision    recall  f1-score   support\n",
      "\n",
      "           0       0.97      0.95      0.96       977\n",
      "           1       0.60      0.70      0.65       105\n",
      "\n",
      "    accuracy                           0.93      1082\n",
      "   macro avg       0.79      0.82      0.80      1082\n",
      "weighted avg       0.93      0.93      0.93      1082\n",
      "\n",
      "4.5\n",
      "[[925  52]\n",
      " [ 31  74]]\n",
      "              precision    recall  f1-score   support\n",
      "\n",
      "           0       0.97      0.95      0.96       977\n",
      "           1       0.59      0.70      0.64       105\n",
      "\n",
      "    accuracy                           0.92      1082\n",
      "   macro avg       0.78      0.83      0.80      1082\n",
      "weighted avg       0.93      0.92      0.93      1082\n",
      "\n",
      "CPU times: user 2min 18s, sys: 384 ms, total: 2min 18s\n",
      "Wall time: 2min 19s\n"
     ]
    }
   ],
   "source": [
    "%%time\n",
    "for x in [3,3.25,3.5,3.75,4,4.5]:\n",
    "    sample_weight = np.array([1 if y==0 else x for y in y_train])\n",
    "    gbm_c.set_params(criterion='friedman_mse', init=None, learning_rate=0.01, loss='deviance', \\\n",
    "        max_depth=2,  max_features='auto', max_leaf_nodes=None, min_impurity_decrease=0.0, \\\n",
    "        min_impurity_split=None, min_samples_leaf=1, min_samples_split=2, min_weight_fraction_leaf=0.0, \\\n",
    "        n_estimators=3000, n_iter_no_change=None, presort='deprecated', random_state=42, subsample=0.3, \\\n",
    "        tol=0.0001,  validation_fraction=0.1, verbose=0, warm_start=False)\n",
    "    gbm_c.fit(X_train, y_train, sample_weight=sample_weight)\n",
    "    print(x)\n",
    "    print(confusion_matrix(y_test, gbm_c.predict(X_test)))\n",
    "    print(classification_report(y_test, gbm_c.predict(X_test)))\n",
    "    "
   ]
  },
  {
   "cell_type": "markdown",
   "metadata": {},
   "source": [
    "Having selected an optimal set of parameters for our desired performance parameters, we now introduce noise in the form of the random state generator and iterate through multiple random numbers to obtain a more representative view of the model's performance."
   ]
  },
  {
   "cell_type": "code",
   "execution_count": 65,
   "metadata": {},
   "outputs": [
    {
     "name": "stdout",
     "output_type": "stream",
     "text": [
      "[[929  48]\n",
      " [ 31  74]]\n",
      "              precision    recall  f1-score   support\n",
      "\n",
      "           0       0.97      0.95      0.96       977\n",
      "           1       0.61      0.70      0.65       105\n",
      "\n",
      "    accuracy                           0.93      1082\n",
      "   macro avg       0.79      0.83      0.81      1082\n",
      "weighted avg       0.93      0.93      0.93      1082\n",
      "\n",
      "[[929  48]\n",
      " [ 31  74]]\n",
      "              precision    recall  f1-score   support\n",
      "\n",
      "           0       0.97      0.95      0.96       977\n",
      "           1       0.61      0.70      0.65       105\n",
      "\n",
      "    accuracy                           0.93      1082\n",
      "   macro avg       0.79      0.83      0.81      1082\n",
      "weighted avg       0.93      0.93      0.93      1082\n",
      "\n",
      "[[928  49]\n",
      " [ 31  74]]\n",
      "              precision    recall  f1-score   support\n",
      "\n",
      "           0       0.97      0.95      0.96       977\n",
      "           1       0.60      0.70      0.65       105\n",
      "\n",
      "    accuracy                           0.93      1082\n",
      "   macro avg       0.78      0.83      0.80      1082\n",
      "weighted avg       0.93      0.93      0.93      1082\n",
      "\n",
      "[[928  49]\n",
      " [ 31  74]]\n",
      "              precision    recall  f1-score   support\n",
      "\n",
      "           0       0.97      0.95      0.96       977\n",
      "           1       0.60      0.70      0.65       105\n",
      "\n",
      "    accuracy                           0.93      1082\n",
      "   macro avg       0.78      0.83      0.80      1082\n",
      "weighted avg       0.93      0.93      0.93      1082\n",
      "\n",
      "[[927  50]\n",
      " [ 27  78]]\n",
      "              precision    recall  f1-score   support\n",
      "\n",
      "           0       0.97      0.95      0.96       977\n",
      "           1       0.61      0.74      0.67       105\n",
      "\n",
      "    accuracy                           0.93      1082\n",
      "   macro avg       0.79      0.85      0.81      1082\n",
      "weighted avg       0.94      0.93      0.93      1082\n",
      "\n",
      "[[929  48]\n",
      " [ 29  76]]\n",
      "              precision    recall  f1-score   support\n",
      "\n",
      "           0       0.97      0.95      0.96       977\n",
      "           1       0.61      0.72      0.66       105\n",
      "\n",
      "    accuracy                           0.93      1082\n",
      "   macro avg       0.79      0.84      0.81      1082\n",
      "weighted avg       0.94      0.93      0.93      1082\n",
      "\n",
      "[[932  45]\n",
      " [ 26  79]]\n",
      "              precision    recall  f1-score   support\n",
      "\n",
      "           0       0.97      0.95      0.96       977\n",
      "           1       0.64      0.75      0.69       105\n",
      "\n",
      "    accuracy                           0.93      1082\n",
      "   macro avg       0.80      0.85      0.83      1082\n",
      "weighted avg       0.94      0.93      0.94      1082\n",
      "\n",
      "[[927  50]\n",
      " [ 29  76]]\n",
      "              precision    recall  f1-score   support\n",
      "\n",
      "           0       0.97      0.95      0.96       977\n",
      "           1       0.60      0.72      0.66       105\n",
      "\n",
      "    accuracy                           0.93      1082\n",
      "   macro avg       0.79      0.84      0.81      1082\n",
      "weighted avg       0.93      0.93      0.93      1082\n",
      "\n",
      " median, std F1 score for fraud  (0.655, 0.013228756555322933)\n",
      "      true neg                   false pos\n",
      "(928.5, 1.4947825928876748) (48.5, 1.4947825928876748)\n",
      "      false neg                   true pos\n",
      "(30.0, 1.8666480653835098) (75.0, 1.8666480653835098)\n",
      "CPU times: user 3min 1s, sys: 327 ms, total: 3min 2s\n",
      "Wall time: 3min 2s\n"
     ]
    }
   ],
   "source": [
    "%%time\n",
    "rndm_score_dict = {}\n",
    "sample_weight = np.array([1 if y==0 else 4 for y in y_train])\n",
    "for i in range(8):\n",
    "    rnint = np.random.randint(0,1000000)\n",
    "    gbm_c.set_params(criterion='friedman_mse', init=None, learning_rate=0.01, loss='deviance', \\\n",
    "    max_depth=2,  max_features='auto', max_leaf_nodes=None, min_impurity_decrease=0.0, \\\n",
    "    min_impurity_split=None, min_samples_leaf=1, min_samples_split=2, min_weight_fraction_leaf=0.0, \\\n",
    "    n_estimators=3000, n_iter_no_change=None, presort='deprecated', random_state=rnint, subsample=0.3, \\\n",
    "    tol=0.0001,  validation_fraction=0.1, verbose=0, warm_start=False)\n",
    "    gbm_c.fit(X_train, y_train, sample_weight=sample_weight)\n",
    "    print(confusion_matrix(y_test, gbm_c.predict(X_test)))\n",
    "    print(classification_report(y_test, gbm_c.predict(X_test)))\n",
    "    rndm_score_dict[rnint]=[confusion_matrix(y_test, gbm_c.predict(X_test)),\\\n",
    "    ''.join([classification_report(y_test, gbm_c.predict(X_test))[x] for x in range(148,152)]),\\\n",
    "    pd.DataFrame(list(zip(X_train.columns, gbm_c.feature_importances_))).sort_values(by = 1, ascending=False)]\n",
    "import statistics\n",
    "med_true_neg = statistics.median([rndm_score_dict[x][0][0][0] for x in rndm_score_dict.keys()])\n",
    "std_true_neg = np.std([rndm_score_dict[x][0][0][0] for x in rndm_score_dict.keys()])\n",
    "med_false_pos = statistics.median([rndm_score_dict[x][0][0][1] for x in rndm_score_dict.keys()])\n",
    "std_false_pos = np.std([rndm_score_dict[x][0][0][1] for x in rndm_score_dict.keys()])\n",
    "med_false_neg = statistics.median([rndm_score_dict[x][0][1][0] for x in rndm_score_dict.keys()])\n",
    "std_false_neg = np.std([rndm_score_dict[x][0][1][0] for x in rndm_score_dict.keys()])\n",
    "med_true_pos = statistics.median([rndm_score_dict[x][0][1][1] for x in rndm_score_dict.keys()])\n",
    "std_true_pos = np.std([rndm_score_dict[x][0][1][1] for x in rndm_score_dict.keys()])\n",
    "med_f1 = statistics.median([float(rndm_score_dict[x][1]) for x in rndm_score_dict.keys()])\n",
    "std_f1 = np.std([float(rndm_score_dict[x][1]) for x in rndm_score_dict.keys()])\n",
    "# print(med_f1)\n",
    "print(' median, std F1 score for fraud ',(med_f1,std_f1))\n",
    "print('      true neg                   false pos')\n",
    "print((med_true_neg,std_true_neg),(med_false_pos,std_false_pos))\n",
    "print('      false neg                   true pos')\n",
    "print((med_false_neg,std_false_neg),(med_true_pos,std_true_pos))"
   ]
  },
  {
   "cell_type": "markdown",
   "metadata": {},
   "source": [
    "From the preceding step we see the F1 averages around 0.655 and the false positives and false negatives together approximately equal to the correctly labeled positives.  We now calculate the average feature importances from those iterations, and view the bottom 25 features."
   ]
  },
  {
   "cell_type": "code",
   "execution_count": 67,
   "metadata": {},
   "outputs": [
    {
     "data": {
      "text/html": [
       "<div>\n",
       "<style scoped>\n",
       "    .dataframe tbody tr th:only-of-type {\n",
       "        vertical-align: middle;\n",
       "    }\n",
       "\n",
       "    .dataframe tbody tr th {\n",
       "        vertical-align: top;\n",
       "    }\n",
       "\n",
       "    .dataframe thead th {\n",
       "        text-align: right;\n",
       "    }\n",
       "</style>\n",
       "<table border=\"1\" class=\"dataframe\">\n",
       "  <thead>\n",
       "    <tr style=\"text-align: right;\">\n",
       "      <th></th>\n",
       "      <th>0</th>\n",
       "      <th>GB_Feature_Imp_Ave</th>\n",
       "    </tr>\n",
       "  </thead>\n",
       "  <tbody>\n",
       "    <tr>\n",
       "      <th>73</th>\n",
       "      <td>emergency_otpt</td>\n",
       "      <td>2.870202e-03</td>\n",
       "    </tr>\n",
       "    <tr>\n",
       "      <th>71</th>\n",
       "      <td>endocrinology_inpt</td>\n",
       "      <td>2.626369e-03</td>\n",
       "    </tr>\n",
       "    <tr>\n",
       "      <th>68</th>\n",
       "      <td>neurology_otpt</td>\n",
       "      <td>2.609955e-03</td>\n",
       "    </tr>\n",
       "    <tr>\n",
       "      <th>61</th>\n",
       "      <td>orthopedics_otpt</td>\n",
       "      <td>2.514733e-03</td>\n",
       "    </tr>\n",
       "    <tr>\n",
       "      <th>66</th>\n",
       "      <td>infectious_otpt</td>\n",
       "      <td>2.413127e-03</td>\n",
       "    </tr>\n",
       "    <tr>\n",
       "      <th>81</th>\n",
       "      <td>State_in</td>\n",
       "      <td>2.339981e-03</td>\n",
       "    </tr>\n",
       "    <tr>\n",
       "      <th>70</th>\n",
       "      <td>congenital_otpt</td>\n",
       "      <td>2.295642e-03</td>\n",
       "    </tr>\n",
       "    <tr>\n",
       "      <th>78</th>\n",
       "      <td>NumDiag_out</td>\n",
       "      <td>2.273871e-03</td>\n",
       "    </tr>\n",
       "    <tr>\n",
       "      <th>74</th>\n",
       "      <td>dermatology_otpt</td>\n",
       "      <td>2.039842e-03</td>\n",
       "    </tr>\n",
       "    <tr>\n",
       "      <th>79</th>\n",
       "      <td>pulmonology_otpt</td>\n",
       "      <td>2.036702e-03</td>\n",
       "    </tr>\n",
       "    <tr>\n",
       "      <th>82</th>\n",
       "      <td>cardiology_otpt</td>\n",
       "      <td>1.826788e-03</td>\n",
       "    </tr>\n",
       "    <tr>\n",
       "      <th>72</th>\n",
       "      <td>docEignMean</td>\n",
       "      <td>1.796799e-03</td>\n",
       "    </tr>\n",
       "    <tr>\n",
       "      <th>80</th>\n",
       "      <td>urology_otpt</td>\n",
       "      <td>1.582126e-03</td>\n",
       "    </tr>\n",
       "    <tr>\n",
       "      <th>84</th>\n",
       "      <td>NumDiag_out_Range</td>\n",
       "      <td>1.553289e-03</td>\n",
       "    </tr>\n",
       "    <tr>\n",
       "      <th>77</th>\n",
       "      <td>NumChronics_in_Range</td>\n",
       "      <td>1.352638e-03</td>\n",
       "    </tr>\n",
       "    <tr>\n",
       "      <th>83</th>\n",
       "      <td>general_otpt</td>\n",
       "      <td>1.346336e-03</td>\n",
       "    </tr>\n",
       "    <tr>\n",
       "      <th>86</th>\n",
       "      <td>NumChronics_out_Range</td>\n",
       "      <td>9.399085e-04</td>\n",
       "    </tr>\n",
       "    <tr>\n",
       "      <th>85</th>\n",
       "      <td>NumProc_in_Range</td>\n",
       "      <td>8.318025e-04</td>\n",
       "    </tr>\n",
       "    <tr>\n",
       "      <th>87</th>\n",
       "      <td>NumProc_out</td>\n",
       "      <td>2.256178e-04</td>\n",
       "    </tr>\n",
       "    <tr>\n",
       "      <th>89</th>\n",
       "      <td>ClaimDays_out_Range</td>\n",
       "      <td>1.015866e-04</td>\n",
       "    </tr>\n",
       "    <tr>\n",
       "      <th>88</th>\n",
       "      <td>NumProc_out_Range</td>\n",
       "      <td>4.805904e-05</td>\n",
       "    </tr>\n",
       "    <tr>\n",
       "      <th>90</th>\n",
       "      <td>DeductibleAmtPaid_in</td>\n",
       "      <td>2.529449e-07</td>\n",
       "    </tr>\n",
       "    <tr>\n",
       "      <th>91</th>\n",
       "      <td>ClmsPerPhysician_out</td>\n",
       "      <td>0.000000e+00</td>\n",
       "    </tr>\n",
       "    <tr>\n",
       "      <th>92</th>\n",
       "      <td>ClmsPerPhysician_in</td>\n",
       "      <td>0.000000e+00</td>\n",
       "    </tr>\n",
       "    <tr>\n",
       "      <th>93</th>\n",
       "      <td>neonatology_inpt</td>\n",
       "      <td>0.000000e+00</td>\n",
       "    </tr>\n",
       "  </tbody>\n",
       "</table>\n",
       "</div>"
      ],
      "text/plain": [
       "                        0  GB_Feature_Imp_Ave\n",
       "73         emergency_otpt        2.870202e-03\n",
       "71     endocrinology_inpt        2.626369e-03\n",
       "68         neurology_otpt        2.609955e-03\n",
       "61       orthopedics_otpt        2.514733e-03\n",
       "66        infectious_otpt        2.413127e-03\n",
       "81               State_in        2.339981e-03\n",
       "70        congenital_otpt        2.295642e-03\n",
       "78            NumDiag_out        2.273871e-03\n",
       "74       dermatology_otpt        2.039842e-03\n",
       "79       pulmonology_otpt        2.036702e-03\n",
       "82        cardiology_otpt        1.826788e-03\n",
       "72            docEignMean        1.796799e-03\n",
       "80           urology_otpt        1.582126e-03\n",
       "84      NumDiag_out_Range        1.553289e-03\n",
       "77   NumChronics_in_Range        1.352638e-03\n",
       "83           general_otpt        1.346336e-03\n",
       "86  NumChronics_out_Range        9.399085e-04\n",
       "85       NumProc_in_Range        8.318025e-04\n",
       "87            NumProc_out        2.256178e-04\n",
       "89    ClaimDays_out_Range        1.015866e-04\n",
       "88      NumProc_out_Range        4.805904e-05\n",
       "90   DeductibleAmtPaid_in        2.529449e-07\n",
       "91   ClmsPerPhysician_out        0.000000e+00\n",
       "92    ClmsPerPhysician_in        0.000000e+00\n",
       "93       neonatology_inpt        0.000000e+00"
      ]
     },
     "execution_count": 67,
     "metadata": {},
     "output_type": "execute_result"
    }
   ],
   "source": [
    "GB_Feature_Imp_Ave = rndm_score_dict[55062][2][[0]]\n",
    "for key in rndm_score_dict.keys():\n",
    "    GB_Feature_Imp_Ave = pd.merge(GB_Feature_Imp_Ave,rndm_score_dict[key][2], on=0)\n",
    "GB_Feature_Imp_Ave['GB_Feature_Imp_Ave']=GB_Feature_Imp_Ave.mean(axis=1)\n",
    "GB_Feature_Imp_Ave = GB_Feature_Imp_Ave.sort_values(by='GB_Feature_Imp_Ave', ascending=False)\n",
    "GB_Feature_Imp_Ave = GB_Feature_Imp_Ave.drop(columns=['1_x','1_y','1_x','1_y','1_y','1_y'])\n",
    "a = GB_Feature_Imp_Ave.tail(25)\n",
    "a"
   ]
  },
  {
   "cell_type": "markdown",
   "metadata": {},
   "source": [
    "We turn these into a list of features to be dropped from the model."
   ]
  },
  {
   "cell_type": "code",
   "execution_count": 68,
   "metadata": {},
   "outputs": [
    {
     "data": {
      "text/plain": [
       "['emergency_otpt',\n",
       " 'endocrinology_inpt',\n",
       " 'neurology_otpt',\n",
       " 'orthopedics_otpt',\n",
       " 'infectious_otpt',\n",
       " 'State_in',\n",
       " 'congenital_otpt',\n",
       " 'NumDiag_out',\n",
       " 'dermatology_otpt',\n",
       " 'pulmonology_otpt',\n",
       " 'cardiology_otpt',\n",
       " 'docEignMean',\n",
       " 'urology_otpt',\n",
       " 'NumDiag_out_Range',\n",
       " 'NumChronics_in_Range',\n",
       " 'general_otpt',\n",
       " 'NumChronics_out_Range',\n",
       " 'NumProc_in_Range',\n",
       " 'NumProc_out',\n",
       " 'ClaimDays_out_Range',\n",
       " 'NumProc_out_Range',\n",
       " 'DeductibleAmtPaid_in',\n",
       " 'ClmsPerPhysician_out',\n",
       " 'ClmsPerPhysician_in',\n",
       " 'neonatology_inpt']"
      ]
     },
     "execution_count": 68,
     "metadata": {},
     "output_type": "execute_result"
    }
   ],
   "source": [
    "drop_list = list(a[0])\n",
    "drop_list"
   ]
  },
  {
   "cell_type": "markdown",
   "metadata": {},
   "source": [
    "We remove the features from the previous step from the feature matrix and fit the model to the reduced set of features. We again iterate over a series of random state generators to obtain a new estimate of the average F1, confusion matrix and feature importances from the reduced model."
   ]
  },
  {
   "cell_type": "code",
   "execution_count": 70,
   "metadata": {},
   "outputs": [
    {
     "name": "stdout",
     "output_type": "stream",
     "text": [
      "Metrics for reduced random forest on test set, minus bottom 25 features\n",
      "69\n",
      " median, std F1 score for fraud  (0.66, 0.009270248108869587)\n",
      "      true neg                   false pos\n",
      "(927.0, 0.6614378277661477) (50.0, 0.6614378277661477)\n",
      "      false neg                   true pos\n",
      "(30.0, 1.5761900266148114) (75.0, 1.5761900266148114)\n",
      "metrics for train set with reduced features\n",
      "[[3820  107]\n",
      " [  14  387]]\n",
      "              precision    recall  f1-score   support\n",
      "\n",
      "           0       1.00      0.97      0.98      3927\n",
      "           1       0.78      0.97      0.86       401\n",
      "\n",
      "    accuracy                           0.97      4328\n",
      "   macro avg       0.89      0.97      0.92      4328\n",
      "weighted avg       0.98      0.97      0.97      4328\n",
      "\n"
     ]
    }
   ],
   "source": [
    "X_train_reduced = X_train.drop(columns=drop_list)\n",
    "X_test_reduced = X_test.drop(columns=drop_list)\n",
    "sample_weight = np.array([1 if y==0 else 4 for y in y_train])\n",
    "rndm_score_red_dict = {}\n",
    "for i in range(8):\n",
    "    rnint = np.random.randint(0,1000000)\n",
    "    gbm_c.set_params(criterion='friedman_mse', init=None, learning_rate=0.01, loss='deviance', \\\n",
    "    max_depth=2,  max_features='auto', max_leaf_nodes=None, min_impurity_decrease=0.0, \\\n",
    "    min_impurity_split=None, min_samples_leaf=1, min_samples_split=2, min_weight_fraction_leaf=0.0, \\\n",
    "    n_estimators=3000, n_iter_no_change=None, presort='deprecated', random_state=rnint, subsample=0.3, \\\n",
    "    tol=0.0001,  validation_fraction=0.1, verbose=0, warm_start=False)\n",
    "    gbm_c.fit(X_train_reduced, y_train,sample_weight=sample_weight)\n",
    "#     print(confusion_matrix(y_test, randomForest.predict(X_test_reduced)))\n",
    "#     print(classification_report(y_test, randomForest.predict(X_test_reduced)))\n",
    "    rndm_score_red_dict[rnint]=[confusion_matrix(y_test, gbm_c.predict(X_test_reduced)),\\\n",
    "    ''.join([classification_report(y_test, gbm_c.predict(X_test_reduced))[x] for x in range(148,152)]),\\\n",
    "    pd.DataFrame(list(zip(X_train_reduced.columns, gbm_c.feature_importances_))).sort_values(by = 1, ascending=False)]\n",
    "    \n",
    "med_true_neg = statistics.median([rndm_score_red_dict[x][0][0][0] for x in rndm_score_red_dict.keys()])\n",
    "std_true_neg = np.std([rndm_score_red_dict[x][0][0][0] for x in rndm_score_red_dict.keys()])\n",
    "med_false_pos = statistics.median([rndm_score_red_dict[x][0][0][1] for x in rndm_score_red_dict.keys()])\n",
    "std_false_pos = np.std([rndm_score_red_dict[x][0][0][1] for x in rndm_score_red_dict.keys()])\n",
    "med_false_neg = statistics.median([rndm_score_red_dict[x][0][1][0] for x in rndm_score_red_dict.keys()])\n",
    "std_false_neg = np.std([rndm_score_red_dict[x][0][1][0] for x in rndm_score_red_dict.keys()])\n",
    "med_true_pos = statistics.median([rndm_score_red_dict[x][0][1][1] for x in rndm_score_red_dict.keys()])\n",
    "std_true_pos = np.std([rndm_score_red_dict[x][0][1][1] for x in rndm_score_red_dict.keys()])\n",
    "med_f1 = statistics.median([float(rndm_score_red_dict[x][1]) for x in rndm_score_red_dict.keys()])\n",
    "std_f1 = np.std([float(rndm_score_red_dict[x][1]) for x in rndm_score_red_dict.keys()])\n",
    "# print(med_f1)\n",
    "print('Metrics for reduced random forest on test set, minus bottom 25 features')\n",
    "print(len(X_train_reduced.columns))\n",
    "print(' median, std F1 score for fraud ',(med_f1,std_f1))\n",
    "print('      true neg                   false pos')\n",
    "print((med_true_neg,std_true_neg),(med_false_pos,std_false_pos))\n",
    "print('      false neg                   true pos')\n",
    "print((med_false_neg,std_false_neg),(med_true_pos,std_true_pos))\n",
    "print('metrics for train set with reduced features')\n",
    "print(confusion_matrix(y_train, gbm_c.predict(X_train_reduced)))\n",
    "print(classification_report(y_train, gbm_c.predict(X_train_reduced)))\n"
   ]
  },
  {
   "cell_type": "markdown",
   "metadata": {},
   "source": [
    "We see the average F1 score is 0.66, again unchanged from the full-feature model. Moreover, the confusion matrix performance appears unchanged."
   ]
  },
  {
   "cell_type": "markdown",
   "metadata": {},
   "source": [
    "The model presented is slightly different from this one, but essentially we attempt to acknowledge a cost associated with all invetigations, and impose an extra cost for false positive identifications of innocent providers as fraudulent.  We attempted to maximize the amount of money identified as from fraudulent providers, while also trying to maximize the ratio of the recovered money to the amount spent to get that money."
   ]
  },
  {
   "cell_type": "code",
   "execution_count": 119,
   "metadata": {},
   "outputs": [
    {
     "name": "stdout",
     "output_type": "stream",
     "text": [
      "[[927  50]\n",
      " [ 32  73]]\n",
      "total claims for test set are $106,047,820\n",
      "total fraudulent claims are 51 % of total claims\n",
      "total investigation cost at 100K per 11 % of total claims\n",
      "total legal costs for false positives at 100K per are 4 % of total claims\n",
      "total recovered claims are 46 % of total claims\n",
      "total net benefit of model as Pct of total claims is 30 % of total claims\n"
     ]
    }
   ],
   "source": [
    "X_test_red = X_test.drop(columns=drop_list)\n",
    "a = pd.DataFrame({'actual':y_test,'predict':gbm_c.predict(X_test_red),'total_claim': provider_claim_test['total_claim']})\n",
    "print(confusion_matrix(y_test, gbm_c.predict(X_test_red)))\n",
    "totalclaims = np.sum(a['total_claim'])\n",
    "totaldefrauded=100*np.sum(a[a['actual']==1]['total_claim'])/totalclaims\n",
    "\n",
    "print('total claims for test set are ${:,.0f}'.format(totalclaims))\n",
    "\n",
    "print('total fraudulent claims are %i' %totaldefrauded,'% of total claims')\n",
    "\n",
    "totalcost=100*np.sum(a[a['predict']==1]['predict'])*100000/totalclaims\n",
    "print('total investigation cost at 100K per %i' %totalcost,'% of total claims')\n",
    "\n",
    "totalfalsepos=100*np.sum(a[(a['predict']==1) & a['actual']==0]['predict'])*100000/totalclaims\n",
    "print('total legal costs for false positives at 100K per are %i' %totalfalsepos,'% of total claims')\n",
    "\n",
    "totalrecovered=100*np.sum(a[(a['predict']==1) & a['actual']==1]['total_claim'])/totalclaims\n",
    "print('total recovered claims are %i' %totalrecovered,'% of total claims')\n",
    "print('total net benefit of model as Pct of total claims is %i' %(totalrecovered-(totalcost+totalfalsepos)),'% of total claims')"
   ]
  },
  {
   "cell_type": "code",
   "execution_count": 96,
   "metadata": {},
   "outputs": [
    {
     "name": "stdout",
     "output_type": "stream",
     "text": [
      "[[927  50]\n",
      " [ 32  73]]\n",
      "total claims are 106047820\n",
      "total fraudulent claims are 54628850\n",
      "total investigation cost at 100K per is 12300000\n",
      "total legal costs for false positives at 100K per is 5000000\n",
      "total recovered claims are 49422050\n",
      "total net benefit of model is 32122050\n"
     ]
    }
   ],
   "source": [
    "X_test_red = X_test.drop(columns=drop_list)\n",
    "a = pd.DataFrame({'actual':y_test,'predict':gbm_c.predict(X_test_red),'total_claim': provider_claim_test['total_claim']})\n",
    "print(confusion_matrix(y_test, gbm_c.predict(X_test_red)))\n",
    "\n",
    "totaldefrauded=np.sum(a[a['actual']==1]['total_claim'])\n",
    "totalclaims = np.sum(a['total_claim'])\n",
    "\n",
    "print('total claims are %i' %totalclaims)\n",
    "\n",
    "print('total fraudulent claims are %i' %totaldefrauded)\n",
    "\n",
    "totalcost=100*np.sum(a[a['predict']==1]['predict'])*100000/totalclaims\n",
    "print('total investigation cost at 100K per as Pct of Total is %i' %totalcost)\n",
    "\n",
    "totalfalsepos=np.sum(a[(a['predict']==1) & a['actual']==0]['predict'])*100000\n",
    "print('total legal costs for false positives at 100K per is %i' %totalfalsepos)\n",
    "\n",
    "totalrecovered=np.sum(a[(a['predict']==1) & a['actual']==1]['total_claim'])\n",
    "print('total recovered claims are %i' %totalrecovered)\n",
    "print('total net benefit of model is %i' %(totalrecovered-(totalcost+totalfalsepos)))"
   ]
  },
  {
   "cell_type": "markdown",
   "metadata": {},
   "source": [
    "Finally, we calculate the average feature importances after the random state iterations.  We see the most important feature is the range in the duration of the claims for a provider.  Similarly, the number of claims, the claims filed per patient and the range in the amount of money reimbursed on a claim are important."
   ]
  },
  {
   "cell_type": "code",
   "execution_count": 100,
   "metadata": {},
   "outputs": [
    {
     "data": {
      "text/html": [
       "<div>\n",
       "<style scoped>\n",
       "    .dataframe tbody tr th:only-of-type {\n",
       "        vertical-align: middle;\n",
       "    }\n",
       "\n",
       "    .dataframe tbody tr th {\n",
       "        vertical-align: top;\n",
       "    }\n",
       "\n",
       "    .dataframe thead th {\n",
       "        text-align: right;\n",
       "    }\n",
       "</style>\n",
       "<table border=\"1\" class=\"dataframe\">\n",
       "  <thead>\n",
       "    <tr style=\"text-align: right;\">\n",
       "      <th></th>\n",
       "      <th>0</th>\n",
       "      <th>GB_Feature_Imp_Ave</th>\n",
       "    </tr>\n",
       "  </thead>\n",
       "  <tbody>\n",
       "    <tr>\n",
       "      <th>0</th>\n",
       "      <td>ClaimDays_in_Range</td>\n",
       "      <td>0.333812</td>\n",
       "    </tr>\n",
       "    <tr>\n",
       "      <th>1</th>\n",
       "      <td>LogClaims_out</td>\n",
       "      <td>0.101873</td>\n",
       "    </tr>\n",
       "    <tr>\n",
       "      <th>2</th>\n",
       "      <td>ClmsPerPatient_in</td>\n",
       "      <td>0.064587</td>\n",
       "    </tr>\n",
       "    <tr>\n",
       "      <th>4</th>\n",
       "      <td>ClmsPerPatient_out</td>\n",
       "      <td>0.029677</td>\n",
       "    </tr>\n",
       "    <tr>\n",
       "      <th>3</th>\n",
       "      <td>InscClaimAmtReimbursed_in_Range</td>\n",
       "      <td>0.028030</td>\n",
       "    </tr>\n",
       "    <tr>\n",
       "      <th>...</th>\n",
       "      <td>...</td>\n",
       "      <td>...</td>\n",
       "    </tr>\n",
       "    <tr>\n",
       "      <th>67</th>\n",
       "      <td>docBtwnMean</td>\n",
       "      <td>0.003518</td>\n",
       "    </tr>\n",
       "    <tr>\n",
       "      <th>68</th>\n",
       "      <td>Age_in</td>\n",
       "      <td>0.003421</td>\n",
       "    </tr>\n",
       "    <tr>\n",
       "      <th>65</th>\n",
       "      <td>NumDiag_in</td>\n",
       "      <td>0.003348</td>\n",
       "    </tr>\n",
       "    <tr>\n",
       "      <th>61</th>\n",
       "      <td>oncology_otpt</td>\n",
       "      <td>0.003139</td>\n",
       "    </tr>\n",
       "    <tr>\n",
       "      <th>57</th>\n",
       "      <td>LogOtherPhys_out</td>\n",
       "      <td>0.003109</td>\n",
       "    </tr>\n",
       "  </tbody>\n",
       "</table>\n",
       "<p>69 rows × 2 columns</p>\n",
       "</div>"
      ],
      "text/plain": [
       "                                  0  GB_Feature_Imp_Ave\n",
       "0                ClaimDays_in_Range            0.333812\n",
       "1                     LogClaims_out            0.101873\n",
       "2                 ClmsPerPatient_in            0.064587\n",
       "4                ClmsPerPatient_out            0.029677\n",
       "3   InscClaimAmtReimbursed_in_Range            0.028030\n",
       "..                              ...                 ...\n",
       "67                      docBtwnMean            0.003518\n",
       "68                           Age_in            0.003421\n",
       "65                       NumDiag_in            0.003348\n",
       "61                    oncology_otpt            0.003139\n",
       "57                 LogOtherPhys_out            0.003109\n",
       "\n",
       "[69 rows x 2 columns]"
      ]
     },
     "execution_count": 100,
     "metadata": {},
     "output_type": "execute_result"
    }
   ],
   "source": [
    "GB_Feature_Red_Imp_Ave = rndm_score_red_dict[702230][2][[0]]\n",
    "for key in rndm_score_red_dict.keys():\n",
    "    GB_Feature_Red_Imp_Ave = pd.merge(GB_Feature_Red_Imp_Ave,rndm_score_red_dict[key][2], on=0)\n",
    "GB_Feature_Red_Imp_Ave['GB_Feature_Imp_Ave']=GB_Feature_Red_Imp_Ave.mean(axis=1)\n",
    "GB_Feature_Red_Imp_Ave = GB_Feature_Red_Imp_Ave.sort_values(by='GB_Feature_Imp_Ave', ascending=False)\n",
    "GB_Feature_Red_Imp_Ave = GB_Feature_Red_Imp_Ave.drop(columns=['1_x','1_y','1_x','1_y','1_y','1_y'])\n",
    "GB_Feature_Red_Imp_Ave"
   ]
  },
  {
   "cell_type": "markdown",
   "metadata": {},
   "source": [
    "Here we read in the feature importances from the random forest model to compare against the gradient boost model. We read in the file and remove spurious columns that are brought with it."
   ]
  },
  {
   "cell_type": "code",
   "execution_count": 97,
   "metadata": {},
   "outputs": [
    {
     "data": {
      "text/html": [
       "<div>\n",
       "<style scoped>\n",
       "    .dataframe tbody tr th:only-of-type {\n",
       "        vertical-align: middle;\n",
       "    }\n",
       "\n",
       "    .dataframe tbody tr th {\n",
       "        vertical-align: top;\n",
       "    }\n",
       "\n",
       "    .dataframe thead th {\n",
       "        text-align: right;\n",
       "    }\n",
       "</style>\n",
       "<table border=\"1\" class=\"dataframe\">\n",
       "  <thead>\n",
       "    <tr style=\"text-align: right;\">\n",
       "      <th></th>\n",
       "      <th>Unnamed: 0</th>\n",
       "      <th>0</th>\n",
       "      <th>RF_Feature_Imp_Ave</th>\n",
       "    </tr>\n",
       "  </thead>\n",
       "  <tbody>\n",
       "    <tr>\n",
       "      <th>0</th>\n",
       "      <td>0</td>\n",
       "      <td>ClaimDays_in_Range</td>\n",
       "      <td>0.201487</td>\n",
       "    </tr>\n",
       "    <tr>\n",
       "      <th>1</th>\n",
       "      <td>2</td>\n",
       "      <td>LogClaims_in</td>\n",
       "      <td>0.085908</td>\n",
       "    </tr>\n",
       "    <tr>\n",
       "      <th>2</th>\n",
       "      <td>4</td>\n",
       "      <td>LogPatients_in</td>\n",
       "      <td>0.085174</td>\n",
       "    </tr>\n",
       "    <tr>\n",
       "      <th>3</th>\n",
       "      <td>1</td>\n",
       "      <td>InscClaimAmtReimbursed_in_Range</td>\n",
       "      <td>0.077847</td>\n",
       "    </tr>\n",
       "    <tr>\n",
       "      <th>4</th>\n",
       "      <td>3</td>\n",
       "      <td>LogClaims_out</td>\n",
       "      <td>0.062159</td>\n",
       "    </tr>\n",
       "    <tr>\n",
       "      <th>...</th>\n",
       "      <td>...</td>\n",
       "      <td>...</td>\n",
       "      <td>...</td>\n",
       "    </tr>\n",
       "    <tr>\n",
       "      <th>64</th>\n",
       "      <td>63</td>\n",
       "      <td>general_inpt</td>\n",
       "      <td>0.002250</td>\n",
       "    </tr>\n",
       "    <tr>\n",
       "      <th>65</th>\n",
       "      <td>57</td>\n",
       "      <td>infectious_inpt</td>\n",
       "      <td>0.002180</td>\n",
       "    </tr>\n",
       "    <tr>\n",
       "      <th>66</th>\n",
       "      <td>47</td>\n",
       "      <td>congenital_otpt</td>\n",
       "      <td>0.002073</td>\n",
       "    </tr>\n",
       "    <tr>\n",
       "      <th>67</th>\n",
       "      <td>33</td>\n",
       "      <td>NumChronics_out_Range</td>\n",
       "      <td>0.002072</td>\n",
       "    </tr>\n",
       "    <tr>\n",
       "      <th>68</th>\n",
       "      <td>66</td>\n",
       "      <td>endocrinology_inpt</td>\n",
       "      <td>0.001690</td>\n",
       "    </tr>\n",
       "  </tbody>\n",
       "</table>\n",
       "<p>69 rows × 3 columns</p>\n",
       "</div>"
      ],
      "text/plain": [
       "    Unnamed: 0                                0  RF_Feature_Imp_Ave\n",
       "0            0               ClaimDays_in_Range            0.201487\n",
       "1            2                     LogClaims_in            0.085908\n",
       "2            4                   LogPatients_in            0.085174\n",
       "3            1  InscClaimAmtReimbursed_in_Range            0.077847\n",
       "4            3                    LogClaims_out            0.062159\n",
       "..         ...                              ...                 ...\n",
       "64          63                     general_inpt            0.002250\n",
       "65          57                  infectious_inpt            0.002180\n",
       "66          47                  congenital_otpt            0.002073\n",
       "67          33            NumChronics_out_Range            0.002072\n",
       "68          66               endocrinology_inpt            0.001690\n",
       "\n",
       "[69 rows x 3 columns]"
      ]
     },
     "execution_count": 97,
     "metadata": {},
     "output_type": "execute_result"
    }
   ],
   "source": [
    "RF_Red_Feature_Imp_Ave=pd.read_csv('RF_Red_Feature_Imp_Ave.csv')\n",
    "RF_Red_Feature_Imp_Ave"
   ]
  },
  {
   "cell_type": "code",
   "execution_count": 98,
   "metadata": {},
   "outputs": [],
   "source": [
    "RF_Red_Feature_Imp_Ave = RF_Red_Feature_Imp_Ave.drop(columns = ['Unnamed: 0'])"
   ]
  },
  {
   "cell_type": "code",
   "execution_count": 106,
   "metadata": {},
   "outputs": [],
   "source": [
    "RF_Red_Feature_Imp_Ave.columns = [0,'RF_Feature_Imp_Ave']"
   ]
  },
  {
   "cell_type": "code",
   "execution_count": 104,
   "metadata": {},
   "outputs": [
    {
     "data": {
      "text/plain": [
       "Index([0, 'GB_Feature_Imp_Ave'], dtype='object')"
      ]
     },
     "execution_count": 104,
     "metadata": {},
     "output_type": "execute_result"
    }
   ],
   "source": [
    "GB_Feature_Red_Imp_Ave.columns"
   ]
  },
  {
   "cell_type": "code",
   "execution_count": 108,
   "metadata": {},
   "outputs": [
    {
     "data": {
      "text/html": [
       "<div>\n",
       "<style scoped>\n",
       "    .dataframe tbody tr th:only-of-type {\n",
       "        vertical-align: middle;\n",
       "    }\n",
       "\n",
       "    .dataframe tbody tr th {\n",
       "        vertical-align: top;\n",
       "    }\n",
       "\n",
       "    .dataframe thead th {\n",
       "        text-align: right;\n",
       "    }\n",
       "</style>\n",
       "<table border=\"1\" class=\"dataframe\">\n",
       "  <thead>\n",
       "    <tr style=\"text-align: right;\">\n",
       "      <th></th>\n",
       "      <th>0</th>\n",
       "      <th>GB_Feature_Imp_Ave</th>\n",
       "      <th>RF_Feature_Imp_Ave</th>\n",
       "    </tr>\n",
       "  </thead>\n",
       "  <tbody>\n",
       "    <tr>\n",
       "      <th>0</th>\n",
       "      <td>ClaimDays_in_Range</td>\n",
       "      <td>0.333812</td>\n",
       "      <td>0.201487</td>\n",
       "    </tr>\n",
       "    <tr>\n",
       "      <th>1</th>\n",
       "      <td>LogClaims_out</td>\n",
       "      <td>0.101873</td>\n",
       "      <td>0.062159</td>\n",
       "    </tr>\n",
       "    <tr>\n",
       "      <th>2</th>\n",
       "      <td>ClmsPerPatient_in</td>\n",
       "      <td>0.064587</td>\n",
       "      <td>0.028971</td>\n",
       "    </tr>\n",
       "    <tr>\n",
       "      <th>3</th>\n",
       "      <td>ClmsPerPatient_out</td>\n",
       "      <td>0.029677</td>\n",
       "      <td>0.021748</td>\n",
       "    </tr>\n",
       "    <tr>\n",
       "      <th>4</th>\n",
       "      <td>InscClaimAmtReimbursed_in_Range</td>\n",
       "      <td>0.028030</td>\n",
       "      <td>0.077847</td>\n",
       "    </tr>\n",
       "    <tr>\n",
       "      <th>...</th>\n",
       "      <td>...</td>\n",
       "      <td>...</td>\n",
       "      <td>...</td>\n",
       "    </tr>\n",
       "    <tr>\n",
       "      <th>78</th>\n",
       "      <td>pulmonology_otpt</td>\n",
       "      <td>NaN</td>\n",
       "      <td>0.002549</td>\n",
       "    </tr>\n",
       "    <tr>\n",
       "      <th>79</th>\n",
       "      <td>NumDiag_out</td>\n",
       "      <td>NaN</td>\n",
       "      <td>0.002518</td>\n",
       "    </tr>\n",
       "    <tr>\n",
       "      <th>80</th>\n",
       "      <td>congenital_otpt</td>\n",
       "      <td>NaN</td>\n",
       "      <td>0.002073</td>\n",
       "    </tr>\n",
       "    <tr>\n",
       "      <th>81</th>\n",
       "      <td>NumChronics_out_Range</td>\n",
       "      <td>NaN</td>\n",
       "      <td>0.002072</td>\n",
       "    </tr>\n",
       "    <tr>\n",
       "      <th>82</th>\n",
       "      <td>endocrinology_inpt</td>\n",
       "      <td>NaN</td>\n",
       "      <td>0.001690</td>\n",
       "    </tr>\n",
       "  </tbody>\n",
       "</table>\n",
       "<p>83 rows × 3 columns</p>\n",
       "</div>"
      ],
      "text/plain": [
       "                                  0  GB_Feature_Imp_Ave  RF_Feature_Imp_Ave\n",
       "0                ClaimDays_in_Range            0.333812            0.201487\n",
       "1                     LogClaims_out            0.101873            0.062159\n",
       "2                 ClmsPerPatient_in            0.064587            0.028971\n",
       "3                ClmsPerPatient_out            0.029677            0.021748\n",
       "4   InscClaimAmtReimbursed_in_Range            0.028030            0.077847\n",
       "..                              ...                 ...                 ...\n",
       "78                 pulmonology_otpt                 NaN            0.002549\n",
       "79                      NumDiag_out                 NaN            0.002518\n",
       "80                  congenital_otpt                 NaN            0.002073\n",
       "81            NumChronics_out_Range                 NaN            0.002072\n",
       "82               endocrinology_inpt                 NaN            0.001690\n",
       "\n",
       "[83 rows x 3 columns]"
      ]
     },
     "execution_count": 108,
     "metadata": {},
     "output_type": "execute_result"
    }
   ],
   "source": [
    "combine_feature_imp = pd.merge(GB_Feature_Red_Imp_Ave,RF_Red_Feature_Imp_Ave,how = 'outer',on = 0).sort_values(by=['GB_Feature_Imp_Ave'], ascending = False)\n",
    "combine_feature_imp"
   ]
  },
  {
   "cell_type": "code",
   "execution_count": 109,
   "metadata": {},
   "outputs": [],
   "source": [
    "combine_feature_imp=combine_feature_imp.fillna(0)"
   ]
  },
  {
   "cell_type": "code",
   "execution_count": 110,
   "metadata": {},
   "outputs": [],
   "source": [
    "from matplotlib import pyplot as plt\n",
    "plt.style.use('ggplot')\n"
   ]
  },
  {
   "cell_type": "markdown",
   "metadata": {},
   "source": [
    "We compare the feature importances that are at least 0.02 in value for both the gradient boost and random forest models.  We see there is significant overlap, and the most important feature is the same for the two models."
   ]
  },
  {
   "cell_type": "code",
   "execution_count": 118,
   "metadata": {},
   "outputs": [
    {
     "data": {
      "text/plain": [
       "<matplotlib.legend.Legend at 0x7fa2833f3350>"
      ]
     },
     "execution_count": 118,
     "metadata": {},
     "output_type": "execute_result"
    },
    {
     "data": {
      "image/png": "[encoded data removed]",
      "text/plain": [
       "<Figure size 1008x1008 with 1 Axes>"
      ]
     },
     "metadata": {},
     "output_type": "display_data"
    }
   ],
   "source": [
    "combine_feature_imp[(combine_feature_imp['GB_Feature_Imp_Ave']>0.02)|(combine_feature_imp['RF_Feature_Imp_Ave']>0.02)].plot.barh(x=0, y=['GB_Feature_Imp_Ave','RF_Feature_Imp_Ave'],figsize=(14,14),fontsize = 20).legend(fontsize = 20)"
   ]
  },
  {
   "cell_type": "code",
   "execution_count": null,
   "metadata": {},
   "outputs": [],
   "source": []
  }
 ],
 "metadata": {
  "kernelspec": {
   "display_name": "Python 3",
   "language": "python",
   "name": "python3"
  },
  "language_info": {
   "codemirror_mode": {
    "name": "ipython",
    "version": 3
   },
   "file_extension": ".py",
   "mimetype": "text/x-python",
   "name": "python",
   "nbconvert_exporter": "python",
   "pygments_lexer": "ipython3",
   "version": "3.7.6"
  }
 },
 "nbformat": 4,
 "nbformat_minor": 4
}
