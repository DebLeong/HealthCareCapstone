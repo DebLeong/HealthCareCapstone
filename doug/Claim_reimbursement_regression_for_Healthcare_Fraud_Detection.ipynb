{
 "cells": [
  {
   "cell_type": "markdown",
   "metadata": {},
   "source": [
    "# Claim reimbursement regression for Healthcare Fraud Detection\n",
    "\n",
    "Deborah Leong, Sam Nuzbrokh and Doug Devens\n",
    "\n",
    "This file attempts to generate a regression model to predict the amount of reimbursement expected for a claim with certain characteristics.  We will take the mean residual or difference by provider from that provider's claims and see if that helps in fraud detection."
   ]
  },
  {
   "cell_type": "markdown",
   "metadata": {},
   "source": [
    "We import modules to read in data and then read in the combinedData file that includes all the claims in the training and submission sets."
   ]
  },
  {
   "cell_type": "code",
   "execution_count": 1,
   "metadata": {},
   "outputs": [
    {
     "name": "stderr",
     "output_type": "stream",
     "text": [
      "/Users/doug/opt/anaconda3/lib/python3.7/site-packages/IPython/core/interactiveshell.py:3063: DtypeWarning: Columns (10,13,14,24) have mixed types.Specify dtype option on import or set low_memory=False.\n",
      "  interactivity=interactivity, compiler=compiler, result=result)\n"
     ]
    },
    {
     "data": {
      "text/html": [
       "<div>\n",
       "<style scoped>\n",
       "    .dataframe tbody tr th:only-of-type {\n",
       "        vertical-align: middle;\n",
       "    }\n",
       "\n",
       "    .dataframe tbody tr th {\n",
       "        vertical-align: top;\n",
       "    }\n",
       "\n",
       "    .dataframe thead th {\n",
       "        text-align: right;\n",
       "    }\n",
       "</style>\n",
       "<table border=\"1\" class=\"dataframe\">\n",
       "  <thead>\n",
       "    <tr style=\"text-align: right;\">\n",
       "      <th></th>\n",
       "      <th>Unnamed: 0</th>\n",
       "      <th>BeneID</th>\n",
       "      <th>ClaimID</th>\n",
       "      <th>ClaimStartDt</th>\n",
       "      <th>ClaimEndDt</th>\n",
       "      <th>Provider</th>\n",
       "      <th>InscClaimAmtReimbursed</th>\n",
       "      <th>AttendingPhysician</th>\n",
       "      <th>OperatingPhysician</th>\n",
       "      <th>OtherPhysician</th>\n",
       "      <th>...</th>\n",
       "      <th>IPAnnualDeductibleAmt</th>\n",
       "      <th>OPAnnualReimbursementAmt</th>\n",
       "      <th>OPAnnualDeductibleAmt</th>\n",
       "      <th>WhetherDead</th>\n",
       "      <th>NumChronics</th>\n",
       "      <th>NumProc</th>\n",
       "      <th>NumDiag</th>\n",
       "      <th>AdmissionDays</th>\n",
       "      <th>ClaimDays</th>\n",
       "      <th>Age</th>\n",
       "    </tr>\n",
       "  </thead>\n",
       "  <tbody>\n",
       "    <tr>\n",
       "      <th>422941</th>\n",
       "      <td>422941</td>\n",
       "      <td>BENE100772</td>\n",
       "      <td>CLM454111</td>\n",
       "      <td>2009-07-05</td>\n",
       "      <td>2009-07-05</td>\n",
       "      <td>PRV54332</td>\n",
       "      <td>20</td>\n",
       "      <td>PHY424939</td>\n",
       "      <td>NaN</td>\n",
       "      <td>PHY422235</td>\n",
       "      <td>...</td>\n",
       "      <td>0</td>\n",
       "      <td>420</td>\n",
       "      <td>160</td>\n",
       "      <td>0</td>\n",
       "      <td>2</td>\n",
       "      <td>0</td>\n",
       "      <td>2</td>\n",
       "      <td>NaN</td>\n",
       "      <td>1</td>\n",
       "      <td>70.0</td>\n",
       "    </tr>\n",
       "    <tr>\n",
       "      <th>589094</th>\n",
       "      <td>589094</td>\n",
       "      <td>BENE25170</td>\n",
       "      <td>CLM708828</td>\n",
       "      <td>2009-12-01</td>\n",
       "      <td>2009-12-01</td>\n",
       "      <td>PRV57591</td>\n",
       "      <td>10</td>\n",
       "      <td>PHY366391</td>\n",
       "      <td>NaN</td>\n",
       "      <td>NaN</td>\n",
       "      <td>...</td>\n",
       "      <td>0</td>\n",
       "      <td>2140</td>\n",
       "      <td>570</td>\n",
       "      <td>0</td>\n",
       "      <td>7</td>\n",
       "      <td>0</td>\n",
       "      <td>2</td>\n",
       "      <td>NaN</td>\n",
       "      <td>1</td>\n",
       "      <td>75.0</td>\n",
       "    </tr>\n",
       "    <tr>\n",
       "      <th>11951</th>\n",
       "      <td>11951</td>\n",
       "      <td>BENE21606</td>\n",
       "      <td>CLM324656</td>\n",
       "      <td>2009-04-26</td>\n",
       "      <td>2009-04-26</td>\n",
       "      <td>PRV52628</td>\n",
       "      <td>600</td>\n",
       "      <td>PHY432650</td>\n",
       "      <td>PHY432650</td>\n",
       "      <td>PHY322092</td>\n",
       "      <td>...</td>\n",
       "      <td>1068</td>\n",
       "      <td>2700</td>\n",
       "      <td>1020</td>\n",
       "      <td>0</td>\n",
       "      <td>3</td>\n",
       "      <td>0</td>\n",
       "      <td>1</td>\n",
       "      <td>NaN</td>\n",
       "      <td>1</td>\n",
       "      <td>88.0</td>\n",
       "    </tr>\n",
       "    <tr>\n",
       "      <th>619726</th>\n",
       "      <td>619726</td>\n",
       "      <td>BENE64129</td>\n",
       "      <td>CLM606076</td>\n",
       "      <td>2009-09-30</td>\n",
       "      <td>2009-09-30</td>\n",
       "      <td>PRV52329</td>\n",
       "      <td>600</td>\n",
       "      <td>PHY360260</td>\n",
       "      <td>NaN</td>\n",
       "      <td>PHY360260</td>\n",
       "      <td>...</td>\n",
       "      <td>0</td>\n",
       "      <td>4710</td>\n",
       "      <td>560</td>\n",
       "      <td>0</td>\n",
       "      <td>6</td>\n",
       "      <td>0</td>\n",
       "      <td>2</td>\n",
       "      <td>NaN</td>\n",
       "      <td>1</td>\n",
       "      <td>90.0</td>\n",
       "    </tr>\n",
       "    <tr>\n",
       "      <th>26199</th>\n",
       "      <td>26199</td>\n",
       "      <td>BENE33932</td>\n",
       "      <td>CLM59133</td>\n",
       "      <td>2009-07-10</td>\n",
       "      <td>2009-07-16</td>\n",
       "      <td>PRV53781</td>\n",
       "      <td>7000</td>\n",
       "      <td>PHY403054</td>\n",
       "      <td>NaN</td>\n",
       "      <td>NaN</td>\n",
       "      <td>...</td>\n",
       "      <td>2136</td>\n",
       "      <td>890</td>\n",
       "      <td>180</td>\n",
       "      <td>0</td>\n",
       "      <td>6</td>\n",
       "      <td>0</td>\n",
       "      <td>11</td>\n",
       "      <td>7.0</td>\n",
       "      <td>7</td>\n",
       "      <td>100.0</td>\n",
       "    </tr>\n",
       "    <tr>\n",
       "      <th>617004</th>\n",
       "      <td>617004</td>\n",
       "      <td>BENE60761</td>\n",
       "      <td>CLM133857</td>\n",
       "      <td>2009-01-12</td>\n",
       "      <td>2009-01-12</td>\n",
       "      <td>PRV52595</td>\n",
       "      <td>10</td>\n",
       "      <td>PHY367349</td>\n",
       "      <td>NaN</td>\n",
       "      <td>NaN</td>\n",
       "      <td>...</td>\n",
       "      <td>1068</td>\n",
       "      <td>900</td>\n",
       "      <td>470</td>\n",
       "      <td>0</td>\n",
       "      <td>4</td>\n",
       "      <td>0</td>\n",
       "      <td>1</td>\n",
       "      <td>NaN</td>\n",
       "      <td>1</td>\n",
       "      <td>73.0</td>\n",
       "    </tr>\n",
       "    <tr>\n",
       "      <th>231422</th>\n",
       "      <td>231422</td>\n",
       "      <td>BENE28211</td>\n",
       "      <td>CLM562018</td>\n",
       "      <td>2009-09-04</td>\n",
       "      <td>2009-09-04</td>\n",
       "      <td>PRV56448</td>\n",
       "      <td>20</td>\n",
       "      <td>PHY360179</td>\n",
       "      <td>NaN</td>\n",
       "      <td>NaN</td>\n",
       "      <td>...</td>\n",
       "      <td>1068</td>\n",
       "      <td>250</td>\n",
       "      <td>80</td>\n",
       "      <td>0</td>\n",
       "      <td>5</td>\n",
       "      <td>0</td>\n",
       "      <td>4</td>\n",
       "      <td>NaN</td>\n",
       "      <td>1</td>\n",
       "      <td>49.0</td>\n",
       "    </tr>\n",
       "    <tr>\n",
       "      <th>448776</th>\n",
       "      <td>448776</td>\n",
       "      <td>BENE110532</td>\n",
       "      <td>CLM599551</td>\n",
       "      <td>2009-09-26</td>\n",
       "      <td>2009-09-26</td>\n",
       "      <td>PRV54748</td>\n",
       "      <td>100</td>\n",
       "      <td>PHY420515</td>\n",
       "      <td>NaN</td>\n",
       "      <td>NaN</td>\n",
       "      <td>...</td>\n",
       "      <td>0</td>\n",
       "      <td>1720</td>\n",
       "      <td>600</td>\n",
       "      <td>0</td>\n",
       "      <td>6</td>\n",
       "      <td>0</td>\n",
       "      <td>2</td>\n",
       "      <td>NaN</td>\n",
       "      <td>1</td>\n",
       "      <td>77.0</td>\n",
       "    </tr>\n",
       "    <tr>\n",
       "      <th>402161</th>\n",
       "      <td>402161</td>\n",
       "      <td>BENE92931</td>\n",
       "      <td>CLM629931</td>\n",
       "      <td>2009-10-14</td>\n",
       "      <td>2009-10-14</td>\n",
       "      <td>PRV53958</td>\n",
       "      <td>300</td>\n",
       "      <td>PHY394276</td>\n",
       "      <td>PHY394276</td>\n",
       "      <td>NaN</td>\n",
       "      <td>...</td>\n",
       "      <td>0</td>\n",
       "      <td>800</td>\n",
       "      <td>190</td>\n",
       "      <td>0</td>\n",
       "      <td>7</td>\n",
       "      <td>0</td>\n",
       "      <td>2</td>\n",
       "      <td>NaN</td>\n",
       "      <td>1</td>\n",
       "      <td>72.0</td>\n",
       "    </tr>\n",
       "    <tr>\n",
       "      <th>550822</th>\n",
       "      <td>550822</td>\n",
       "      <td>BENE148809</td>\n",
       "      <td>CLM515086</td>\n",
       "      <td>2009-08-08</td>\n",
       "      <td>2009-08-08</td>\n",
       "      <td>PRV53634</td>\n",
       "      <td>30</td>\n",
       "      <td>PHY403755</td>\n",
       "      <td>PHY403755</td>\n",
       "      <td>NaN</td>\n",
       "      <td>...</td>\n",
       "      <td>0</td>\n",
       "      <td>100</td>\n",
       "      <td>1100</td>\n",
       "      <td>0</td>\n",
       "      <td>1</td>\n",
       "      <td>0</td>\n",
       "      <td>1</td>\n",
       "      <td>NaN</td>\n",
       "      <td>1</td>\n",
       "      <td>71.0</td>\n",
       "    </tr>\n",
       "  </tbody>\n",
       "</table>\n",
       "<p>10 rows × 64 columns</p>\n",
       "</div>"
      ],
      "text/plain": [
       "        Unnamed: 0      BeneID    ClaimID ClaimStartDt  ClaimEndDt  Provider  \\\n",
       "422941      422941  BENE100772  CLM454111   2009-07-05  2009-07-05  PRV54332   \n",
       "589094      589094   BENE25170  CLM708828   2009-12-01  2009-12-01  PRV57591   \n",
       "11951        11951   BENE21606  CLM324656   2009-04-26  2009-04-26  PRV52628   \n",
       "619726      619726   BENE64129  CLM606076   2009-09-30  2009-09-30  PRV52329   \n",
       "26199        26199   BENE33932   CLM59133   2009-07-10  2009-07-16  PRV53781   \n",
       "617004      617004   BENE60761  CLM133857   2009-01-12  2009-01-12  PRV52595   \n",
       "231422      231422   BENE28211  CLM562018   2009-09-04  2009-09-04  PRV56448   \n",
       "448776      448776  BENE110532  CLM599551   2009-09-26  2009-09-26  PRV54748   \n",
       "402161      402161   BENE92931  CLM629931   2009-10-14  2009-10-14  PRV53958   \n",
       "550822      550822  BENE148809  CLM515086   2009-08-08  2009-08-08  PRV53634   \n",
       "\n",
       "        InscClaimAmtReimbursed AttendingPhysician OperatingPhysician  \\\n",
       "422941                      20          PHY424939                NaN   \n",
       "589094                      10          PHY366391                NaN   \n",
       "11951                      600          PHY432650          PHY432650   \n",
       "619726                     600          PHY360260                NaN   \n",
       "26199                     7000          PHY403054                NaN   \n",
       "617004                      10          PHY367349                NaN   \n",
       "231422                      20          PHY360179                NaN   \n",
       "448776                     100          PHY420515                NaN   \n",
       "402161                     300          PHY394276          PHY394276   \n",
       "550822                      30          PHY403755          PHY403755   \n",
       "\n",
       "       OtherPhysician  ... IPAnnualDeductibleAmt OPAnnualReimbursementAmt  \\\n",
       "422941      PHY422235  ...                     0                      420   \n",
       "589094            NaN  ...                     0                     2140   \n",
       "11951       PHY322092  ...                  1068                     2700   \n",
       "619726      PHY360260  ...                     0                     4710   \n",
       "26199             NaN  ...                  2136                      890   \n",
       "617004            NaN  ...                  1068                      900   \n",
       "231422            NaN  ...                  1068                      250   \n",
       "448776            NaN  ...                     0                     1720   \n",
       "402161            NaN  ...                     0                      800   \n",
       "550822            NaN  ...                     0                      100   \n",
       "\n",
       "        OPAnnualDeductibleAmt WhetherDead NumChronics NumProc NumDiag  \\\n",
       "422941                    160           0           2       0       2   \n",
       "589094                    570           0           7       0       2   \n",
       "11951                    1020           0           3       0       1   \n",
       "619726                    560           0           6       0       2   \n",
       "26199                     180           0           6       0      11   \n",
       "617004                    470           0           4       0       1   \n",
       "231422                     80           0           5       0       4   \n",
       "448776                    600           0           6       0       2   \n",
       "402161                    190           0           7       0       2   \n",
       "550822                   1100           0           1       0       1   \n",
       "\n",
       "       AdmissionDays ClaimDays    Age  \n",
       "422941           NaN         1   70.0  \n",
       "589094           NaN         1   75.0  \n",
       "11951            NaN         1   88.0  \n",
       "619726           NaN         1   90.0  \n",
       "26199            7.0         7  100.0  \n",
       "617004           NaN         1   73.0  \n",
       "231422           NaN         1   49.0  \n",
       "448776           NaN         1   77.0  \n",
       "402161           NaN         1   72.0  \n",
       "550822           NaN         1   71.0  \n",
       "\n",
       "[10 rows x 64 columns]"
      ]
     },
     "execution_count": 1,
     "metadata": {},
     "output_type": "execute_result"
    }
   ],
   "source": [
    "import pandas as pd\n",
    "claim_data = pd.read_csv('combinedData.csv')\n",
    "claim_data.sample(10)"
   ]
  },
  {
   "cell_type": "code",
   "execution_count": 2,
   "metadata": {},
   "outputs": [
    {
     "data": {
      "text/plain": [
       "Index(['Unnamed: 0', 'BeneID', 'ClaimID', 'ClaimStartDt', 'ClaimEndDt',\n",
       "       'Provider', 'InscClaimAmtReimbursed', 'AttendingPhysician',\n",
       "       'OperatingPhysician', 'OtherPhysician', 'AdmissionDt',\n",
       "       'ClmAdmitDiagnosisCode', 'DeductibleAmtPaid', 'DischargeDt',\n",
       "       'DiagnosisGroupCode', 'ClmDiagnosisCode_1', 'ClmDiagnosisCode_2',\n",
       "       'ClmDiagnosisCode_3', 'ClmDiagnosisCode_4', 'ClmDiagnosisCode_5',\n",
       "       'ClmDiagnosisCode_6', 'ClmDiagnosisCode_7', 'ClmDiagnosisCode_8',\n",
       "       'ClmDiagnosisCode_9', 'ClmDiagnosisCode_10', 'ClmProcedureCode_1',\n",
       "       'ClmProcedureCode_2', 'ClmProcedureCode_3', 'ClmProcedureCode_4',\n",
       "       'ClmProcedureCode_5', 'ClmProcedureCode_6', 'Set', 'Status', 'DOB',\n",
       "       'DOD', 'Gender', 'Race', 'RenalDiseaseIndicator', 'State', 'County',\n",
       "       'NoOfMonths_PartACov', 'NoOfMonths_PartBCov', 'Alzheimer',\n",
       "       'HeartFailure', 'KidneyDisease', 'Cancer', 'ObstrPulmonary',\n",
       "       'Depression', 'Diabetes', 'IschemicHeart', 'Osteoporasis',\n",
       "       'RheumatoidArthritis', 'Stroke', 'IPAnnualReimbursementAmt',\n",
       "       'IPAnnualDeductibleAmt', 'OPAnnualReimbursementAmt',\n",
       "       'OPAnnualDeductibleAmt', 'WhetherDead', 'NumChronics', 'NumProc',\n",
       "       'NumDiag', 'AdmissionDays', 'ClaimDays', 'Age'],\n",
       "      dtype='object')"
      ]
     },
     "execution_count": 2,
     "metadata": {},
     "output_type": "execute_result"
    }
   ],
   "source": [
    "claim_data.columns"
   ]
  },
  {
   "cell_type": "markdown",
   "metadata": {},
   "source": [
    "We import numpy to be able to confirm which columns are identified as string or continuous variables."
   ]
  },
  {
   "cell_type": "code",
   "execution_count": 3,
   "metadata": {},
   "outputs": [],
   "source": [
    "import numpy as np"
   ]
  },
  {
   "cell_type": "code",
   "execution_count": 4,
   "metadata": {},
   "outputs": [
    {
     "data": {
      "text/plain": [
       "Index(['BeneID', 'ClaimID', 'ClaimStartDt', 'ClaimEndDt', 'Provider',\n",
       "       'AttendingPhysician', 'OperatingPhysician', 'OtherPhysician',\n",
       "       'AdmissionDt', 'ClmAdmitDiagnosisCode', 'DischargeDt',\n",
       "       'DiagnosisGroupCode', 'ClmDiagnosisCode_1', 'ClmDiagnosisCode_2',\n",
       "       'ClmDiagnosisCode_3', 'ClmDiagnosisCode_4', 'ClmDiagnosisCode_5',\n",
       "       'ClmDiagnosisCode_6', 'ClmDiagnosisCode_7', 'ClmDiagnosisCode_8',\n",
       "       'ClmDiagnosisCode_9', 'ClmDiagnosisCode_10', 'Set', 'Status', 'DOB',\n",
       "       'DOD', 'State'],\n",
       "      dtype='object')"
      ]
     },
     "execution_count": 4,
     "metadata": {},
     "output_type": "execute_result"
    }
   ],
   "source": [
    "claim_data_str = claim_data.select_dtypes(exclude='number').columns\n",
    "claim_data_str"
   ]
  },
  {
   "cell_type": "markdown",
   "metadata": {},
   "source": [
    "We confine the dataset to the training data, removing the submission set claims."
   ]
  },
  {
   "cell_type": "code",
   "execution_count": 5,
   "metadata": {},
   "outputs": [
    {
     "data": {
      "text/plain": [
       "(558211, 64)"
      ]
     },
     "execution_count": 5,
     "metadata": {},
     "output_type": "execute_result"
    }
   ],
   "source": [
    "claim_data = claim_data[claim_data['Set']=='Train']\n",
    "# claim_data[claim_data['InscClaimAmtReimbursed']<=0]['InscClaimAmtReimbursed'].value_counts()\n",
    "claim_data.shape\n"
   ]
  },
  {
   "cell_type": "markdown",
   "metadata": {},
   "source": [
    "We group the claims by provider to get a rough estimate of the distribution of the number of claims for each provider."
   ]
  },
  {
   "cell_type": "code",
   "execution_count": 6,
   "metadata": {},
   "outputs": [
    {
     "data": {
      "text/html": [
       "<div>\n",
       "<style scoped>\n",
       "    .dataframe tbody tr th:only-of-type {\n",
       "        vertical-align: middle;\n",
       "    }\n",
       "\n",
       "    .dataframe tbody tr th {\n",
       "        vertical-align: top;\n",
       "    }\n",
       "\n",
       "    .dataframe thead th {\n",
       "        text-align: right;\n",
       "    }\n",
       "</style>\n",
       "<table border=\"1\" class=\"dataframe\">\n",
       "  <thead>\n",
       "    <tr style=\"text-align: right;\">\n",
       "      <th></th>\n",
       "      <th>Unnamed: 0</th>\n",
       "      <th>BeneID</th>\n",
       "      <th>ClaimID</th>\n",
       "      <th>ClaimStartDt</th>\n",
       "      <th>ClaimEndDt</th>\n",
       "      <th>InscClaimAmtReimbursed</th>\n",
       "      <th>AttendingPhysician</th>\n",
       "      <th>OperatingPhysician</th>\n",
       "      <th>OtherPhysician</th>\n",
       "      <th>AdmissionDt</th>\n",
       "      <th>...</th>\n",
       "      <th>IPAnnualDeductibleAmt</th>\n",
       "      <th>OPAnnualReimbursementAmt</th>\n",
       "      <th>OPAnnualDeductibleAmt</th>\n",
       "      <th>WhetherDead</th>\n",
       "      <th>NumChronics</th>\n",
       "      <th>NumProc</th>\n",
       "      <th>NumDiag</th>\n",
       "      <th>AdmissionDays</th>\n",
       "      <th>ClaimDays</th>\n",
       "      <th>Age</th>\n",
       "    </tr>\n",
       "    <tr>\n",
       "      <th>Provider</th>\n",
       "      <th></th>\n",
       "      <th></th>\n",
       "      <th></th>\n",
       "      <th></th>\n",
       "      <th></th>\n",
       "      <th></th>\n",
       "      <th></th>\n",
       "      <th></th>\n",
       "      <th></th>\n",
       "      <th></th>\n",
       "      <th></th>\n",
       "      <th></th>\n",
       "      <th></th>\n",
       "      <th></th>\n",
       "      <th></th>\n",
       "      <th></th>\n",
       "      <th></th>\n",
       "      <th></th>\n",
       "      <th></th>\n",
       "      <th></th>\n",
       "      <th></th>\n",
       "    </tr>\n",
       "  </thead>\n",
       "  <tbody>\n",
       "    <tr>\n",
       "      <th>PRV51001</th>\n",
       "      <td>25</td>\n",
       "      <td>25</td>\n",
       "      <td>25</td>\n",
       "      <td>25</td>\n",
       "      <td>25</td>\n",
       "      <td>25</td>\n",
       "      <td>25</td>\n",
       "      <td>5</td>\n",
       "      <td>10</td>\n",
       "      <td>5</td>\n",
       "      <td>...</td>\n",
       "      <td>25</td>\n",
       "      <td>25</td>\n",
       "      <td>25</td>\n",
       "      <td>25</td>\n",
       "      <td>25</td>\n",
       "      <td>25</td>\n",
       "      <td>25</td>\n",
       "      <td>5</td>\n",
       "      <td>25</td>\n",
       "      <td>25</td>\n",
       "    </tr>\n",
       "    <tr>\n",
       "      <th>PRV51003</th>\n",
       "      <td>132</td>\n",
       "      <td>132</td>\n",
       "      <td>132</td>\n",
       "      <td>132</td>\n",
       "      <td>132</td>\n",
       "      <td>132</td>\n",
       "      <td>132</td>\n",
       "      <td>45</td>\n",
       "      <td>25</td>\n",
       "      <td>62</td>\n",
       "      <td>...</td>\n",
       "      <td>132</td>\n",
       "      <td>132</td>\n",
       "      <td>132</td>\n",
       "      <td>132</td>\n",
       "      <td>132</td>\n",
       "      <td>132</td>\n",
       "      <td>132</td>\n",
       "      <td>62</td>\n",
       "      <td>132</td>\n",
       "      <td>132</td>\n",
       "    </tr>\n",
       "    <tr>\n",
       "      <th>PRV51004</th>\n",
       "      <td>149</td>\n",
       "      <td>149</td>\n",
       "      <td>149</td>\n",
       "      <td>149</td>\n",
       "      <td>149</td>\n",
       "      <td>149</td>\n",
       "      <td>149</td>\n",
       "      <td>27</td>\n",
       "      <td>63</td>\n",
       "      <td>0</td>\n",
       "      <td>...</td>\n",
       "      <td>149</td>\n",
       "      <td>149</td>\n",
       "      <td>149</td>\n",
       "      <td>149</td>\n",
       "      <td>149</td>\n",
       "      <td>149</td>\n",
       "      <td>149</td>\n",
       "      <td>0</td>\n",
       "      <td>149</td>\n",
       "      <td>149</td>\n",
       "    </tr>\n",
       "    <tr>\n",
       "      <th>PRV51005</th>\n",
       "      <td>1165</td>\n",
       "      <td>1165</td>\n",
       "      <td>1165</td>\n",
       "      <td>1165</td>\n",
       "      <td>1165</td>\n",
       "      <td>1165</td>\n",
       "      <td>1163</td>\n",
       "      <td>222</td>\n",
       "      <td>478</td>\n",
       "      <td>0</td>\n",
       "      <td>...</td>\n",
       "      <td>1165</td>\n",
       "      <td>1165</td>\n",
       "      <td>1165</td>\n",
       "      <td>1165</td>\n",
       "      <td>1165</td>\n",
       "      <td>1165</td>\n",
       "      <td>1165</td>\n",
       "      <td>0</td>\n",
       "      <td>1165</td>\n",
       "      <td>1165</td>\n",
       "    </tr>\n",
       "    <tr>\n",
       "      <th>PRV51007</th>\n",
       "      <td>72</td>\n",
       "      <td>72</td>\n",
       "      <td>72</td>\n",
       "      <td>72</td>\n",
       "      <td>72</td>\n",
       "      <td>72</td>\n",
       "      <td>72</td>\n",
       "      <td>12</td>\n",
       "      <td>26</td>\n",
       "      <td>3</td>\n",
       "      <td>...</td>\n",
       "      <td>72</td>\n",
       "      <td>72</td>\n",
       "      <td>72</td>\n",
       "      <td>72</td>\n",
       "      <td>72</td>\n",
       "      <td>72</td>\n",
       "      <td>72</td>\n",
       "      <td>3</td>\n",
       "      <td>72</td>\n",
       "      <td>72</td>\n",
       "    </tr>\n",
       "    <tr>\n",
       "      <th>...</th>\n",
       "      <td>...</td>\n",
       "      <td>...</td>\n",
       "      <td>...</td>\n",
       "      <td>...</td>\n",
       "      <td>...</td>\n",
       "      <td>...</td>\n",
       "      <td>...</td>\n",
       "      <td>...</td>\n",
       "      <td>...</td>\n",
       "      <td>...</td>\n",
       "      <td>...</td>\n",
       "      <td>...</td>\n",
       "      <td>...</td>\n",
       "      <td>...</td>\n",
       "      <td>...</td>\n",
       "      <td>...</td>\n",
       "      <td>...</td>\n",
       "      <td>...</td>\n",
       "      <td>...</td>\n",
       "      <td>...</td>\n",
       "      <td>...</td>\n",
       "    </tr>\n",
       "    <tr>\n",
       "      <th>PRV57759</th>\n",
       "      <td>28</td>\n",
       "      <td>28</td>\n",
       "      <td>28</td>\n",
       "      <td>28</td>\n",
       "      <td>28</td>\n",
       "      <td>28</td>\n",
       "      <td>28</td>\n",
       "      <td>1</td>\n",
       "      <td>12</td>\n",
       "      <td>0</td>\n",
       "      <td>...</td>\n",
       "      <td>28</td>\n",
       "      <td>28</td>\n",
       "      <td>28</td>\n",
       "      <td>28</td>\n",
       "      <td>28</td>\n",
       "      <td>28</td>\n",
       "      <td>28</td>\n",
       "      <td>0</td>\n",
       "      <td>28</td>\n",
       "      <td>28</td>\n",
       "    </tr>\n",
       "    <tr>\n",
       "      <th>PRV57760</th>\n",
       "      <td>22</td>\n",
       "      <td>22</td>\n",
       "      <td>22</td>\n",
       "      <td>22</td>\n",
       "      <td>22</td>\n",
       "      <td>22</td>\n",
       "      <td>22</td>\n",
       "      <td>6</td>\n",
       "      <td>9</td>\n",
       "      <td>0</td>\n",
       "      <td>...</td>\n",
       "      <td>22</td>\n",
       "      <td>22</td>\n",
       "      <td>22</td>\n",
       "      <td>22</td>\n",
       "      <td>22</td>\n",
       "      <td>22</td>\n",
       "      <td>22</td>\n",
       "      <td>0</td>\n",
       "      <td>22</td>\n",
       "      <td>22</td>\n",
       "    </tr>\n",
       "    <tr>\n",
       "      <th>PRV57761</th>\n",
       "      <td>82</td>\n",
       "      <td>82</td>\n",
       "      <td>82</td>\n",
       "      <td>82</td>\n",
       "      <td>82</td>\n",
       "      <td>82</td>\n",
       "      <td>82</td>\n",
       "      <td>14</td>\n",
       "      <td>36</td>\n",
       "      <td>0</td>\n",
       "      <td>...</td>\n",
       "      <td>82</td>\n",
       "      <td>82</td>\n",
       "      <td>82</td>\n",
       "      <td>82</td>\n",
       "      <td>82</td>\n",
       "      <td>82</td>\n",
       "      <td>82</td>\n",
       "      <td>0</td>\n",
       "      <td>82</td>\n",
       "      <td>82</td>\n",
       "    </tr>\n",
       "    <tr>\n",
       "      <th>PRV57762</th>\n",
       "      <td>1</td>\n",
       "      <td>1</td>\n",
       "      <td>1</td>\n",
       "      <td>1</td>\n",
       "      <td>1</td>\n",
       "      <td>1</td>\n",
       "      <td>1</td>\n",
       "      <td>0</td>\n",
       "      <td>0</td>\n",
       "      <td>0</td>\n",
       "      <td>...</td>\n",
       "      <td>1</td>\n",
       "      <td>1</td>\n",
       "      <td>1</td>\n",
       "      <td>1</td>\n",
       "      <td>1</td>\n",
       "      <td>1</td>\n",
       "      <td>1</td>\n",
       "      <td>0</td>\n",
       "      <td>1</td>\n",
       "      <td>1</td>\n",
       "    </tr>\n",
       "    <tr>\n",
       "      <th>PRV57763</th>\n",
       "      <td>118</td>\n",
       "      <td>118</td>\n",
       "      <td>118</td>\n",
       "      <td>118</td>\n",
       "      <td>118</td>\n",
       "      <td>118</td>\n",
       "      <td>118</td>\n",
       "      <td>19</td>\n",
       "      <td>49</td>\n",
       "      <td>0</td>\n",
       "      <td>...</td>\n",
       "      <td>118</td>\n",
       "      <td>118</td>\n",
       "      <td>118</td>\n",
       "      <td>118</td>\n",
       "      <td>118</td>\n",
       "      <td>118</td>\n",
       "      <td>118</td>\n",
       "      <td>0</td>\n",
       "      <td>118</td>\n",
       "      <td>118</td>\n",
       "    </tr>\n",
       "  </tbody>\n",
       "</table>\n",
       "<p>5410 rows × 63 columns</p>\n",
       "</div>"
      ],
      "text/plain": [
       "          Unnamed: 0  BeneID  ClaimID  ClaimStartDt  ClaimEndDt  \\\n",
       "Provider                                                          \n",
       "PRV51001          25      25       25            25          25   \n",
       "PRV51003         132     132      132           132         132   \n",
       "PRV51004         149     149      149           149         149   \n",
       "PRV51005        1165    1165     1165          1165        1165   \n",
       "PRV51007          72      72       72            72          72   \n",
       "...              ...     ...      ...           ...         ...   \n",
       "PRV57759          28      28       28            28          28   \n",
       "PRV57760          22      22       22            22          22   \n",
       "PRV57761          82      82       82            82          82   \n",
       "PRV57762           1       1        1             1           1   \n",
       "PRV57763         118     118      118           118         118   \n",
       "\n",
       "          InscClaimAmtReimbursed  AttendingPhysician  OperatingPhysician  \\\n",
       "Provider                                                                   \n",
       "PRV51001                      25                  25                   5   \n",
       "PRV51003                     132                 132                  45   \n",
       "PRV51004                     149                 149                  27   \n",
       "PRV51005                    1165                1163                 222   \n",
       "PRV51007                      72                  72                  12   \n",
       "...                          ...                 ...                 ...   \n",
       "PRV57759                      28                  28                   1   \n",
       "PRV57760                      22                  22                   6   \n",
       "PRV57761                      82                  82                  14   \n",
       "PRV57762                       1                   1                   0   \n",
       "PRV57763                     118                 118                  19   \n",
       "\n",
       "          OtherPhysician  AdmissionDt  ...  IPAnnualDeductibleAmt  \\\n",
       "Provider                               ...                          \n",
       "PRV51001              10            5  ...                     25   \n",
       "PRV51003              25           62  ...                    132   \n",
       "PRV51004              63            0  ...                    149   \n",
       "PRV51005             478            0  ...                   1165   \n",
       "PRV51007              26            3  ...                     72   \n",
       "...                  ...          ...  ...                    ...   \n",
       "PRV57759              12            0  ...                     28   \n",
       "PRV57760               9            0  ...                     22   \n",
       "PRV57761              36            0  ...                     82   \n",
       "PRV57762               0            0  ...                      1   \n",
       "PRV57763              49            0  ...                    118   \n",
       "\n",
       "          OPAnnualReimbursementAmt  OPAnnualDeductibleAmt  WhetherDead  \\\n",
       "Provider                                                                 \n",
       "PRV51001                        25                     25           25   \n",
       "PRV51003                       132                    132          132   \n",
       "PRV51004                       149                    149          149   \n",
       "PRV51005                      1165                   1165         1165   \n",
       "PRV51007                        72                     72           72   \n",
       "...                            ...                    ...          ...   \n",
       "PRV57759                        28                     28           28   \n",
       "PRV57760                        22                     22           22   \n",
       "PRV57761                        82                     82           82   \n",
       "PRV57762                         1                      1            1   \n",
       "PRV57763                       118                    118          118   \n",
       "\n",
       "          NumChronics  NumProc  NumDiag  AdmissionDays  ClaimDays   Age  \n",
       "Provider                                                                 \n",
       "PRV51001           25       25       25              5         25    25  \n",
       "PRV51003          132      132      132             62        132   132  \n",
       "PRV51004          149      149      149              0        149   149  \n",
       "PRV51005         1165     1165     1165              0       1165  1165  \n",
       "PRV51007           72       72       72              3         72    72  \n",
       "...               ...      ...      ...            ...        ...   ...  \n",
       "PRV57759           28       28       28              0         28    28  \n",
       "PRV57760           22       22       22              0         22    22  \n",
       "PRV57761           82       82       82              0         82    82  \n",
       "PRV57762            1        1        1              0          1     1  \n",
       "PRV57763          118      118      118              0        118   118  \n",
       "\n",
       "[5410 rows x 63 columns]"
      ]
     },
     "execution_count": 6,
     "metadata": {},
     "output_type": "execute_result"
    }
   ],
   "source": [
    "claim_data.groupby('Provider').count()\n"
   ]
  },
  {
   "cell_type": "markdown",
   "metadata": {},
   "source": [
    "We remove records with 0 or negative reimbursements, and drop spurious columns (Unnamed: 0) and the set identifier since we're keeping only the training dataset."
   ]
  },
  {
   "cell_type": "code",
   "execution_count": 7,
   "metadata": {},
   "outputs": [],
   "source": [
    "claim_data = claim_data[claim_data['InscClaimAmtReimbursed']>0]\n",
    "claim_data = claim_data.drop(columns=['Set','Unnamed: 0'])"
   ]
  },
  {
   "cell_type": "code",
   "execution_count": 8,
   "metadata": {},
   "outputs": [
    {
     "data": {
      "text/plain": [
       "Series([], dtype: int64)"
      ]
     },
     "execution_count": 8,
     "metadata": {},
     "output_type": "execute_result"
    }
   ],
   "source": [
    "claim_data = claim_data.fillna(0)\n",
    "c=np.sum(claim_data.isnull())\n",
    "c[c>0]"
   ]
  },
  {
   "cell_type": "markdown",
   "metadata": {},
   "source": [
    "We take the logarithm of the features where there is more spread due to large numbers, such as reimbursement.  We also dummify the claim status, with outpatient as 0 and inpatient as 1.\n"
   ]
  },
  {
   "cell_type": "code",
   "execution_count": 9,
   "metadata": {},
   "outputs": [
    {
     "name": "stderr",
     "output_type": "stream",
     "text": [
      "/Users/doug/opt/anaconda3/lib/python3.7/site-packages/pandas/core/series.py:679: RuntimeWarning: invalid value encountered in log\n",
      "  result = getattr(ufunc, method)(*inputs, **kwargs)\n"
     ]
    }
   ],
   "source": [
    "claim_data['logReimbursedAmount'] =np.log(claim_data['InscClaimAmtReimbursed'])\n",
    "claim_data['logOPAnnualReimbursement'] = np.log(claim_data['OPAnnualReimbursementAmt']+0.1)\n",
    "claim_data['logIPAnnualReimbursement'] = np.log(claim_data['IPAnnualReimbursementAmt']+0.1)\n",
    "claim_data['logOPAnnualDeductibleAmt'] = np.log(claim_data['OPAnnualDeductibleAmt']+0.1)\n",
    "claim_data['logIPAnnualDeductibleAmt'] = np.log(claim_data['IPAnnualDeductibleAmt']+0.1)\n",
    "claim_data['logClaimDays'] = np.log(claim_data['ClaimDays']+0.1)\n",
    "claim_data['Status_dum'] = [0 if x=='out' else 1 for x in claim_data['Status']]\n"
   ]
  },
  {
   "cell_type": "code",
   "execution_count": 10,
   "metadata": {},
   "outputs": [
    {
     "data": {
      "text/html": [
       "<div>\n",
       "<style scoped>\n",
       "    .dataframe tbody tr th:only-of-type {\n",
       "        vertical-align: middle;\n",
       "    }\n",
       "\n",
       "    .dataframe tbody tr th {\n",
       "        vertical-align: top;\n",
       "    }\n",
       "\n",
       "    .dataframe thead th {\n",
       "        text-align: right;\n",
       "    }\n",
       "</style>\n",
       "<table border=\"1\" class=\"dataframe\">\n",
       "  <thead>\n",
       "    <tr style=\"text-align: right;\">\n",
       "      <th></th>\n",
       "      <th>OPAnnualReimbursementAmt</th>\n",
       "      <th>logOPAnnualReimbursement</th>\n",
       "      <th>IPAnnualReimbursementAmt</th>\n",
       "      <th>logIPAnnualReimbursement</th>\n",
       "    </tr>\n",
       "  </thead>\n",
       "  <tbody>\n",
       "    <tr>\n",
       "      <th>count</th>\n",
       "      <td>537558.000000</td>\n",
       "      <td>537544.000000</td>\n",
       "      <td>537558.000000</td>\n",
       "      <td>537504.000000</td>\n",
       "    </tr>\n",
       "    <tr>\n",
       "      <th>mean</th>\n",
       "      <td>2297.841424</td>\n",
       "      <td>6.902330</td>\n",
       "      <td>5267.715707</td>\n",
       "      <td>1.579455</td>\n",
       "    </tr>\n",
       "    <tr>\n",
       "      <th>std</th>\n",
       "      <td>3910.603624</td>\n",
       "      <td>1.530830</td>\n",
       "      <td>11835.463500</td>\n",
       "      <td>5.487771</td>\n",
       "    </tr>\n",
       "    <tr>\n",
       "      <th>min</th>\n",
       "      <td>-70.000000</td>\n",
       "      <td>-2.302585</td>\n",
       "      <td>-1400.000000</td>\n",
       "      <td>-2.302585</td>\n",
       "    </tr>\n",
       "    <tr>\n",
       "      <th>25%</th>\n",
       "      <td>470.000000</td>\n",
       "      <td>6.152945</td>\n",
       "      <td>0.000000</td>\n",
       "      <td>-2.302585</td>\n",
       "    </tr>\n",
       "    <tr>\n",
       "      <th>50%</th>\n",
       "      <td>1180.000000</td>\n",
       "      <td>7.073354</td>\n",
       "      <td>0.000000</td>\n",
       "      <td>-2.302585</td>\n",
       "    </tr>\n",
       "    <tr>\n",
       "      <th>75%</th>\n",
       "      <td>2610.000000</td>\n",
       "      <td>7.867144</td>\n",
       "      <td>6000.000000</td>\n",
       "      <td>8.699531</td>\n",
       "    </tr>\n",
       "    <tr>\n",
       "      <th>max</th>\n",
       "      <td>102960.000000</td>\n",
       "      <td>11.542097</td>\n",
       "      <td>161470.000000</td>\n",
       "      <td>11.992075</td>\n",
       "    </tr>\n",
       "  </tbody>\n",
       "</table>\n",
       "</div>"
      ],
      "text/plain": [
       "       OPAnnualReimbursementAmt  logOPAnnualReimbursement  \\\n",
       "count             537558.000000             537544.000000   \n",
       "mean                2297.841424                  6.902330   \n",
       "std                 3910.603624                  1.530830   \n",
       "min                  -70.000000                 -2.302585   \n",
       "25%                  470.000000                  6.152945   \n",
       "50%                 1180.000000                  7.073354   \n",
       "75%                 2610.000000                  7.867144   \n",
       "max               102960.000000                 11.542097   \n",
       "\n",
       "       IPAnnualReimbursementAmt  logIPAnnualReimbursement  \n",
       "count             537558.000000             537504.000000  \n",
       "mean                5267.715707                  1.579455  \n",
       "std                11835.463500                  5.487771  \n",
       "min                -1400.000000                 -2.302585  \n",
       "25%                    0.000000                 -2.302585  \n",
       "50%                    0.000000                 -2.302585  \n",
       "75%                 6000.000000                  8.699531  \n",
       "max               161470.000000                 11.992075  "
      ]
     },
     "execution_count": 10,
     "metadata": {},
     "output_type": "execute_result"
    }
   ],
   "source": [
    "a = claim_data[['OPAnnualReimbursementAmt','logOPAnnualReimbursement','IPAnnualReimbursementAmt','logIPAnnualReimbursement']]\n",
    "a.describe()"
   ]
  },
  {
   "cell_type": "code",
   "execution_count": 11,
   "metadata": {},
   "outputs": [
    {
     "data": {
      "text/html": [
       "<div>\n",
       "<style scoped>\n",
       "    .dataframe tbody tr th:only-of-type {\n",
       "        vertical-align: middle;\n",
       "    }\n",
       "\n",
       "    .dataframe tbody tr th {\n",
       "        vertical-align: top;\n",
       "    }\n",
       "\n",
       "    .dataframe thead th {\n",
       "        text-align: right;\n",
       "    }\n",
       "</style>\n",
       "<table border=\"1\" class=\"dataframe\">\n",
       "  <thead>\n",
       "    <tr style=\"text-align: right;\">\n",
       "      <th></th>\n",
       "      <th>logOPAnnualReimbursement</th>\n",
       "      <th>logIPAnnualReimbursement</th>\n",
       "    </tr>\n",
       "  </thead>\n",
       "  <tbody>\n",
       "    <tr>\n",
       "      <th>count</th>\n",
       "      <td>537544.000000</td>\n",
       "      <td>537504.000000</td>\n",
       "    </tr>\n",
       "    <tr>\n",
       "      <th>mean</th>\n",
       "      <td>6.902330</td>\n",
       "      <td>1.579455</td>\n",
       "    </tr>\n",
       "    <tr>\n",
       "      <th>std</th>\n",
       "      <td>1.530830</td>\n",
       "      <td>5.487771</td>\n",
       "    </tr>\n",
       "    <tr>\n",
       "      <th>min</th>\n",
       "      <td>-2.302585</td>\n",
       "      <td>-2.302585</td>\n",
       "    </tr>\n",
       "    <tr>\n",
       "      <th>25%</th>\n",
       "      <td>6.152945</td>\n",
       "      <td>-2.302585</td>\n",
       "    </tr>\n",
       "    <tr>\n",
       "      <th>50%</th>\n",
       "      <td>7.073354</td>\n",
       "      <td>-2.302585</td>\n",
       "    </tr>\n",
       "    <tr>\n",
       "      <th>75%</th>\n",
       "      <td>7.867144</td>\n",
       "      <td>8.699531</td>\n",
       "    </tr>\n",
       "    <tr>\n",
       "      <th>max</th>\n",
       "      <td>11.542097</td>\n",
       "      <td>11.992075</td>\n",
       "    </tr>\n",
       "  </tbody>\n",
       "</table>\n",
       "</div>"
      ],
      "text/plain": [
       "       logOPAnnualReimbursement  logIPAnnualReimbursement\n",
       "count             537544.000000             537504.000000\n",
       "mean                   6.902330                  1.579455\n",
       "std                    1.530830                  5.487771\n",
       "min                   -2.302585                 -2.302585\n",
       "25%                    6.152945                 -2.302585\n",
       "50%                    7.073354                 -2.302585\n",
       "75%                    7.867144                  8.699531\n",
       "max                   11.542097                 11.992075"
      ]
     },
     "execution_count": 11,
     "metadata": {},
     "output_type": "execute_result"
    }
   ],
   "source": [
    "claim_data[['logOPAnnualReimbursement','logIPAnnualReimbursement']].describe()"
   ]
  },
  {
   "cell_type": "code",
   "execution_count": 12,
   "metadata": {},
   "outputs": [
    {
     "data": {
      "text/plain": [
       "Index(['BeneID', 'ClaimID', 'ClaimStartDt', 'ClaimEndDt', 'Provider',\n",
       "       'InscClaimAmtReimbursed', 'AttendingPhysician', 'OperatingPhysician',\n",
       "       'OtherPhysician', 'AdmissionDt', 'ClmAdmitDiagnosisCode',\n",
       "       'DeductibleAmtPaid', 'DischargeDt', 'DiagnosisGroupCode',\n",
       "       'ClmDiagnosisCode_1', 'ClmDiagnosisCode_2', 'ClmDiagnosisCode_3',\n",
       "       'ClmDiagnosisCode_4', 'ClmDiagnosisCode_5', 'ClmDiagnosisCode_6',\n",
       "       'ClmDiagnosisCode_7', 'ClmDiagnosisCode_8', 'ClmDiagnosisCode_9',\n",
       "       'ClmDiagnosisCode_10', 'ClmProcedureCode_1', 'ClmProcedureCode_2',\n",
       "       'ClmProcedureCode_3', 'ClmProcedureCode_4', 'ClmProcedureCode_5',\n",
       "       'ClmProcedureCode_6', 'Status', 'DOB', 'DOD', 'Gender', 'Race',\n",
       "       'RenalDiseaseIndicator', 'State', 'County', 'NoOfMonths_PartACov',\n",
       "       'NoOfMonths_PartBCov', 'Alzheimer', 'HeartFailure', 'KidneyDisease',\n",
       "       'Cancer', 'ObstrPulmonary', 'Depression', 'Diabetes', 'IschemicHeart',\n",
       "       'Osteoporasis', 'RheumatoidArthritis', 'Stroke',\n",
       "       'IPAnnualReimbursementAmt', 'IPAnnualDeductibleAmt',\n",
       "       'OPAnnualReimbursementAmt', 'OPAnnualDeductibleAmt', 'WhetherDead',\n",
       "       'NumChronics', 'NumProc', 'NumDiag', 'AdmissionDays', 'ClaimDays',\n",
       "       'Age', 'logReimbursedAmount', 'logOPAnnualReimbursement',\n",
       "       'logIPAnnualReimbursement', 'logOPAnnualDeductibleAmt',\n",
       "       'logIPAnnualDeductibleAmt', 'logClaimDays', 'Status_dum'],\n",
       "      dtype='object')"
      ]
     },
     "execution_count": 12,
     "metadata": {},
     "output_type": "execute_result"
    }
   ],
   "source": [
    "claim_data.columns"
   ]
  },
  {
   "cell_type": "markdown",
   "metadata": {},
   "source": [
    "We keep the features that are continuous numbers."
   ]
  },
  {
   "cell_type": "code",
   "execution_count": 13,
   "metadata": {},
   "outputs": [
    {
     "data": {
      "text/plain": [
       "Index([], dtype='object')"
      ]
     },
     "execution_count": 13,
     "metadata": {},
     "output_type": "execute_result"
    }
   ],
   "source": [
    "columns_to_keep = ['Status_dum', 'NoOfMonths_PartACov',\n",
    "       'NoOfMonths_PartBCov','logIPAnnualReimbursement', 'logIPAnnualDeductibleAmt',\n",
    "       'logOPAnnualReimbursement', 'logOPAnnualDeductibleAmt', 'WhetherDead',\n",
    "       'NumChronics', 'NumProc', 'NumDiag','logClaimDays','Age']\n",
    "claim_data_reduce = claim_data[columns_to_keep]\n",
    "claim_data_str = claim_data_reduce.select_dtypes(exclude='number').columns\n",
    "claim_data_str"
   ]
  },
  {
   "cell_type": "code",
   "execution_count": 14,
   "metadata": {},
   "outputs": [
    {
     "data": {
      "text/plain": [
       "Series([], dtype: int64)"
      ]
     },
     "execution_count": 14,
     "metadata": {},
     "output_type": "execute_result"
    }
   ],
   "source": [
    "claim_data = claim_data.fillna(0)\n",
    "c=np.sum(claim_data.isnull())\n",
    "c[c>0]"
   ]
  },
  {
   "cell_type": "code",
   "execution_count": 15,
   "metadata": {},
   "outputs": [
    {
     "data": {
      "text/plain": [
       "Index(['BeneID', 'ClaimID', 'ClaimStartDt', 'ClaimEndDt', 'Provider',\n",
       "       'InscClaimAmtReimbursed', 'AttendingPhysician', 'OperatingPhysician',\n",
       "       'OtherPhysician', 'AdmissionDt', 'ClmAdmitDiagnosisCode',\n",
       "       'DeductibleAmtPaid', 'DischargeDt', 'DiagnosisGroupCode',\n",
       "       'ClmDiagnosisCode_1', 'ClmDiagnosisCode_2', 'ClmDiagnosisCode_3',\n",
       "       'ClmDiagnosisCode_4', 'ClmDiagnosisCode_5', 'ClmDiagnosisCode_6',\n",
       "       'ClmDiagnosisCode_7', 'ClmDiagnosisCode_8', 'ClmDiagnosisCode_9',\n",
       "       'ClmDiagnosisCode_10', 'ClmProcedureCode_1', 'ClmProcedureCode_2',\n",
       "       'ClmProcedureCode_3', 'ClmProcedureCode_4', 'ClmProcedureCode_5',\n",
       "       'ClmProcedureCode_6', 'Status', 'DOB', 'DOD', 'Gender', 'Race',\n",
       "       'RenalDiseaseIndicator', 'State', 'County', 'NoOfMonths_PartACov',\n",
       "       'NoOfMonths_PartBCov', 'Alzheimer', 'HeartFailure', 'KidneyDisease',\n",
       "       'Cancer', 'ObstrPulmonary', 'Depression', 'Diabetes', 'IschemicHeart',\n",
       "       'Osteoporasis', 'RheumatoidArthritis', 'Stroke',\n",
       "       'IPAnnualReimbursementAmt', 'IPAnnualDeductibleAmt',\n",
       "       'OPAnnualReimbursementAmt', 'OPAnnualDeductibleAmt', 'WhetherDead',\n",
       "       'NumChronics', 'NumProc', 'NumDiag', 'AdmissionDays', 'ClaimDays',\n",
       "       'Age', 'logReimbursedAmount', 'logOPAnnualReimbursement',\n",
       "       'logIPAnnualReimbursement', 'logOPAnnualDeductibleAmt',\n",
       "       'logIPAnnualDeductibleAmt', 'logClaimDays', 'Status_dum'],\n",
       "      dtype='object')"
      ]
     },
     "execution_count": 15,
     "metadata": {},
     "output_type": "execute_result"
    }
   ],
   "source": [
    "claim_data.columns"
   ]
  },
  {
   "cell_type": "markdown",
   "metadata": {},
   "source": [
    "We import graphics modules, and begin to visualize the relationship between various features and the reimbursement."
   ]
  },
  {
   "cell_type": "code",
   "execution_count": 16,
   "metadata": {},
   "outputs": [],
   "source": [
    "import matplotlib.pyplot as plt\n",
    "%matplotlib inline\n",
    "plt.style.use('ggplot')\n",
    "# plt.scatter(claim_data_reduce['Status_dum'],claim_data_nozero['logReimbursedAmount'])"
   ]
  },
  {
   "cell_type": "markdown",
   "metadata": {},
   "source": [
    "We first examine the relationship between various features and the amount reimbursed.  There appears to be no relationship between the patient's limit on annual reimbursement and the amount reimbursed on a claim."
   ]
  },
  {
   "cell_type": "code",
   "execution_count": 17,
   "metadata": {},
   "outputs": [
    {
     "data": {
      "text/plain": [
       "<matplotlib.collections.PathCollection at 0x7fd6ab10aa10>"
      ]
     },
     "execution_count": 17,
     "metadata": {},
     "output_type": "execute_result"
    },
    {
     "data": {
      "image/png": "[encoded data removed]",
      "text/plain": [
       "<Figure size 432x288 with 1 Axes>"
      ]
     },
     "metadata": {},
     "output_type": "display_data"
    }
   ],
   "source": [
    "plt.scatter(claim_data_reduce['logOPAnnualReimbursement'],claim_data['logReimbursedAmount'])"
   ]
  },
  {
   "cell_type": "markdown",
   "metadata": {},
   "source": [
    "We potentially see a relationship between the number of diagnostic codes on the claim and the log of the reimbursed amount.  This would make sense since the physician is paid for service, and each code is more service.  "
   ]
  },
  {
   "cell_type": "code",
   "execution_count": 18,
   "metadata": {},
   "outputs": [
    {
     "data": {
      "text/plain": [
       "<matplotlib.collections.PathCollection at 0x7fd6a8b94850>"
      ]
     },
     "execution_count": 18,
     "metadata": {},
     "output_type": "execute_result"
    },
    {
     "data": {
      "image/png": "[encoded data removed]",
      "text/plain": [
       "<Figure size 432x288 with 1 Axes>"
      ]
     },
     "metadata": {},
     "output_type": "display_data"
    }
   ],
   "source": [
    "plt.scatter(claim_data_reduce['NumDiag'],claim_data['logReimbursedAmount'])\n"
   ]
  },
  {
   "cell_type": "markdown",
   "metadata": {},
   "source": [
    "We plot here the log of the reimbursed amount on a claim as a function of the number of procedure codes on the claim. Again, as physicians are paid for service the relationship is unsurprising."
   ]
  },
  {
   "cell_type": "code",
   "execution_count": 19,
   "metadata": {},
   "outputs": [
    {
     "data": {
      "text/plain": [
       "<matplotlib.collections.PathCollection at 0x7fd6975a6990>"
      ]
     },
     "execution_count": 19,
     "metadata": {},
     "output_type": "execute_result"
    },
    {
     "data": {
      "image/png": "[encoded data removed]",
      "text/plain": [
       "<Figure size 432x288 with 1 Axes>"
      ]
     },
     "metadata": {},
     "output_type": "display_data"
    }
   ],
   "source": [
    "plt.scatter(claim_data_reduce['NumProc'],claim_data['logReimbursedAmount'])\n"
   ]
  },
  {
   "cell_type": "markdown",
   "metadata": {},
   "source": [
    "We plot here the relationship between the age of the patient and the amount reimbursed and no relationship appears obvious."
   ]
  },
  {
   "cell_type": "code",
   "execution_count": 21,
   "metadata": {},
   "outputs": [
    {
     "data": {
      "text/plain": [
       "<matplotlib.collections.PathCollection at 0x7fd695810150>"
      ]
     },
     "execution_count": 21,
     "metadata": {},
     "output_type": "execute_result"
    },
    {
     "data": {
      "image/png": "[encoded data removed]",
      "text/plain": [
       "<Figure size 432x288 with 1 Axes>"
      ]
     },
     "metadata": {},
     "output_type": "display_data"
    }
   ],
   "source": [
    "plt.scatter(claim_data_reduce['Age'],claim_data['logReimbursedAmount'])\n"
   ]
  },
  {
   "cell_type": "markdown",
   "metadata": {},
   "source": [
    "We plot the log of the patient's reimbursement limit and the amount reimbursed on a given claim and find there is some relationship at higher reimbursement limits, where the insurance company won't reimburse beyond limit in the insurance policy."
   ]
  },
  {
   "cell_type": "code",
   "execution_count": 22,
   "metadata": {},
   "outputs": [
    {
     "data": {
      "text/plain": [
       "<matplotlib.collections.PathCollection at 0x7fd694018610>"
      ]
     },
     "execution_count": 22,
     "metadata": {},
     "output_type": "execute_result"
    },
    {
     "data": {
      "image/png": "[encoded data removed]",
      "text/plain": [
       "<Figure size 432x288 with 1 Axes>"
      ]
     },
     "metadata": {},
     "output_type": "display_data"
    }
   ],
   "source": [
    "plt.scatter(claim_data_reduce['logIPAnnualReimbursement'],claim_data['logReimbursedAmount'])\n"
   ]
  },
  {
   "cell_type": "markdown",
   "metadata": {},
   "source": [
    "Here we set the target (y, log of the amount reimbursed on the claim) and scale the feature matrix since we intend to use a ridge regression to reduce the effect of multicollinearity in the features."
   ]
  },
  {
   "cell_type": "code",
   "execution_count": 23,
   "metadata": {},
   "outputs": [
    {
     "data": {
      "text/html": [
       "<div>\n",
       "<style scoped>\n",
       "    .dataframe tbody tr th:only-of-type {\n",
       "        vertical-align: middle;\n",
       "    }\n",
       "\n",
       "    .dataframe tbody tr th {\n",
       "        vertical-align: top;\n",
       "    }\n",
       "\n",
       "    .dataframe thead th {\n",
       "        text-align: right;\n",
       "    }\n",
       "</style>\n",
       "<table border=\"1\" class=\"dataframe\">\n",
       "  <thead>\n",
       "    <tr style=\"text-align: right;\">\n",
       "      <th></th>\n",
       "      <th>Status_dum</th>\n",
       "      <th>NoOfMonths_PartACov</th>\n",
       "      <th>NoOfMonths_PartBCov</th>\n",
       "      <th>logIPAnnualReimbursement</th>\n",
       "      <th>logIPAnnualDeductibleAmt</th>\n",
       "      <th>logOPAnnualReimbursement</th>\n",
       "      <th>logOPAnnualDeductibleAmt</th>\n",
       "      <th>WhetherDead</th>\n",
       "      <th>NumChronics</th>\n",
       "      <th>NumProc</th>\n",
       "      <th>NumDiag</th>\n",
       "      <th>logClaimDays</th>\n",
       "      <th>Age</th>\n",
       "    </tr>\n",
       "  </thead>\n",
       "  <tbody>\n",
       "    <tr>\n",
       "      <th>0</th>\n",
       "      <td>1.0</td>\n",
       "      <td>1.0</td>\n",
       "      <td>1.0</td>\n",
       "      <td>0.895010</td>\n",
       "      <td>0.807057</td>\n",
       "      <td>0.462170</td>\n",
       "      <td>0.553519</td>\n",
       "      <td>0.0</td>\n",
       "      <td>0.636364</td>\n",
       "      <td>0.0</td>\n",
       "      <td>0.909091</td>\n",
       "      <td>0.530023</td>\n",
       "      <td>0.539474</td>\n",
       "    </tr>\n",
       "    <tr>\n",
       "      <th>1</th>\n",
       "      <td>1.0</td>\n",
       "      <td>1.0</td>\n",
       "      <td>1.0</td>\n",
       "      <td>0.895010</td>\n",
       "      <td>0.807057</td>\n",
       "      <td>0.462170</td>\n",
       "      <td>0.553519</td>\n",
       "      <td>0.0</td>\n",
       "      <td>0.636364</td>\n",
       "      <td>0.2</td>\n",
       "      <td>0.363636</td>\n",
       "      <td>0.294486</td>\n",
       "      <td>0.552632</td>\n",
       "    </tr>\n",
       "    <tr>\n",
       "      <th>2</th>\n",
       "      <td>1.0</td>\n",
       "      <td>1.0</td>\n",
       "      <td>1.0</td>\n",
       "      <td>0.895010</td>\n",
       "      <td>0.807057</td>\n",
       "      <td>0.462170</td>\n",
       "      <td>0.553519</td>\n",
       "      <td>0.0</td>\n",
       "      <td>0.636364</td>\n",
       "      <td>0.0</td>\n",
       "      <td>0.636364</td>\n",
       "      <td>0.373952</td>\n",
       "      <td>0.552632</td>\n",
       "    </tr>\n",
       "    <tr>\n",
       "      <th>3</th>\n",
       "      <td>1.0</td>\n",
       "      <td>1.0</td>\n",
       "      <td>1.0</td>\n",
       "      <td>0.756912</td>\n",
       "      <td>0.721601</td>\n",
       "      <td>0.565159</td>\n",
       "      <td>0.681811</td>\n",
       "      <td>0.0</td>\n",
       "      <td>0.545455</td>\n",
       "      <td>0.2</td>\n",
       "      <td>0.909091</td>\n",
       "      <td>0.600563</td>\n",
       "      <td>0.921053</td>\n",
       "    </tr>\n",
       "    <tr>\n",
       "      <th>4</th>\n",
       "      <td>0.0</td>\n",
       "      <td>1.0</td>\n",
       "      <td>1.0</td>\n",
       "      <td>0.756912</td>\n",
       "      <td>0.721601</td>\n",
       "      <td>0.565159</td>\n",
       "      <td>0.681811</td>\n",
       "      <td>0.0</td>\n",
       "      <td>0.545455</td>\n",
       "      <td>0.0</td>\n",
       "      <td>0.545455</td>\n",
       "      <td>0.000000</td>\n",
       "      <td>0.921053</td>\n",
       "    </tr>\n",
       "  </tbody>\n",
       "</table>\n",
       "</div>"
      ],
      "text/plain": [
       "   Status_dum  NoOfMonths_PartACov  NoOfMonths_PartBCov  \\\n",
       "0         1.0                  1.0                  1.0   \n",
       "1         1.0                  1.0                  1.0   \n",
       "2         1.0                  1.0                  1.0   \n",
       "3         1.0                  1.0                  1.0   \n",
       "4         0.0                  1.0                  1.0   \n",
       "\n",
       "   logIPAnnualReimbursement  logIPAnnualDeductibleAmt  \\\n",
       "0                  0.895010                  0.807057   \n",
       "1                  0.895010                  0.807057   \n",
       "2                  0.895010                  0.807057   \n",
       "3                  0.756912                  0.721601   \n",
       "4                  0.756912                  0.721601   \n",
       "\n",
       "   logOPAnnualReimbursement  logOPAnnualDeductibleAmt  WhetherDead  \\\n",
       "0                  0.462170                  0.553519          0.0   \n",
       "1                  0.462170                  0.553519          0.0   \n",
       "2                  0.462170                  0.553519          0.0   \n",
       "3                  0.565159                  0.681811          0.0   \n",
       "4                  0.565159                  0.681811          0.0   \n",
       "\n",
       "   NumChronics  NumProc   NumDiag  logClaimDays       Age  \n",
       "0     0.636364      0.0  0.909091      0.530023  0.539474  \n",
       "1     0.636364      0.2  0.363636      0.294486  0.552632  \n",
       "2     0.636364      0.0  0.636364      0.373952  0.552632  \n",
       "3     0.545455      0.2  0.909091      0.600563  0.921053  \n",
       "4     0.545455      0.0  0.545455      0.000000  0.921053  "
      ]
     },
     "execution_count": 23,
     "metadata": {},
     "output_type": "execute_result"
    }
   ],
   "source": [
    "y = claim_data['logReimbursedAmount']\n",
    "X_scaled = (claim_data_reduce-claim_data_reduce.min(axis=0))/(claim_data_reduce.max(axis=0)-claim_data_reduce.min(axis=0))\n",
    "X_scaled.head()"
   ]
  },
  {
   "cell_type": "code",
   "execution_count": 32,
   "metadata": {},
   "outputs": [
    {
     "data": {
      "text/plain": [
       "Series([], dtype: int64)"
      ]
     },
     "execution_count": 32,
     "metadata": {},
     "output_type": "execute_result"
    }
   ],
   "source": [
    "X_scaled = X_scaled.fillna(0)\n",
    "c=np.sum(X_scaled.isnull())\n",
    "c[c>0]"
   ]
  },
  {
   "cell_type": "markdown",
   "metadata": {},
   "source": [
    "We import required model and graphics modules."
   ]
  },
  {
   "cell_type": "code",
   "execution_count": 17,
   "metadata": {},
   "outputs": [],
   "source": [
    "from scipy import stats\n",
    "import matplotlib.pyplot as plt\n",
    "from scipy import stats\n",
    "%matplotlib inline\n",
    "plt.style.use('ggplot')"
   ]
  },
  {
   "cell_type": "markdown",
   "metadata": {},
   "source": [
    "We import the ridge, lasso and elasticnet models from sklearn, and set an instance of the Ridge model."
   ]
  },
  {
   "cell_type": "code",
   "execution_count": 27,
   "metadata": {},
   "outputs": [
    {
     "data": {
      "text/plain": [
       "Ridge(alpha=1.0, copy_X=True, fit_intercept=True, max_iter=None,\n",
       "      normalize=False, random_state=None, solver='auto', tol=0.001)"
      ]
     },
     "execution_count": 27,
     "metadata": {},
     "output_type": "execute_result"
    }
   ],
   "source": [
    "from sklearn.linear_model import LinearRegression, Ridge, Lasso, ElasticNet\n",
    "ridge = Ridge()\n",
    "ridge\n"
   ]
  },
  {
   "cell_type": "code",
   "execution_count": 28,
   "metadata": {},
   "outputs": [
    {
     "data": {
      "text/plain": [
       "((537558, 13), (537558,))"
      ]
     },
     "execution_count": 28,
     "metadata": {},
     "output_type": "execute_result"
    }
   ],
   "source": [
    "X_scaled.shape,y.shape\n"
   ]
  },
  {
   "cell_type": "markdown",
   "metadata": {},
   "source": [
    "We import the model selection module from sklearn, and split the data to test and train sets."
   ]
  },
  {
   "cell_type": "code",
   "execution_count": 33,
   "metadata": {},
   "outputs": [],
   "source": [
    "from sklearn import model_selection as ms\n",
    "X_train, X_test, y_train, y_test = ms.train_test_split(X_scaled, y, \n",
    "                                            test_size=0.20, random_state=32)"
   ]
  },
  {
   "cell_type": "code",
   "execution_count": 35,
   "metadata": {},
   "outputs": [
    {
     "data": {
      "text/plain": [
       "Series([], dtype: int64)"
      ]
     },
     "execution_count": 35,
     "metadata": {},
     "output_type": "execute_result"
    }
   ],
   "source": [
    "c=np.sum(X_test.isnull())\n",
    "c[c>0]\n"
   ]
  },
  {
   "cell_type": "markdown",
   "metadata": {},
   "source": [
    "We fit the ridge model to the scaled training set.  We find the model is not overfit, but also has relatively uniformly poor performance."
   ]
  },
  {
   "cell_type": "code",
   "execution_count": 37,
   "metadata": {},
   "outputs": [
    {
     "name": "stdout",
     "output_type": "stream",
     "text": [
      "0.49108191650347366\n",
      "0.4927160434297899\n"
     ]
    }
   ],
   "source": [
    "ridge.fit(X_train,y_train)\n",
    "print(ridge.score(X_train,y_train))\n",
    "print(ridge.score(X_test,y_test))\n"
   ]
  },
  {
   "cell_type": "markdown",
   "metadata": {},
   "source": [
    "The features for the model show that the annual reimbursement (especially for out-patient) and the in-patient or out-patient status (in-patient is more expensive) are important features driving performance."
   ]
  },
  {
   "cell_type": "code",
   "execution_count": 38,
   "metadata": {},
   "outputs": [
    {
     "data": {
      "text/html": [
       "<div>\n",
       "<style scoped>\n",
       "    .dataframe tbody tr th:only-of-type {\n",
       "        vertical-align: middle;\n",
       "    }\n",
       "\n",
       "    .dataframe tbody tr th {\n",
       "        vertical-align: top;\n",
       "    }\n",
       "\n",
       "    .dataframe thead th {\n",
       "        text-align: right;\n",
       "    }\n",
       "</style>\n",
       "<table border=\"1\" class=\"dataframe\">\n",
       "  <thead>\n",
       "    <tr style=\"text-align: right;\">\n",
       "      <th></th>\n",
       "      <th>0</th>\n",
       "      <th>1</th>\n",
       "    </tr>\n",
       "  </thead>\n",
       "  <tbody>\n",
       "    <tr>\n",
       "      <th>5</th>\n",
       "      <td>logOPAnnualReimbursement</td>\n",
       "      <td>4.274739</td>\n",
       "    </tr>\n",
       "    <tr>\n",
       "      <th>0</th>\n",
       "      <td>Status_dum</td>\n",
       "      <td>3.550902</td>\n",
       "    </tr>\n",
       "    <tr>\n",
       "      <th>9</th>\n",
       "      <td>NumProc</td>\n",
       "      <td>1.523854</td>\n",
       "    </tr>\n",
       "    <tr>\n",
       "      <th>11</th>\n",
       "      <td>logClaimDays</td>\n",
       "      <td>1.147123</td>\n",
       "    </tr>\n",
       "    <tr>\n",
       "      <th>6</th>\n",
       "      <td>logOPAnnualDeductibleAmt</td>\n",
       "      <td>0.757372</td>\n",
       "    </tr>\n",
       "    <tr>\n",
       "      <th>10</th>\n",
       "      <td>NumDiag</td>\n",
       "      <td>0.753106</td>\n",
       "    </tr>\n",
       "    <tr>\n",
       "      <th>3</th>\n",
       "      <td>logIPAnnualReimbursement</td>\n",
       "      <td>0.673370</td>\n",
       "    </tr>\n",
       "    <tr>\n",
       "      <th>4</th>\n",
       "      <td>logIPAnnualDeductibleAmt</td>\n",
       "      <td>0.668498</td>\n",
       "    </tr>\n",
       "    <tr>\n",
       "      <th>8</th>\n",
       "      <td>NumChronics</td>\n",
       "      <td>0.511482</td>\n",
       "    </tr>\n",
       "    <tr>\n",
       "      <th>2</th>\n",
       "      <td>NoOfMonths_PartBCov</td>\n",
       "      <td>0.148467</td>\n",
       "    </tr>\n",
       "    <tr>\n",
       "      <th>7</th>\n",
       "      <td>WhetherDead</td>\n",
       "      <td>0.129255</td>\n",
       "    </tr>\n",
       "    <tr>\n",
       "      <th>1</th>\n",
       "      <td>NoOfMonths_PartACov</td>\n",
       "      <td>0.085902</td>\n",
       "    </tr>\n",
       "    <tr>\n",
       "      <th>12</th>\n",
       "      <td>Age</td>\n",
       "      <td>0.033084</td>\n",
       "    </tr>\n",
       "  </tbody>\n",
       "</table>\n",
       "</div>"
      ],
      "text/plain": [
       "                           0         1\n",
       "5   logOPAnnualReimbursement  4.274739\n",
       "0                 Status_dum  3.550902\n",
       "9                    NumProc  1.523854\n",
       "11              logClaimDays  1.147123\n",
       "6   logOPAnnualDeductibleAmt  0.757372\n",
       "10                   NumDiag  0.753106\n",
       "3   logIPAnnualReimbursement  0.673370\n",
       "4   logIPAnnualDeductibleAmt  0.668498\n",
       "8                NumChronics  0.511482\n",
       "2        NoOfMonths_PartBCov  0.148467\n",
       "7                WhetherDead  0.129255\n",
       "1        NoOfMonths_PartACov  0.085902\n",
       "12                       Age  0.033084"
      ]
     },
     "execution_count": 38,
     "metadata": {},
     "output_type": "execute_result"
    }
   ],
   "source": [
    "pd.DataFrame(list(zip(X_train.columns,abs(ridge.coef_)))).sort_values(by=[1],ascending=False)\n"
   ]
  },
  {
   "cell_type": "markdown",
   "metadata": {},
   "source": [
    "To determine if the model, poor as it is, follows the assumptions implicit in linear regression we look at some of the regression residuals.  We observe some outlier residuals, but the majority of the residuals are normally distributed around 0."
   ]
  },
  {
   "cell_type": "code",
   "execution_count": 39,
   "metadata": {},
   "outputs": [
    {
     "data": {
      "text/plain": [
       "(array([4.00000e+00, 1.30000e+01, 4.10000e+02, 1.64920e+04, 6.63170e+04,\n",
       "        1.68763e+05, 1.03750e+05, 5.94990e+04, 1.45740e+04, 2.24000e+02]),\n",
       " array([-6.83066862, -5.67146365, -4.51225867, -3.3530537 , -2.19384872,\n",
       "        -1.03464375,  0.12456123,  1.2837662 ,  2.44297118,  3.60217615,\n",
       "         4.76138113]),\n",
       " <a list of 10 Patch objects>)"
      ]
     },
     "execution_count": 39,
     "metadata": {},
     "output_type": "execute_result"
    },
    {
     "data": {
      "image/png": "[encoded data removed]",
      "text/plain": [
       "<Figure size 432x288 with 1 Axes>"
      ]
     },
     "metadata": {},
     "output_type": "display_data"
    }
   ],
   "source": [
    "plt.hist(y_train-ridge.predict(X_train))\n"
   ]
  },
  {
   "cell_type": "markdown",
   "metadata": {},
   "source": [
    "However, our assumption of constant variance with respect to fit appears invalid. The distribution of the residuals as a function of predicted value is clearly not constant.  The variance seems especially large at middle values of the reimbursement amount, and there may be some bias at larger values of predicted reimbursement."
   ]
  },
  {
   "cell_type": "code",
   "execution_count": 40,
   "metadata": {},
   "outputs": [
    {
     "data": {
      "text/plain": [
       "<matplotlib.collections.PathCollection at 0x7fd65eebc790>"
      ]
     },
     "execution_count": 40,
     "metadata": {},
     "output_type": "execute_result"
    },
    {
     "data": {
      "image/png": "[encoded data removed]",
      "text/plain": [
       "<Figure size 432x288 with 1 Axes>"
      ]
     },
     "metadata": {},
     "output_type": "display_data"
    }
   ],
   "source": [
    "plt.scatter(ridge.predict(X_train),(y_train-ridge.predict(X_train)))\n"
   ]
  },
  {
   "cell_type": "markdown",
   "metadata": {},
   "source": [
    "The same type of plot, residuals as a function of the actual value of the claim, showing clear bias at the extrema, with the model overpredicting at small reimbursed amounts, and underpredicting at higher reimbursement amounts."
   ]
  },
  {
   "cell_type": "code",
   "execution_count": 41,
   "metadata": {},
   "outputs": [
    {
     "data": {
      "text/plain": [
       "<matplotlib.collections.PathCollection at 0x7fd65ef21f90>"
      ]
     },
     "execution_count": 41,
     "metadata": {},
     "output_type": "execute_result"
    },
    {
     "data": {
      "image/png": "[encoded data removed]",
      "text/plain": [
       "<Figure size 432x288 with 1 Axes>"
      ]
     },
     "metadata": {},
     "output_type": "display_data"
    }
   ],
   "source": [
    "plt.scatter(y_train,(y_train-ridge.predict(X_train)))\n"
   ]
  },
  {
   "cell_type": "markdown",
   "metadata": {},
   "source": [
    "We now examine if there is one particular feature that is causing the skew.  We don't really see any bias in the plot of the number of months of Part A coverage, but we do see variable variance  as a function of the number of the months of coverage, with the variability particularly high at short and long times of coverage."
   ]
  },
  {
   "cell_type": "code",
   "execution_count": 85,
   "metadata": {},
   "outputs": [
    {
     "data": {
      "text/plain": [
       "<matplotlib.collections.PathCollection at 0x7fc0e113b450>"
      ]
     },
     "execution_count": 85,
     "metadata": {},
     "output_type": "execute_result"
    },
    {
     "data": {
      "image/png": "[encoded data removed]",
      "text/plain": [
       "<Figure size 432x288 with 1 Axes>"
      ]
     },
     "metadata": {},
     "output_type": "display_data"
    }
   ],
   "source": [
    "plt.scatter(X_train.loc[:,'NoOfMonths_PartACov'],(y_train-ridge.predict(X_train)))\n"
   ]
  },
  {
   "cell_type": "markdown",
   "metadata": {},
   "source": [
    "We seem similar behavior for the number of months of Part B coverage."
   ]
  },
  {
   "cell_type": "code",
   "execution_count": 86,
   "metadata": {},
   "outputs": [
    {
     "data": {
      "text/plain": [
       "<matplotlib.collections.PathCollection at 0x7fc070f377d0>"
      ]
     },
     "execution_count": 86,
     "metadata": {},
     "output_type": "execute_result"
    },
    {
     "data": {
      "image/png": "[encoded data removed]",
      "text/plain": [
       "<Figure size 432x288 with 1 Axes>"
      ]
     },
     "metadata": {},
     "output_type": "display_data"
    }
   ],
   "source": [
    "plt.scatter(X_train.loc[:,'NoOfMonths_PartBCov'],(y_train-ridge.predict(X_train)))\n"
   ]
  },
  {
   "cell_type": "markdown",
   "metadata": {},
   "source": [
    "When we plot the residuals as a function of the patient's InPatient Annual Deductible amount, with no obvious bias but clear variation of the residuals with respect to the amount of the deductible, and less variation at higher deductibles."
   ]
  },
  {
   "cell_type": "code",
   "execution_count": 87,
   "metadata": {},
   "outputs": [
    {
     "data": {
      "text/plain": [
       "<matplotlib.collections.PathCollection at 0x7fc07ae47a50>"
      ]
     },
     "execution_count": 87,
     "metadata": {},
     "output_type": "execute_result"
    },
    {
     "data": {
      "image/png": "[encoded data removed]",
      "text/plain": [
       "<Figure size 432x288 with 1 Axes>"
      ]
     },
     "metadata": {},
     "output_type": "display_data"
    }
   ],
   "source": [
    "plt.scatter(X_train.loc[:,'logIPAnnualDeductibleAmt'],(y_train-ridge.predict(X_train)))\n"
   ]
  },
  {
   "cell_type": "markdown",
   "metadata": {},
   "source": [
    "We see less variation of the residuals as a function of the value of the patient's In-Patient Annual Reimbursement amount.  We see some evidence of high leverage for patients with a 0 annual reimbursement limit, but it's not clear if it materially affected the model."
   ]
  },
  {
   "cell_type": "code",
   "execution_count": 88,
   "metadata": {},
   "outputs": [
    {
     "data": {
      "text/plain": [
       "<matplotlib.collections.PathCollection at 0x7fc07d178050>"
      ]
     },
     "execution_count": 88,
     "metadata": {},
     "output_type": "execute_result"
    },
    {
     "data": {
      "image/png": "[encoded data removed]",
      "text/plain": [
       "<Figure size 432x288 with 1 Axes>"
      ]
     },
     "metadata": {},
     "output_type": "display_data"
    }
   ],
   "source": [
    "plt.scatter(X_train.loc[:,'logIPAnnualReimbursement'],(y_train-ridge.predict(X_train)))\n"
   ]
  },
  {
   "cell_type": "markdown",
   "metadata": {},
   "source": [
    "We see different behavior with respect to the patient's out-patient reimbursement limit, where we seem to see a bias at middle values of the out-patient reimbursement limit, and there is some bias (and some higher leverage) for patients with 0 reimbursement limits."
   ]
  },
  {
   "cell_type": "code",
   "execution_count": 89,
   "metadata": {},
   "outputs": [
    {
     "data": {
      "text/plain": [
       "<matplotlib.collections.PathCollection at 0x7fc07e2b9b90>"
      ]
     },
     "execution_count": 89,
     "metadata": {},
     "output_type": "execute_result"
    },
    {
     "data": {
      "image/png": "[encoded data removed]",
      "text/plain": [
       "<Figure size 432x288 with 1 Axes>"
      ]
     },
     "metadata": {},
     "output_type": "display_data"
    }
   ],
   "source": [
    "plt.scatter(X_train.loc[:,'logOPAnnualReimbursement'],(y_train-ridge.predict(X_train)))\n"
   ]
  },
  {
   "cell_type": "markdown",
   "metadata": {},
   "source": [
    "The residuals don't appear to be affected greatly by the in-patient (1) or out-patient (0) status of the claim. "
   ]
  },
  {
   "cell_type": "code",
   "execution_count": 42,
   "metadata": {},
   "outputs": [
    {
     "data": {
      "text/plain": [
       "<matplotlib.collections.PathCollection at 0x7fd65f0949d0>"
      ]
     },
     "execution_count": 42,
     "metadata": {},
     "output_type": "execute_result"
    },
    {
     "data": {
      "image/png": "[encoded data removed]",
      "text/plain": [
       "<Figure size 432x288 with 1 Axes>"
      ]
     },
     "metadata": {},
     "output_type": "display_data"
    }
   ],
   "source": [
    "plt.scatter(X_train.loc[:,'Status_dum'],(y_train - ridge.predict(X_train)))\n"
   ]
  },
  {
   "cell_type": "markdown",
   "metadata": {},
   "source": [
    "The residuals appear approximately constant as a function duration of the claim."
   ]
  },
  {
   "cell_type": "code",
   "execution_count": 43,
   "metadata": {},
   "outputs": [
    {
     "data": {
      "text/plain": [
       "<matplotlib.collections.PathCollection at 0x7fd65f0eefd0>"
      ]
     },
     "execution_count": 43,
     "metadata": {},
     "output_type": "execute_result"
    },
    {
     "data": {
      "image/png": "[encoded data removed]",
      "text/plain": [
       "<Figure size 432x288 with 1 Axes>"
      ]
     },
     "metadata": {},
     "output_type": "display_data"
    }
   ],
   "source": [
    "plt.scatter(X_train.loc[:,'logClaimDays'],(y_train - ridge.predict(X_train)))\n"
   ]
  },
  {
   "cell_type": "markdown",
   "metadata": {},
   "source": [
    "We don't see any significant bias of the residuals with respect to the number of procedures on the claim, but clearly observe the variation of the residuals decreases with an increasing number of procedures."
   ]
  },
  {
   "cell_type": "code",
   "execution_count": 44,
   "metadata": {},
   "outputs": [
    {
     "data": {
      "text/plain": [
       "<matplotlib.collections.PathCollection at 0x7fd65fb23a10>"
      ]
     },
     "execution_count": 44,
     "metadata": {},
     "output_type": "execute_result"
    },
    {
     "data": {
      "image/png": "[encoded data removed]",
      "text/plain": [
       "<Figure size 432x288 with 1 Axes>"
      ]
     },
     "metadata": {},
     "output_type": "display_data"
    }
   ],
   "source": [
    "plt.scatter(X_train.loc[:,'NumProc'],(y_train - ridge.predict(X_train)))\n"
   ]
  },
  {
   "cell_type": "markdown",
   "metadata": {},
   "source": [
    "Much like the patient's in-patient annual deductible limit, the residuals with respect to the out-patient annual deductible limit appear unbiased and the variance is roughly constant."
   ]
  },
  {
   "cell_type": "code",
   "execution_count": 45,
   "metadata": {},
   "outputs": [
    {
     "data": {
      "text/plain": [
       "<matplotlib.collections.PathCollection at 0x7fd660441410>"
      ]
     },
     "execution_count": 45,
     "metadata": {},
     "output_type": "execute_result"
    },
    {
     "data": {
      "image/png": "[encoded data removed]",
      "text/plain": [
       "<Figure size 432x288 with 1 Axes>"
      ]
     },
     "metadata": {},
     "output_type": "display_data"
    }
   ],
   "source": [
    "plt.scatter(X_train.loc[:,'logOPAnnualDeductibleAmt'],(y_train - ridge.predict(X_train)))"
   ]
  },
  {
   "cell_type": "markdown",
   "metadata": {},
   "source": [
    "The residuals with respect to the number of diagnostic codes on the claim appear unbiased, and rougly constant across the range."
   ]
  },
  {
   "cell_type": "code",
   "execution_count": 95,
   "metadata": {},
   "outputs": [
    {
     "data": {
      "text/plain": [
       "<matplotlib.collections.PathCollection at 0x7fc0ccff0390>"
      ]
     },
     "execution_count": 95,
     "metadata": {},
     "output_type": "execute_result"
    },
    {
     "data": {
      "image/png": "[encoded data removed]",
      "text/plain": [
       "<Figure size 432x288 with 1 Axes>"
      ]
     },
     "metadata": {},
     "output_type": "display_data"
    }
   ],
   "source": [
    "plt.scatter(X_train.loc[:,'NumDiag'],(y_train - ridge.predict(X_train)))\n"
   ]
  },
  {
   "cell_type": "markdown",
   "metadata": {},
   "source": [
    "The model residuals as a function of the patient's number of chronic illnesses appear unbiased but the variance may decrease with an increasing number of chronic illnesses."
   ]
  },
  {
   "cell_type": "code",
   "execution_count": 96,
   "metadata": {},
   "outputs": [
    {
     "data": {
      "text/plain": [
       "<matplotlib.collections.PathCollection at 0x7fc0737c5e10>"
      ]
     },
     "execution_count": 96,
     "metadata": {},
     "output_type": "execute_result"
    },
    {
     "data": {
      "image/png": "[encoded data removed]",
      "text/plain": [
       "<Figure size 432x288 with 1 Axes>"
      ]
     },
     "metadata": {},
     "output_type": "display_data"
    }
   ],
   "source": [
    "plt.scatter(X_train.loc[:,'NumChronics'],(y_train - ridge.predict(X_train)))\n"
   ]
  },
  {
   "cell_type": "markdown",
   "metadata": {},
   "source": [
    "We now read in the entire data file since we had to remove records with negative and zero reimbursement values."
   ]
  },
  {
   "cell_type": "code",
   "execution_count": 46,
   "metadata": {},
   "outputs": [
    {
     "name": "stderr",
     "output_type": "stream",
     "text": [
      "/Users/doug/opt/anaconda3/lib/python3.7/site-packages/IPython/core/interactiveshell.py:3063: DtypeWarning: Columns (10,13,14,24) have mixed types.Specify dtype option on import or set low_memory=False.\n",
      "  interactivity=interactivity, compiler=compiler, result=result)\n"
     ]
    },
    {
     "data": {
      "text/plain": [
       "(558211, 62)"
      ]
     },
     "execution_count": 46,
     "metadata": {},
     "output_type": "execute_result"
    }
   ],
   "source": [
    "claim_data_full = pd.read_csv('combinedData.csv')\n",
    "claim_data_full = claim_data_full[claim_data_full['Set']=='Train']\n",
    "claim_data_full = claim_data_full.drop(columns=['Set','Unnamed: 0'])\n",
    "claim_data_full.shape"
   ]
  },
  {
   "cell_type": "markdown",
   "metadata": {},
   "source": [
    "We now recreate the same features in order to be able to use the model to calculate residuals between the predicted claim reimbursement amounts and the actual reimbursement amount."
   ]
  },
  {
   "cell_type": "code",
   "execution_count": 47,
   "metadata": {},
   "outputs": [
    {
     "name": "stderr",
     "output_type": "stream",
     "text": [
      "/Users/doug/opt/anaconda3/lib/python3.7/site-packages/pandas/core/series.py:679: RuntimeWarning: divide by zero encountered in log\n",
      "  result = getattr(ufunc, method)(*inputs, **kwargs)\n",
      "/Users/doug/opt/anaconda3/lib/python3.7/site-packages/pandas/core/series.py:679: RuntimeWarning: invalid value encountered in log\n",
      "  result = getattr(ufunc, method)(*inputs, **kwargs)\n"
     ]
    }
   ],
   "source": [
    "claim_data_full = claim_data_full.fillna(0)\n",
    "import numpy as np\n",
    "claim_data_full['logReimbursedAmount'] =np.log(claim_data_full['InscClaimAmtReimbursed'])\n",
    "claim_data_full['logOPAnnualReimbursement'] = np.log(claim_data_full['OPAnnualReimbursementAmt']+0.1)\n",
    "claim_data_full['logIPAnnualReimbursement'] = np.log(claim_data_full['IPAnnualReimbursementAmt']+0.1)\n",
    "claim_data_full['logOPAnnualDeductibleAmt'] = np.log(claim_data_full['OPAnnualDeductibleAmt']+0.1)\n",
    "claim_data_full['logIPAnnualDeductibleAmt'] = np.log(claim_data_full['IPAnnualDeductibleAmt']+0.1)\n",
    "claim_data_full['logClaimDays'] = np.log(claim_data_full['ClaimDays']+0.1)\n",
    "claim_data_full['Status_dum'] = [0 if x=='out' else 1 for x in claim_data_full['Status']]\n",
    "columns_to_keep = ['Provider','Status_dum', 'NoOfMonths_PartACov',\n",
    "       'NoOfMonths_PartBCov','logIPAnnualReimbursement', 'logIPAnnualDeductibleAmt',\n",
    "       'logOPAnnualReimbursement', 'logOPAnnualDeductibleAmt', 'WhetherDead',\n",
    "       'NumChronics', 'NumProc', 'NumDiag','logClaimDays','Age']\n",
    "claim_data_full_reduce = claim_data_full[columns_to_keep]"
   ]
  },
  {
   "cell_type": "code",
   "execution_count": 48,
   "metadata": {},
   "outputs": [
    {
     "data": {
      "text/plain": [
       "(558211, 14)"
      ]
     },
     "execution_count": 48,
     "metadata": {},
     "output_type": "execute_result"
    }
   ],
   "source": [
    "claim_data_full_reduce.shape"
   ]
  },
  {
   "cell_type": "markdown",
   "metadata": {},
   "source": [
    "We scale the feature matrix in order to be able to use the model we generated."
   ]
  },
  {
   "cell_type": "code",
   "execution_count": 49,
   "metadata": {},
   "outputs": [
    {
     "data": {
      "text/plain": [
       "(558211, 13)"
      ]
     },
     "execution_count": 49,
     "metadata": {},
     "output_type": "execute_result"
    }
   ],
   "source": [
    "claim_data_full_reduce.iloc[:,1:]\n",
    "X_scaled_full = (claim_data_full_reduce.iloc[:,1:]-claim_data_full_reduce.iloc[:,1:].min(axis=0))/(claim_data_full_reduce.iloc[:,1:].max(axis=0)-claim_data_full_reduce.iloc[:,1:].min(axis=0))\n",
    "X_scaled_full.shape"
   ]
  },
  {
   "cell_type": "markdown",
   "metadata": {},
   "source": [
    "We now concatenate the columns to be able to calculate the average residuals by provider."
   ]
  },
  {
   "cell_type": "code",
   "execution_count": 113,
   "metadata": {},
   "outputs": [
    {
     "data": {
      "text/plain": [
       "(558211, 2)"
      ]
     },
     "execution_count": 113,
     "metadata": {},
     "output_type": "execute_result"
    }
   ],
   "source": [
    "claim_data_full_reduce = claim_data_full_reduce.fillna(0)\n",
    "X_scaled_full = X_scaled_full.fillna(0)\n",
    "provid_resid = pd.concat([claim_data_full_reduce['Provider'],(np.log(claim_data_full['InscClaimAmtReimbursed']+0.1)\\\n",
    "            -ridge.predict(X_scaled_full))],axis=1)\n",
    "provid_resid.shape"
   ]
  },
  {
   "cell_type": "code",
   "execution_count": 44,
   "metadata": {},
   "outputs": [
    {
     "data": {
      "text/plain": [
       "Index(['Status_dum', 'NoOfMonths_PartACov', 'NoOfMonths_PartBCov',\n",
       "       'logIPAnnualReimbursement', 'logIPAnnualDeductibleAmt',\n",
       "       'logOPAnnualReimbursement', 'logOPAnnualDeductibleAmt', 'WhetherDead',\n",
       "       'NumChronics', 'NumProc', 'NumDiag', 'logClaimDays', 'Age'],\n",
       "      dtype='object')"
      ]
     },
     "execution_count": 44,
     "metadata": {},
     "output_type": "execute_result"
    }
   ],
   "source": [
    "X_scaled_full.columns"
   ]
  },
  {
   "cell_type": "code",
   "execution_count": 66,
   "metadata": {},
   "outputs": [
    {
     "data": {
      "text/plain": [
       "Index(['BeneID', 'ClaimID', 'ClaimStartDt', 'ClaimEndDt', 'Provider',\n",
       "       'InscClaimAmtReimbursed', 'AttendingPhysician', 'OperatingPhysician',\n",
       "       'OtherPhysician', 'AdmissionDt', 'ClmAdmitDiagnosisCode',\n",
       "       'DeductibleAmtPaid', 'DischargeDt', 'DiagnosisGroupCode',\n",
       "       'ClmDiagnosisCode_1', 'ClmDiagnosisCode_2', 'ClmDiagnosisCode_3',\n",
       "       'ClmDiagnosisCode_4', 'ClmDiagnosisCode_5', 'ClmDiagnosisCode_6',\n",
       "       'ClmDiagnosisCode_7', 'ClmDiagnosisCode_8', 'ClmDiagnosisCode_9',\n",
       "       'ClmDiagnosisCode_10', 'ClmProcedureCode_1', 'ClmProcedureCode_2',\n",
       "       'ClmProcedureCode_3', 'ClmProcedureCode_4', 'ClmProcedureCode_5',\n",
       "       'ClmProcedureCode_6', 'Status', 'DOB', 'DOD', 'Gender', 'Race',\n",
       "       'RenalDiseaseIndicator', 'State', 'County', 'NoOfMonths_PartACov',\n",
       "       'NoOfMonths_PartBCov', 'Alzheimer', 'HeartFailure', 'KidneyDisease',\n",
       "       'Cancer', 'ObstrPulmonary', 'Depression', 'Diabetes', 'IschemicHeart',\n",
       "       'Osteoporasis', 'RheumatoidArthritis', 'Stroke',\n",
       "       'IPAnnualReimbursementAmt', 'IPAnnualDeductibleAmt',\n",
       "       'OPAnnualReimbursementAmt', 'OPAnnualDeductibleAmt', 'WhetherDead',\n",
       "       'NumChronics', 'NumProc', 'NumDiag', 'AdmissionDays', 'ClaimDays',\n",
       "       'Age', 'logReimbursedAmount', 'logOPAnnualReimbursement',\n",
       "       'logIPAnnualReimbursement', 'logOPAnnualDeductibleAmt',\n",
       "       'logIPAnnualDeductibleAmt', 'logClaimDays', 'Status_dum'],\n",
       "      dtype='object')"
      ]
     },
     "execution_count": 66,
     "metadata": {},
     "output_type": "execute_result"
    }
   ],
   "source": [
    "claim_data_full.columns"
   ]
  },
  {
   "cell_type": "markdown",
   "metadata": {},
   "source": [
    "We calculate the dollars of reimbursement per day of claim duration."
   ]
  },
  {
   "cell_type": "code",
   "execution_count": 50,
   "metadata": {},
   "outputs": [
    {
     "data": {
      "text/plain": [
       "0         3714.285714\n",
       "1         1666.666667\n",
       "2         1250.000000\n",
       "3          555.555556\n",
       "4           50.000000\n",
       "             ...     \n",
       "577933     800.000000\n",
       "577934     400.000000\n",
       "577935      60.000000\n",
       "577936      70.000000\n",
       "577937      40.000000\n",
       "Name: $PerClaimDay, Length: 558211, dtype: float64"
      ]
     },
     "execution_count": 50,
     "metadata": {},
     "output_type": "execute_result"
    }
   ],
   "source": [
    "claim_data_full['$PerClaimDay']=claim_data_full['InscClaimAmtReimbursed']/claim_data_full['ClaimDays']\n",
    "claim_data_full['$PerClaimDay']"
   ]
  },
  {
   "cell_type": "markdown",
   "metadata": {},
   "source": [
    "We create a dataframe with the sums and means of several quantities by provider that we will use in the models for fraud prediction."
   ]
  },
  {
   "cell_type": "code",
   "execution_count": 110,
   "metadata": {},
   "outputs": [
    {
     "data": {
      "text/html": [
       "<div>\n",
       "<style scoped>\n",
       "    .dataframe tbody tr th:only-of-type {\n",
       "        vertical-align: middle;\n",
       "    }\n",
       "\n",
       "    .dataframe tbody tr th {\n",
       "        vertical-align: top;\n",
       "    }\n",
       "\n",
       "    .dataframe thead th {\n",
       "        text-align: right;\n",
       "    }\n",
       "</style>\n",
       "<table border=\"1\" class=\"dataframe\">\n",
       "  <thead>\n",
       "    <tr style=\"text-align: right;\">\n",
       "      <th></th>\n",
       "      <th>Provider</th>\n",
       "      <th>logOPAnnualReimbursement</th>\n",
       "      <th>logIPAnnualReimbursement</th>\n",
       "      <th>$PerClaimDay</th>\n",
       "      <th>InscClaimAmtReimbursed</th>\n",
       "    </tr>\n",
       "  </thead>\n",
       "  <tbody>\n",
       "    <tr>\n",
       "      <th>0</th>\n",
       "      <td>PRV51001</td>\n",
       "      <td>6.894855</td>\n",
       "      <td>2.970165</td>\n",
       "      <td>985.600000</td>\n",
       "      <td>104640</td>\n",
       "    </tr>\n",
       "    <tr>\n",
       "      <th>1</th>\n",
       "      <td>PRV51003</td>\n",
       "      <td>6.519020</td>\n",
       "      <td>4.485369</td>\n",
       "      <td>1181.826449</td>\n",
       "      <td>605670</td>\n",
       "    </tr>\n",
       "    <tr>\n",
       "      <th>2</th>\n",
       "      <td>PRV51004</td>\n",
       "      <td>6.895270</td>\n",
       "      <td>0.748651</td>\n",
       "      <td>248.629269</td>\n",
       "      <td>52170</td>\n",
       "    </tr>\n",
       "    <tr>\n",
       "      <th>3</th>\n",
       "      <td>PRV51005</td>\n",
       "      <td>6.971830</td>\n",
       "      <td>0.754432</td>\n",
       "      <td>193.738586</td>\n",
       "      <td>280910</td>\n",
       "    </tr>\n",
       "    <tr>\n",
       "      <th>4</th>\n",
       "      <td>PRV51007</td>\n",
       "      <td>6.869414</td>\n",
       "      <td>1.024623</td>\n",
       "      <td>235.555556</td>\n",
       "      <td>33710</td>\n",
       "    </tr>\n",
       "    <tr>\n",
       "      <th>...</th>\n",
       "      <td>...</td>\n",
       "      <td>...</td>\n",
       "      <td>...</td>\n",
       "      <td>...</td>\n",
       "      <td>...</td>\n",
       "    </tr>\n",
       "    <tr>\n",
       "      <th>5405</th>\n",
       "      <td>PRV57759</td>\n",
       "      <td>7.309457</td>\n",
       "      <td>0.616799</td>\n",
       "      <td>195.986395</td>\n",
       "      <td>10640</td>\n",
       "    </tr>\n",
       "    <tr>\n",
       "      <th>5406</th>\n",
       "      <td>PRV57760</td>\n",
       "      <td>6.942612</td>\n",
       "      <td>2.244123</td>\n",
       "      <td>216.022727</td>\n",
       "      <td>4770</td>\n",
       "    </tr>\n",
       "    <tr>\n",
       "      <th>5407</th>\n",
       "      <td>PRV57761</td>\n",
       "      <td>7.138863</td>\n",
       "      <td>1.623980</td>\n",
       "      <td>153.191585</td>\n",
       "      <td>18470</td>\n",
       "    </tr>\n",
       "    <tr>\n",
       "      <th>5408</th>\n",
       "      <td>PRV57762</td>\n",
       "      <td>7.839959</td>\n",
       "      <td>9.615812</td>\n",
       "      <td>1900.000000</td>\n",
       "      <td>1900</td>\n",
       "    </tr>\n",
       "    <tr>\n",
       "      <th>5409</th>\n",
       "      <td>PRV57763</td>\n",
       "      <td>7.212592</td>\n",
       "      <td>0.572898</td>\n",
       "      <td>272.926678</td>\n",
       "      <td>43610</td>\n",
       "    </tr>\n",
       "  </tbody>\n",
       "</table>\n",
       "<p>5410 rows × 5 columns</p>\n",
       "</div>"
      ],
      "text/plain": [
       "      Provider  logOPAnnualReimbursement  logIPAnnualReimbursement  \\\n",
       "0     PRV51001                  6.894855                  2.970165   \n",
       "1     PRV51003                  6.519020                  4.485369   \n",
       "2     PRV51004                  6.895270                  0.748651   \n",
       "3     PRV51005                  6.971830                  0.754432   \n",
       "4     PRV51007                  6.869414                  1.024623   \n",
       "...        ...                       ...                       ...   \n",
       "5405  PRV57759                  7.309457                  0.616799   \n",
       "5406  PRV57760                  6.942612                  2.244123   \n",
       "5407  PRV57761                  7.138863                  1.623980   \n",
       "5408  PRV57762                  7.839959                  9.615812   \n",
       "5409  PRV57763                  7.212592                  0.572898   \n",
       "\n",
       "      $PerClaimDay  InscClaimAmtReimbursed  \n",
       "0       985.600000                  104640  \n",
       "1      1181.826449                  605670  \n",
       "2       248.629269                   52170  \n",
       "3       193.738586                  280910  \n",
       "4       235.555556                   33710  \n",
       "...            ...                     ...  \n",
       "5405    195.986395                   10640  \n",
       "5406    216.022727                    4770  \n",
       "5407    153.191585                   18470  \n",
       "5408   1900.000000                    1900  \n",
       "5409    272.926678                   43610  \n",
       "\n",
       "[5410 rows x 5 columns]"
      ]
     },
     "execution_count": 110,
     "metadata": {},
     "output_type": "execute_result"
    }
   ],
   "source": [
    "AnnReimburse = claim_data_full.groupby('Provider').agg({'logOPAnnualReimbursement':'mean',\\\n",
    "                'logIPAnnualReimbursement':'mean','$PerClaimDay':'mean','InscClaimAmtReimbursed':'sum'})\n",
    "AnnReimburse = AnnReimburse.reset_index()\n",
    "AnnReimburse"
   ]
  },
  {
   "cell_type": "markdown",
   "metadata": {},
   "source": [
    "We create the dataframe with the mean claim reimbursement residual by provider."
   ]
  },
  {
   "cell_type": "code",
   "execution_count": 121,
   "metadata": {},
   "outputs": [
    {
     "data": {
      "text/html": [
       "<div>\n",
       "<style scoped>\n",
       "    .dataframe tbody tr th:only-of-type {\n",
       "        vertical-align: middle;\n",
       "    }\n",
       "\n",
       "    .dataframe tbody tr th {\n",
       "        vertical-align: top;\n",
       "    }\n",
       "\n",
       "    .dataframe thead th {\n",
       "        text-align: right;\n",
       "    }\n",
       "</style>\n",
       "<table border=\"1\" class=\"dataframe\">\n",
       "  <thead>\n",
       "    <tr style=\"text-align: right;\">\n",
       "      <th></th>\n",
       "      <th>Provider</th>\n",
       "      <th>MeanResidualReimbursement</th>\n",
       "    </tr>\n",
       "  </thead>\n",
       "  <tbody>\n",
       "    <tr>\n",
       "      <th>0</th>\n",
       "      <td>PRV51001</td>\n",
       "      <td>0.648988</td>\n",
       "    </tr>\n",
       "    <tr>\n",
       "      <th>1</th>\n",
       "      <td>PRV51003</td>\n",
       "      <td>-0.233742</td>\n",
       "    </tr>\n",
       "    <tr>\n",
       "      <th>2</th>\n",
       "      <td>PRV51004</td>\n",
       "      <td>-0.221281</td>\n",
       "    </tr>\n",
       "    <tr>\n",
       "      <th>3</th>\n",
       "      <td>PRV51005</td>\n",
       "      <td>-0.299886</td>\n",
       "    </tr>\n",
       "    <tr>\n",
       "      <th>4</th>\n",
       "      <td>PRV51007</td>\n",
       "      <td>-0.192456</td>\n",
       "    </tr>\n",
       "    <tr>\n",
       "      <th>...</th>\n",
       "      <td>...</td>\n",
       "      <td>...</td>\n",
       "    </tr>\n",
       "    <tr>\n",
       "      <th>5405</th>\n",
       "      <td>PRV57759</td>\n",
       "      <td>-0.246039</td>\n",
       "    </tr>\n",
       "    <tr>\n",
       "      <th>5406</th>\n",
       "      <td>PRV57760</td>\n",
       "      <td>0.196036</td>\n",
       "    </tr>\n",
       "    <tr>\n",
       "      <th>5407</th>\n",
       "      <td>PRV57761</td>\n",
       "      <td>-0.878348</td>\n",
       "    </tr>\n",
       "    <tr>\n",
       "      <th>5408</th>\n",
       "      <td>PRV57762</td>\n",
       "      <td>2.816773</td>\n",
       "    </tr>\n",
       "    <tr>\n",
       "      <th>5409</th>\n",
       "      <td>PRV57763</td>\n",
       "      <td>0.086153</td>\n",
       "    </tr>\n",
       "  </tbody>\n",
       "</table>\n",
       "<p>5410 rows × 2 columns</p>\n",
       "</div>"
      ],
      "text/plain": [
       "      Provider  MeanResidualReimbursement\n",
       "0     PRV51001                   0.648988\n",
       "1     PRV51003                  -0.233742\n",
       "2     PRV51004                  -0.221281\n",
       "3     PRV51005                  -0.299886\n",
       "4     PRV51007                  -0.192456\n",
       "...        ...                        ...\n",
       "5405  PRV57759                  -0.246039\n",
       "5406  PRV57760                   0.196036\n",
       "5407  PRV57761                  -0.878348\n",
       "5408  PRV57762                   2.816773\n",
       "5409  PRV57763                   0.086153\n",
       "\n",
       "[5410 rows x 2 columns]"
      ]
     },
     "execution_count": 121,
     "metadata": {},
     "output_type": "execute_result"
    }
   ],
   "source": [
    "provider_groups = provid_resid.groupby('Provider').mean()\n",
    "provider_groups = provider_groups.reset_index()\n",
    "provider_groups.columns=['Provider','MeanResidualReimbursement']\n",
    "provider_groups"
   ]
  },
  {
   "cell_type": "markdown",
   "metadata": {},
   "source": [
    "We merge the dataframes for ease of handling."
   ]
  },
  {
   "cell_type": "code",
   "execution_count": 122,
   "metadata": {},
   "outputs": [
    {
     "data": {
      "text/html": [
       "<div>\n",
       "<style scoped>\n",
       "    .dataframe tbody tr th:only-of-type {\n",
       "        vertical-align: middle;\n",
       "    }\n",
       "\n",
       "    .dataframe tbody tr th {\n",
       "        vertical-align: top;\n",
       "    }\n",
       "\n",
       "    .dataframe thead th {\n",
       "        text-align: right;\n",
       "    }\n",
       "</style>\n",
       "<table border=\"1\" class=\"dataframe\">\n",
       "  <thead>\n",
       "    <tr style=\"text-align: right;\">\n",
       "      <th></th>\n",
       "      <th>Provider</th>\n",
       "      <th>MeanResidualReimbursement</th>\n",
       "      <th>logOPAnnualReimbursement</th>\n",
       "      <th>logIPAnnualReimbursement</th>\n",
       "      <th>$PerClaimDay</th>\n",
       "      <th>InscClaimAmtReimbursed</th>\n",
       "    </tr>\n",
       "  </thead>\n",
       "  <tbody>\n",
       "    <tr>\n",
       "      <th>0</th>\n",
       "      <td>PRV51001</td>\n",
       "      <td>0.648988</td>\n",
       "      <td>6.894855</td>\n",
       "      <td>2.970165</td>\n",
       "      <td>985.600000</td>\n",
       "      <td>104640</td>\n",
       "    </tr>\n",
       "    <tr>\n",
       "      <th>1</th>\n",
       "      <td>PRV51003</td>\n",
       "      <td>-0.233742</td>\n",
       "      <td>6.519020</td>\n",
       "      <td>4.485369</td>\n",
       "      <td>1181.826449</td>\n",
       "      <td>605670</td>\n",
       "    </tr>\n",
       "    <tr>\n",
       "      <th>2</th>\n",
       "      <td>PRV51004</td>\n",
       "      <td>-0.221281</td>\n",
       "      <td>6.895270</td>\n",
       "      <td>0.748651</td>\n",
       "      <td>248.629269</td>\n",
       "      <td>52170</td>\n",
       "    </tr>\n",
       "    <tr>\n",
       "      <th>3</th>\n",
       "      <td>PRV51005</td>\n",
       "      <td>-0.299886</td>\n",
       "      <td>6.971830</td>\n",
       "      <td>0.754432</td>\n",
       "      <td>193.738586</td>\n",
       "      <td>280910</td>\n",
       "    </tr>\n",
       "    <tr>\n",
       "      <th>4</th>\n",
       "      <td>PRV51007</td>\n",
       "      <td>-0.192456</td>\n",
       "      <td>6.869414</td>\n",
       "      <td>1.024623</td>\n",
       "      <td>235.555556</td>\n",
       "      <td>33710</td>\n",
       "    </tr>\n",
       "    <tr>\n",
       "      <th>...</th>\n",
       "      <td>...</td>\n",
       "      <td>...</td>\n",
       "      <td>...</td>\n",
       "      <td>...</td>\n",
       "      <td>...</td>\n",
       "      <td>...</td>\n",
       "    </tr>\n",
       "    <tr>\n",
       "      <th>5405</th>\n",
       "      <td>PRV57759</td>\n",
       "      <td>-0.246039</td>\n",
       "      <td>7.309457</td>\n",
       "      <td>0.616799</td>\n",
       "      <td>195.986395</td>\n",
       "      <td>10640</td>\n",
       "    </tr>\n",
       "    <tr>\n",
       "      <th>5406</th>\n",
       "      <td>PRV57760</td>\n",
       "      <td>0.196036</td>\n",
       "      <td>6.942612</td>\n",
       "      <td>2.244123</td>\n",
       "      <td>216.022727</td>\n",
       "      <td>4770</td>\n",
       "    </tr>\n",
       "    <tr>\n",
       "      <th>5407</th>\n",
       "      <td>PRV57761</td>\n",
       "      <td>-0.878348</td>\n",
       "      <td>7.138863</td>\n",
       "      <td>1.623980</td>\n",
       "      <td>153.191585</td>\n",
       "      <td>18470</td>\n",
       "    </tr>\n",
       "    <tr>\n",
       "      <th>5408</th>\n",
       "      <td>PRV57762</td>\n",
       "      <td>2.816773</td>\n",
       "      <td>7.839959</td>\n",
       "      <td>9.615812</td>\n",
       "      <td>1900.000000</td>\n",
       "      <td>1900</td>\n",
       "    </tr>\n",
       "    <tr>\n",
       "      <th>5409</th>\n",
       "      <td>PRV57763</td>\n",
       "      <td>0.086153</td>\n",
       "      <td>7.212592</td>\n",
       "      <td>0.572898</td>\n",
       "      <td>272.926678</td>\n",
       "      <td>43610</td>\n",
       "    </tr>\n",
       "  </tbody>\n",
       "</table>\n",
       "<p>5410 rows × 6 columns</p>\n",
       "</div>"
      ],
      "text/plain": [
       "      Provider  MeanResidualReimbursement  logOPAnnualReimbursement  \\\n",
       "0     PRV51001                   0.648988                  6.894855   \n",
       "1     PRV51003                  -0.233742                  6.519020   \n",
       "2     PRV51004                  -0.221281                  6.895270   \n",
       "3     PRV51005                  -0.299886                  6.971830   \n",
       "4     PRV51007                  -0.192456                  6.869414   \n",
       "...        ...                        ...                       ...   \n",
       "5405  PRV57759                  -0.246039                  7.309457   \n",
       "5406  PRV57760                   0.196036                  6.942612   \n",
       "5407  PRV57761                  -0.878348                  7.138863   \n",
       "5408  PRV57762                   2.816773                  7.839959   \n",
       "5409  PRV57763                   0.086153                  7.212592   \n",
       "\n",
       "      logIPAnnualReimbursement  $PerClaimDay  InscClaimAmtReimbursed  \n",
       "0                     2.970165    985.600000                  104640  \n",
       "1                     4.485369   1181.826449                  605670  \n",
       "2                     0.748651    248.629269                   52170  \n",
       "3                     0.754432    193.738586                  280910  \n",
       "4                     1.024623    235.555556                   33710  \n",
       "...                        ...           ...                     ...  \n",
       "5405                  0.616799    195.986395                   10640  \n",
       "5406                  2.244123    216.022727                    4770  \n",
       "5407                  1.623980    153.191585                   18470  \n",
       "5408                  9.615812   1900.000000                    1900  \n",
       "5409                  0.572898    272.926678                   43610  \n",
       "\n",
       "[5410 rows x 6 columns]"
      ]
     },
     "execution_count": 122,
     "metadata": {},
     "output_type": "execute_result"
    }
   ],
   "source": [
    "provider_groups = pd.merge(provider_groups,AnnReimburse,on='Provider')\n",
    "provider_groups"
   ]
  },
  {
   "cell_type": "markdown",
   "metadata": {},
   "source": [
    "We write the dataframe to a csv file in order to read it into the notebooks for the models."
   ]
  },
  {
   "cell_type": "code",
   "execution_count": 123,
   "metadata": {},
   "outputs": [],
   "source": [
    "provider_groups.to_csv('provider_groups_residual.csv')"
   ]
  },
  {
   "cell_type": "code",
   "execution_count": null,
   "metadata": {},
   "outputs": [],
   "source": []
  }
 ],
 "metadata": {
  "kernelspec": {
   "display_name": "Python 3",
   "language": "python",
   "name": "python3"
  },
  "language_info": {
   "codemirror_mode": {
    "name": "ipython",
    "version": 3
   },
   "file_extension": ".py",
   "mimetype": "text/x-python",
   "name": "python",
   "nbconvert_exporter": "python",
   "pygments_lexer": "ipython3",
   "version": "3.7.6"
  }
 },
 "nbformat": 4,
 "nbformat_minor": 4
}
