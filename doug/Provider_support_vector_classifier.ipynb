{
 "cells": [
  {
   "cell_type": "markdown",
   "metadata": {},
   "source": [
    "# Support Vector Classifier for Healthcare Fraud Detection\n",
    "### Deborah Leong, Sam Nuzbrokh and Doug Devens\n",
    "\n",
    "Import pandas and numpy packages to be able to transform and manipulation data."
   ]
  },
  {
   "cell_type": "code",
   "execution_count": 2,
   "metadata": {},
   "outputs": [],
   "source": [
    "import numpy as np\n",
    "import pandas as pd"
   ]
  },
  {
   "cell_type": "markdown",
   "metadata": {},
   "source": [
    "Read in modified feature file from post_providerinout_mods.py, with a large number of features."
   ]
  },
  {
   "cell_type": "code",
   "execution_count": 3,
   "metadata": {},
   "outputs": [
    {
     "data": {
      "text/plain": [
       "Index(['Unnamed: 0', 'Age_in', 'Age_out', 'AttendingPhysician_in',\n",
       "       'AttendingPhysician_out', 'ClaimDays_in', 'ClaimDays_out',\n",
       "       'DeductibleAmtPaid_in', 'DeductibleAmtPaid_out', 'Gender_in',\n",
       "       'Gender_out', 'InscClaimAmtReimbursed_in', 'InscClaimAmtReimbursed_out',\n",
       "       'NumChronics_in', 'NumChronics_out', 'NumDiag_in', 'NumDiag_out',\n",
       "       'NumProc_in', 'NumProc_out', 'State_in', 'State_out', 'WhetherDead_in',\n",
       "       'WhetherDead_out', 'ClaimDays_in_Range', 'ClaimDays_out_Range',\n",
       "       'InscClaimAmtReimbursed_in_Range', 'InscClaimAmtReimbursed_out_Range',\n",
       "       'NumChronics_in_Range', 'NumChronics_out_Range', 'NumDiag_in_Range',\n",
       "       'NumDiag_out_Range', 'NumProc_in_Range', 'NumProc_out_Range',\n",
       "       'Provider', 'PotentialFraud', 'docDegMax', 'docBtwnMean', 'docEignMean',\n",
       "       'docMANN', 'patDegMax', 'patBtwnMean', 'patEignMean', 'patMANN',\n",
       "       'ClmsPerPhysician_in', 'ClmsPerPhysician_out', 'ClmsPerPatient_in',\n",
       "       'ClmsPerPatient_out', 'DrPerPatient_in', 'DrPerPatient_out',\n",
       "       'LogPatients_in', 'LogPatients_out', 'LogClaims_in', 'LogClaims_out',\n",
       "       'LogOpPhys_in', 'LogOpPhys_out', 'LogOtherPhys_in', 'LogOtherPhys_out',\n",
       "       'AgeRange_otpt', 'cardiology_otpt', 'urology_otpt',\n",
       "       'endocrinology_otpt', 'emergency_otpt', 'general_otpt',\n",
       "       'infectious_otpt', 'oncology_otpt', 'hematology_otpt',\n",
       "       'psychiatry_otpt', 'neurology_otpt', 'pulmonology_otpt',\n",
       "       'gastroenterology_otpt', 'ob-gyn_otpt', 'dermatology_otpt',\n",
       "       'orthopedics_otpt', 'congenital_otpt', 'neonatology_otpt',\n",
       "       'AgeRange_inpt', 'cardiology_inpt', 'urology_inpt',\n",
       "       'endocrinology_inpt', 'emergency_inpt', 'general_inpt',\n",
       "       'infectious_inpt', 'oncology_inpt', 'hematology_inpt',\n",
       "       'psychiatry_inpt', 'neurology_inpt', 'pulmonology_inpt',\n",
       "       'gastroenterology_inpt', 'ob-gyn_inpt', 'dermatology_inpt',\n",
       "       'orthopedics_inpt', 'congenital_inpt', 'neonatology_inpt'],\n",
       "      dtype='object')"
      ]
     },
     "execution_count": 3,
     "metadata": {},
     "output_type": "execute_result"
    }
   ],
   "source": [
    "x_train_inout_mod = pd.read_csv('x_train_inout_mod.csv')\n",
    "x_train_inout_mod.columns"
   ]
  },
  {
   "cell_type": "markdown",
   "metadata": {},
   "source": [
    "Remove junk columns created during read in.  Set 'potential fraud' as target (already converted to 1s and 0s.) Scale the input variables and ensure there are no NAs.  Split into test and train sets."
   ]
  },
  {
   "cell_type": "code",
   "execution_count": 4,
   "metadata": {},
   "outputs": [],
   "source": [
    "from sklearn import model_selection as ms\n",
    "x_train_inout_mod = x_train_inout_mod.drop(columns = 'Unnamed: 0')\n",
    "y = x_train_inout_mod['PotentialFraud']\n",
    "X = x_train_inout_mod.drop(columns = ['Provider', 'PotentialFraud'])\n",
    "X_scaled = (X-X.min(axis=0))/(X.max(axis=0)-X.min(axis=0))\n",
    "X_scaled=X_scaled.fillna(0)\n",
    "from sklearn import model_selection as ms\n",
    "X_train, X_test, y_train, y_test = ms.train_test_split(X_scaled, y, test_size=0.20, random_state=42)"
   ]
  },
  {
   "cell_type": "markdown",
   "metadata": {},
   "source": [
    "Import packages, including classification report and confusion matrix to be able to assess model classification performance."
   ]
  },
  {
   "cell_type": "code",
   "execution_count": 5,
   "metadata": {},
   "outputs": [],
   "source": [
    "from sklearn import ensemble\n",
    "from sklearn.metrics import classification_report\n",
    "from sklearn.metrics import confusion_matrix\n"
   ]
  },
  {
   "cell_type": "markdown",
   "metadata": {},
   "source": [
    "Import Support Vector Machine, and set up dictionary of values to examine for kernals, scales and penalty parameter.  Set class weight in model parameters as balanced since the classification is so imbalanced (90/10)"
   ]
  },
  {
   "cell_type": "code",
   "execution_count": 18,
   "metadata": {},
   "outputs": [],
   "source": [
    "from sklearn import svm\n",
    "svm_model = svm.SVC(class_weight='balanced')"
   ]
  },
  {
   "cell_type": "markdown",
   "metadata": {},
   "source": [
    "Fit model with default parameters and assess performance on test set.  Performance isn't outstanding.  We are using the F1 score as a proxy for overall performance given the imbalanced ratio of classes."
   ]
  },
  {
   "cell_type": "code",
   "execution_count": 19,
   "metadata": {},
   "outputs": [
    {
     "name": "stdout",
     "output_type": "stream",
     "text": [
      "              precision    recall  f1-score   support\n",
      "\n",
      "           0       0.99      0.88      0.93       977\n",
      "           1       0.45      0.88      0.59       105\n",
      "\n",
      "    accuracy                           0.88      1082\n",
      "   macro avg       0.72      0.88      0.76      1082\n",
      "weighted avg       0.93      0.88      0.90      1082\n",
      "\n"
     ]
    }
   ],
   "source": [
    "svm_model.fit(X_train,y_train)\n",
    "print(classification_report(y_test,svm_model.predict(X_test)))"
   ]
  },
  {
   "cell_type": "code",
   "execution_count": 20,
   "metadata": {},
   "outputs": [
    {
     "name": "stderr",
     "output_type": "stream",
     "text": [
      "/Users/doug/opt/anaconda3/lib/python3.7/site-packages/sklearn/model_selection/_search.py:823: FutureWarning: The parameter 'iid' is deprecated in 0.22 and will be removed in 0.24.\n",
      "  \"removed in 0.24.\", FutureWarning\n"
     ]
    },
    {
     "data": {
      "text/plain": [
       "GridSearchCV(cv=5, error_score=nan,\n",
       "             estimator=SVC(C=1.0, break_ties=False, cache_size=200,\n",
       "                           class_weight='balanced', coef0=0.0,\n",
       "                           decision_function_shape='ovr', degree=3,\n",
       "                           gamma='scale', kernel='rbf', max_iter=-1,\n",
       "                           probability=False, random_state=None, shrinking=True,\n",
       "                           tol=0.001, verbose=False),\n",
       "             iid=True, n_jobs=3,\n",
       "             param_grid=[{'C': array([0.75      , 1.07142857, 1.39285714, 1.71428571, 2.03571429,\n",
       "       2.35714286, 2.67857143, 3.        ]),\n",
       "                          'gamma': ['scale'], 'kernel': ['linear', 'rbf']}],\n",
       "             pre_dispatch='2*n_jobs', refit=True, return_train_score=False,\n",
       "             scoring='f1_weighted', verbose=0)"
      ]
     },
     "execution_count": 20,
     "metadata": {},
     "output_type": "execute_result"
    }
   ],
   "source": [
    "grid_para_svc = [\n",
    "    {'C': np.linspace(0.75,3,8),\n",
    "     'kernel': ['linear', 'rbf'],\n",
    "     'gamma': ['scale']}]\n",
    "grid_search_svm = ms.GridSearchCV(svm_model, grid_para_svc, scoring='f1_weighted', cv=5, iid=True,  n_jobs=3)\n",
    "grid_search_svm.fit(X_train, y_train)"
   ]
  },
  {
   "cell_type": "code",
   "execution_count": 21,
   "metadata": {},
   "outputs": [
    {
     "data": {
      "text/plain": [
       "{'C': 3.0, 'gamma': 'scale', 'kernel': 'linear'}"
      ]
     },
     "execution_count": 21,
     "metadata": {},
     "output_type": "execute_result"
    }
   ],
   "source": [
    "grid_search_svm.best_params_"
   ]
  },
  {
   "cell_type": "markdown",
   "metadata": {},
   "source": [
    "Noticed that optimal values were at ends of ranges specified, so will shift range."
   ]
  },
  {
   "cell_type": "code",
   "execution_count": 23,
   "metadata": {},
   "outputs": [
    {
     "data": {
      "text/plain": [
       "GridSearchCV(cv=5, error_score=nan,\n",
       "             estimator=SVC(C=1.0, break_ties=False, cache_size=200,\n",
       "                           class_weight='balanced', coef0=0.0,\n",
       "                           decision_function_shape='ovr', degree=3,\n",
       "                           gamma='scale', kernel='rbf', max_iter=-1,\n",
       "                           probability=False, random_state=None, shrinking=True,\n",
       "                           tol=0.001, verbose=False),\n",
       "             iid='deprecated', n_jobs=3,\n",
       "             param_grid=[{'C': array([ 1.5       ,  4.33333333,  7.16666667, 10.        ]),\n",
       "                          'gamma': ['scale'], 'kernel': ['rbf', 'linear']}],\n",
       "             pre_dispatch='2*n_jobs', refit=True, return_train_score=False,\n",
       "             scoring='f1_weighted', verbose=0)"
      ]
     },
     "execution_count": 23,
     "metadata": {},
     "output_type": "execute_result"
    }
   ],
   "source": [
    "grid_para_svc = [\n",
    "    {'C': np.linspace(1.5,10,4),\n",
    "     'kernel': ['rbf','linear'],\n",
    "     'gamma': ['scale']}]\n",
    "grid_search_svm = ms.GridSearchCV(svm_model, grid_para_svc, scoring='f1_weighted', cv=5,  n_jobs=3)\n",
    "grid_search_svm.fit(X_train, y_train)"
   ]
  },
  {
   "cell_type": "code",
   "execution_count": 24,
   "metadata": {},
   "outputs": [
    {
     "data": {
      "text/plain": [
       "{'C': 10.0, 'gamma': 'scale', 'kernel': 'rbf'}"
      ]
     },
     "execution_count": 24,
     "metadata": {},
     "output_type": "execute_result"
    }
   ],
   "source": [
    "grid_search_svm.best_params_"
   ]
  },
  {
   "cell_type": "markdown",
   "metadata": {},
   "source": [
    "Again see that optimal parameters are toward end of specified range, but will examine performance at these values.  Again, using confusion matrix and F1 as the target score to maximize for imbalanced classes"
   ]
  },
  {
   "cell_type": "code",
   "execution_count": 25,
   "metadata": {},
   "outputs": [
    {
     "name": "stdout",
     "output_type": "stream",
     "text": [
      "   0    1    predicted is columns\n",
      "[[887  90]\n",
      " [ 19  86]]\n",
      "              precision    recall  f1-score   support\n",
      "\n",
      "           0       0.98      0.91      0.94       977\n",
      "           1       0.49      0.82      0.61       105\n",
      "\n",
      "    accuracy                           0.90      1082\n",
      "   macro avg       0.73      0.86      0.78      1082\n",
      "weighted avg       0.93      0.90      0.91      1082\n",
      "\n"
     ]
    }
   ],
   "source": [
    "svm_model.set_params(C= grid_search_svm.best_params_['C'], gamma = grid_search_svm.best_params_['gamma'], \\\n",
    "                     kernel = grid_search_svm.best_params_['kernel'])\n",
    "svm_model.fit(X_train, y_train)\n",
    "print('   0    1    predicted is columns')\n",
    "print(confusion_matrix(y_test, svm_model.predict(X_test)))\n",
    "print(classification_report(y_test, svm_model.predict(X_test)))"
   ]
  },
  {
   "cell_type": "markdown",
   "metadata": {},
   "source": [
    "Decided to try one more grid search with higher C values.  This is a second iteration after a first (erased) iteration, to find an optimal C value for the rbf kernel. "
   ]
  },
  {
   "cell_type": "code",
   "execution_count": 42,
   "metadata": {},
   "outputs": [
    {
     "data": {
      "text/plain": [
       "GridSearchCV(cv=5, error_score=nan,\n",
       "             estimator=SVC(C=23, break_ties=False, cache_size=200,\n",
       "                           class_weight='balanced', coef0=0.0,\n",
       "                           decision_function_shape='ovr', degree=3,\n",
       "                           gamma='scale', kernel='rbf', max_iter=-1,\n",
       "                           probability=False, random_state=None, shrinking=True,\n",
       "                           tol=0.001, verbose=False),\n",
       "             iid='deprecated', n_jobs=3,\n",
       "             param_grid=[{'C': [21, 21.5, 22], 'gamma': ['scale', 'auto'],\n",
       "                          'kernel': ['rbf']}],\n",
       "             pre_dispatch='2*n_jobs', refit=True, return_train_score=False,\n",
       "             scoring='f1_weighted', verbose=0)"
      ]
     },
     "execution_count": 42,
     "metadata": {},
     "output_type": "execute_result"
    }
   ],
   "source": [
    "grid_para_svc = [\n",
    "    {'C': [21,21.5,22],\n",
    "     'kernel': ['rbf'],\n",
    "     'gamma': ['scale','auto']}]\n",
    "grid_search_svm = ms.GridSearchCV(svm_model, grid_para_svc, scoring='f1_weighted', cv=5,  n_jobs=3)\n",
    "grid_search_svm.fit(X_train, y_train)"
   ]
  },
  {
   "cell_type": "code",
   "execution_count": 43,
   "metadata": {},
   "outputs": [
    {
     "data": {
      "text/plain": [
       "{'C': 22, 'gamma': 'scale', 'kernel': 'rbf'}"
      ]
     },
     "execution_count": 43,
     "metadata": {},
     "output_type": "execute_result"
    }
   ],
   "source": [
    "grid_search_svm.best_params_"
   ]
  },
  {
   "cell_type": "code",
   "execution_count": 49,
   "metadata": {},
   "outputs": [
    {
     "name": "stdout",
     "output_type": "stream",
     "text": [
      "   0    1    predicted is columns\n",
      "[[897  80]\n",
      " [ 24  81]]\n",
      "              precision    recall  f1-score   support\n",
      "\n",
      "           0       0.97      0.92      0.95       977\n",
      "           1       0.50      0.77      0.61       105\n",
      "\n",
      "    accuracy                           0.90      1082\n",
      "   macro avg       0.74      0.84      0.78      1082\n",
      "weighted avg       0.93      0.90      0.91      1082\n",
      "\n"
     ]
    }
   ],
   "source": [
    "svm_model.set_params(C= 22, gamma = grid_search_svm.best_params_['gamma'], \\\n",
    "                     kernel = grid_search_svm.best_params_['kernel'])\n",
    "svm_model.fit(X_train, y_train)\n",
    "print('   0    1    predicted is columns')\n",
    "print(confusion_matrix(y_test, svm_model.predict(X_test)))\n",
    "print(classification_report(y_test, svm_model.predict(X_test)))"
   ]
  },
  {
   "cell_type": "markdown",
   "metadata": {},
   "source": [
    "We see that the number of false positives has decreased, and F1 is unchanged.  However, we do not pursue this model since the number of false positives is still approximately equal to the number of true positives."
   ]
  }
 ],
 "metadata": {
  "kernelspec": {
   "display_name": "Python 3",
   "language": "python",
   "name": "python3"
  },
  "language_info": {
   "codemirror_mode": {
    "name": "ipython",
    "version": 3
   },
   "file_extension": ".py",
   "mimetype": "text/x-python",
   "name": "python",
   "nbconvert_exporter": "python",
   "pygments_lexer": "ipython3",
   "version": "3.7.6"
  }
 },
 "nbformat": 4,
 "nbformat_minor": 4
}
