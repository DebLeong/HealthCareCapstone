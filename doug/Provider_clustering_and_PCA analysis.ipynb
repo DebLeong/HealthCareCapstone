{
 "cells": [
  {
   "cell_type": "markdown",
   "metadata": {},
   "source": [
    "# Clustering on Provider Attributes for Healthcare Fraud Detection\n",
    "### Deborah Leong, Sam Nuzbrokh and Doug Devens\n",
    "\n",
    "This is a clustering analysis to determine if unsupervised learning models could match up with the labels provided from Kaggle for the training set."
   ]
  },
  {
   "cell_type": "markdown",
   "metadata": {},
   "source": [
    "Import required packages, including Kmeans model."
   ]
  },
  {
   "cell_type": "code",
   "execution_count": 3,
   "metadata": {},
   "outputs": [],
   "source": [
    "from __future__ import print_function\n",
    "import matplotlib.pyplot as plt\n",
    "plt.style.use('ggplot')\n",
    "%matplotlib inline\n",
    "from sklearn.cluster import KMeans\n",
    "kmeans = KMeans()\n",
    "import pandas as pd"
   ]
  },
  {
   "cell_type": "markdown",
   "metadata": {},
   "source": [
    "We are using the set of features from the random forest model, and the label set."
   ]
  },
  {
   "cell_type": "code",
   "execution_count": 32,
   "metadata": {},
   "outputs": [],
   "source": [
    "X_train_reduced = pd.read_csv('rf_reduced_feature_set')\n",
    "y_train = pd.read_csv('rf_reduced_label_set')"
   ]
  },
  {
   "cell_type": "markdown",
   "metadata": {},
   "source": [
    "Remove junk columns acquired during reding in file."
   ]
  },
  {
   "cell_type": "code",
   "execution_count": 50,
   "metadata": {},
   "outputs": [
    {
     "data": {
      "text/plain": [
       "Index(['Age_out', 'ClaimDays_in', 'ClaimDays_out', 'DeductibleAmtPaid_out',\n",
       "       'Gender_out', 'InscClaimAmtReimbursed_in', 'InscClaimAmtReimbursed_out',\n",
       "       'NumChronics_in', 'NumChronics_out', 'NumDiag_out', 'NumProc_in',\n",
       "       'State_out', 'WhetherDead_out', 'ClaimDays_in_Range',\n",
       "       'InscClaimAmtReimbursed_in_Range', 'InscClaimAmtReimbursed_out_Range',\n",
       "       'NumChronics_in_Range', 'NumChronics_out_Range', 'NumDiag_in_Range',\n",
       "       'NumDiag_out_Range', 'NumProc_in_Range', 'docMANN', 'patDegMax',\n",
       "       'patBtwnMean', 'patEignMean', 'patMANN', 'ClmsPerPatient_in',\n",
       "       'ClmsPerPatient_out', 'DrPerPatient_in', 'DrPerPatient_out',\n",
       "       'LogPatients_in', 'LogPatients_out', 'LogClaims_in', 'LogClaims_out',\n",
       "       'LogOpPhys_out', 'AgeRange_otpt', 'cardiology_otpt', 'urology_otpt',\n",
       "       'endocrinology_otpt', 'emergency_otpt', 'oncology_otpt',\n",
       "       'hematology_otpt', 'psychiatry_otpt', 'neurology_otpt',\n",
       "       'pulmonology_otpt', 'gastroenterology_otpt', 'ob-gyn_otpt',\n",
       "       'dermatology_otpt', 'orthopedics_otpt', 'congenital_otpt',\n",
       "       'neonatology_otpt', 'AgeRange_inpt', 'cardiology_inpt',\n",
       "       'endocrinology_inpt', 'emergency_inpt', 'general_inpt',\n",
       "       'infectious_inpt', 'oncology_inpt', 'hematology_inpt',\n",
       "       'psychiatry_inpt', 'neurology_inpt', 'pulmonology_inpt',\n",
       "       'gastroenterology_inpt', 'dermatology_inpt', 'orthopedics_inpt',\n",
       "       'MeanResidualReimbursement', 'logOPAnnualReimbursement',\n",
       "       'logIPAnnualReimbursement', '$PerClaimDay'],\n",
       "      dtype='object')"
      ]
     },
     "execution_count": 50,
     "metadata": {},
     "output_type": "execute_result"
    }
   ],
   "source": [
    "X_train_reduced = X_train_reduced.drop(columns=['Unnamed: 0'])\n",
    "X_train_reduced.columns"
   ]
  },
  {
   "cell_type": "markdown",
   "metadata": {},
   "source": [
    "We start by assuming 2 clusters (fraud and potential fraud) and then train the model to those data.  We identify the cluster center locations in the feature space, and save the labels obtained from the model."
   ]
  },
  {
   "cell_type": "code",
   "execution_count": 51,
   "metadata": {},
   "outputs": [],
   "source": [
    "kmeans.set_params(n_clusters=2, n_jobs = 2)\n",
    "kmeans.fit(X_train_reduced)\n",
    "clust_ctr_list = kmeans.cluster_centers_\n",
    "point_labl_list = kmeans.labels_"
   ]
  },
  {
   "cell_type": "markdown",
   "metadata": {},
   "source": [
    "This was done after the random forest and gradient boost models, so we look at the feature dimensions where there is the most separation between clusters.  The top features should, nominally, be like our tree-based models, since we see the number of claims, the number of patients and the age range of the patients among the largest feature separations."
   ]
  },
  {
   "cell_type": "code",
   "execution_count": 91,
   "metadata": {},
   "outputs": [
    {
     "data": {
      "text/html": [
       "<div>\n",
       "<style scoped>\n",
       "    .dataframe tbody tr th:only-of-type {\n",
       "        vertical-align: middle;\n",
       "    }\n",
       "\n",
       "    .dataframe tbody tr th {\n",
       "        vertical-align: top;\n",
       "    }\n",
       "\n",
       "    .dataframe thead th {\n",
       "        text-align: right;\n",
       "    }\n",
       "</style>\n",
       "<table border=\"1\" class=\"dataframe\">\n",
       "  <thead>\n",
       "    <tr style=\"text-align: right;\">\n",
       "      <th></th>\n",
       "      <th>Feature</th>\n",
       "      <th>Cluster_1</th>\n",
       "      <th>Cluster_2</th>\n",
       "      <th>Distance_along_feature</th>\n",
       "    </tr>\n",
       "  </thead>\n",
       "  <tbody>\n",
       "    <tr>\n",
       "      <th>18</th>\n",
       "      <td>NumDiag_in_Range</td>\n",
       "      <td>1.196029e-04</td>\n",
       "      <td>0.562017</td>\n",
       "      <td>0.561897</td>\n",
       "    </tr>\n",
       "    <tr>\n",
       "      <th>16</th>\n",
       "      <td>NumChronics_in_Range</td>\n",
       "      <td>1.467854e-04</td>\n",
       "      <td>0.557591</td>\n",
       "      <td>0.557444</td>\n",
       "    </tr>\n",
       "    <tr>\n",
       "      <th>7</th>\n",
       "      <td>NumChronics_in</td>\n",
       "      <td>1.289020e-02</td>\n",
       "      <td>0.558133</td>\n",
       "      <td>0.545243</td>\n",
       "    </tr>\n",
       "    <tr>\n",
       "      <th>32</th>\n",
       "      <td>LogClaims_in</td>\n",
       "      <td>8.686399e-03</td>\n",
       "      <td>0.551301</td>\n",
       "      <td>0.542615</td>\n",
       "    </tr>\n",
       "    <tr>\n",
       "      <th>30</th>\n",
       "      <td>LogPatients_in</td>\n",
       "      <td>8.809243e-03</td>\n",
       "      <td>0.550512</td>\n",
       "      <td>0.541702</td>\n",
       "    </tr>\n",
       "    <tr>\n",
       "      <th>51</th>\n",
       "      <td>AgeRange_inpt</td>\n",
       "      <td>1.291712e-04</td>\n",
       "      <td>0.525624</td>\n",
       "      <td>0.525495</td>\n",
       "    </tr>\n",
       "    <tr>\n",
       "      <th>13</th>\n",
       "      <td>ClaimDays_in_Range</td>\n",
       "      <td>2.990073e-05</td>\n",
       "      <td>0.457184</td>\n",
       "      <td>0.457155</td>\n",
       "    </tr>\n",
       "    <tr>\n",
       "      <th>20</th>\n",
       "      <td>NumProc_in_Range</td>\n",
       "      <td>-3.608225e-15</td>\n",
       "      <td>0.396560</td>\n",
       "      <td>0.396560</td>\n",
       "    </tr>\n",
       "    <tr>\n",
       "      <th>28</th>\n",
       "      <td>DrPerPatient_in</td>\n",
       "      <td>1.973448e-02</td>\n",
       "      <td>0.408001</td>\n",
       "      <td>0.388266</td>\n",
       "    </tr>\n",
       "    <tr>\n",
       "      <th>26</th>\n",
       "      <td>ClmsPerPatient_in</td>\n",
       "      <td>1.022605e-02</td>\n",
       "      <td>0.361066</td>\n",
       "      <td>0.350840</td>\n",
       "    </tr>\n",
       "    <tr>\n",
       "      <th>52</th>\n",
       "      <td>cardiology_inpt</td>\n",
       "      <td>8.090684e-03</td>\n",
       "      <td>0.304272</td>\n",
       "      <td>0.296181</td>\n",
       "    </tr>\n",
       "    <tr>\n",
       "      <th>55</th>\n",
       "      <td>general_inpt</td>\n",
       "      <td>7.906275e-03</td>\n",
       "      <td>0.258927</td>\n",
       "      <td>0.251021</td>\n",
       "    </tr>\n",
       "    <tr>\n",
       "      <th>14</th>\n",
       "      <td>InscClaimAmtReimbursed_in_Range</td>\n",
       "      <td>1.291712e-05</td>\n",
       "      <td>0.246111</td>\n",
       "      <td>0.246099</td>\n",
       "    </tr>\n",
       "    <tr>\n",
       "      <th>10</th>\n",
       "      <td>NumProc_in</td>\n",
       "      <td>5.023323e-03</td>\n",
       "      <td>0.246791</td>\n",
       "      <td>0.241767</td>\n",
       "    </tr>\n",
       "    <tr>\n",
       "      <th>56</th>\n",
       "      <td>infectious_inpt</td>\n",
       "      <td>5.837653e-03</td>\n",
       "      <td>0.212768</td>\n",
       "      <td>0.206931</td>\n",
       "    </tr>\n",
       "  </tbody>\n",
       "</table>\n",
       "</div>"
      ],
      "text/plain": [
       "                            Feature     Cluster_1  Cluster_2  \\\n",
       "18                 NumDiag_in_Range  1.196029e-04   0.562017   \n",
       "16             NumChronics_in_Range  1.467854e-04   0.557591   \n",
       "7                    NumChronics_in  1.289020e-02   0.558133   \n",
       "32                     LogClaims_in  8.686399e-03   0.551301   \n",
       "30                   LogPatients_in  8.809243e-03   0.550512   \n",
       "51                    AgeRange_inpt  1.291712e-04   0.525624   \n",
       "13               ClaimDays_in_Range  2.990073e-05   0.457184   \n",
       "20                 NumProc_in_Range -3.608225e-15   0.396560   \n",
       "28                  DrPerPatient_in  1.973448e-02   0.408001   \n",
       "26                ClmsPerPatient_in  1.022605e-02   0.361066   \n",
       "52                  cardiology_inpt  8.090684e-03   0.304272   \n",
       "55                     general_inpt  7.906275e-03   0.258927   \n",
       "14  InscClaimAmtReimbursed_in_Range  1.291712e-05   0.246111   \n",
       "10                       NumProc_in  5.023323e-03   0.246791   \n",
       "56                  infectious_inpt  5.837653e-03   0.212768   \n",
       "\n",
       "    Distance_along_feature  \n",
       "18                0.561897  \n",
       "16                0.557444  \n",
       "7                 0.545243  \n",
       "32                0.542615  \n",
       "30                0.541702  \n",
       "51                0.525495  \n",
       "13                0.457155  \n",
       "20                0.396560  \n",
       "28                0.388266  \n",
       "26                0.350840  \n",
       "52                0.296181  \n",
       "55                0.251021  \n",
       "14                0.246099  \n",
       "10                0.241767  \n",
       "56                0.206931  "
      ]
     },
     "execution_count": 91,
     "metadata": {},
     "output_type": "execute_result"
    }
   ],
   "source": [
    "cluster_centers = pd.DataFrame(list(zip(X_train_reduced.columns,clust_ctr_list[0],clust_ctr_list[1])))\n",
    "cluster_centers['Distance_along_feature']=abs(cluster_centers[1]-cluster_centers[2])\n",
    "cluster_centers.columns=['Feature','Cluster_1','Cluster_2','Distance_along_feature']\n",
    "cluster_centers=cluster_centers.sort_values(by='Distance_along_feature', ascending=False)\n",
    "cluster_centers.head(15)"
   ]
  },
  {
   "cell_type": "markdown",
   "metadata": {},
   "source": [
    "We run a silhouette score on the separation we obtained.  The sihouette score is not very good (higher is better) with relatively mediocre performance."
   ]
  },
  {
   "cell_type": "code",
   "execution_count": 60,
   "metadata": {},
   "outputs": [
    {
     "data": {
      "text/plain": [
       "0.4496361830384978"
      ]
     },
     "execution_count": 60,
     "metadata": {},
     "output_type": "execute_result"
    }
   ],
   "source": [
    "from sklearn.metrics import confusion_matrix, classification_report, silhouette_score\n",
    "silhouette_score(X_train_reduced, point_labl_list, metric='euclidean', sample_size=None, random_state=None)"
   ]
  },
  {
   "cell_type": "markdown",
   "metadata": {},
   "source": [
    "A confusion matrix confirms the model does a poor job of predicting the fraud labels. We see the number of false positives are more than triple the number of true positives in the training set."
   ]
  },
  {
   "cell_type": "code",
   "execution_count": 62,
   "metadata": {},
   "outputs": [
    {
     "data": {
      "text/plain": [
       "array([[2656, 1271],\n",
       "       [  55,  346]])"
      ]
     },
     "execution_count": 62,
     "metadata": {},
     "output_type": "execute_result"
    }
   ],
   "source": [
    "confusion_matrix(y_train, point_labl_list)"
   ]
  },
  {
   "cell_type": "markdown",
   "metadata": {},
   "source": [
    "We examine the change in inertia as we increase the number of clusters.  The thought is that if we increase the number of clusters they may more naturally separate into groups that could more neatly fit in the fraud and not fraud groups."
   ]
  },
  {
   "cell_type": "code",
   "execution_count": 63,
   "metadata": {},
   "outputs": [
    {
     "data": {
      "image/png": "[encoded data removed]",
      "text/plain": [
       "<Figure size 432x288 with 1 Axes>"
      ]
     },
     "metadata": {
      "needs_background": "light"
     },
     "output_type": "display_data"
    }
   ],
   "source": [
    "inertias = []\n",
    "K = range(1,10)\n",
    "for k in K:\n",
    "    kmeans.set_params(n_clusters=k, n_jobs = 2)\n",
    "    kmeans.fit(X_train_reduced)\n",
    "    inertias.append(kmeans.inertia_)\n",
    "\n",
    "plt.plot(K, inertias, 'bx-') \n",
    "plt.xlabel('Values of K') \n",
    "plt.ylabel('Inertia') \n",
    "plt.title('The Elbow Method using Inertia') \n",
    "plt.show() \n"
   ]
  },
  {
   "cell_type": "markdown",
   "metadata": {},
   "source": [
    "The elbow is ill-defined, but we assume that maybe 4 clusters will have lowered the inertia sufficiently to have groups that fit better into fraud and not fraud groups."
   ]
  },
  {
   "cell_type": "code",
   "execution_count": 142,
   "metadata": {},
   "outputs": [
    {
     "data": {
      "text/plain": [
       "array([[ 893,  913, 1806,  315],\n",
       "       [   1,  308,   54,   38],\n",
       "       [   0,    0,    0,    0],\n",
       "       [   0,    0,    0,    0]])"
      ]
     },
     "execution_count": 142,
     "metadata": {},
     "output_type": "execute_result"
    }
   ],
   "source": [
    "kmeans.set_params(n_clusters=4, n_jobs = 2)\n",
    "kmeans.fit(X_train_reduced)\n",
    "clust_ctr_list = kmeans.cluster_centers_\n",
    "point_labl_list_new = kmeans.labels_\n",
    "confusion_matrix(y_train, point_labl_list_new)"
   ]
  },
  {
   "cell_type": "markdown",
   "metadata": {},
   "source": [
    "While the true negative grouping (top row) is still not neat with one clustering classfication largely empty of true negatives, we do see that the large majority of the true positives fall into cluster group 2 (second column from left.)  However, as we see below from the silhouette score that the clustering quality is not strong."
   ]
  },
  {
   "cell_type": "code",
   "execution_count": 143,
   "metadata": {},
   "outputs": [
    {
     "data": {
      "text/plain": [
       "0.35960458896983877"
      ]
     },
     "execution_count": 143,
     "metadata": {},
     "output_type": "execute_result"
    }
   ],
   "source": [
    "silhouette_score(X_train_reduced, point_labl_list_new, metric='euclidean', sample_size=None, random_state=None)"
   ]
  },
  {
   "cell_type": "markdown",
   "metadata": {},
   "source": [
    "We decide to move on to principal component analysis.  We import the package and the model and examine the explained variance.  This took several iterations, having started with 3 components and worked up to 7 to explain 85% of the variation.  As can be seen, the rest of the variance is explained through the remaining 62 dimensions of the feature space.  This seemed an appropriate amount with which to start."
   ]
  },
  {
   "cell_type": "code",
   "execution_count": 95,
   "metadata": {},
   "outputs": [
    {
     "name": "stdout",
     "output_type": "stream",
     "text": [
      "0.850377355673728\n"
     ]
    },
    {
     "data": {
      "text/plain": [
       "array([0.46561539, 0.26120905, 0.0491464 , 0.03460923, 0.01639075,\n",
       "       0.01230389, 0.01110264])"
      ]
     },
     "execution_count": 95,
     "metadata": {},
     "output_type": "execute_result"
    }
   ],
   "source": [
    "import numpy as np\n",
    "from sklearn.decomposition import PCA\n",
    "pca = PCA()\n",
    "pca.set_params(n_components=7)\n",
    "pca.fit(X_train_reduced)\n",
    "print(np.sum(pca.explained_variance_ratio_))\n",
    "pca.explained_variance_ratio_"
   ]
  },
  {
   "cell_type": "markdown",
   "metadata": {},
   "source": [
    "We transform our feature space via the PCA.  We plotted the variance along the first principal component and we can see this dimension does seem to explain some of the variance of the classifications.  We see the frauds are clustered along higher values of the first principal component."
   ]
  },
  {
   "cell_type": "code",
   "execution_count": 97,
   "metadata": {},
   "outputs": [
    {
     "data": {
      "text/plain": [
       "<matplotlib.collections.PathCollection at 0x7fcd716a54d0>"
      ]
     },
     "execution_count": 97,
     "metadata": {},
     "output_type": "execute_result"
    },
    {
     "data": {
      "image/png": "[encoded data removed]",
      "text/plain": [
       "<Figure size 432x288 with 1 Axes>"
      ]
     },
     "metadata": {
      "needs_background": "light"
     },
     "output_type": "display_data"
    }
   ],
   "source": [
    "a = pca.fit_transform(X_train_reduced)\n",
    "plt.scatter(a[:,0], y_train)"
   ]
  },
  {
   "cell_type": "markdown",
   "metadata": {},
   "source": [
    "Because of the relatively large amount of variance explained by the PCA we decided to see if this could be useful with a logistic regression along the principal axes.  We did our PCA on the training set, and use test_train_split to train the logistic regression."
   ]
  },
  {
   "cell_type": "code",
   "execution_count": 98,
   "metadata": {},
   "outputs": [],
   "source": [
    "from sklearn import model_selection as ms\n",
    "X_train, X_test, y_train1, y_test = ms.train_test_split(a, y_train, \n",
    "                                            test_size=0.20, random_state=42)"
   ]
  },
  {
   "cell_type": "code",
   "execution_count": 133,
   "metadata": {},
   "outputs": [],
   "source": [
    "import sklearn.linear_model as lm"
   ]
  },
  {
   "cell_type": "markdown",
   "metadata": {},
   "source": [
    "We recall sample weight is an option in the logistic classifer also.  An initial run with balanced class weights didn't appear to give very good F1 scores, with a relatively large number of false positives.  However, using the sample weight option yielded another way to improve model performance.  We iterated over several ranges of weights for the fraud (smaller) set of observations, and ended up with this range for the final examination."
   ]
  },
  {
   "cell_type": "code",
   "execution_count": 140,
   "metadata": {},
   "outputs": [
    {
     "name": "stdout",
     "output_type": "stream",
     "text": [
      "\n",
      "2.8\n",
      "[[732  42]\n",
      " [ 24  68]]\n",
      "              precision    recall  f1-score   support\n",
      "\n",
      "           0       0.97      0.95      0.96       774\n",
      "           1       0.62      0.74      0.67        92\n",
      "\n",
      "    accuracy                           0.92       866\n",
      "   macro avg       0.79      0.84      0.82       866\n",
      "weighted avg       0.93      0.92      0.93       866\n",
      "\n",
      "\n",
      "2.9\n",
      "[[729  45]\n",
      " [ 24  68]]\n",
      "              precision    recall  f1-score   support\n",
      "\n",
      "           0       0.97      0.94      0.95       774\n",
      "           1       0.60      0.74      0.66        92\n",
      "\n",
      "    accuracy                           0.92       866\n",
      "   macro avg       0.78      0.84      0.81       866\n",
      "weighted avg       0.93      0.92      0.92       866\n",
      "\n",
      "\n",
      "3\n",
      "[[729  45]\n",
      " [ 22  70]]\n",
      "              precision    recall  f1-score   support\n",
      "\n",
      "           0       0.97      0.94      0.96       774\n",
      "           1       0.61      0.76      0.68        92\n",
      "\n",
      "    accuracy                           0.92       866\n",
      "   macro avg       0.79      0.85      0.82       866\n",
      "weighted avg       0.93      0.92      0.93       866\n",
      "\n",
      "\n",
      "3.05\n",
      "[[729  45]\n",
      " [ 22  70]]\n",
      "              precision    recall  f1-score   support\n",
      "\n",
      "           0       0.97      0.94      0.96       774\n",
      "           1       0.61      0.76      0.68        92\n",
      "\n",
      "    accuracy                           0.92       866\n",
      "   macro avg       0.79      0.85      0.82       866\n",
      "weighted avg       0.93      0.92      0.93       866\n",
      "\n",
      "\n",
      "3.1\n",
      "[[729  45]\n",
      " [ 22  70]]\n",
      "              precision    recall  f1-score   support\n",
      "\n",
      "           0       0.97      0.94      0.96       774\n",
      "           1       0.61      0.76      0.68        92\n",
      "\n",
      "    accuracy                           0.92       866\n",
      "   macro avg       0.79      0.85      0.82       866\n",
      "weighted avg       0.93      0.92      0.93       866\n",
      "\n"
     ]
    }
   ],
   "source": [
    "for sw in [2.8,2.9,3,3.05,3.1]:\n",
    "    sample_weight = np.array([1 if y==0 else sw for y in y_train1['PotentialFraud']])\n",
    "    logit = lm.LogisticRegression(class_weight=None,C=1e5) \n",
    "    logit.fit(X_train, y_train1['PotentialFraud'],sample_weight=sample_weight)\n",
    "    print()\n",
    "    print(sw)\n",
    "    print(confusion_matrix(y_test, logit.predict(X_test)))\n",
    "    print(classification_report(y_test, logit.predict(X_test)))"
   ]
  },
  {
   "cell_type": "markdown",
   "metadata": {},
   "source": [
    "We see a F1 score of 0.68, which is marginally higher than the random forest and gradient boost, with fewer false negatives and false positives than those models.  However, PCA has less interpretability whereas the feature importance of the tree-based models is helpful in discussing findings."
   ]
  },
  {
   "cell_type": "markdown",
   "metadata": {},
   "source": [
    "Finally, we examine hierarchical clustering to see if it works better than the kmeans. we import the package and set an instance of the model."
   ]
  },
  {
   "cell_type": "code",
   "execution_count": 44,
   "metadata": {},
   "outputs": [],
   "source": [
    "from sklearn.cluster import AgglomerativeClustering\n",
    "hier = AgglomerativeClustering()"
   ]
  },
  {
   "cell_type": "markdown",
   "metadata": {},
   "source": [
    "We again set the number of clusters at 2 (fraud and not fraud) and train it on the features from the random forest model."
   ]
  },
  {
   "cell_type": "code",
   "execution_count": 45,
   "metadata": {},
   "outputs": [
    {
     "data": {
      "text/plain": [
       "AgglomerativeClustering(affinity='euclidean', compute_full_tree='auto',\n",
       "                        connectivity=None, distance_threshold=None,\n",
       "                        linkage='ward', memory=None, n_clusters=2)"
      ]
     },
     "execution_count": 45,
     "metadata": {},
     "output_type": "execute_result"
    }
   ],
   "source": [
    "hier.set_params(n_clusters=2)\n",
    "hier.fit(X_train_reduced)"
   ]
  },
  {
   "cell_type": "code",
   "execution_count": 47,
   "metadata": {},
   "outputs": [],
   "source": [
    "hier_point_labl_list = hier.labels_"
   ]
  },
  {
   "cell_type": "markdown",
   "metadata": {},
   "source": [
    "We examine the performance of the hierarchical clustering model in its labeling of the fraud and not fraud.  We find it again has poor performance and stop examination here."
   ]
  },
  {
   "cell_type": "code",
   "execution_count": 101,
   "metadata": {},
   "outputs": [
    {
     "data": {
      "text/plain": [
       "array([[2561, 1366],\n",
       "       [ 267,  134]])"
      ]
     },
     "execution_count": 101,
     "metadata": {},
     "output_type": "execute_result"
    }
   ],
   "source": [
    "confusion_matrix(y_train, hier_point_labl_list)"
   ]
  }
 ],
 "metadata": {
  "kernelspec": {
   "display_name": "Python 3",
   "language": "python",
   "name": "python3"
  },
  "language_info": {
   "codemirror_mode": {
    "name": "ipython",
    "version": 3
   },
   "file_extension": ".py",
   "mimetype": "text/x-python",
   "name": "python",
   "nbconvert_exporter": "python",
   "pygments_lexer": "ipython3",
   "version": "3.7.6"
  }
 },
 "nbformat": 4,
 "nbformat_minor": 4
}
